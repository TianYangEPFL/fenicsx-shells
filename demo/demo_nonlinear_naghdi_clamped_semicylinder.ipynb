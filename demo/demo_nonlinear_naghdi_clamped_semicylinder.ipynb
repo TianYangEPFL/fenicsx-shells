{
 "cells": [
  {
   "cell_type": "markdown",
   "metadata": {},
   "source": [
    "# Clamped semi-cylindrical Naghdi shell under point load"
   ]
  },
  {
   "cell_type": "markdown",
   "metadata": {},
   "source": [
    "This demo program solves the nonlinear Naghdi shell equations for a semi-cylindrical shell loaded by a point force. This problem is a standard reference for testing shell finite element formulations, see [1]. The numerical locking issue is cured using enriched finite element including cubic bubble shape functions and Partial Selective Reduced Integration [2].\n",
    "\n",
    "It is assumed the reader understands most of the basic functionality of the new FEniCSx Project.\n",
    "\n",
    "This demo then illustrates how to:\n",
    "\n",
    "- Define and solve a nonlinear Naghdi shell problem with a curved stress-free configuration given as analytical expression in terms of two curvilinear coordinates.\n",
    "- Use the PSRI approach to simultaneously cure shear- and membrane-locking issues.\n",
    "\n",
    "We begin by importing the necessary functionality from DOLFINx, UFL and PETSc."
   ]
  },
  {
   "cell_type": "code",
   "execution_count": 1,
   "metadata": {},
   "outputs": [],
   "source": [
    "import numpy as np\n",
    "\n",
    "import dolfinx\n",
    "import ufl\n",
    "from basix.ufl import blocked_element, element, enriched_element, mixed_element\n",
    "from dolfinx.fem import Function, functionspace, dirichletbc, Expression, locate_dofs_topological\n",
    "from dolfinx.fem.petsc import NonlinearProblem\n",
    "from dolfinx.mesh import CellType, create_rectangle, locate_entities_boundary\n",
    "from ufl import grad, inner, split\n",
    "from dolfinx import plot\n",
    "from dolfinx.nls.petsc import NewtonSolver\n",
    "from mpi4py import MPI\n",
    "from petsc4py import PETSc\n",
    "from tqdm import tqdm\n",
    "import pyvista"
   ]
  },
  {
   "cell_type": "markdown",
   "metadata": {},
   "source": [
    "# Simulation setup"
   ]
  },
  {
   "cell_type": "code",
   "execution_count": 3,
   "metadata": {},
   "outputs": [],
   "source": [
    "nex = int(64)\n",
    "ney = int(32)\n",
    "\n",
    "PSRI_control = True\n",
    "plot_control = True\n",
    "\n",
    "ele_dict = {0 : \"tri_P1\",\n",
    "            1 : \"tri_P2\",\n",
    "            2 : \"tri_P2B3\",\n",
    "            3 : \"qua_P1\",\n",
    "            4 : \"qua_P2\",\n",
    "            5 : \"qua_S2\",}\n",
    "\n",
    "ele_index = 5\n",
    "ele_type = ele_dict[ele_index]\n",
    "\n",
    "\n",
    "if ele_type == \"tri_P2B3\":\n",
    "    cell_type = CellType.triangle\n",
    "    \n",
    "elif ele_type == \"tri_P2\":\n",
    "    cell_type = CellType.triangle\n",
    "\n",
    "elif ele_type == \"tri_P1\":\n",
    "    cell_type = CellType.triangle\n",
    "    \n",
    "elif ele_type == \"qua_P2\":\n",
    "    cell_type = CellType.quadrilateral\n",
    "    \n",
    "elif ele_type == \"qua_P1\":\n",
    "    cell_type = CellType.quadrilateral\n",
    "\n",
    "elif ele_type == \"qua_S2\":\n",
    "    cell_type = CellType.quadrilateral"
   ]
  },
  {
   "cell_type": "code",
   "execution_count": 4,
   "metadata": {},
   "outputs": [],
   "source": [
    "from pathlib import Path\n",
    "\n",
    "if not PSRI_control:\n",
    "    results_folder = Path(f\"results/nonlinear_Naghdi/non_PSRI/semi_cylinder/{nex}_{ney}_{ele_type}\")\n",
    "else:\n",
    "    results_folder = Path(f\"results/nonlinear_Naghdi/semi_cylinder/{nex}_{ney}_{ele_type}\")\n",
    "\n",
    "results_folder.mkdir(exist_ok=True, parents=True)\n",
    "\n",
    "if plot_control:\n",
    "    pyvista.start_xvfb()"
   ]
  },
  {
   "cell_type": "markdown",
   "metadata": {},
   "source": [
    "# Mesh"
   ]
  },
  {
   "cell_type": "markdown",
   "metadata": {},
   "source": [
    "We consider a semi-cylindrical shell of radius $r$ and axis length $L$. The shell is made of a linear elastic isotropic homogeneous\n",
    "material with Young modulus $E$ and Poisson ratio $\\nu$. The\n",
    "(uniform) shell thickness is denoted by $t$.\n",
    "The Lamé moduli $\\lambda$, $\\mu$ are introduced to write later\n",
    "the 2D constitutive equation in plane-stress:"
   ]
  },
  {
   "cell_type": "code",
   "execution_count": 5,
   "metadata": {},
   "outputs": [],
   "source": [
    "r = 1.016 \n",
    "L = 3.048 \n",
    "E, nu = 2.0685E7, 0.3 \n",
    "mu = E/(2.0*(1.0 + nu)) \n",
    "lmbda = 2.0*mu*nu/(1.0 - 2.0*nu) \n",
    "t = 0.03 "
   ]
  },
  {
   "cell_type": "markdown",
   "metadata": {},
   "source": [
    "The midplane of the initial (stress-free) configuration $\\vec{\\phi_0}$ of the shell is given in the form of an analytical expression:\n",
    "\n",
    "$$\n",
    "\\vec{\\phi}_0(\\xi_1, \\xi_2) \\subset \\mathbb{R}³\n",
    "$$\n",
    "\n",
    "where $\\xi_1 \\in [-\\pi/2, \\pi/2]$ and $\\xi_2 \\in [0, L]$ are the curvilinear coordinates. In this case, they represent the angular and axial coordinates, respectively."
   ]
  },
  {
   "cell_type": "markdown",
   "metadata": {},
   "source": [
    "We generate a mesh in the $(\\xi_1, \\xi_2)$ space with triangular elements"
   ]
  },
  {
   "cell_type": "code",
   "execution_count": 6,
   "metadata": {},
   "outputs": [],
   "source": [
    "mesh = create_rectangle(MPI.COMM_WORLD, np.array([[-np.pi / 2, 0], [np.pi / 2, L]]), \n",
    "                        [nex, ney], cell_type)\n",
    "\n",
    "tdim = mesh.topology.dim\n",
    "fdim = tdim - 1\n",
    "\n",
    "cell = mesh.basix_cell()\n",
    "P1 = element(\"Lagrange\", cell, degree=1)\n",
    "P2 = element(\"Lagrange\", cell, degree=2)\n",
    "S2 = element(\"Serendipity\", cell, degree=2)\n",
    "B3 = element(\"Bubble\", cell, degree=3)"
   ]
  },
  {
   "cell_type": "markdown",
   "metadata": {},
   "source": [
    "## Plot mesh"
   ]
  },
  {
   "cell_type": "code",
   "execution_count": 6,
   "metadata": {},
   "outputs": [
    {
     "data": {
      "application/vnd.jupyter.widget-view+json": {
       "model_id": "69141b9dd11a442d9250cffe246e6b98",
       "version_major": 2,
       "version_minor": 0
      },
      "text/plain": [
       "Widget(value='<iframe src=\"http://localhost:37671/index.html?ui=P_0x7f4334199460_0&reconnect=auto\" class=\"pyvi…"
      ]
     },
     "metadata": {},
     "output_type": "display_data"
    }
   ],
   "source": [
    "topology, cell_types, geometry = plot.vtk_mesh(mesh, tdim)\n",
    "grid = pyvista.UnstructuredGrid(topology, cell_types, geometry)\n",
    "\n",
    "plotter = pyvista.Plotter(off_screen = True)\n",
    "plotter.add_mesh(grid, show_edges=True)\n",
    "plotter.show_grid()\n",
    "plotter.view_xy()\n",
    "if not pyvista.OFF_SCREEN:\n",
    "    plotter.show()\n",
    "else:\n",
    "    plotter.screenshot(results_folder/f\"mesh_rank{mesh.comm.rank}.png\")\n",
    "\n",
    "plotter.close()"
   ]
  },
  {
   "cell_type": "markdown",
   "metadata": {},
   "source": [
    "# Initial shape"
   ]
  },
  {
   "cell_type": "markdown",
   "metadata": {},
   "source": [
    "We provide the analytical expression of the initial shape as a `ufl` expression"
   ]
  },
  {
   "cell_type": "code",
   "execution_count": 7,
   "metadata": {},
   "outputs": [],
   "source": [
    "x = ufl.SpatialCoordinate(mesh)\n",
    "phi0_ufl = ufl.as_vector([r * ufl.sin(x[0]), x[1], r * ufl.cos(x[0])])"
   ]
  },
  {
   "cell_type": "markdown",
   "metadata": {},
   "source": [
    "Given the analytical expression of midplane, we define the unit normal as below:\n",
    "$$\n",
    "\\vec{n}  = \\frac{\\partial_1 \\phi_0 \\times \\partial_2 \\phi_0}{\\| \\partial_1 \\phi_0 \\times \\partial_2 \\phi_0 \\|}\n",
    "$$"
   ]
  },
  {
   "cell_type": "code",
   "execution_count": 8,
   "metadata": {},
   "outputs": [],
   "source": [
    "def unit_normal(phi):\n",
    "    n = ufl.cross(phi.dx(0), phi.dx(1))\n",
    "    return n/ufl.sqrt(inner(n, n))\n",
    "\n",
    "n0_ufl = unit_normal(phi0_ufl)"
   ]
  },
  {
   "cell_type": "markdown",
   "metadata": {},
   "source": [
    "## Plot initial shape"
   ]
  },
  {
   "cell_type": "markdown",
   "metadata": {},
   "source": [
    "We plot the initial shape and the unit normal by interpolating them in the 1st order Lagrange Finite Element space"
   ]
  },
  {
   "cell_type": "code",
   "execution_count": 8,
   "metadata": {},
   "outputs": [],
   "source": [
    "# create a FEM interpolation of n0 and phi0\n",
    "P1_d3_FS = functionspace(mesh, blocked_element(P1, shape = (3,)))\n",
    "\n",
    "n0_P1_expr = Expression(n0_ufl, P1_d3_FS.element.interpolation_points())\n",
    "n0_P1_func = Function(P1_d3_FS)\n",
    "n0_P1_func.interpolate(n0_P1_expr)\n",
    "\n",
    "phi0_P1_expr = Expression(phi0_ufl, P1_d3_FS.element.interpolation_points())\n",
    "phi0_P1_func = Function(P1_d3_FS)\n",
    "phi0_P1_func.interpolate(phi0_P1_expr)"
   ]
  },
  {
   "cell_type": "code",
   "execution_count": 13,
   "metadata": {},
   "outputs": [
    {
     "data": {
      "application/vnd.jupyter.widget-view+json": {
       "model_id": "b9e8afc208a0412e8a56fea766abc528",
       "version_major": 2,
       "version_minor": 0
      },
      "text/plain": [
       "Widget(value='<iframe src=\"http://localhost:37671/index.html?ui=P_0x7f43c6c076b0_0&reconnect=auto\" class=\"pyvi…"
      ]
     },
     "metadata": {},
     "output_type": "display_data"
    }
   ],
   "source": [
    "topology, cell_types, geometry = plot.vtk_mesh(P1_d3_FS)\n",
    "\n",
    "geometry_phi0_P1 = phi0_P1_func.x.array.reshape((geometry.shape[0], len(phi0_P1_func)))\n",
    "geometry_n0_P1 = n0_P1_func.x.array.reshape((geometry.shape[0], len(n0_P1_func)))\n",
    "\n",
    "grid_phi0_P1 = pyvista.UnstructuredGrid(topology, cell_types, geometry_phi0_P1)\n",
    "grid_phi0_P1[\"n0\"] = geometry_n0_P1\n",
    "glyphs = grid_phi0_P1.glyph(orient=\"n0\", factor=0.2)\n",
    "\n",
    "\n",
    "plotter = pyvista.Plotter(off_screen = True)\n",
    "plotter.add_mesh(grid_phi0_P1, style=\"wireframe\", color=\"k\")\n",
    "plotter.add_mesh(glyphs,  show_scalar_bar=True, scalar_bar_args={\"vertical\": True})\n",
    "plotter.show_grid()\n",
    "plotter.show_axes_all()\n",
    "plotter.enable_parallel_projection()\n",
    "if not pyvista.OFF_SCREEN:\n",
    "    plotter.show()\n",
    "else:\n",
    "    plotter.screenshot(results_folder/f\"initial_shape_rank{mesh.comm.rank}.png\")\n",
    "    \n",
    "plotter.close()"
   ]
  },
  {
   "cell_type": "markdown",
   "metadata": {},
   "source": [
    "We define a local orthonormal frame $\\{\\vec{t}_{01}, \\vec{t}_{02}, \\vec{n}\\}$ of the initial configuration $\\phi_0$ by rotating the global Cartesian basis $\\vec{e}_i$ with a rotation matrix $\\mathbf{R}_0$:\n",
    "\n",
    "$$\n",
    "\\vec{t}_{0i} = \\mathbf{R}_0 \\vec{e}_i , \\quad \\vec{n} = \\vec{t}_{03},\n",
    "$$\n",
    "\n",
    "A convienent choice of $\\vec{t}_{01}$ and $\\vec{t}_{02}$ (when $\\vec{n} \\nparallel \\vec{e}_2 $) could be:\n",
    "$$\n",
    "\\vec{t}_{01} = \\frac{\\vec{e}_2 \\times \\vec{n}}{\\| \\vec{e}_2 \\times \\vec{n}\\|} \\\\\n",
    "\\vec{t}_{02} =   \\vec{n} \\times \\vec{t}_{01}\n",
    "$$\n",
    "\n",
    "\n",
    "The corresponding rotation matrix $\\mathbf{R}_0$:\n",
    "$$\n",
    "\\mathbf{R}_0 = [\\vec{t}_{01}; \\vec{t}_{02}; \\vec{n}]\n",
    "$$\n"
   ]
  },
  {
   "cell_type": "markdown",
   "metadata": {},
   "source": [
    "# Director"
   ]
  },
  {
   "cell_type": "code",
   "execution_count": 9,
   "metadata": {},
   "outputs": [],
   "source": [
    "def tangent_1(n):\n",
    "    e2 = ufl.as_vector([0, 1, 0])\n",
    "    t1 = ufl.cross(e2, n)\n",
    "    t1 = t1/ufl.sqrt(inner(t1, t1))\n",
    "    return t1\n",
    "\n",
    "def tangent_2(n, t1):\n",
    "    t2 = ufl.cross(n, t1)\n",
    "    t2 = t2/ufl.sqrt(inner(t2, t2))\n",
    "    return t2\n",
    "\n",
    "# the analytical expression of t1 and t2\n",
    "t1_ufl = tangent_1(n0_ufl)\n",
    "t2_ufl = tangent_2(n0_ufl, t1_ufl)\n",
    "\n",
    "# the analytical expression of R0\n",
    "def rotation_matrix(t1, t2, n):\n",
    "    R = ufl.as_matrix([[t1[0], t2[0], n[0]], \n",
    "                       [t1[1], t2[1], n[1]], \n",
    "                       [t1[2], t2[2], n[2]]])\n",
    "    return R\n",
    "\n",
    "R0_ufl = rotation_matrix(t1_ufl, t2_ufl, n0_ufl)"
   ]
  },
  {
   "cell_type": "markdown",
   "metadata": {},
   "source": [
    "The kinematics of the Nadghi shell model is defined by the following vector fields :\n",
    "- $\\vec{\\phi}$: the position of the midplane in the deformed configuration, or equivalently, the displacement $\\vec{u} = \\vec{\\phi} - \\vec{\\phi}_0$\n",
    "- $\\vec{d}$: the director, a unit vector giving the orientation of fiber at the midplane. (not necessarily normal to the midsplane because of shears)"
   ]
  },
  {
   "cell_type": "markdown",
   "metadata": {},
   "source": [
    "According to [3], the director $\\vec{d}$ in the deformed configuration can be parameterized with two successive rotation angles $\\theta_1, \\theta_2$\n",
    "\n",
    "$$\n",
    "\\vec{t}_i = \\mathbf{R} \\vec{e}_i, \\quad \\mathbf{R}  = \\text{exp}[\\theta_1 \\hat{\\mathbf{t}}_1] \\text{exp}[\\theta_2 \\hat{\\mathbf{t}}_{02}] \\mathbf{R}_0 \n",
    "$$\n",
    "\n",
    "The rotation matrix $\\mathbf{R}$ represents three successive rotations:\n",
    "- First one: the initial rotation matrix $\\mathbf{R}_0$\n",
    "- Second one :$\\text{exp}[\\theta_2 \\hat{\\mathbf{t}}_{02}]$ rotates a vector about the axis $\\vec{t}_{02}$ of $\\theta_2$ angle; \n",
    "- Third one : $\\text{exp}[\\theta_1 \\hat{\\mathbf{t}}_1]$ rotates a vector about the axis $\\vec{t}_{1}$ of $\\theta_1$ angle, and $\\vec{t}_1 = \\text{exp}[\\theta_2 \\hat{\\mathbf{t}}_{02}] \\vec{t}_{01}$\n",
    "\n",
    "The rotation matrix $\\mathbf{R}$ on the other hand is equivalent to rotate around the fixed axis $\\vec{e}_1$ and $\\vec{e}_2$ (Proof see [3]):\n",
    "$$\n",
    "\\mathbf{R} = \\mathbf{R}_0 \\text{exp}[\\theta_2 \\hat{\\mathbf{e}}_{2}] \\text{exp}[\\theta_1 \\hat{\\mathbf{e}}_1]\n",
    "$$\n",
    "\n",
    "Therefore, the director $\\vec{d}$ is updated with $(\\theta_1, \\theta_2)$ by:\n",
    "\n",
    "$$\n",
    "\\vec{d} =\\mathbf{R} \\vec{e}_3 = \\mathbf{R}_0 \\vec{\\Lambda}_3, \\quad \\vec{\\Lambda}_3 = [\\sin(\\theta_2)\\cos(\\theta_1), -\\sin(\\theta_1), \\cos(\\theta_2)\\cos(\\theta_1)]^\\text{T}\n",
    "$$\n",
    "\n",
    "Note: the above formular becomes singular when $\\theta_1 = \\pm \\pi/2, ...$, (See Chapter 4.2.1 in [3] for details)"
   ]
  },
  {
   "cell_type": "code",
   "execution_count": 10,
   "metadata": {},
   "outputs": [],
   "source": [
    "# Update the director with two successive elementary rotations\n",
    "\n",
    "def director(R0, theta):\n",
    "    Lm3 = ufl.as_vector([ufl.sin(theta[1])*ufl.cos(theta[0]), -ufl.sin(theta[0]), ufl.cos(theta[1])*ufl.cos(theta[0])])\n",
    "    d = ufl.dot(R0, Lm3)\n",
    "    return d"
   ]
  },
  {
   "cell_type": "markdown",
   "metadata": {},
   "source": [
    "# Shell element"
   ]
  },
  {
   "cell_type": "markdown",
   "metadata": {},
   "source": [
    "In our 5-parameter Naghdi shell model the configuration of the shell is assigned by:\n",
    "- the 3-component vector field $\\vec{u}$ representing the displacement with respect to the initial configuration $\\vec{\\phi}_0$ \n",
    "- the 2-component vector field $\\vec{\\theta}$ representing the angle variation of the director $\\vec{d}$ with respect to initial unit normal $\\vec{n}$"
   ]
  },
  {
   "cell_type": "markdown",
   "metadata": {},
   "source": [
    "Following [1], we use a $[P_2 + B_3]³$ element for $\\vec{u}$ and a $[P_2]²$ element for $\\vec{\\theta}$ and collect them in the state vector $\\vec{q} = [\\vec{u}, \\vec{\\theta}]$:"
   ]
  },
  {
   "cell_type": "code",
   "execution_count": 11,
   "metadata": {},
   "outputs": [],
   "source": [
    "if ele_type == \"tri_P2B3\":\n",
    "    P2B3 = enriched_element([P2, B3])\n",
    "    naghdi_shell_element = mixed_element(\n",
    "        [blocked_element(P2B3, shape=(3,)), blocked_element(P2, shape=(2,))]\n",
    "    )\n",
    "elif ele_type == \"tri_P2\":\n",
    "    naghdi_shell_element = mixed_element(\n",
    "        [blocked_element(P2, shape=(3,)), blocked_element(P2, shape=(2,))]\n",
    "        )\n",
    "\n",
    "elif ele_type == \"tri_P1\":\n",
    "    naghdi_shell_element = mixed_element(\n",
    "        [blocked_element(P1, shape=(3,)), blocked_element(P1, shape=(2,))]\n",
    "    )\n",
    "    \n",
    "elif ele_type == \"qua_P2\":\n",
    "    naghdi_shell_element = mixed_element(\n",
    "        [blocked_element(P2, shape=(3,)), blocked_element(P2, shape=(2,))]\n",
    "    )\n",
    "elif ele_type == \"qua_P1\":\n",
    "    naghdi_shell_element = mixed_element(\n",
    "        [blocked_element(P1, shape=(3,)), blocked_element(P1, shape=(2,))]\n",
    "    )\n",
    "\n",
    "elif ele_type == \"qua_S2\":\n",
    "    naghdi_shell_element = mixed_element(\n",
    "        [blocked_element(S2, shape=(3,)), blocked_element(S2, shape=(2,))]\n",
    "    )\n",
    "    \n",
    "naghdi_shell_FS = functionspace(mesh, naghdi_shell_element)"
   ]
  },
  {
   "cell_type": "markdown",
   "metadata": {},
   "source": [
    "Then, we define `Function`, `TrialFunction` and `TestFunction` objects to express the variational forms and we split the mixed function into two subfunctions for displacement and rotation."
   ]
  },
  {
   "cell_type": "code",
   "execution_count": 12,
   "metadata": {},
   "outputs": [],
   "source": [
    "q_func = Function(naghdi_shell_FS) # current configuration\n",
    "q_trial = ufl.TrialFunction(naghdi_shell_FS)\n",
    "q_test = ufl.TestFunction(naghdi_shell_FS)\n",
    "\n",
    "u_func, theta_func = split(q_func) # current displacement and rotation"
   ]
  },
  {
   "cell_type": "markdown",
   "metadata": {},
   "source": [
    "# Shell model"
   ]
  },
  {
   "cell_type": "markdown",
   "metadata": {},
   "source": [
    "We calculate the deformation gradient and the first, second fundamental forms:\n",
    "\n",
    "- Deformation gradient $\\mathbf{F}$\n",
    "$$\n",
    "\\mathbf{F} = \\nabla \\vec{\\phi} \\quad  (F_{ij} = \\frac{\\partial \\phi_i}{\\partial \\xi_j}); \\quad \\vec{\\phi} = \\vec{\\phi}_0 + \n",
    "\\vec{u} \\quad i = 1,2,3; j = 1,2\n",
    "$$\n",
    "\n",
    "- Metric tensor $\\mathbf{a} \\in \\mathbb{S}^2_+$ and curvature tensor $\\mathbf{b} \\in \\mathbb{S}^2$ (First and second fundamental form)\n",
    "$$\n",
    "\\mathbf{a} = {\\nabla \\vec{\\phi}} ^{T} \\nabla \\vec{\\phi} \\\\\n",
    "\\mathbf{b} = -\\frac{1}{2}({\\nabla \\vec{\\phi}} ^{T} \\nabla \\vec{d} + {\\nabla \\vec{d}} ^{T} \\nabla \\vec{\\phi})\n",
    "\n",
    "$$\n",
    "\n",
    "In the initial configuration, $\\vec{d} = \\vec{n}$, $\\vec{\\phi} = \\vec{\\phi}_0$, the conresponding initial tensors are $\\mathbf{a}_0$, $\\mathbf{b}_0$"
   ]
  },
  {
   "cell_type": "code",
   "execution_count": 13,
   "metadata": {},
   "outputs": [],
   "source": [
    "# current deformation gradient \n",
    "F = grad(u_func) + grad(phi0_ufl) \n",
    "\n",
    "# current director\n",
    "d = director(R0_ufl, theta_func)\n",
    "\n",
    "# initial metric and curvature tensor a0 and b0\n",
    "a0_ufl = grad(phi0_ufl).T * grad(phi0_ufl)\n",
    "b0_ufl = 0.5*( grad(phi0_ufl).T * grad(n0_ufl) + grad(n0_ufl).T * grad(phi0_ufl) )"
   ]
  },
  {
   "cell_type": "markdown",
   "metadata": {},
   "source": [
    "We define strain measures of the Naghdi shell model:\n",
    "- Membrane strain tensor $\\boldsymbol{\\varepsilon}(\\vec{u})$\n",
    "\n",
    "$$\n",
    "\\boldsymbol{\\varepsilon} (\\vec{u})= \\frac{1}{2} \\left ( \\mathbf{a}(\\vec{u}) - \\mathbf{a}_0 \\right)\n",
    "$$\n",
    "\n",
    "- Bending strain tensor $\\boldsymbol{\\kappa}(\\vec{u}, \\vec{\\theta})$ \n",
    "\n",
    "$$\n",
    "\\boldsymbol{\\kappa}(\\vec{u}, \\vec{\\theta}) = \\mathbf{b}(\\vec{u}, \\vec{\\theta}) - \\mathbf{b}_0\n",
    "$$\n",
    "\n",
    "- transverse shear strain vector $\\vec{\\gamma}(\\vec{u}, \\vec{\\theta})$ \n",
    "\n",
    "$$\n",
    "\\begin{aligned}\n",
    "\\vec{\\gamma}(\\vec{u}, \\vec{\\theta}) & = {\\nabla \\vec{\\phi}(\\vec{u})}^T \\vec{d}(\\vec{\\theta}) - {\\nabla\\vec{\\phi}_0}^T \\vec{n} \\\\\n",
    "& = {\\nabla \\vec{\\phi}(\\vec{u})}^T \\vec{d}(\\vec{\\theta}) \\quad \\text{if zero initial shears}\n",
    "\\end{aligned}\n",
    "$$\n"
   ]
  },
  {
   "cell_type": "code",
   "execution_count": 14,
   "metadata": {},
   "outputs": [],
   "source": [
    "def epsilon(F):\n",
    "    \"\"\"Membrane strain\"\"\"\n",
    "    return 0.5 * (F.T * F - a0_ufl)\n",
    "\n",
    "\n",
    "def kappa(F, d):\n",
    "    \"\"\"Bending strain\"\"\"\n",
    "    return 0.5 * (F.T * grad(d) + grad(d).T * F) - b0_ufl\n",
    "\n",
    "\n",
    "def gamma(F, d):\n",
    "    \"\"\"Transverse shear strain\"\"\"\n",
    "    return F.T * d"
   ]
  },
  {
   "cell_type": "markdown",
   "metadata": {},
   "source": [
    "In curvilinear coordinates, the stiffness modulus of linear isotropic material is defined as:\n",
    "- Membrane stiffness modulus $A^{\\alpha\\beta\\sigma\\tau}$, $D^{\\alpha\\beta\\sigma\\tau}$ (contravariant components)\n",
    "\n",
    "$$\n",
    "\\frac{A^{\\alpha\\beta\\sigma\\tau}}t=12\\frac{D^{\\alpha\\beta\\sigma\\tau}}{t^3}=\\frac{2\\lambda\\mu}{\\lambda+2\\mu}a_0^{\\alpha\\beta}a_0^{\\sigma\\tau}+\\mu(a_0^{\\alpha\\sigma}a_0^{\\beta\\tau}+a_0^{\\alpha\\tau}a_0^{\\beta\\sigma})\n",
    "$$\n",
    "\n",
    "- Shear stiffness modulus $S^{\\alpha\\beta}$ (contravariant components)\n",
    "\n",
    "$$\n",
    "\\frac{S^{\\alpha\\beta}}t = \\alpha_s \\mu a_0^{\\alpha\\beta} , \\quad \\alpha_s = \\frac{5}{6}: \\text{shear factor}\n",
    "$$\n",
    "\n",
    "where $a_0^{\\alpha\\beta}$ is the contravariant components of the initial metric tensor $\\mathbf{a}_0$ "
   ]
  },
  {
   "cell_type": "code",
   "execution_count": 15,
   "metadata": {},
   "outputs": [],
   "source": [
    "a0_contra_ufl = ufl.inv(a0_ufl)\n",
    "j0_ufl = ufl.det(a0_ufl)\n",
    "\n",
    "i,j,l,m = ufl.indices(4)  # noqa: E741\n",
    "A_contra_ufl = ufl.as_tensor( ( ((2.0*lmbda*mu) / (lmbda + 2.0*mu)) * a0_contra_ufl[i,j]*a0_contra_ufl[l,m]\n",
    "                + 1.0*mu* (a0_contra_ufl[i,l]*a0_contra_ufl[j,m] + a0_contra_ufl[i,m]*a0_contra_ufl[j,l]) )\n",
    "                ,[i,j,l,m])"
   ]
  },
  {
   "cell_type": "markdown",
   "metadata": {},
   "source": [
    "We define the resultant stress measures:\n",
    "\n",
    "- Membrane stress tensor $\\mathbf{N}$\n",
    "\n",
    "$$\n",
    "\\mathbf{N} = \\mathbf{A} : \\boldsymbol{\\varepsilon}\n",
    "$$\n",
    "\n",
    "- Bending stress tensor $\\mathbf{M}$\n",
    "\n",
    "$$\n",
    "\\mathbf{M} = \\mathbf{D} : \\boldsymbol{\\kappa}\n",
    "$$\n",
    "\n",
    "- Shear stress vector $\\vec{T}$\n",
    "\n",
    "$$\n",
    "\\vec{T} = \\mathbf{S} \\cdot \\vec{\\gamma}\n",
    "$$\n"
   ]
  },
  {
   "cell_type": "code",
   "execution_count": 16,
   "metadata": {},
   "outputs": [],
   "source": [
    "N = ufl.as_tensor(t * A_contra_ufl[i,j,l,m] * epsilon(F)[l,m], [i,j])\n",
    "\n",
    "M = ufl.as_tensor( (t**3 / 12.0) * A_contra_ufl[i,j,l,m]*kappa(F, d)[l,m], [i,j])\n",
    "\n",
    "T = ufl.as_tensor( (t * mu *5.0 / 6.0) * a0_contra_ufl[i, j] * gamma(F, d)[j], [i])"
   ]
  },
  {
   "cell_type": "markdown",
   "metadata": {},
   "source": [
    "We define elastic strain energy density $\\psi_{m}$, $\\psi_{b}$, $\\psi_{s}$ for membrane, bending and shear, respectively.\n",
    "\n",
    "$$\n",
    "\\psi_m = \\frac{1}{2} \\mathbf{N} : \\boldsymbol{\\varepsilon}; \\quad\n",
    "\\psi_b = \\frac{1}{2} \\mathbf{M} : \\boldsymbol{\\kappa}; \\quad\n",
    "\\psi_s = \\frac{1}{2} \\vec{T} \\cdot \\vec{\\gamma}\n",
    "$$\n",
    "\n",
    "They are per unit surface in the initial configuration):"
   ]
  },
  {
   "cell_type": "code",
   "execution_count": 17,
   "metadata": {},
   "outputs": [],
   "source": [
    "psi_m = 0.5*inner(N, epsilon(F))\n",
    "\n",
    "psi_b = 0.5*inner(M, kappa(F, d))\n",
    "\n",
    "psi_s = 0.5*inner(T, gamma(F, d))"
   ]
  },
  {
   "cell_type": "markdown",
   "metadata": {},
   "source": [
    "# Weak form equation with PSRI"
   ]
  },
  {
   "cell_type": "markdown",
   "metadata": {},
   "source": [
    "Shear and membrane locking is treated using the partial reduced selective integration proposed in Arnold and Brezzi [2].\n",
    "\n",
    "We introduce a parameter $\\alpha \\in \\mathbb{R}$ that splits the membrane and shear energy in the energy functional into a weighted sum of two parts:\n",
    "\n",
    "$$\n",
    "\\begin{aligned}\\Pi_{N}(u,\\theta)&=\\Pi^b(u_h,\\theta_h)+\\alpha\\Pi^m(u_h)+(1-\\alpha)\\Pi^m(u_h)\\\\&+\\alpha\\Pi^s(u_h,\\theta_h)+(1-\\alpha)\\Pi^s(u_h,\\theta_h)-W_{\\mathrm{ext}},\\end{aligned}\n",
    "$$\n",
    "\n",
    "We apply reduced integration to the parts weighted by the factor $(1-\\alpha)$\n",
    "\n",
    "More details:\n",
    "- Optimal choice $\\alpha = \\frac{t^2}{h^2}$, $h$ is the diameter of the cell\n",
    "- Full integration : Gauss quadrature of degree 4 (6 integral points for triangle)\n",
    "- Reduced integration : Gauss quadrature of degree 2 (3 integral points for triangle). \n",
    "    - While [1] suggests a 1-point reduced integration, we observed that this leads to spurious modes in the present case.\n",
    "\n"
   ]
  },
  {
   "cell_type": "markdown",
   "metadata": {},
   "source": [
    "__More on lockings__:\n",
    "\n",
    "As we can see in the definition of bending, membrane and shear stiffness modulus:\n",
    "$$\n",
    "\\Pi ^ b \\propto t^3, \\quad \\Pi^m \\propto t, \\quad \\Pi^s \\propto t\n",
    "$$\n",
    "\n",
    "when thickness $t$ is very small, $\\Pi^b$ is much smaller than $\\Pi^m$ and $\\Pi^s$. In order to find the minimum of total energy functional, it is almost equivalent to require  $\\Pi^m = \\Pi^s = 0$. \n",
    "\n",
    "However, with common FEM discretizations, this requirement is too strong, the resulting solution of $\\vec{u}_h, \\vec{\\theta}_h$ is very close to zero even at strong external forces, unless the mesh size is small compared with the thickness.\n",
    "\n",
    "For example, we consider shear strain $\\gamma = \\nabla w - \\theta$, with 1st order piecewise polynomal approximations $w_h$ and $\\theta_h$. The only solution for $\\gamma_h = \\nabla w_h - \\theta_h = 0$ is $w_h = 0, \\theta_h = 0$\n",
    "\n",
    "__More on reduced integration__:\n",
    "\n",
    "With reduced integration, the new constraint is far less restrictive. It is now possible to have nonzero solutions $u_h, \\theta_h $ for $\\Pi^{m,r} = \\Pi^{s,r} = 0$.\n",
    "\n",
    "How reduced integration may threaten the stability of FEM, because of the existence of spurious zero-stiffness modes. In other words, there may exist nonzero solutions $\\vec{q}_{nz}$ for all the three kinds of energy equal to zero: $\\Pi^{b,r}(\\vec{q}_{nz}) = \\Pi^{m,r}(\\vec{q}_{nz}) = \\Pi^{s,r}(\\vec{q}_{nz}) = 0$"
   ]
  },
  {
   "cell_type": "code",
   "execution_count": 18,
   "metadata": {},
   "outputs": [],
   "source": [
    "if ele_type == \"qua_P1\":\n",
    "    dx_f = ufl.Measure('dx', domain=mesh, metadata={\"quadrature_degree\": 3})\n",
    "    if PSRI_control:\n",
    "        dx_r = ufl.Measure('dx', domain=mesh, metadata={\"quadrature_degree\": 1})\n",
    "    else:\n",
    "        dx_r = ufl.Measure('dx', domain=mesh, metadata={\"quadrature_degree\": 3})\n",
    "        \n",
    "elif ele_type == \"tri_P1\":\n",
    "    dx_f = ufl.Measure('dx', domain=mesh, metadata={\"quadrature_degree\": 2})\n",
    "    dx_r = ufl.Measure('dx', domain=mesh, metadata={\"quadrature_degree\": 1})\n",
    "    \n",
    "else:\n",
    "    dx_f = ufl.Measure('dx', domain=mesh, metadata={\"quadrature_degree\": 4})\n",
    "    if PSRI_control:\n",
    "        dx_r = ufl.Measure('dx', domain=mesh, metadata={\"quadrature_degree\": 2})\n",
    "    else:\n",
    "        dx_r = ufl.Measure('dx', domain=mesh, metadata={\"quadrature_degree\": 4})\n",
    "\n",
    "# Calculate the factor alpha as a function of the mesh size h\n",
    "h = ufl.CellDiameter(mesh)\n",
    "alpha_FS = functionspace(mesh, element(\"DG\", cell, 0))\n",
    "alpha_expr = Expression(t**2 / h**2, alpha_FS.element.interpolation_points())\n",
    "alpha = Function(alpha_FS)\n",
    "alpha.interpolate(alpha_expr)\n",
    "\n",
    "# Full integration part of the total elastic energy\n",
    "Pi_PSRI = psi_b * ufl.sqrt(j0_ufl) * dx_f \n",
    "Pi_PSRI += alpha * psi_m * ufl.sqrt(j0_ufl) * dx_f\n",
    "Pi_PSRI += alpha * psi_s * ufl.sqrt(j0_ufl) * dx_f\n",
    "\n",
    "# Reduced integration part of the total elastic energy\n",
    "Pi_PSRI += (1.0 - alpha) * psi_m * ufl.sqrt(j0_ufl) * dx_r\n",
    "Pi_PSRI += (1.0 - alpha) * psi_s * ufl.sqrt(j0_ufl) * dx_r\n",
    "\n",
    "# external work part (zero in this case)\n",
    "W_ext = 0.0\n",
    "Pi_PSRI -= W_ext"
   ]
  },
  {
   "cell_type": "markdown",
   "metadata": {},
   "source": [
    "The residual and jacobian are the first and second order derivatives of the total potential energy, respectively"
   ]
  },
  {
   "cell_type": "code",
   "execution_count": 19,
   "metadata": {},
   "outputs": [],
   "source": [
    "Residual = ufl.derivative(Pi_PSRI, q_func, q_test)\n",
    "Jacobian = ufl.derivative(Residual, q_func, q_trial)"
   ]
  },
  {
   "cell_type": "markdown",
   "metadata": {},
   "source": [
    "# Boundary conditions"
   ]
  },
  {
   "cell_type": "markdown",
   "metadata": {},
   "source": [
    "Next, we prescribe the dirichlet boundary conditions:\n",
    "- fully clamped boundary conditions on the top boundary ($\\xi_2 = 0$):\n",
    "    - $u_{1,2,3} = \\theta_{1,2} = 0$"
   ]
  },
  {
   "cell_type": "code",
   "execution_count": 20,
   "metadata": {},
   "outputs": [],
   "source": [
    "# clamped boundary condition\n",
    "\n",
    "def clamped_boundary(x):\n",
    "    return np.isclose(x[1], 0.0)\n",
    "\n",
    "clamped_facets = locate_entities_boundary(mesh, fdim, clamped_boundary)\n",
    "\n",
    "u_FS, _ = naghdi_shell_FS.sub(0).collapse()\n",
    "theta_FS, _ = naghdi_shell_FS.sub(1).collapse()\n",
    "\n",
    "# u1, u2, u3 = 0 on the clamped boundary\n",
    "u_clamped = Function(u_FS) # default value is 0\n",
    "clamped_dofs_u = locate_dofs_topological((naghdi_shell_FS.sub(0), u_FS), fdim, clamped_facets)\n",
    "bc_clamped_u = dirichletbc(u_clamped, clamped_dofs_u, naghdi_shell_FS.sub(0))\n",
    "\n",
    "# theta1, theta2 = 0 on the clamped boundary\n",
    "theta_clamped = Function(theta_FS) # default value is 0\n",
    "clamped_dofs_theta = locate_dofs_topological((naghdi_shell_FS.sub(1), theta_FS), fdim, clamped_facets)\n",
    "bc_clamped_theta = dirichletbc(theta_clamped, clamped_dofs_theta, naghdi_shell_FS.sub(1))"
   ]
  },
  {
   "cell_type": "markdown",
   "metadata": {},
   "source": [
    "- symmetry boundary conditions on the left and right side ($\\xi_1 = \\pm \\pi/2$):\n",
    "    - $u_3 = \\theta_2 = 0$"
   ]
  },
  {
   "cell_type": "code",
   "execution_count": 21,
   "metadata": {},
   "outputs": [],
   "source": [
    "# symmetry boundary condition\n",
    "\n",
    "def symm_boundary(x):\n",
    "    return np.isclose(abs(x[0]), np.pi/2)\n",
    "\n",
    "symm_facets = locate_entities_boundary(mesh, fdim, symm_boundary)\n",
    "\n",
    "# u3 = 0 on the symmetry boundary\n",
    "symm_dofs_u = locate_dofs_topological((naghdi_shell_FS.sub(0).sub(2), u_FS.sub(2)), fdim, symm_facets)\n",
    "bc_symm_u = dirichletbc(u_clamped, symm_dofs_u, naghdi_shell_FS.sub(0).sub(2))\n",
    "\n",
    "# theta2 = 0 on the symmetry boundary\n",
    "symm_dofs_theta = locate_dofs_topological((naghdi_shell_FS.sub(1).sub(1), theta_FS.sub(1)), fdim, symm_facets)\n",
    "bc_symm_theta = dirichletbc(theta_clamped, symm_dofs_theta, naghdi_shell_FS.sub(1).sub(1))\n",
    "\n",
    "# all together\n",
    "bcs = [bc_clamped_u, bc_clamped_theta, bc_symm_u, bc_symm_theta]"
   ]
  },
  {
   "cell_type": "markdown",
   "metadata": {},
   "source": [
    "# Point source"
   ]
  },
  {
   "cell_type": "markdown",
   "metadata": {},
   "source": [
    "The loading is exerted by a point force along the $z$ direction applied at the midpoint of the bottom boundary. Since `PointSource` function is not available by far in new FEniCSx, we achieve the same functionality according to the reply in [4]"
   ]
  },
  {
   "cell_type": "code",
   "execution_count": 22,
   "metadata": {},
   "outputs": [],
   "source": [
    "def compute_cell_contributions(V, points):\n",
    "    # Determine what process owns a point and what cells it lies within\n",
    "    mesh = V.mesh\n",
    "    _, _, owning_points, cells = dolfinx.cpp.geometry.determine_point_ownership(\n",
    "        mesh._cpp_object, points, 1e-6)\n",
    "    owning_points = np.asarray(owning_points).reshape(-1, 3)\n",
    "\n",
    "    # Pull owning points back to reference cell\n",
    "    mesh_nodes = mesh.geometry.x\n",
    "    cmap = mesh.geometry.cmaps[0]\n",
    "    ref_x = np.zeros((len(cells), mesh.geometry.dim),\n",
    "                     dtype=mesh.geometry.x.dtype)\n",
    "    for i, (point, cell) in enumerate(zip(owning_points, cells)):\n",
    "        geom_dofs = mesh.geometry.dofmap[cell]\n",
    "        ref_x[i] = cmap.pull_back(point.reshape(-1, 3), mesh_nodes[geom_dofs])\n",
    "\n",
    "    # Create expression evaluating a trial function (i.e. just the basis function)\n",
    "    u = ufl.TrialFunction(V.sub(0).sub(2))\n",
    "    num_dofs = V.sub(0).sub(2).dofmap.dof_layout.num_dofs * V.sub(0).sub(2).dofmap.bs\n",
    "    if len(cells) > 0:\n",
    "        # NOTE: Expression lives on only this communicator rank\n",
    "        expr = dolfinx.fem.Expression(u, ref_x, comm=MPI.COMM_SELF)\n",
    "        values = expr.eval(mesh, np.asarray(cells, dtype=np.int32))\n",
    "\n",
    "        # Strip out basis function values per cell\n",
    "        basis_values = values[:num_dofs:num_dofs*len(cells)]\n",
    "    else:\n",
    "        basis_values = np.zeros(\n",
    "            (0, num_dofs), dtype=dolfinx.default_scalar_type)\n",
    "    return cells, basis_values"
   ]
  },
  {
   "cell_type": "code",
   "execution_count": 23,
   "metadata": {},
   "outputs": [],
   "source": [
    "# Point source\n",
    "if mesh.comm.rank == 0:\n",
    "    points = np.array([[0.0, L, 0.0]], dtype=mesh.geometry.x.dtype)\n",
    "else:\n",
    "    points = np.zeros((0, 3), dtype=mesh.geometry.x.dtype)\n",
    "\n",
    "ps_cells, basis_values = compute_cell_contributions(naghdi_shell_FS, points)\n",
    "# cells: the cells that contain the points\n",
    "# basis_values: the basis function values at the points"
   ]
  },
  {
   "cell_type": "markdown",
   "metadata": {},
   "source": [
    "# Newton Solver"
   ]
  },
  {
   "cell_type": "markdown",
   "metadata": {},
   "source": [
    "We define a custom `NonlinearProblem` which is able to compute the point force"
   ]
  },
  {
   "cell_type": "code",
   "execution_count": 24,
   "metadata": {},
   "outputs": [],
   "source": [
    "import typing\n",
    "from dolfinx.fem.bcs import DirichletBC\n",
    "from dolfinx.fem.function import Function as _Function\n",
    "from dolfinx.fem.petsc import assemble_vector, apply_lifting, set_bc\n",
    "\n",
    "class NonlinearProblemPointSource(NonlinearProblem):\n",
    "    def __init__(self, F: ufl.form.Form, u: _Function, bcs: typing.List[DirichletBC] = [],\n",
    "                 J: ufl.form.Form = None, cells = [], basis_values = [], PS: float = 0.0):\n",
    "        \n",
    "        super().__init__(F, u, bcs, J)\n",
    "        \n",
    "        self.PS = PS\n",
    "        self.cells = cells\n",
    "        self.basis_values = basis_values\n",
    "        self.function_space = u.function_space\n",
    "        \n",
    "    def F(self, x: PETSc.Vec, b: PETSc.Vec) -> None:\n",
    "        # Reset the residual vector\n",
    "        with b.localForm() as b_local:\n",
    "            b_local.set(0.0)\n",
    "        assemble_vector(b, self._L)\n",
    "\n",
    "        # Add point source\n",
    "        if len(self.cells) > 0:\n",
    "            for cell, basis_value in zip(self.cells, self.basis_values):\n",
    "                dofs = self.function_space.sub(0).sub(2).dofmap.cell_dofs(cell)\n",
    "                with b.localForm() as b_local:\n",
    "                    b_local.setValuesLocal(dofs, -basis_value * self.PS, addv=PETSc.InsertMode.ADD_VALUES)\n",
    "        \n",
    "        # Apply boundary condition\n",
    "        apply_lifting(b, [self._a], bcs=[self.bcs], x0=[x], scale=-1.0)\n",
    "        b.ghostUpdate(addv=PETSc.InsertMode.ADD, mode=PETSc.ScatterMode.REVERSE)\n",
    "        set_bc(b, self.bcs, x, -1.0)"
   ]
  },
  {
   "cell_type": "markdown",
   "metadata": {},
   "source": [
    "We use a standard Newton solver and modify the linear solver in each Newton iteration"
   ]
  },
  {
   "cell_type": "code",
   "execution_count": 25,
   "metadata": {},
   "outputs": [],
   "source": [
    "problem = NonlinearProblemPointSource(Residual, q_func, bcs, Jacobian, ps_cells, basis_values)\n",
    "\n",
    "solver = NewtonSolver(mesh.comm, problem)\n",
    "\n",
    "# Set Newton solver options\n",
    "solver.rtol = 1e-6\n",
    "solver.atol = 1e-6\n",
    "solver.max_it = 100\n",
    "solver.convergence_criterion = \"incremental\"\n",
    "solver.report = True\n",
    "\n",
    "# Modify the linear solver in each Newton iteration\n",
    "ksp = solver.krylov_solver\n",
    "opts = PETSc.Options()\n",
    "option_prefix = ksp.getOptionsPrefix()\n",
    "opts[f\"{option_prefix}ksp_type\"] = \"preonly\"\n",
    "opts[f\"{option_prefix}pc_type\"] = \"lu\"\n",
    "opts[f\"{option_prefix}pc_factor_mat_solver_type\"] = \"mumps\"\n",
    "ksp.setFromOptions()"
   ]
  },
  {
   "cell_type": "code",
   "execution_count": 26,
   "metadata": {},
   "outputs": [],
   "source": [
    "file_u = dolfinx.io.VTKFile(mesh.comm, results_folder/\"u.pvd\", \"w\")\n",
    "file_theta = dolfinx.io.VTKFile(mesh.comm, results_folder/\"theta.pvd\", \"w\")\n",
    "file_phi = dolfinx.io.VTKFile(mesh.comm, results_folder/\"phi.pvd\", \"w\")"
   ]
  },
  {
   "cell_type": "markdown",
   "metadata": {},
   "source": [
    "Finally, we can solve the quasi-static problem, incrementally increasing the loading from 0 to $2000N$"
   ]
  },
  {
   "cell_type": "code",
   "execution_count": 29,
   "metadata": {},
   "outputs": [
    {
     "name": "stderr",
     "output_type": "stream",
     "text": [
      "  0%|          | 0/40 [00:00<?, ?it/s]"
     ]
    },
    {
     "name": "stdout",
     "output_type": "stream",
     "text": [
      "Load step 1, Number of iterations: 5, Load: -50.00(-2000.0)\n"
     ]
    },
    {
     "name": "stderr",
     "output_type": "stream",
     "text": [
      "  2%|▎         | 1/40 [00:03<02:21,  3.63s/it]"
     ]
    },
    {
     "name": "stdout",
     "output_type": "stream",
     "text": [
      "Load step 2, Number of iterations: 6, Load: -100.00(-2000.0)\n"
     ]
    },
    {
     "name": "stderr",
     "output_type": "stream",
     "text": [
      "  5%|▌         | 2/40 [00:07<02:26,  3.85s/it]"
     ]
    },
    {
     "name": "stdout",
     "output_type": "stream",
     "text": [
      "Load step 3, Number of iterations: 6, Load: -150.00(-2000.0)\n"
     ]
    },
    {
     "name": "stderr",
     "output_type": "stream",
     "text": [
      "  8%|▊         | 3/40 [00:11<02:26,  3.96s/it]"
     ]
    },
    {
     "name": "stdout",
     "output_type": "stream",
     "text": [
      "Load step 4, Number of iterations: 6, Load: -200.00(-2000.0)\n"
     ]
    },
    {
     "name": "stderr",
     "output_type": "stream",
     "text": [
      " 10%|█         | 4/40 [00:15<02:26,  4.07s/it]"
     ]
    },
    {
     "name": "stdout",
     "output_type": "stream",
     "text": [
      "Load step 5, Number of iterations: 6, Load: -250.00(-2000.0)\n"
     ]
    },
    {
     "name": "stderr",
     "output_type": "stream",
     "text": [
      " 12%|█▎        | 5/40 [00:20<02:24,  4.13s/it]"
     ]
    },
    {
     "name": "stdout",
     "output_type": "stream",
     "text": [
      "Load step 6, Number of iterations: 6, Load: -300.00(-2000.0)\n"
     ]
    },
    {
     "name": "stderr",
     "output_type": "stream",
     "text": [
      " 15%|█▌        | 6/40 [00:24<02:23,  4.22s/it]"
     ]
    },
    {
     "name": "stdout",
     "output_type": "stream",
     "text": [
      "Load step 7, Number of iterations: 6, Load: -350.00(-2000.0)\n"
     ]
    },
    {
     "name": "stderr",
     "output_type": "stream",
     "text": [
      " 18%|█▊        | 7/40 [00:28<02:15,  4.12s/it]"
     ]
    },
    {
     "name": "stdout",
     "output_type": "stream",
     "text": [
      "Load step 8, Number of iterations: 6, Load: -400.00(-2000.0)\n"
     ]
    },
    {
     "name": "stderr",
     "output_type": "stream",
     "text": [
      " 20%|██        | 8/40 [00:32<02:09,  4.05s/it]"
     ]
    },
    {
     "name": "stdout",
     "output_type": "stream",
     "text": [
      "Load step 9, Number of iterations: 6, Load: -450.00(-2000.0)\n"
     ]
    },
    {
     "name": "stderr",
     "output_type": "stream",
     "text": [
      " 22%|██▎       | 9/40 [00:36<02:03,  4.00s/it]"
     ]
    },
    {
     "name": "stdout",
     "output_type": "stream",
     "text": [
      "Load step 10, Number of iterations: 7, Load: -500.00(-2000.0)\n"
     ]
    },
    {
     "name": "stderr",
     "output_type": "stream",
     "text": [
      " 25%|██▌       | 10/40 [00:40<02:03,  4.13s/it]"
     ]
    },
    {
     "name": "stdout",
     "output_type": "stream",
     "text": [
      "Load step 11, Number of iterations: 8, Load: -550.00(-2000.0)\n"
     ]
    },
    {
     "name": "stderr",
     "output_type": "stream",
     "text": [
      " 28%|██▊       | 11/40 [00:45<02:06,  4.36s/it]"
     ]
    },
    {
     "name": "stdout",
     "output_type": "stream",
     "text": [
      "Load step 12, Number of iterations: 10, Load: -600.00(-2000.0)\n"
     ]
    },
    {
     "name": "stderr",
     "output_type": "stream",
     "text": [
      " 30%|███       | 12/40 [00:51<02:16,  4.87s/it]"
     ]
    },
    {
     "name": "stdout",
     "output_type": "stream",
     "text": [
      "Load step 13, Number of iterations: 11, Load: -650.00(-2000.0)\n"
     ]
    },
    {
     "name": "stderr",
     "output_type": "stream",
     "text": [
      " 32%|███▎      | 13/40 [00:58<02:26,  5.42s/it]"
     ]
    },
    {
     "name": "stdout",
     "output_type": "stream",
     "text": [
      "Load step 14, Number of iterations: 10, Load: -700.00(-2000.0)\n"
     ]
    },
    {
     "name": "stderr",
     "output_type": "stream",
     "text": [
      " 35%|███▌      | 14/40 [01:04<02:26,  5.62s/it]"
     ]
    },
    {
     "name": "stdout",
     "output_type": "stream",
     "text": [
      "Load step 15, Number of iterations: 10, Load: -750.00(-2000.0)\n"
     ]
    },
    {
     "name": "stderr",
     "output_type": "stream",
     "text": [
      " 38%|███▊      | 15/40 [01:10<02:24,  5.78s/it]"
     ]
    },
    {
     "name": "stdout",
     "output_type": "stream",
     "text": [
      "Load step 16, Number of iterations: 8, Load: -800.00(-2000.0)\n"
     ]
    },
    {
     "name": "stderr",
     "output_type": "stream",
     "text": [
      " 40%|████      | 16/40 [01:15<02:12,  5.51s/it]"
     ]
    },
    {
     "name": "stdout",
     "output_type": "stream",
     "text": [
      "Load step 17, Number of iterations: 8, Load: -850.00(-2000.0)\n"
     ]
    },
    {
     "name": "stderr",
     "output_type": "stream",
     "text": [
      " 42%|████▎     | 17/40 [01:20<02:02,  5.33s/it]"
     ]
    },
    {
     "name": "stdout",
     "output_type": "stream",
     "text": [
      "Load step 18, Number of iterations: 7, Load: -900.00(-2000.0)\n"
     ]
    },
    {
     "name": "stderr",
     "output_type": "stream",
     "text": [
      " 45%|████▌     | 18/40 [01:25<01:53,  5.14s/it]"
     ]
    },
    {
     "name": "stdout",
     "output_type": "stream",
     "text": [
      "Load step 19, Number of iterations: 7, Load: -950.00(-2000.0)\n"
     ]
    },
    {
     "name": "stderr",
     "output_type": "stream",
     "text": [
      " 48%|████▊     | 19/40 [01:29<01:44,  4.99s/it]"
     ]
    },
    {
     "name": "stdout",
     "output_type": "stream",
     "text": [
      "Load step 20, Number of iterations: 6, Load: -1000.00(-2000.0)\n"
     ]
    },
    {
     "name": "stderr",
     "output_type": "stream",
     "text": [
      " 50%|█████     | 20/40 [01:33<01:35,  4.77s/it]"
     ]
    },
    {
     "name": "stdout",
     "output_type": "stream",
     "text": [
      "Load step 21, Number of iterations: 6, Load: -1050.00(-2000.0)\n"
     ]
    },
    {
     "name": "stderr",
     "output_type": "stream",
     "text": [
      " 52%|█████▎    | 21/40 [01:39<01:32,  4.87s/it]"
     ]
    },
    {
     "name": "stdout",
     "output_type": "stream",
     "text": [
      "Load step 22, Number of iterations: 6, Load: -1100.00(-2000.0)\n"
     ]
    },
    {
     "name": "stderr",
     "output_type": "stream",
     "text": [
      " 55%|█████▌    | 22/40 [01:43<01:23,  4.65s/it]"
     ]
    },
    {
     "name": "stdout",
     "output_type": "stream",
     "text": [
      "Load step 23, Number of iterations: 6, Load: -1150.00(-2000.0)\n"
     ]
    },
    {
     "name": "stderr",
     "output_type": "stream",
     "text": [
      " 57%|█████▊    | 23/40 [01:47<01:15,  4.42s/it]"
     ]
    },
    {
     "name": "stdout",
     "output_type": "stream",
     "text": [
      "Load step 24, Number of iterations: 6, Load: -1200.00(-2000.0)\n"
     ]
    },
    {
     "name": "stderr",
     "output_type": "stream",
     "text": [
      " 60%|██████    | 24/40 [01:51<01:10,  4.38s/it]"
     ]
    },
    {
     "name": "stdout",
     "output_type": "stream",
     "text": [
      "Load step 25, Number of iterations: 6, Load: -1250.00(-2000.0)\n"
     ]
    },
    {
     "name": "stderr",
     "output_type": "stream",
     "text": [
      " 62%|██████▎   | 25/40 [01:55<01:04,  4.31s/it]"
     ]
    },
    {
     "name": "stdout",
     "output_type": "stream",
     "text": [
      "Load step 26, Number of iterations: 6, Load: -1300.00(-2000.0)\n"
     ]
    },
    {
     "name": "stderr",
     "output_type": "stream",
     "text": [
      " 65%|██████▌   | 26/40 [01:59<01:00,  4.29s/it]"
     ]
    },
    {
     "name": "stdout",
     "output_type": "stream",
     "text": [
      "Load step 27, Number of iterations: 6, Load: -1350.00(-2000.0)\n"
     ]
    },
    {
     "name": "stderr",
     "output_type": "stream",
     "text": [
      " 68%|██████▊   | 27/40 [02:03<00:55,  4.28s/it]"
     ]
    },
    {
     "name": "stdout",
     "output_type": "stream",
     "text": [
      "Load step 28, Number of iterations: 6, Load: -1400.00(-2000.0)\n"
     ]
    },
    {
     "name": "stderr",
     "output_type": "stream",
     "text": [
      " 70%|███████   | 28/40 [02:08<00:51,  4.28s/it]"
     ]
    },
    {
     "name": "stdout",
     "output_type": "stream",
     "text": [
      "Load step 29, Number of iterations: 6, Load: -1450.00(-2000.0)\n"
     ]
    },
    {
     "name": "stderr",
     "output_type": "stream",
     "text": [
      " 72%|███████▎  | 29/40 [02:12<00:46,  4.18s/it]"
     ]
    },
    {
     "name": "stdout",
     "output_type": "stream",
     "text": [
      "Load step 30, Number of iterations: 5, Load: -1500.00(-2000.0)\n"
     ]
    },
    {
     "name": "stderr",
     "output_type": "stream",
     "text": [
      " 75%|███████▌  | 30/40 [02:15<00:39,  3.98s/it]"
     ]
    },
    {
     "name": "stdout",
     "output_type": "stream",
     "text": [
      "Load step 31, Number of iterations: 5, Load: -1550.00(-2000.0)\n"
     ]
    },
    {
     "name": "stderr",
     "output_type": "stream",
     "text": [
      " 78%|███████▊  | 31/40 [02:19<00:34,  3.85s/it]"
     ]
    },
    {
     "name": "stdout",
     "output_type": "stream",
     "text": [
      "Load step 32, Number of iterations: 5, Load: -1600.00(-2000.0)\n"
     ]
    },
    {
     "name": "stderr",
     "output_type": "stream",
     "text": [
      " 80%|████████  | 32/40 [02:22<00:30,  3.77s/it]"
     ]
    },
    {
     "name": "stdout",
     "output_type": "stream",
     "text": [
      "Load step 33, Number of iterations: 5, Load: -1650.00(-2000.0)\n"
     ]
    },
    {
     "name": "stderr",
     "output_type": "stream",
     "text": [
      " 82%|████████▎ | 33/40 [02:26<00:26,  3.82s/it]"
     ]
    },
    {
     "name": "stdout",
     "output_type": "stream",
     "text": [
      "Load step 34, Number of iterations: 5, Load: -1700.00(-2000.0)\n"
     ]
    },
    {
     "name": "stderr",
     "output_type": "stream",
     "text": [
      " 85%|████████▌ | 34/40 [02:30<00:22,  3.75s/it]"
     ]
    },
    {
     "name": "stdout",
     "output_type": "stream",
     "text": [
      "Load step 35, Number of iterations: 5, Load: -1750.00(-2000.0)\n"
     ]
    },
    {
     "name": "stderr",
     "output_type": "stream",
     "text": [
      " 88%|████████▊ | 35/40 [02:33<00:18,  3.70s/it]"
     ]
    },
    {
     "name": "stdout",
     "output_type": "stream",
     "text": [
      "Load step 36, Number of iterations: 5, Load: -1800.00(-2000.0)\n"
     ]
    },
    {
     "name": "stderr",
     "output_type": "stream",
     "text": [
      " 90%|█████████ | 36/40 [02:37<00:14,  3.70s/it]"
     ]
    },
    {
     "name": "stdout",
     "output_type": "stream",
     "text": [
      "Load step 37, Number of iterations: 6, Load: -1850.00(-2000.0)\n"
     ]
    },
    {
     "name": "stderr",
     "output_type": "stream",
     "text": [
      " 92%|█████████▎| 37/40 [02:42<00:12,  4.19s/it]"
     ]
    },
    {
     "name": "stdout",
     "output_type": "stream",
     "text": [
      "Load step 38, Number of iterations: 6, Load: -1900.00(-2000.0)\n"
     ]
    },
    {
     "name": "stderr",
     "output_type": "stream",
     "text": [
      " 95%|█████████▌| 38/40 [02:48<00:08,  4.48s/it]"
     ]
    },
    {
     "name": "stdout",
     "output_type": "stream",
     "text": [
      "Load step 39, Number of iterations: 6, Load: -1950.00(-2000.0)\n"
     ]
    },
    {
     "name": "stderr",
     "output_type": "stream",
     "text": [
      " 98%|█████████▊| 39/40 [02:52<00:04,  4.52s/it]"
     ]
    },
    {
     "name": "stdout",
     "output_type": "stream",
     "text": [
      "Load step 40, Number of iterations: 6, Load: -2000.00(-2000.0)\n"
     ]
    },
    {
     "name": "stderr",
     "output_type": "stream",
     "text": [
      "100%|██████████| 40/40 [02:57<00:00,  4.44s/it]\n"
     ]
    }
   ],
   "source": [
    "PS_diff = -50.0\n",
    "n_step = 40\n",
    "\n",
    "# store the displacement at the point load \n",
    "if mesh.comm.rank == 0:\n",
    "    u3_list = np.zeros(n_step + 1)\n",
    "    PS_list = np.arange(0, PS_diff * (n_step + 1), PS_diff)\n",
    "PS_max = PS_list[-1]\n",
    "q_func.x.array[:] = 0.0\n",
    "\n",
    "bb_point = np.array([[0.0, L, 0.0]], dtype=np.float64)\n",
    "\n",
    "for i in tqdm(range(1, n_step + 1)):\n",
    "    problem.PS = PS_diff * i\n",
    "    n, converged = solver.solve(q_func)\n",
    "    assert (converged)\n",
    "    q_func.x.scatter_forward()\n",
    "    if mesh.comm.rank == 0:\n",
    "        print(f\"Load step {i:d}, Number of iterations: {n:d}, Load: {problem.PS:.2f}({PS_max})\", flush=True)\n",
    "    \n",
    "    # write output\n",
    "    if ele_type == \"qua_P1\" or ele_type == \"tri_P1\":\n",
    "        phi_FS = functionspace(mesh, blocked_element(P1, shape=(3,)))\n",
    "    else:\n",
    "        phi_FS = functionspace(mesh, blocked_element(P2, shape=(3,)))\n",
    "        \n",
    "    if ele_type == \"tri_P2B3\":\n",
    "        u_P2B3 = q_func.sub(0).collapse()\n",
    "        u_sol = Function(phi_FS)\n",
    "        u_sol.interpolate(u_P2B3)\n",
    "        theta_sol = q_func.sub(1).collapse()\n",
    "    elif ele_type == \"qua_S2\":\n",
    "        u_S2 = q_func.sub(0).collapse()\n",
    "        u_sol = Function(phi_FS)\n",
    "        u_sol.interpolate(u_S2)\n",
    "        \n",
    "        theta_S2 = q_func.sub(1).collapse()\n",
    "        theta_FS = functionspace(mesh, blocked_element(P2, shape=(2,)))\n",
    "        theta_sol = Function(theta_FS)\n",
    "        theta_sol.interpolate(theta_S2)\n",
    "        \n",
    "    else:\n",
    "        u_sol = q_func.sub(0).collapse()\n",
    "        theta_sol = q_func.sub(1).collapse()\n",
    "    \n",
    "    phi_expr = Expression(phi0_ufl + u_sol, phi_FS.element.interpolation_points())\n",
    "    phi_sol = Function(phi_FS)\n",
    "    phi_sol.interpolate(phi_expr)\n",
    "    \n",
    "\n",
    "    file_u.write_function(u_sol, i)\n",
    "    file_theta.write_function(theta_sol, i)\n",
    "    file_phi.write_function(phi_sol, i)\n",
    "    \n",
    "    # calculate u3 at the point load\n",
    "    u3_bb = None\n",
    "    u3_func = q_func.sub(0).sub(2).collapse()\n",
    "    if len(ps_cells) > 0:\n",
    "        u3_bb = u3_func.eval(bb_point, ps_cells[0])[0]\n",
    "    u3_bb = mesh.comm.gather(u3_bb, root=0)\n",
    "    if mesh.comm.rank == 0:\n",
    "        for u3 in u3_bb:\n",
    "            if u3 is not None:\n",
    "                u3_list[i] = u3\n",
    "                break"
   ]
  },
  {
   "cell_type": "markdown",
   "metadata": {},
   "source": [
    "We write the outputs of $\\vec{u}$, $\\vec{\\theta}$, and $\\vec{\\phi}$ in the second order Lagrange space."
   ]
  },
  {
   "cell_type": "code",
   "execution_count": 30,
   "metadata": {},
   "outputs": [
    {
     "data": {
      "application/vnd.jupyter.widget-view+json": {
       "model_id": "456bebd5b1254cbc88841a8887508466",
       "version_major": 2,
       "version_minor": 0
      },
      "text/plain": [
       "Widget(value='<iframe src=\"http://localhost:35839/index.html?ui=P_0x7fe550416870_0&reconnect=auto\" class=\"pyvi…"
      ]
     },
     "metadata": {},
     "output_type": "display_data"
    }
   ],
   "source": [
    "u_sol = q_func.sub(0).collapse()\n",
    "\n",
    "phi_expr = Expression(phi0_ufl + u_sol, phi_FS.element.interpolation_points())\n",
    "phi_func = Function(phi_FS)\n",
    "phi_func.interpolate(phi_expr)\n",
    "topology, cell_types, geometry = plot.vtk_mesh(phi_FS)\n",
    "\n",
    "geometry_phi = phi_func.x.array.reshape((geometry.shape[0], len(phi_func)))\n",
    "\n",
    "grid_phi = pyvista.UnstructuredGrid(topology, cell_types, geometry_phi)\n",
    "\n",
    "plotter = pyvista.Plotter()\n",
    "plotter.add_mesh(grid_phi, show_edges=True)\n",
    "plotter.show_grid()\n",
    "plotter.enable_parallel_projection()\n",
    "plotter.show_axes_all()\n",
    "if not pyvista.OFF_SCREEN:\n",
    "    plotter.show()\n",
    "else:\n",
    "    plotter.screenshot(results_folder/\"phi.png\")\n",
    "plotter.close()"
   ]
  },
  {
   "cell_type": "markdown",
   "metadata": {},
   "source": [
    "The results for the transverse displacement at the point of application of the force are validated against a standard reference from the literature, obtained using Abaqus S4R element and a structured mesh of 40×40 elements, see [1]:"
   ]
  },
  {
   "cell_type": "code",
   "execution_count": 31,
   "metadata": {},
   "outputs": [
    {
     "data": {
      "image/png": "[encoded data removed]",
      "text/plain": [
       "<Figure size 800x600 with 1 Axes>"
      ]
     },
     "metadata": {},
     "output_type": "display_data"
    }
   ],
   "source": [
    "import matplotlib.pyplot as plt\n",
    "\n",
    "if mesh.comm.rank == 0:\n",
    "    WA_S4R = 1.e-2*np.array([0., 5.421, 16.1, 22.195, 27.657, 32.7, 37.582, 42.633,\n",
    "        48.537, 56.355, 66.410, 79.810, 94.669, 113.704, 124.751, 132.653,\n",
    "        138.920, 144.185, 148.770, 152.863, 156.584, 160.015, 163.211,\n",
    "        166.200, 168.973, 171.505])\n",
    "        \n",
    "    P_S4R = np.array([0., .05, .1, .125, .15, .175, .2, .225, .25, .275, .3,\n",
    "        .325, .35, .4, .45, .5, .55, .6, .65, .7, .75, .8, .85, .9, .95, 1.])\n",
    "    np.savetxt(results_folder/\"PS_Pmax.txt\", PS_list/PS_max)\n",
    "    np.savetxt(results_folder/\"WA.txt\", u3_list)\n",
    "    plt.figure(figsize=(8.0, 6.0))\n",
    "    plt.plot(WA_S4R, P_S4R, \"-\", label=\"$-WA(S4R)$\")\n",
    "    plt.plot(-u3_list, PS_list / PS_max, \"o\", markersize=5, markerfacecolor='none',\n",
    "             markevery = 2, label=f\"$WA({nex}\\\\times{ney},${ele_type})\")\n",
    "    plt.xlabel(\"Deflection(mm)\")\n",
    "    plt.ylabel(r\"$P/P_{\\mathrm{max}}$\")\n",
    "    plt.legend()\n",
    "    plt.grid()\n",
    "    plt.tight_layout()\n",
    "    plt.savefig(results_folder/\"comparisons.png\")"
   ]
  },
  {
   "cell_type": "markdown",
   "metadata": {},
   "source": [
    "# References\n",
    "\n",
    "[1] K. Sze, X. Liu, and S. Lo. Popular benchmark problems for geometric nonlinear analysis of shells. Finite Elements in Analysis and Design, 40(11):1551 – 1569, 2004.\n",
    "\n",
    "[2] D. Arnold and F.Brezzi, Mathematics of Computation, 66(217): 1-14, 1997. https://www.ima.umn.edu/~arnold//papers/shellelt.pdf\n",
    "\n",
    "[3] P. Betsch, A. Menzel, and E. Stein. On the parametrization of finite rotations in computational mechanics: A classification of concepts with application to smooth shells. Computer Methods in Applied Mechanics and Engineering, 155(3):273 – 305, 1998.\n",
    "\n",
    "[4] https://fenicsproject.discourse.group/t/point-sources-redux/13496/4"
   ]
  }
 ],
 "metadata": {
  "kernelspec": {
   "display_name": "fenicsx-env",
   "language": "python",
   "name": "python3"
  },
  "language_info": {
   "codemirror_mode": {
    "name": "ipython",
    "version": 3
   },
   "file_extension": ".py",
   "mimetype": "text/x-python",
   "name": "python",
   "nbconvert_exporter": "python",
   "pygments_lexer": "ipython3",
   "version": "3.12.0"
  }
 },
 "nbformat": 4,
 "nbformat_minor": 2
}
