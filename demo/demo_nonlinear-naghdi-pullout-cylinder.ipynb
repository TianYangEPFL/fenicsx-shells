{
 "cells": [
  {
   "cell_type": "code",
   "execution_count": 1,
   "metadata": {},
   "outputs": [],
   "source": [
    "import numpy as np\n",
    "\n",
    "import dolfinx\n",
    "import ufl\n",
    "from basix.ufl import blocked_element, element, enriched_element, mixed_element\n",
    "from dolfinx.fem import Function, functionspace, dirichletbc, Expression, locate_dofs_topological\n",
    "from dolfinx.fem.petsc import NonlinearProblem\n",
    "from dolfinx.mesh import CellType, create_rectangle, locate_entities_boundary\n",
    "from ufl import grad, inner, split\n",
    "from dolfinx import plot\n",
    "from dolfinx.nls.petsc import NewtonSolver\n",
    "\n",
    "from tqdm import tqdm\n",
    "\n",
    "from mpi4py import MPI\n",
    "from petsc4py import PETSc\n",
    "\n",
    "import pyvista"
   ]
  },
  {
   "cell_type": "markdown",
   "metadata": {},
   "source": [
    "# Simulation Setup"
   ]
  },
  {
   "cell_type": "code",
   "execution_count": 2,
   "metadata": {},
   "outputs": [],
   "source": [
    "nex = int(24)\n",
    "ney = int(16)\n",
    "\n",
    "PSRI_control = False\n",
    "plot_control = False\n",
    "\n",
    "ele_dict = {0 : \"tri_P1\",\n",
    "            1 : \"tri_P2\",\n",
    "            2 : \"tri_P2B3\",\n",
    "            3 : \"qua_P1\",\n",
    "            4 : \"qua_P2\"}\n",
    "\n",
    "ele_index = 4\n",
    "ele_type = ele_dict[ele_index]\n",
    "\n",
    "\n",
    "if ele_type == \"tri_P2B3\":\n",
    "    cell_type = CellType.triangle\n",
    "    \n",
    "elif ele_type == \"tri_P2\":\n",
    "    cell_type = CellType.triangle\n",
    "\n",
    "elif ele_type == \"tri_P1\":\n",
    "    cell_type = CellType.triangle\n",
    "    \n",
    "elif ele_type == \"qua_P2\":\n",
    "    cell_type = CellType.quadrilateral\n",
    "    \n",
    "elif ele_type == \"qua_P1\":\n",
    "    cell_type = CellType.quadrilateral"
   ]
  },
  {
   "cell_type": "code",
   "execution_count": 3,
   "metadata": {},
   "outputs": [],
   "source": [
    "from pathlib import Path\n",
    "\n",
    "if not PSRI_control:\n",
    "    results_folder = Path(f\"results/nonlinear_Naghdi/non_PSRI/pullout-cylinder/{nex}_{ney}_{ele_type}\")\n",
    "else:\n",
    "    results_folder = Path(f\"results/nonlinear_Naghdi/pullout-cylinder/{nex}_{ney}_{ele_type}\")\n",
    "results_folder.mkdir(exist_ok=True, parents=True)\n",
    "\n",
    "if plot_control:\n",
    "    pyvista.start_xvfb()"
   ]
  },
  {
   "cell_type": "markdown",
   "metadata": {},
   "source": [
    "# Mesh"
   ]
  },
  {
   "cell_type": "code",
   "execution_count": 4,
   "metadata": {},
   "outputs": [],
   "source": [
    "r = 4.953\n",
    "L = 10.35 / 2 \n",
    "\n",
    "mesh = create_rectangle(MPI.COMM_WORLD, np.array([[0.0, 0.0], [r * np.pi / 2, L]]),\n",
    "                        [nex, ney], cell_type)\n",
    "\n",
    "# topology dimension = 2\n",
    "tdim = mesh.topology.dim\n",
    "fdim = tdim - 1\n",
    "\n",
    "cell = mesh.basix_cell()\n",
    "P1 = element(\"Lagrange\", cell, degree=1)\n",
    "P2 = element(\"Lagrange\", cell, degree=2)\n",
    "B3 = element(\"Bubble\", cell, degree=3)"
   ]
  },
  {
   "cell_type": "markdown",
   "metadata": {},
   "source": [
    "## Plot mesh"
   ]
  },
  {
   "cell_type": "code",
   "execution_count": 7,
   "metadata": {},
   "outputs": [
    {
     "data": {
      "application/vnd.jupyter.widget-view+json": {
       "model_id": "2bd3d2327bd146e4ab935031b4930344",
       "version_major": 2,
       "version_minor": 0
      },
      "text/plain": [
       "Widget(value='<iframe src=\"http://localhost:40421/index.html?ui=P_0x7f716fd86900_0&reconnect=auto\" class=\"pyvi…"
      ]
     },
     "metadata": {},
     "output_type": "display_data"
    }
   ],
   "source": [
    "topology, cell_types, geometry = plot.vtk_mesh(mesh, tdim)\n",
    "grid = pyvista.UnstructuredGrid(topology, cell_types, geometry)\n",
    "\n",
    "plotter = pyvista.Plotter(off_screen = True)\n",
    "plotter.add_mesh(grid, show_edges=True)\n",
    "plotter.show_grid()\n",
    "plotter.view_xy()\n",
    "if not pyvista.OFF_SCREEN:\n",
    "    plotter.show()\n",
    "else:\n",
    "    plotter.screenshot(results_folder/f\"mesh_rank{mesh.comm.rank}.png\")\n",
    "\n",
    "plotter.close()"
   ]
  },
  {
   "cell_type": "markdown",
   "metadata": {},
   "source": [
    "# Material"
   ]
  },
  {
   "cell_type": "code",
   "execution_count": 5,
   "metadata": {},
   "outputs": [],
   "source": [
    "E, nu = 10.5E6, 0.3125 \n",
    "mu = E/(2.0*(1.0 + nu)) \n",
    "lmbda = 2.0*mu*nu/(1.0 - 2.0*nu) \n",
    "t = 0.094 "
   ]
  },
  {
   "cell_type": "markdown",
   "metadata": {},
   "source": [
    "# Initial shape"
   ]
  },
  {
   "cell_type": "code",
   "execution_count": 6,
   "metadata": {},
   "outputs": [],
   "source": [
    "x = ufl.SpatialCoordinate(mesh)\n",
    "phi0_ufl = ufl.as_vector([r * ufl.sin(x[0] / r), x[1], r * ufl.cos(x[0] / r)])\n",
    "\n",
    "def unit_normal(phi):\n",
    "    n = ufl.cross(phi.dx(0), phi.dx(1))\n",
    "    return n/ufl.sqrt(inner(n, n))\n",
    "\n",
    "n0_ufl = unit_normal(phi0_ufl)\n",
    "\n",
    "def tangent_1(n):\n",
    "    e2 = ufl.as_vector([0, 1, 0])\n",
    "    t1 = ufl.cross(e2, n)\n",
    "    t1 = t1/ufl.sqrt(inner(t1, t1))\n",
    "    return t1\n",
    "\n",
    "def tangent_2(n, t1):\n",
    "    t2 = ufl.cross(n, t1)\n",
    "    t2 = t2/ufl.sqrt(inner(t2, t2))\n",
    "    return t2\n",
    "\n",
    "# the analytical expression of t1 and t2\n",
    "t1_ufl = tangent_1(n0_ufl)\n",
    "t2_ufl = tangent_2(n0_ufl, t1_ufl)\n",
    "\n",
    "# the analytical expression of R0\n",
    "def rotation_matrix(t1, t2, n):\n",
    "    R = ufl.as_matrix([[t1[0], t2[0], n[0]], \n",
    "                       [t1[1], t2[1], n[1]], \n",
    "                       [t1[2], t2[2], n[2]]])\n",
    "    return R\n",
    "\n",
    "R0_ufl = rotation_matrix(t1_ufl, t2_ufl, n0_ufl)\n",
    "\n",
    "# Update the director with two successive elementary rotations\n",
    "def director(R0, theta):\n",
    "    Lm3 = ufl.as_vector([ufl.sin(theta[1])*ufl.cos(theta[0]), -ufl.sin(theta[0]), ufl.cos(theta[1])*ufl.cos(theta[0])])\n",
    "    d = ufl.dot(R0, Lm3)\n",
    "    return d"
   ]
  },
  {
   "cell_type": "markdown",
   "metadata": {},
   "source": [
    "## Plot initial shape"
   ]
  },
  {
   "cell_type": "code",
   "execution_count": 8,
   "metadata": {},
   "outputs": [],
   "source": [
    "# create a FEM interpolation of n0 and phi0\n",
    "P1_d3_FS = functionspace(mesh, blocked_element(P1, shape = (3,)))\n",
    "\n",
    "n0_P1_expr = Expression(n0_ufl, P1_d3_FS.element.interpolation_points())\n",
    "n0_P1_func = Function(P1_d3_FS)\n",
    "n0_P1_func.interpolate(n0_P1_expr)\n",
    "\n",
    "phi0_P1_expr = Expression(phi0_ufl, P1_d3_FS.element.interpolation_points())\n",
    "phi0_P1_func = Function(P1_d3_FS)\n",
    "phi0_P1_func.interpolate(phi0_P1_expr)"
   ]
  },
  {
   "cell_type": "code",
   "execution_count": 9,
   "metadata": {},
   "outputs": [
    {
     "data": {
      "application/vnd.jupyter.widget-view+json": {
       "model_id": "9e3cb7129c644b89bbacea68b1daf37b",
       "version_major": 2,
       "version_minor": 0
      },
      "text/plain": [
       "Widget(value='<iframe src=\"http://localhost:35251/index.html?ui=P_0x7f09c7f88770_0&reconnect=auto\" class=\"pyvi…"
      ]
     },
     "metadata": {},
     "output_type": "display_data"
    }
   ],
   "source": [
    "topology, cell_types, geometry = plot.vtk_mesh(P1_d3_FS)\n",
    "\n",
    "geometry_phi0_P1 = phi0_P1_func.x.array.reshape((geometry.shape[0], len(phi0_P1_func)))\n",
    "geometry_n0_P1 = n0_P1_func.x.array.reshape((geometry.shape[0], len(n0_P1_func)))\n",
    "\n",
    "grid_phi0_P1 = pyvista.UnstructuredGrid(topology, cell_types, geometry_phi0_P1)\n",
    "grid_phi0_P1[\"n0\"] = geometry_n0_P1\n",
    "glyphs = grid_phi0_P1.glyph(orient=\"n0\", factor=0.2)\n",
    "\n",
    "\n",
    "plotter = pyvista.Plotter(off_screen = True)\n",
    "plotter.add_mesh(grid_phi0_P1, style=\"wireframe\", color=\"k\")\n",
    "plotter.add_mesh(glyphs,  show_scalar_bar=True, scalar_bar_args={\"vertical\": True})\n",
    "plotter.show_grid()\n",
    "plotter.enable_parallel_projection()\n",
    "if not pyvista.OFF_SCREEN:\n",
    "    plotter.show()\n",
    "else:\n",
    "    plotter.screenshot(results_folder/f\"initial_shape_rank{mesh.comm.rank}.png\")\n",
    "    \n",
    "plotter.close()"
   ]
  },
  {
   "cell_type": "markdown",
   "metadata": {},
   "source": [
    "# Shell element"
   ]
  },
  {
   "cell_type": "code",
   "execution_count": 7,
   "metadata": {},
   "outputs": [],
   "source": [
    "if ele_type == \"tri_P2B3\":\n",
    "    P2B3 = enriched_element([P2, B3])\n",
    "    naghdi_shell_element = mixed_element(\n",
    "        [blocked_element(P2B3, shape=(3,)), blocked_element(P2, shape=(2,))]\n",
    "    )\n",
    "elif ele_type == \"tri_P2\":\n",
    "    naghdi_shell_element = mixed_element(\n",
    "        [blocked_element(P2, shape=(3,)), blocked_element(P2, shape=(2,))]\n",
    "        )\n",
    "\n",
    "elif ele_type == \"tri_P1\":\n",
    "    naghdi_shell_element = mixed_element(\n",
    "        [blocked_element(P1, shape=(3,)), blocked_element(P1, shape=(2,))]\n",
    "    )\n",
    "    \n",
    "elif ele_type == \"qua_P2\":\n",
    "    naghdi_shell_element = mixed_element(\n",
    "        [blocked_element(P2, shape=(3,)), blocked_element(P2, shape=(2,))]\n",
    "    )\n",
    "elif ele_type == \"qua_P1\":\n",
    "    naghdi_shell_element = mixed_element(\n",
    "        [blocked_element(P1, shape=(3,)), blocked_element(P1, shape=(2,))]\n",
    "    )\n",
    "    \n",
    "naghdi_shell_FS = functionspace(mesh, naghdi_shell_element)\n",
    "\n",
    "q_func = Function(naghdi_shell_FS) # current configuration\n",
    "q_trial = ufl.TrialFunction(naghdi_shell_FS)\n",
    "q_test = ufl.TestFunction(naghdi_shell_FS)\n",
    "\n",
    "u_func, theta_func = split(q_func) # current displacement and rotation"
   ]
  },
  {
   "cell_type": "markdown",
   "metadata": {},
   "source": [
    "# Shell model "
   ]
  },
  {
   "cell_type": "code",
   "execution_count": 8,
   "metadata": {},
   "outputs": [],
   "source": [
    "# current deformation gradient \n",
    "F = grad(u_func) + grad(phi0_ufl) \n",
    "\n",
    "# current director\n",
    "d = director(R0_ufl, theta_func)\n",
    "\n",
    "# initial metric and curvature tensor a0 and b0\n",
    "a0_ufl = grad(phi0_ufl).T * grad(phi0_ufl)\n",
    "b0_ufl = -0.5*( grad(phi0_ufl).T * grad(n0_ufl) + grad(n0_ufl).T * grad(phi0_ufl))\n",
    "\n",
    "def epsilon(F):\n",
    "    \"\"\"Membrane strain\"\"\"\n",
    "    return 0.5 * (F.T * F - a0_ufl)\n",
    "\n",
    "\n",
    "def kappa(F, d):\n",
    "    \"\"\"Bending strain\"\"\"\n",
    "    return -0.5 * (F.T * grad(d) + grad(d).T * F) - b0_ufl\n",
    "\n",
    "\n",
    "def gamma(F, d):\n",
    "    \"\"\"Transverse shear strain\"\"\"\n",
    "    return F.T * d\n",
    "\n",
    "a0_contra_ufl = ufl.inv(a0_ufl)\n",
    "j0_ufl = ufl.det(a0_ufl)\n",
    "\n",
    "i,j,l,m = ufl.indices(4)  # noqa: E741\n",
    "A_contra_ufl = ufl.as_tensor( ( ((2.0*lmbda*mu) / (lmbda + 2.0*mu)) * a0_contra_ufl[i,j]*a0_contra_ufl[l,m]\n",
    "                + 1.0*mu* (a0_contra_ufl[i,l]*a0_contra_ufl[j,m] + a0_contra_ufl[i,m]*a0_contra_ufl[j,l]) )\n",
    "                ,[i,j,l,m])\n",
    "\n",
    "N = ufl.as_tensor(t * A_contra_ufl[i,j,l,m] * epsilon(F)[l,m], [i,j])\n",
    "\n",
    "M = ufl.as_tensor( (t**3 / 12.0) * A_contra_ufl[i,j,l,m]*kappa(F, d)[l,m], [i,j])\n",
    "\n",
    "T = ufl.as_tensor( (t * mu *5.0 / 6.0) * a0_contra_ufl[i, j] * gamma(F, d)[j], [i])\n",
    "\n",
    "psi_m = 0.5*inner(N, epsilon(F))\n",
    "\n",
    "psi_b = 0.5*inner(M, kappa(F, d))\n",
    "\n",
    "psi_s = 0.5*inner(T, gamma(F, d))"
   ]
  },
  {
   "cell_type": "markdown",
   "metadata": {},
   "source": [
    "# Weak form equation with PSRI"
   ]
  },
  {
   "cell_type": "code",
   "execution_count": 9,
   "metadata": {},
   "outputs": [],
   "source": [
    "if ele_type == \"qua_P1\":\n",
    "    dx_f = ufl.Measure('dx', domain=mesh, metadata={\"quadrature_degree\": 3})\n",
    "    if PSRI_control:\n",
    "        dx_r = ufl.Measure('dx', domain=mesh, metadata={\"quadrature_degree\": 1})\n",
    "    else:\n",
    "        dx_r = ufl.Measure('dx', domain=mesh, metadata={\"quadrature_degree\": 3})\n",
    "        \n",
    "elif ele_type == \"tri_P1\":\n",
    "    dx_f = ufl.Measure('dx', domain=mesh, metadata={\"quadrature_degree\": 2})\n",
    "    dx_r = ufl.Measure('dx', domain=mesh, metadata={\"quadrature_degree\": 1})\n",
    "    \n",
    "else:\n",
    "    dx_f = ufl.Measure('dx', domain=mesh, metadata={\"quadrature_degree\": 4})\n",
    "    if PSRI_control:\n",
    "        dx_r = ufl.Measure('dx', domain=mesh, metadata={\"quadrature_degree\": 2})\n",
    "    else:\n",
    "        dx_r = ufl.Measure('dx', domain=mesh, metadata={\"quadrature_degree\": 4})\n",
    "\n",
    "\n",
    "# Calculate the factor alpha as a function of the mesh size h\n",
    "h = ufl.CellDiameter(mesh)\n",
    "alpha_FS = functionspace(mesh, element(\"DG\", cell, 0))\n",
    "alpha_expr = Expression(t**2 / h**2, alpha_FS.element.interpolation_points())\n",
    "alpha = Function(alpha_FS)\n",
    "alpha.interpolate(alpha_expr)\n",
    "\n",
    "# Full integration part of the total elastic energy\n",
    "Pi_PSRI = psi_b * ufl.sqrt(j0_ufl) * dx_f \n",
    "Pi_PSRI += alpha * psi_m * ufl.sqrt(j0_ufl) * dx_f\n",
    "Pi_PSRI += alpha * psi_s * ufl.sqrt(j0_ufl) * dx_f\n",
    "\n",
    "# Reduced integration part of the total elastic energy\n",
    "Pi_PSRI += (1.0 - alpha) * psi_m * ufl.sqrt(j0_ufl) * dx_r\n",
    "Pi_PSRI += (1.0 - alpha) * psi_s * ufl.sqrt(j0_ufl) * dx_r\n",
    "\n",
    "# external work part (zero in this case)\n",
    "W_ext = 0.0\n",
    "Pi_PSRI -= W_ext\n",
    "\n",
    "Residual = ufl.derivative(Pi_PSRI, q_func, q_test)\n",
    "Jacobian = ufl.derivative(Residual, q_func, q_trial)"
   ]
  },
  {
   "cell_type": "markdown",
   "metadata": {},
   "source": [
    "# Symmetric Boundary Conditions"
   ]
  },
  {
   "cell_type": "code",
   "execution_count": 10,
   "metadata": {},
   "outputs": [],
   "source": [
    "u_FS, _ = naghdi_shell_FS.sub(0).collapse()\n",
    "theta_FS, _ = naghdi_shell_FS.sub(1).collapse()\n",
    "\n",
    "Q0 = naghdi_shell_FS.sub(0)\n",
    "Q1 = naghdi_shell_FS.sub(1)\n",
    "\n",
    "u_clamped = Function(u_FS) # default value is 0\n",
    "theta_clamped = Function(theta_FS) # default value is 0"
   ]
  },
  {
   "cell_type": "markdown",
   "metadata": {},
   "source": [
    "Top: $u_2 = \\theta_1 = 0$"
   ]
  },
  {
   "cell_type": "code",
   "execution_count": 11,
   "metadata": {},
   "outputs": [],
   "source": [
    "def top_boundary(x):\n",
    "    return np.isclose(x[1], L)\n",
    "\n",
    "top_facets = locate_entities_boundary(mesh, fdim, top_boundary)\n",
    "\n",
    "# u2 = 0 on the top boundary\n",
    "u_id = int(1)\n",
    "symm_dofs_u_top = locate_dofs_topological((Q0.sub(u_id), u_FS.sub(u_id)), fdim, top_facets)\n",
    "bc_u_top = dirichletbc(u_clamped, symm_dofs_u_top, Q0.sub(u_id))\n",
    "\n",
    "# theta1 = 0 on the top boundary\n",
    "theta_id = int(0)\n",
    "symm_dofs_theta_top = locate_dofs_topological((Q1.sub(theta_id), theta_FS.sub(theta_id)), fdim, top_facets)\n",
    "bc_theta_top = dirichletbc(theta_clamped, symm_dofs_theta_top, Q1.sub(theta_id))"
   ]
  },
  {
   "cell_type": "markdown",
   "metadata": {},
   "source": [
    "Left: $u_1 = \\theta_2 = 0$"
   ]
  },
  {
   "cell_type": "code",
   "execution_count": 12,
   "metadata": {},
   "outputs": [],
   "source": [
    "def left_boundary(x):\n",
    "    return np.isclose(x[0], 0.0)\n",
    "\n",
    "left_facets = locate_entities_boundary(mesh, fdim, left_boundary)\n",
    "\n",
    "# u1 = 0 on the left boundary\n",
    "u_id = int(0)\n",
    "symm_dofs_u_left = locate_dofs_topological((Q0.sub(u_id), u_FS.sub(u_id)), fdim, left_facets)\n",
    "bc_u_left = dirichletbc(u_clamped, symm_dofs_u_left, Q0.sub(u_id))\n",
    "\n",
    "# theta2 = 0 on the left boundary\n",
    "theta_id = int(1)\n",
    "symm_dofs_theta_left = locate_dofs_topological((Q1.sub(theta_id), theta_FS.sub(theta_id)), fdim, left_facets)\n",
    "bc_theta_left = dirichletbc(theta_clamped, symm_dofs_theta_left, Q1.sub(theta_id))"
   ]
  },
  {
   "cell_type": "markdown",
   "metadata": {},
   "source": [
    "Right: $u_3 = \\theta_2 = 0$"
   ]
  },
  {
   "cell_type": "code",
   "execution_count": 13,
   "metadata": {},
   "outputs": [],
   "source": [
    "def right_boundary(x):\n",
    "    return np.isclose(x[0], r*np.pi/2)\n",
    "\n",
    "right_facets = locate_entities_boundary(mesh, fdim, right_boundary)\n",
    "\n",
    "# u3 = 0 on the right boundary\n",
    "u_id = int(2)\n",
    "symm_dofs_u_right = locate_dofs_topological((Q0.sub(u_id), u_FS.sub(u_id)), fdim, right_facets)\n",
    "bc_u_right = dirichletbc(u_clamped, symm_dofs_u_right, Q0.sub(u_id))\n",
    "\n",
    "# theta2 = 0 on the right boundary\n",
    "theta_id = int(1)\n",
    "symm_dofs_theta_right = locate_dofs_topological((Q1.sub(theta_id), theta_FS.sub(theta_id)), fdim, right_facets)\n",
    "bc_theta_right = dirichletbc(theta_clamped, symm_dofs_theta_right, Q1.sub(theta_id))"
   ]
  },
  {
   "cell_type": "code",
   "execution_count": 14,
   "metadata": {},
   "outputs": [],
   "source": [
    "bcs = [bc_u_top, bc_theta_top, bc_u_left, bc_theta_left, bc_u_right, bc_theta_right]"
   ]
  },
  {
   "cell_type": "markdown",
   "metadata": {},
   "source": [
    "# Point Source"
   ]
  },
  {
   "cell_type": "code",
   "execution_count": 15,
   "metadata": {},
   "outputs": [],
   "source": [
    "def compute_cell_contributions(V, points):\n",
    "    # Determine what process owns a point and what cells it lies within\n",
    "    mesh = V.mesh\n",
    "    _, _, owning_points, cells = dolfinx.cpp.geometry.determine_point_ownership(\n",
    "        mesh._cpp_object, points, 1e-6)\n",
    "    owning_points = np.asarray(owning_points).reshape(-1, 3)\n",
    "\n",
    "    # Pull owning points back to reference cell\n",
    "    mesh_nodes = mesh.geometry.x\n",
    "    cmap = mesh.geometry.cmaps[0]\n",
    "    ref_x = np.zeros((len(cells), mesh.geometry.dim),\n",
    "                     dtype=mesh.geometry.x.dtype)\n",
    "    for i, (point, cell) in enumerate(zip(owning_points, cells)):\n",
    "        geom_dofs = mesh.geometry.dofmap[cell]\n",
    "        ref_x[i] = cmap.pull_back(point.reshape(-1, 3), mesh_nodes[geom_dofs])\n",
    "\n",
    "    # Create expression evaluating a trial function (i.e. just the basis function)\n",
    "    u = ufl.TrialFunction(V.sub(0).sub(2))\n",
    "    num_dofs = V.sub(0).sub(2).dofmap.dof_layout.num_dofs * V.sub(0).sub(2).dofmap.bs\n",
    "    if len(cells) > 0:\n",
    "        # NOTE: Expression lives on only this communicator rank\n",
    "        expr = dolfinx.fem.Expression(u, ref_x, comm=MPI.COMM_SELF)\n",
    "        values = expr.eval(mesh, np.asarray(cells, dtype=np.int32))\n",
    "        # Strip out basis function values per cell\n",
    "        basis_values = values[:num_dofs:num_dofs*len(cells)]\n",
    "    else:\n",
    "        basis_values = np.zeros(\n",
    "            (0, num_dofs), dtype=dolfinx.default_scalar_type)\n",
    "    return cells, basis_values"
   ]
  },
  {
   "cell_type": "code",
   "execution_count": 16,
   "metadata": {},
   "outputs": [],
   "source": [
    "if mesh.comm.rank == 0:\n",
    "    points = np.array([[0.0, L, 0.0]], dtype=mesh.geometry.x.dtype)\n",
    "else:\n",
    "    points = np.zeros((0, 3), dtype=mesh.geometry.x.dtype)\n",
    "\n",
    "ps_cells, basis_values = compute_cell_contributions(naghdi_shell_FS, points)"
   ]
  },
  {
   "cell_type": "markdown",
   "metadata": {},
   "source": [
    "# BB tree"
   ]
  },
  {
   "cell_type": "code",
   "execution_count": 17,
   "metadata": {},
   "outputs": [],
   "source": [
    "bb_tree = dolfinx.geometry.bb_tree(mesh, 2)\n",
    "\n",
    "bb_point_A = np.array([[0.0, L, 0.0]], dtype=np.float64)\n",
    "bb_point_B = np.array([[r*np.pi/2, L, 0.0]], dtype=np.float64)\n",
    "bb_point_C = np.array([[r*np.pi/2, 0.0, 0.0]], dtype=np.float64)\n",
    "# Find the leaf that the target point is in\n",
    "bb_cell_candidates_B = dolfinx.geometry.compute_collisions_points(bb_tree, bb_point_B)\n",
    "bb_cell_candidates_C = dolfinx.geometry.compute_collisions_points(bb_tree, bb_point_C)\n",
    "\n",
    "# Find the cell from the leaf that contains the target point\n",
    "bb_cells_B = dolfinx.geometry.compute_colliding_cells(\n",
    "    mesh, bb_cell_candidates_B, bb_point_B)\n",
    "bb_cells_C = dolfinx.geometry.compute_colliding_cells(\n",
    "    mesh, bb_cell_candidates_C, bb_point_C)"
   ]
  },
  {
   "cell_type": "markdown",
   "metadata": {},
   "source": [
    "# Solver"
   ]
  },
  {
   "cell_type": "code",
   "execution_count": 18,
   "metadata": {},
   "outputs": [],
   "source": [
    "import typing\n",
    "from dolfinx.fem.bcs import DirichletBC\n",
    "from dolfinx.fem.function import Function as _Function\n",
    "from dolfinx.fem.petsc import assemble_vector, apply_lifting, set_bc\n",
    "\n",
    "class NonlinearProblemPointSource(NonlinearProblem):\n",
    "    def __init__(self, F: ufl.form.Form, u: _Function, bcs: typing.List[DirichletBC] = [],\n",
    "                 J: ufl.form.Form = None, cells = [], basis_values = [], PS: float = 0.0):\n",
    "        \n",
    "        super().__init__(F, u, bcs, J)\n",
    "        \n",
    "        self.PS = PS\n",
    "        self.cells = cells\n",
    "        self.basis_values = basis_values\n",
    "        self.function_space = u.function_space\n",
    "        \n",
    "    def F(self, x: PETSc.Vec, b: PETSc.Vec) -> None:\n",
    "        # Reset the residual vector\n",
    "        with b.localForm() as b_local:\n",
    "            b_local.set(0.0)\n",
    "        assemble_vector(b, self._L)\n",
    "\n",
    "        # Add point source\n",
    "        if len(self.cells) > 0:\n",
    "            for cell, basis_value in zip(self.cells, self.basis_values):\n",
    "                dofs = self.function_space.sub(0).sub(2).dofmap.cell_dofs(cell)\n",
    "                with b.localForm() as b_local:\n",
    "                    b_local.setValuesLocal(dofs, basis_value * -self.PS, addv=PETSc.InsertMode.ADD_VALUES)\n",
    "        \n",
    "        # Apply boundary condition\n",
    "        apply_lifting(b, [self._a], bcs=[self.bcs], x0=[x], scale=-1.0)\n",
    "        b.ghostUpdate(addv=PETSc.InsertMode.ADD, mode=PETSc.ScatterMode.REVERSE)\n",
    "        set_bc(b, self.bcs, x, -1.0)"
   ]
  },
  {
   "cell_type": "code",
   "execution_count": 19,
   "metadata": {},
   "outputs": [],
   "source": [
    "problem = NonlinearProblemPointSource(Residual, q_func, bcs, Jacobian, ps_cells, basis_values)\n",
    "\n",
    "solver = NewtonSolver(mesh.comm, problem)\n",
    "\n",
    "# Set Newton solver options\n",
    "solver.rtol = 1e-6\n",
    "solver.atol = 1e-6\n",
    "solver.max_it = 100\n",
    "solver.convergence_criterion = \"incremental\"\n",
    "solver.report = True\n",
    "\n",
    "# Modify the linear solver in each Newton iteration\n",
    "ksp = solver.krylov_solver\n",
    "opts = PETSc.Options()\n",
    "option_prefix = ksp.getOptionsPrefix()\n",
    "opts[f\"{option_prefix}ksp_type\"] = \"preonly\"\n",
    "opts[f\"{option_prefix}pc_type\"] = \"lu\"\n",
    "opts[f\"{option_prefix}pc_factor_mat_solver_type\"] = \"mumps\"\n",
    "ksp.setFromOptions()"
   ]
  },
  {
   "cell_type": "code",
   "execution_count": 20,
   "metadata": {},
   "outputs": [],
   "source": [
    "file_u = dolfinx.io.VTKFile(mesh.comm, results_folder/\"u.pvd\", \"w\")\n",
    "file_theta = dolfinx.io.VTKFile(mesh.comm, results_folder/\"theta.pvd\", \"w\")\n",
    "file_phi = dolfinx.io.VTKFile(mesh.comm, results_folder/\"phi.pvd\", \"w\")\n",
    "\n",
    "def point_values():\n",
    "    WA_bb = None\n",
    "    UB_bb = None\n",
    "    UC_bb = None\n",
    "    \n",
    "    u1_func = q_func.sub(0).sub(0).collapse()\n",
    "    u3_func = q_func.sub(0).sub(2).collapse()\n",
    "    \n",
    "    if len(ps_cells) > 0:\n",
    "        WA_bb = u3_func.eval(bb_point_A, ps_cells[0])[0]\n",
    "    WA_bb = mesh.comm.gather(WA_bb, root=0)\n",
    "    \n",
    "    if len(bb_cells_B.array) > 0:\n",
    "        UB_bb = u1_func.eval(bb_point_B, bb_cells_B.array[0])[0]\n",
    "    UB_bb = mesh.comm.gather(UB_bb, root=0)\n",
    "    \n",
    "    if len(bb_cells_C.array) > 0:\n",
    "        UC_bb = u1_func.eval(bb_point_C, bb_cells_C.array[0])[0]\n",
    "    UC_bb = mesh.comm.gather(UC_bb, root=0)\n",
    "    \n",
    "    return WA_bb, UB_bb, UC_bb"
   ]
  },
  {
   "cell_type": "code",
   "execution_count": 21,
   "metadata": {},
   "outputs": [
    {
     "name": "stderr",
     "output_type": "stream",
     "text": [
      "  0%|          | 0/30 [00:00<?, ?it/s]"
     ]
    },
    {
     "name": "stdout",
     "output_type": "stream",
     "text": [
      "Load step 1, Number of iterations: 10, Load: 333.33(10000.00)\n"
     ]
    },
    {
     "name": "stderr",
     "output_type": "stream",
     "text": [
      "  3%|▎         | 1/30 [00:01<00:41,  1.41s/it]"
     ]
    },
    {
     "name": "stdout",
     "output_type": "stream",
     "text": [
      "Load step 2, Number of iterations: 9, Load: 666.67(10000.00)\n"
     ]
    },
    {
     "name": "stderr",
     "output_type": "stream",
     "text": [
      "  7%|▋         | 2/30 [00:02<00:34,  1.24s/it]"
     ]
    },
    {
     "name": "stdout",
     "output_type": "stream",
     "text": [
      "Load step 3, Number of iterations: 7, Load: 1000.00(10000.00)\n"
     ]
    },
    {
     "name": "stderr",
     "output_type": "stream",
     "text": [
      " 10%|█         | 3/30 [00:03<00:30,  1.14s/it]"
     ]
    },
    {
     "name": "stdout",
     "output_type": "stream",
     "text": [
      "Load step 4, Number of iterations: 6, Load: 1333.33(10000.00)\n"
     ]
    },
    {
     "name": "stderr",
     "output_type": "stream",
     "text": [
      " 13%|█▎        | 4/30 [00:04<00:25,  1.01it/s]"
     ]
    },
    {
     "name": "stdout",
     "output_type": "stream",
     "text": [
      "Load step 5, Number of iterations: 6, Load: 1666.67(10000.00)\n"
     ]
    },
    {
     "name": "stderr",
     "output_type": "stream",
     "text": [
      " 17%|█▋        | 5/30 [00:05<00:22,  1.12it/s]"
     ]
    },
    {
     "name": "stdout",
     "output_type": "stream",
     "text": [
      "Load step 6, Number of iterations: 6, Load: 2000.00(10000.00)\n"
     ]
    },
    {
     "name": "stderr",
     "output_type": "stream",
     "text": [
      " 20%|██        | 6/30 [00:05<00:19,  1.20it/s]"
     ]
    },
    {
     "name": "stdout",
     "output_type": "stream",
     "text": [
      "Load step 7, Number of iterations: 5, Load: 2333.33(10000.00)\n"
     ]
    },
    {
     "name": "stderr",
     "output_type": "stream",
     "text": [
      " 23%|██▎       | 7/30 [00:06<00:17,  1.32it/s]"
     ]
    },
    {
     "name": "stdout",
     "output_type": "stream",
     "text": [
      "Load step 8, Number of iterations: 5, Load: 2666.67(10000.00)\n"
     ]
    },
    {
     "name": "stderr",
     "output_type": "stream",
     "text": [
      " 27%|██▋       | 8/30 [00:07<00:16,  1.34it/s]"
     ]
    },
    {
     "name": "stdout",
     "output_type": "stream",
     "text": [
      "Load step 9, Number of iterations: 5, Load: 3000.00(10000.00)\n"
     ]
    },
    {
     "name": "stderr",
     "output_type": "stream",
     "text": [
      " 30%|███       | 9/30 [00:07<00:14,  1.40it/s]"
     ]
    },
    {
     "name": "stdout",
     "output_type": "stream",
     "text": [
      "Load step 10, Number of iterations: 5, Load: 3333.33(10000.00)\n"
     ]
    },
    {
     "name": "stderr",
     "output_type": "stream",
     "text": [
      " 33%|███▎      | 10/30 [00:08<00:13,  1.46it/s]"
     ]
    },
    {
     "name": "stdout",
     "output_type": "stream",
     "text": [
      "Load step 11, Number of iterations: 5, Load: 3666.67(10000.00)\n"
     ]
    },
    {
     "name": "stderr",
     "output_type": "stream",
     "text": [
      " 37%|███▋      | 11/30 [00:08<00:12,  1.50it/s]"
     ]
    },
    {
     "name": "stdout",
     "output_type": "stream",
     "text": [
      "Load step 12, Number of iterations: 5, Load: 4000.00(10000.00)\n"
     ]
    },
    {
     "name": "stderr",
     "output_type": "stream",
     "text": [
      " 40%|████      | 12/30 [00:09<00:11,  1.52it/s]"
     ]
    },
    {
     "name": "stdout",
     "output_type": "stream",
     "text": [
      "Load step 13, Number of iterations: 5, Load: 4333.33(10000.00)\n"
     ]
    },
    {
     "name": "stderr",
     "output_type": "stream",
     "text": [
      " 43%|████▎     | 13/30 [00:10<00:11,  1.43it/s]"
     ]
    },
    {
     "name": "stdout",
     "output_type": "stream",
     "text": [
      "Load step 14, Number of iterations: 5, Load: 4666.67(10000.00)\n"
     ]
    },
    {
     "name": "stderr",
     "output_type": "stream",
     "text": [
      " 47%|████▋     | 14/30 [00:11<00:11,  1.43it/s]"
     ]
    },
    {
     "name": "stdout",
     "output_type": "stream",
     "text": [
      "Load step 15, Number of iterations: 6, Load: 5000.00(10000.00)\n"
     ]
    },
    {
     "name": "stderr",
     "output_type": "stream",
     "text": [
      " 50%|█████     | 15/30 [00:11<00:10,  1.40it/s]"
     ]
    },
    {
     "name": "stdout",
     "output_type": "stream",
     "text": [
      "Load step 16, Number of iterations: 22, Load: 5333.33(10000.00)\n"
     ]
    },
    {
     "name": "stderr",
     "output_type": "stream",
     "text": [
      " 53%|█████▎    | 16/30 [00:14<00:17,  1.23s/it]"
     ]
    },
    {
     "name": "stdout",
     "output_type": "stream",
     "text": [
      "Load step 17, Number of iterations: 9, Load: 5666.67(10000.00)\n"
     ]
    },
    {
     "name": "stderr",
     "output_type": "stream",
     "text": [
      " 57%|█████▋    | 17/30 [00:15<00:15,  1.18s/it]"
     ]
    },
    {
     "name": "stdout",
     "output_type": "stream",
     "text": [
      "Load step 18, Number of iterations: 6, Load: 6000.00(10000.00)\n"
     ]
    },
    {
     "name": "stderr",
     "output_type": "stream",
     "text": [
      " 60%|██████    | 18/30 [00:16<00:12,  1.03s/it]"
     ]
    },
    {
     "name": "stdout",
     "output_type": "stream",
     "text": [
      "Load step 19, Number of iterations: 6, Load: 6333.33(10000.00)\n"
     ]
    },
    {
     "name": "stderr",
     "output_type": "stream",
     "text": [
      " 63%|██████▎   | 19/30 [00:16<00:11,  1.01s/it]"
     ]
    },
    {
     "name": "stdout",
     "output_type": "stream",
     "text": [
      "Load step 20, Number of iterations: 5, Load: 6666.67(10000.00)\n"
     ]
    },
    {
     "name": "stderr",
     "output_type": "stream",
     "text": [
      " 67%|██████▋   | 20/30 [00:17<00:08,  1.11it/s]"
     ]
    },
    {
     "name": "stdout",
     "output_type": "stream",
     "text": [
      "Load step 21, Number of iterations: 5, Load: 7000.00(10000.00)\n"
     ]
    },
    {
     "name": "stderr",
     "output_type": "stream",
     "text": [
      " 70%|███████   | 21/30 [00:18<00:07,  1.21it/s]"
     ]
    },
    {
     "name": "stdout",
     "output_type": "stream",
     "text": [
      "Load step 22, Number of iterations: 5, Load: 7333.33(10000.00)\n"
     ]
    },
    {
     "name": "stderr",
     "output_type": "stream",
     "text": [
      " 73%|███████▎  | 22/30 [00:18<00:06,  1.30it/s]"
     ]
    },
    {
     "name": "stdout",
     "output_type": "stream",
     "text": [
      "Load step 23, Number of iterations: 5, Load: 7666.67(10000.00)\n"
     ]
    },
    {
     "name": "stderr",
     "output_type": "stream",
     "text": [
      " 77%|███████▋  | 23/30 [00:19<00:05,  1.36it/s]"
     ]
    },
    {
     "name": "stdout",
     "output_type": "stream",
     "text": [
      "Load step 24, Number of iterations: 5, Load: 8000.00(10000.00)\n"
     ]
    },
    {
     "name": "stderr",
     "output_type": "stream",
     "text": [
      " 80%|████████  | 24/30 [00:20<00:04,  1.37it/s]"
     ]
    },
    {
     "name": "stdout",
     "output_type": "stream",
     "text": [
      "Load step 25, Number of iterations: 4, Load: 8333.33(10000.00)\n"
     ]
    },
    {
     "name": "stderr",
     "output_type": "stream",
     "text": [
      " 83%|████████▎ | 25/30 [00:20<00:03,  1.47it/s]"
     ]
    },
    {
     "name": "stdout",
     "output_type": "stream",
     "text": [
      "Load step 26, Number of iterations: 4, Load: 8666.67(10000.00)\n"
     ]
    },
    {
     "name": "stderr",
     "output_type": "stream",
     "text": [
      " 87%|████████▋ | 26/30 [00:21<00:02,  1.53it/s]"
     ]
    },
    {
     "name": "stdout",
     "output_type": "stream",
     "text": [
      "Load step 27, Number of iterations: 4, Load: 9000.00(10000.00)\n"
     ]
    },
    {
     "name": "stderr",
     "output_type": "stream",
     "text": [
      " 90%|█████████ | 27/30 [00:22<00:01,  1.60it/s]"
     ]
    },
    {
     "name": "stdout",
     "output_type": "stream",
     "text": [
      "Load step 28, Number of iterations: 4, Load: 9333.33(10000.00)\n"
     ]
    },
    {
     "name": "stderr",
     "output_type": "stream",
     "text": [
      " 93%|█████████▎| 28/30 [00:22<00:01,  1.68it/s]"
     ]
    },
    {
     "name": "stdout",
     "output_type": "stream",
     "text": [
      "Load step 29, Number of iterations: 4, Load: 9666.67(10000.00)\n"
     ]
    },
    {
     "name": "stderr",
     "output_type": "stream",
     "text": [
      " 97%|█████████▋| 29/30 [00:23<00:00,  1.70it/s]"
     ]
    },
    {
     "name": "stdout",
     "output_type": "stream",
     "text": [
      "Load step 30, Number of iterations: 4, Load: 10000.00(10000.00)\n"
     ]
    },
    {
     "name": "stderr",
     "output_type": "stream",
     "text": [
      "100%|██████████| 30/30 [00:23<00:00,  1.27it/s]\n"
     ]
    }
   ],
   "source": [
    "PS_max = 10000.0\n",
    "n_step = 30\n",
    "PS_diff = PS_max / n_step\n",
    "\n",
    "if mesh.comm.rank == 0:\n",
    "    WA_list = np.zeros(n_step + 1)\n",
    "    UB_list = np.zeros(n_step + 1)\n",
    "    UC_list = np.zeros(n_step + 1)\n",
    "    PS_list = np.arange(0, PS_diff * (n_step + 1), PS_diff)\n",
    "\n",
    "q_func.x.array[:] = 0.0\n",
    "\n",
    "\n",
    "\n",
    "#dolfinx.log.set_log_level(dolfinx.log.LogLevel.INFO)\n",
    "#dolfinx.log.set_log_level(dolfinx.log.LogLevel.OFF)\n",
    "\n",
    "for i in tqdm(range(1, n_step + 1)):\n",
    "    problem.PS = PS_diff * i\n",
    "    n, converged = solver.solve(q_func)\n",
    "    assert (converged)\n",
    "    q_func.x.scatter_forward()\n",
    "    if mesh.comm.rank == 0:\n",
    "        print(f\"Load step {i:d}, Number of iterations: {n:d}, Load: {problem.PS :.2f}({PS_max :.2f})\", flush=True)\n",
    "    \n",
    "    # write output\n",
    "    if ele_type == \"qua_P1\" or ele_type == \"tri_P1\":\n",
    "        phi_FS = functionspace(mesh, blocked_element(P1, shape=(3,)))\n",
    "    else:\n",
    "        phi_FS = functionspace(mesh, blocked_element(P2, shape=(3,)))\n",
    "        \n",
    "    if ele_type == \"tri_P2B3\":\n",
    "        u_P2B3 = q_func.sub(0).collapse()\n",
    "        u_sol = Function(phi_FS)\n",
    "        u_sol.interpolate(u_P2B3)\n",
    "    else:\n",
    "        u_sol = q_func.sub(0).collapse()\n",
    "    \n",
    "    phi_expr = Expression(phi0_ufl + u_sol, phi_FS.element.interpolation_points())\n",
    "    phi_sol = Function(phi_FS)\n",
    "    phi_sol.interpolate(phi_expr)\n",
    "    theta_sol = q_func.sub(1).collapse()\n",
    "\n",
    "    file_u.write_function(u_sol, i)\n",
    "    file_theta.write_function(theta_sol, i)\n",
    "    file_phi.write_function(phi_sol, i)\n",
    "    \n",
    "    # calculate u3 at the point load\n",
    "    WA_bb, UB_bb, UC_bb = point_values()\n",
    "    if mesh.comm.rank == 0:\n",
    "        for WA in WA_bb:\n",
    "            if WA is not None:\n",
    "                WA_list[i] = WA\n",
    "                break\n",
    "        \n",
    "        for UB in UB_bb:\n",
    "            if UB is not None:\n",
    "                UB_list[i] = UB\n",
    "                break\n",
    "        \n",
    "        for UC in UC_bb:\n",
    "            if UC is not None:\n",
    "                UC_list[i] = UC\n",
    "                break\n",
    "            "
   ]
  },
  {
   "cell_type": "markdown",
   "metadata": {},
   "source": [
    "# Post-processing"
   ]
  },
  {
   "cell_type": "code",
   "execution_count": 22,
   "metadata": {},
   "outputs": [
    {
     "data": {
      "application/vnd.jupyter.widget-view+json": {
       "model_id": "1343c712e1804aa6b8d003cccd411dee",
       "version_major": 2,
       "version_minor": 0
      },
      "text/plain": [
       "Widget(value='<iframe src=\"http://localhost:40779/index.html?ui=P_0x7fd340fe0560_0&reconnect=auto\" class=\"pyvi…"
      ]
     },
     "metadata": {},
     "output_type": "display_data"
    }
   ],
   "source": [
    "u_sol = q_func.sub(0).collapse()\n",
    "\n",
    "phi_expr = Expression(phi0_ufl + u_sol, phi_FS.element.interpolation_points())\n",
    "phi_func = Function(phi_FS)\n",
    "phi_func.interpolate(phi_expr)\n",
    "topology, cell_types, geometry = plot.vtk_mesh(phi_FS)\n",
    "\n",
    "geometry_phi = phi_func.x.array.reshape((geometry.shape[0], len(phi_func)))\n",
    "\n",
    "grid_phi = pyvista.UnstructuredGrid(topology, cell_types, geometry_phi)\n",
    "\n",
    "plotter = pyvista.Plotter()\n",
    "plotter.add_mesh(grid_phi, show_edges=True)\n",
    "plotter.show_grid()\n",
    "plotter.enable_parallel_projection()\n",
    "plotter.show_axes_all()\n",
    "if not pyvista.OFF_SCREEN:\n",
    "    plotter.show()\n",
    "else:\n",
    "    plotter.screenshot(results_folder/\"phi.png\")\n",
    "plotter.close()"
   ]
  },
  {
   "cell_type": "code",
   "execution_count": 23,
   "metadata": {},
   "outputs": [
    {
     "data": {
      "image/png": "[encoded data removed]",
      "text/plain": [
       "<Figure size 800x600 with 1 Axes>"
      ]
     },
     "metadata": {},
     "output_type": "display_data"
    }
   ],
   "source": [
    "import matplotlib.pyplot as plt\n",
    "\n",
    "if mesh.comm.rank == 0:\n",
    "    P_S4R = np.array([0.00, 0.025, 0.050, 0.075, 0.100, 0.150, \n",
    "                      0.20, 0.25, 0.30, 0.35, 0.40, 0.45, 0.50, 0.525,\n",
    "                      0.55, 0.60, 0.65, 0.70, 0.75, 0.80, 0.85,\n",
    "                      0.90, 0.95, 1.00])\n",
    "    \n",
    "    WA_S4R = np.array([0.00, 0.819, 1.260, 1.527, 1.707, 1.936, 2.079, 2.180,\n",
    "                       2.257, 2.321, 2.376, 2.425, 2.473, 2.543, 2.577, 2.618,\n",
    "                       2.648, 2.672, 2.692, 2.710, 2.726, 2.741, 2.755, 2.768])\n",
    "    UB_S4R = np.array([0.00, 0.864, 1.471, 1.901, 2.217, 2.641, 2.904, 3.087,\n",
    "                       3.227, 3.342, 3.443, 3.539, 3.653, 4.061, 4.171, 4.274,\n",
    "                       4.338, 4.385, 4.423, 4.455, 4.483, 4.508, 4.530, 4.551])\n",
    "    UC_S4R = np.array([0.00, 0.872, 1.493, 1.946, 2.293, 2.792, 3.106, 3.310,\n",
    "                       3.452, 3.556, 3.632, 3.688, 3.718, 3.580, 3.518, 3.452,\n",
    "                       3.410, 3.378, 3.353, 3.332, 3.313, 3.297, 3.283, 3.269])\n",
    "    \n",
    "    np.savetxt(results_folder/\"WA.txt\", WA_list)\n",
    "    np.savetxt(results_folder/\"UB.txt\", UB_list)\n",
    "    np.savetxt(results_folder/\"UC.txt\", UC_list)\n",
    "    np.savetxt(results_folder/\"PS_Pmax.txt\", PS_list/PS_max)\n",
    "    plt.figure(figsize=(8.0, 6.0))\n",
    "    plt.plot(WA_S4R, P_S4R, \"-\", label=\"$WA(S4R)$\")\n",
    "    plt.plot(UB_S4R, P_S4R, \"-\", label=\"$-UB(S4R)$\")\n",
    "    plt.plot(UC_S4R, P_S4R, \"-\", label=\"$-UC(S4R)$\")\n",
    "    plt.plot(WA_list, PS_list / PS_max, \"o\", markersize=5, markerfacecolor='none',\n",
    "             markevery = 1, label=f\"$WA({nex}\\\\times{ney},${ele_type})\")\n",
    "    plt.plot(-UB_list, PS_list / PS_max, \"o\", markersize=5, markerfacecolor='none',\n",
    "             markevery = 1, label=f\"$-UB({nex}\\\\times{ney},${ele_type})\")\n",
    "    plt.plot(-UC_list, PS_list / PS_max, \"o\", markersize=5, markerfacecolor='none',\n",
    "             markevery = 1, label=f\"$-UC({nex}\\\\times{ney},${ele_type})\")\n",
    "    plt.xlabel(\"Deflections\")\n",
    "    plt.ylabel(r\"$P/P_{\\mathrm{max}}$\")\n",
    "    #plt.xlim(0, 5)\n",
    "    plt.legend()\n",
    "    plt.grid()\n",
    "    plt.tight_layout()\n",
    "    plt.savefig(results_folder/\"comparisons.png\")"
   ]
  }
 ],
 "metadata": {
  "kernelspec": {
   "display_name": "fenicsx-env",
   "language": "python",
   "name": "python3"
  },
  "language_info": {
   "codemirror_mode": {
    "name": "ipython",
    "version": 3
   },
   "file_extension": ".py",
   "mimetype": "text/x-python",
   "name": "python",
   "nbconvert_exporter": "python",
   "pygments_lexer": "ipython3",
   "version": "3.12.0"
  }
 },
 "nbformat": 4,
 "nbformat_minor": 2
}
