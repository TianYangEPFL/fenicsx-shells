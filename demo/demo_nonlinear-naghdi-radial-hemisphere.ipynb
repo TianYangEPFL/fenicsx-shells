{
 "cells": [
  {
   "cell_type": "code",
   "execution_count": 1,
   "metadata": {},
   "outputs": [],
   "source": [
    "import numpy as np\n",
    "\n",
    "import dolfinx\n",
    "import ufl\n",
    "from basix.ufl import blocked_element, element, enriched_element, mixed_element\n",
    "from dolfinx.fem import Function, functionspace, dirichletbc, Expression, locate_dofs_topological\n",
    "from dolfinx.fem.petsc import NonlinearProblem\n",
    "from dolfinx.mesh import CellType, create_rectangle, locate_entities_boundary\n",
    "from ufl import grad, inner, split\n",
    "from dolfinx import plot\n",
    "from dolfinx.nls.petsc import NewtonSolver\n",
    "\n",
    "from tqdm import tqdm\n",
    "\n",
    "from mpi4py import MPI\n",
    "from petsc4py import PETSc\n",
    "\n",
    "import pyvista"
   ]
  },
  {
   "cell_type": "code",
   "execution_count": 2,
   "metadata": {},
   "outputs": [],
   "source": [
    "from pathlib import Path\n",
    "\n",
    "results_folder = Path(\"results/nonlinear_Naghdi/radial-hemisphere\")\n",
    "results_folder.mkdir(exist_ok=True, parents=True)\n",
    "\n",
    "pyvista.start_xvfb()"
   ]
  },
  {
   "cell_type": "markdown",
   "metadata": {},
   "source": [
    "# Material and geometry parameters"
   ]
  },
  {
   "cell_type": "code",
   "execution_count": 3,
   "metadata": {},
   "outputs": [],
   "source": [
    "r = 10.0\n",
    "L = np.pi / 2 * r\n",
    "W0 = (18. / 90.) * np.pi / 2 *r\n",
    "W1 = np.pi / 2 *r\n",
    "E, nu = 6.825E7, 0.3\n",
    "mu = E/(2.0*(1.0 + nu)) \n",
    "lmbda = 2.0*mu*nu/(1.0 - 2.0*nu) \n",
    "t = 0.04"
   ]
  },
  {
   "cell_type": "markdown",
   "metadata": {},
   "source": [
    "# Parameter Space"
   ]
  },
  {
   "cell_type": "code",
   "execution_count": 4,
   "metadata": {},
   "outputs": [],
   "source": [
    "cell_type = CellType.quadrilateral\n",
    "mesh = create_rectangle(MPI.COMM_WORLD, np.array([[W0, 0.0], [W1, L]]), [16, 16], cell_type)\n",
    "\n",
    "# topology dimension = 2\n",
    "tdim = mesh.topology.dim\n",
    "fdim = tdim - 1"
   ]
  },
  {
   "cell_type": "markdown",
   "metadata": {},
   "source": [
    "## Plot"
   ]
  },
  {
   "cell_type": "code",
   "execution_count": 13,
   "metadata": {},
   "outputs": [
    {
     "data": {
      "application/vnd.jupyter.widget-view+json": {
       "model_id": "3fd5cd06d75e4104b3dd8c8ecf00305b",
       "version_major": 2,
       "version_minor": 0
      },
      "text/plain": [
       "Widget(value='<iframe src=\"http://localhost:44977/index.html?ui=P_0x7f957d09bf20_4&reconnect=auto\" class=\"pyvi…"
      ]
     },
     "metadata": {},
     "output_type": "display_data"
    }
   ],
   "source": [
    "topology, cell_types, geometry = plot.vtk_mesh(mesh, tdim)\n",
    "grid = pyvista.UnstructuredGrid(topology, cell_types, geometry)\n",
    "\n",
    "plotter = pyvista.Plotter(off_screen = True)\n",
    "plotter.add_mesh(grid, show_edges=True)\n",
    "plotter.show_grid()\n",
    "plotter.view_xy()\n",
    "if not pyvista.OFF_SCREEN:\n",
    "    plotter.show()\n",
    "else:\n",
    "    plotter.screenshot(results_folder/f\"mesh_rank{mesh.comm.rank}.png\")\n",
    "\n",
    "#plotter.close()"
   ]
  },
  {
   "cell_type": "markdown",
   "metadata": {},
   "source": [
    "# Initial shape"
   ]
  },
  {
   "cell_type": "code",
   "execution_count": 13,
   "metadata": {},
   "outputs": [],
   "source": [
    "x = ufl.SpatialCoordinate(mesh)\n",
    "phi0_ufl = ufl.as_vector([r * ufl.sin(x[0] / r)*ufl.cos(x[1] / r), \n",
    "                          r * ufl.sin(x[0] / r)*ufl.sin(x[1] / r), \n",
    "                          r * ufl.cos(x[0] / r)])\n",
    "\n",
    "def unit_normal(phi):\n",
    "    n = ufl.cross(phi.dx(0), phi.dx(1))\n",
    "    return n/ufl.sqrt(inner(n, n))\n",
    "\n",
    "n0_ufl = unit_normal(phi0_ufl)"
   ]
  },
  {
   "cell_type": "code",
   "execution_count": 14,
   "metadata": {},
   "outputs": [],
   "source": [
    "# for the 3 translation DOFs, we use the P2 + B3 enriched element\n",
    "cell = mesh.basix_cell()\n",
    "P1 = element(\"Lagrange\", cell, degree=1)\n",
    "P2 = element(\"Lagrange\", cell, degree=2)\n",
    "B3 = element(\"Bubble\", cell, degree=3)"
   ]
  },
  {
   "cell_type": "markdown",
   "metadata": {},
   "source": [
    "## Plot"
   ]
  },
  {
   "cell_type": "code",
   "execution_count": 16,
   "metadata": {},
   "outputs": [
    {
     "data": {
      "application/vnd.jupyter.widget-view+json": {
       "model_id": "b7bb41b452604042971a6810835e924a",
       "version_major": 2,
       "version_minor": 0
      },
      "text/plain": [
       "Widget(value='<iframe src=\"http://localhost:46715/index.html?ui=P_0x7fcd2c10b980_0&reconnect=auto\" class=\"pyvi…"
      ]
     },
     "metadata": {},
     "output_type": "display_data"
    }
   ],
   "source": [
    "# create a FEM interpolation of n0 and phi0\n",
    "P1_d3_FS = functionspace(mesh, blocked_element(P1, shape = (3,)))\n",
    "\n",
    "n0_P1_expr = Expression(n0_ufl, P1_d3_FS.element.interpolation_points())\n",
    "n0_P1_func = Function(P1_d3_FS)\n",
    "n0_P1_func.interpolate(n0_P1_expr)\n",
    "\n",
    "phi0_P1_expr = Expression(phi0_ufl, P1_d3_FS.element.interpolation_points())\n",
    "phi0_P1_func = Function(P1_d3_FS)\n",
    "phi0_P1_func.interpolate(phi0_P1_expr)\n",
    "\n",
    "topology, cell_types, geometry = plot.vtk_mesh(P1_d3_FS)\n",
    "\n",
    "geometry_phi0_P1 = phi0_P1_func.x.array.reshape((geometry.shape[0], len(phi0_P1_func)))\n",
    "geometry_n0_P1 = n0_P1_func.x.array.reshape((geometry.shape[0], len(n0_P1_func)))\n",
    "\n",
    "grid_phi0_P1 = pyvista.UnstructuredGrid(topology, cell_types, geometry_phi0_P1)\n",
    "grid_phi0_P1[\"n0\"] = geometry_n0_P1\n",
    "glyphs = grid_phi0_P1.glyph(orient=\"n0\", factor=1)\n",
    "\n",
    "\n",
    "plotter = pyvista.Plotter(off_screen = True)\n",
    "plotter.add_mesh(grid_phi0_P1, style=\"wireframe\", color=\"k\")\n",
    "plotter.add_mesh(glyphs,  show_scalar_bar=True, scalar_bar_args={\"vertical\": True})\n",
    "plotter.show_grid()\n",
    "plotter.enable_parallel_projection()\n",
    "if not pyvista.OFF_SCREEN:\n",
    "    plotter.show()\n",
    "else:\n",
    "    plotter.screenshot(results_folder/f\"initial_shape_rank{mesh.comm.rank}.png\")\n",
    "    \n",
    "plotter.close()"
   ]
  },
  {
   "cell_type": "markdown",
   "metadata": {},
   "source": [
    "# Director"
   ]
  },
  {
   "cell_type": "code",
   "execution_count": null,
   "metadata": {},
   "outputs": [],
   "source": [
    "def tangent_1(n):\n",
    "    e2 = ufl.as_vector([0, 1, 0])\n",
    "    t1 = ufl.cross(e2, n)\n",
    "    t1 = t1/ufl.sqrt(inner(t1, t1))\n",
    "    return t1\n",
    "\n",
    "def tangent_2(n, t1):\n",
    "    t2 = ufl.cross(n, t1)\n",
    "    t2 = t2/ufl.sqrt(inner(t2, t2))\n",
    "    return t2\n",
    "\n",
    "# the analytical expression of t1 and t2\n",
    "t1_ufl = tangent_1(n0_ufl)\n",
    "t2_ufl = tangent_2(n0_ufl, t1_ufl)\n",
    "\n",
    "# the analytical expression of R0\n",
    "def rotation_matrix(t1, t2, n):\n",
    "    R = ufl.as_matrix([[t1[0], t2[0], n[0]], \n",
    "                       [t1[1], t2[1], n[1]], \n",
    "                       [t1[2], t2[2], n[2]]])\n",
    "    return R\n",
    "\n",
    "R0_ufl = rotation_matrix(t1_ufl, t2_ufl, n0_ufl)\n",
    "\n",
    "# Update the director with two successive elementary rotations\n",
    "def director(R0, theta):\n",
    "    Lm3 = ufl.as_vector([ufl.sin(theta[1])*ufl.cos(theta[0]), -ufl.sin(theta[0]), ufl.cos(theta[1])*ufl.cos(theta[0])])\n",
    "    d = ufl.dot(R0, Lm3)\n",
    "    return d"
   ]
  },
  {
   "cell_type": "markdown",
   "metadata": {},
   "source": [
    "## Plot"
   ]
  },
  {
   "cell_type": "code",
   "execution_count": null,
   "metadata": {},
   "outputs": [],
   "source": [
    "# create a FEM interpolation of t1, t2, n0 and phi0\n",
    "t_FS = functionspace(mesh, blocked_element(P1, shape = (3,)))\n",
    "t1_expr = Expression(t1_ufl, t_FS.element.interpolation_points())\n",
    "t1_func = Function(t_FS)\n",
    "t1_func.interpolate(t1_expr)\n",
    "\n",
    "t2_expr = Expression(t2_ufl, t_FS.element.interpolation_points())\n",
    "t2_func = Function(t_FS)\n",
    "t2_func.interpolate(t2_expr)\n",
    "\n",
    "n0_expr = Expression(n0_ufl, t_FS.element.interpolation_points())\n",
    "n0_func = Function(t_FS)\n",
    "n0_func.interpolate(n0_expr)\n",
    "\n",
    "phi0_P1_expr = Expression(phi0_ufl, t_FS.element.interpolation_points())\n",
    "phi0_P1 = Function(t_FS)\n",
    "phi0_P1.interpolate(phi0_P1_expr)"
   ]
  },
  {
   "cell_type": "code",
   "execution_count": null,
   "metadata": {},
   "outputs": [],
   "source": [
    "topology, cell_types, geometry = plot.vtk_mesh(t_FS)\n",
    "\n",
    "geometry_phi0_P1 = phi0_P1.x.array.reshape((geometry.shape[0], len(phi0_P1)))\n",
    "geometry_t1 = t1_func.x.array.reshape((geometry.shape[0], len(t1_func)))\n",
    "geometry_t2 = t2_func.x.array.reshape((geometry.shape[0], len(t2_func)))\n",
    "geometry_n0 = n0_func.x.array.reshape((geometry.shape[0], len(n0_func)))\n",
    "\n",
    "grid_phi0_P1 = pyvista.UnstructuredGrid(topology, cell_types, geometry_phi0_P1)\n",
    "\n",
    "grid_phi0_P1[\"n0\"] = geometry_n0\n",
    "grid_phi0_P1[\"t1\"] = geometry_t1\n",
    "grid_phi0_P1[\"t2\"] = geometry_t2\n",
    "\n",
    "glyphs_n0 = grid_phi0_P1.glyph(orient=\"n0\", factor=0.1)\n",
    "glyphs_t1 = grid_phi0_P1.glyph(orient=\"t1\", factor=0.1)\n",
    "glyphs_t2 = grid_phi0_P1.glyph(orient=\"t2\", factor=0.1)\n",
    "\n",
    "plotter = pyvista.Plotter()\n",
    "plotter.add_mesh(grid_phi0_P1, style=\"wireframe\", color=\"k\", line_width= 0.5)\n",
    "plotter.add_mesh(glyphs_n0, color = 'b', show_scalar_bar=True)\n",
    "plotter.add_mesh(glyphs_t1, color = 'r', show_scalar_bar=True)\n",
    "plotter.add_mesh(glyphs_t2, color = 'g', show_scalar_bar=True)\n",
    "plotter.camera_position = 'xz'\n",
    "plotter.camera.azimuth = -45\n",
    "plotter.camera.elevation = 15\n",
    "plotter.show_axes_all()\n",
    "\n",
    "plotter.show()"
   ]
  },
  {
   "cell_type": "markdown",
   "metadata": {},
   "source": [
    "# Shell element"
   ]
  },
  {
   "cell_type": "code",
   "execution_count": null,
   "metadata": {},
   "outputs": [],
   "source": [
    "enriched = True\n",
    "if cell_type == CellType.triangle:\n",
    "    if enriched:\n",
    "        P2B3 = enriched_element([P2, B3])\n",
    "        naghdi_shell_element = mixed_element(\n",
    "            [blocked_element(P2B3, shape=(3,)), blocked_element(P2, shape=(2,))]\n",
    "        )\n",
    "    else:\n",
    "        naghdi_shell_element = mixed_element(\n",
    "            [blocked_element(P2, shape=(3,)), blocked_element(P2, shape=(2,))]\n",
    "        )\n",
    "    \n",
    "elif cell_type == CellType.quadrilateral:\n",
    "    naghdi_shell_element = mixed_element(\n",
    "        [blocked_element(P2, shape=(3,)), blocked_element(P2, shape=(2,))]\n",
    "    )\n",
    "    \n",
    "naghdi_shell_FS = functionspace(mesh, naghdi_shell_element)\n",
    "\n",
    "q_func = Function(naghdi_shell_FS) # current configuration\n",
    "q_trial = ufl.TrialFunction(naghdi_shell_FS)\n",
    "q_test = ufl.TestFunction(naghdi_shell_FS)\n",
    "\n",
    "u_func, theta_func = split(q_func) # current displacement and rotation"
   ]
  },
  {
   "cell_type": "markdown",
   "metadata": {},
   "source": [
    "# Shell model"
   ]
  },
  {
   "cell_type": "code",
   "execution_count": null,
   "metadata": {},
   "outputs": [],
   "source": [
    "# current deformation gradient \n",
    "F = grad(u_func) + grad(phi0_ufl) \n",
    "\n",
    "# current director\n",
    "d = director(R0_ufl, theta_func)\n",
    "\n",
    "# initial metric and curvature tensor a0 and b0\n",
    "a0_ufl = grad(phi0_ufl).T * grad(phi0_ufl)\n",
    "b0_ufl = -0.5*( grad(phi0_ufl).T * grad(n0_ufl) + grad(n0_ufl).T * grad(phi0_ufl))\n",
    "\n",
    "def epsilon(F):\n",
    "    \"\"\"Membrane strain\"\"\"\n",
    "    return 0.5 * (F.T * F - a0_ufl)\n",
    "\n",
    "\n",
    "def kappa(F, d):\n",
    "    \"\"\"Bending strain\"\"\"\n",
    "    return -0.5 * (F.T * grad(d) + grad(d).T * F) - b0_ufl\n",
    "\n",
    "\n",
    "def gamma(F, d):\n",
    "    \"\"\"Transverse shear strain\"\"\"\n",
    "    return F.T * d\n",
    "\n",
    "a0_contra_ufl = ufl.inv(a0_ufl)\n",
    "j0_ufl = ufl.det(a0_ufl)\n",
    "\n",
    "i,j,l,m = ufl.indices(4)  # noqa: E741\n",
    "A_contra_ufl = ufl.as_tensor( ( ((2.0*lmbda*mu) / (lmbda + 2.0*mu)) * a0_contra_ufl[i,j]*a0_contra_ufl[l,m]\n",
    "                + 1.0*mu* (a0_contra_ufl[i,l]*a0_contra_ufl[j,m] + a0_contra_ufl[i,m]*a0_contra_ufl[j,l]) )\n",
    "                ,[i,j,l,m])\n",
    "\n",
    "N = ufl.as_tensor(t * A_contra_ufl[i,j,l,m] * epsilon(F)[l,m], [i,j])\n",
    "\n",
    "M = ufl.as_tensor( (t**3 / 12.0) * A_contra_ufl[i,j,l,m]*kappa(F, d)[l,m], [i,j])\n",
    "\n",
    "T = ufl.as_tensor( (t * mu *5.0 / 6.0) * a0_contra_ufl[i, j] * gamma(F, d)[j], [i])\n",
    "\n",
    "psi_m = 0.5*inner(N, epsilon(F))\n",
    "\n",
    "psi_b = 0.5*inner(M, kappa(F, d))\n",
    "\n",
    "psi_s = 0.5*inner(T, gamma(F, d))"
   ]
  },
  {
   "cell_type": "markdown",
   "metadata": {},
   "source": [
    "# Weak form Equation with PSRI"
   ]
  },
  {
   "cell_type": "code",
   "execution_count": null,
   "metadata": {},
   "outputs": [],
   "source": [
    "# Full integration\n",
    "dx_f = ufl.Measure('dx', domain=mesh)\n",
    "\n",
    "# Reduced integration of order 2\n",
    "dx_r = ufl.Measure('dx', domain=mesh, metadata={\"quadrature_degree\": 2})\n",
    "\n",
    "# Calculate the factor alpha as a function of the mesh size h\n",
    "h = ufl.CellDiameter(mesh)\n",
    "alpha_FS = functionspace(mesh, element(\"DG\", cell, 0))\n",
    "alpha_expr = Expression(t**2 / h**2, alpha_FS.element.interpolation_points())\n",
    "alpha = Function(alpha_FS)\n",
    "alpha.interpolate(alpha_expr)\n",
    "\n",
    "# Full integration part of the total elastic energy\n",
    "Pi_PSRI = psi_b * ufl.sqrt(j0_ufl) * dx_f \n",
    "Pi_PSRI += alpha * psi_m * ufl.sqrt(j0_ufl) * dx_f\n",
    "Pi_PSRI += alpha * psi_s * ufl.sqrt(j0_ufl) * dx_f\n",
    "\n",
    "# Reduced integration part of the total elastic energy\n",
    "Pi_PSRI += (1.0 - alpha) * psi_m * ufl.sqrt(j0_ufl) * dx_r\n",
    "Pi_PSRI += (1.0 - alpha) * psi_s * ufl.sqrt(j0_ufl) * dx_r\n",
    "\n",
    "# external work part (zero in this case)\n",
    "W_ext = 0.0\n",
    "Pi_PSRI -= W_ext\n",
    "\n",
    "Residual = ufl.derivative(Pi_PSRI, q_func, q_test)\n",
    "Jacobian = ufl.derivative(Residual, q_func, q_trial)"
   ]
  },
  {
   "cell_type": "markdown",
   "metadata": {},
   "source": [
    "# Symmetric BC"
   ]
  },
  {
   "cell_type": "code",
   "execution_count": null,
   "metadata": {},
   "outputs": [],
   "source": [
    "u_FS, _ = naghdi_shell_FS.sub(0).collapse()\n",
    "theta_FS, _ = naghdi_shell_FS.sub(1).collapse()\n",
    "\n",
    "Q0 = naghdi_shell_FS.sub(0)\n",
    "Q1 = naghdi_shell_FS.sub(1)\n",
    "\n",
    "u_clamped = Function(u_FS) # default value is 0\n",
    "theta_clamped = Function(theta_FS) # default value is 0"
   ]
  },
  {
   "cell_type": "markdown",
   "metadata": {},
   "source": [
    "top: $u_1 = \\theta$"
   ]
  }
 ],
 "metadata": {
  "kernelspec": {
   "display_name": "fenicsx-env",
   "language": "python",
   "name": "fenicsx-env"
  },
  "language_info": {
   "codemirror_mode": {
    "name": "ipython",
    "version": 3
   },
   "file_extension": ".py",
   "mimetype": "text/x-python",
   "name": "python",
   "nbconvert_exporter": "python",
   "pygments_lexer": "ipython3",
   "version": "3.12.0"
  }
 },
 "nbformat": 4,
 "nbformat_minor": 2
}
