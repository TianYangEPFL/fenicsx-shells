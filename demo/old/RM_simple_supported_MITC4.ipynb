{
 "cells": [
  {
   "cell_type": "markdown",
   "metadata": {},
   "source": [
    "# Try the RM demo with some modifications:\n",
    "1. pyvista for plotting\n",
    "2. parallel with ipyparallel"
   ]
  },
  {
   "cell_type": "code",
   "execution_count": 2,
   "metadata": {},
   "outputs": [
    {
     "name": "stdout",
     "output_type": "stream",
     "text": [
      "Starting 2 engines with <class 'ipyparallel.cluster.launcher.MPIEngineSetLauncher'>\n"
     ]
    },
    {
     "data": {
      "application/vnd.jupyter.widget-view+json": {
       "model_id": "2c96b775d59544fdae4f134639908c7e",
       "version_major": 2,
       "version_minor": 0
      },
      "text/plain": [
       "  0%|          | 0/2 [00:00<?, ?engine/s]"
      ]
     },
     "metadata": {},
     "output_type": "display_data"
    }
   ],
   "source": [
    "import ipyparallel as ipp\n",
    "\n",
    "# create a cluster\n",
    "cluster = ipp.Cluster(engines=\"mpi\", n=2)\n",
    "# start that cluster and connect to it\n",
    "rc = cluster.start_and_connect_sync(activate=True)"
   ]
  },
  {
   "cell_type": "code",
   "execution_count": 3,
   "metadata": {},
   "outputs": [],
   "source": [
    "%%px\n",
    "\n",
    "import numpy as np\n",
    "\n",
    "import dolfinx\n",
    "import ufl\n",
    "from dolfinx.fem import Function, FunctionSpace, dirichletbc, Constant\n",
    "from dolfinx.fem.petsc import LinearProblem\n",
    "from dolfinx.mesh import CellType, create_unit_square\n",
    "from ufl import (FiniteElement, MixedElement, VectorElement, dx, grad, inner,\n",
    "                 split, sym, tr)\n",
    "\n",
    "from mpi4py import MPI"
   ]
  },
  {
   "cell_type": "markdown",
   "metadata": {},
   "source": [
    "## Create mesh"
   ]
  },
  {
   "cell_type": "code",
   "execution_count": 4,
   "metadata": {},
   "outputs": [],
   "source": [
    "%%px\n",
    "\n",
    "mesh = create_unit_square(MPI.COMM_WORLD, 32, 32, CellType.quadrilateral)"
   ]
  },
  {
   "cell_type": "markdown",
   "metadata": {},
   "source": [
    "## Define Elements, FunctionSpace, Functions "
   ]
  },
  {
   "cell_type": "code",
   "execution_count": 5,
   "metadata": {},
   "outputs": [],
   "source": [
    "%%px\n",
    "\n",
    "U_el = MixedElement([VectorElement(\"Lagrange\", ufl.quadrilateral, 1), FiniteElement(\"Lagrange\", ufl.quadrilateral, 1),\n",
    "                     FiniteElement(\"RTCE\", ufl.quadrilateral, 1), FiniteElement(\"RTCE\", ufl.quadrilateral, 1)])\n",
    "U = FunctionSpace(mesh, U_el)\n",
    "\n",
    "u_ = Function(U)\n",
    "u = ufl.TrialFunction(U)\n",
    "u_t = ufl.TestFunction(U)\n",
    "\n",
    "theta_, w_, R_gamma_, p_ = split(u_)"
   ]
  },
  {
   "cell_type": "markdown",
   "metadata": {},
   "source": [
    "## Material parameters"
   ]
  },
  {
   "cell_type": "code",
   "execution_count": 6,
   "metadata": {},
   "outputs": [],
   "source": [
    "%%px\n",
    "\n",
    "from dolfinx import default_scalar_type\n",
    "\n",
    "E = Constant(mesh, default_scalar_type(10920.0))\n",
    "nu = Constant(mesh, default_scalar_type(0.3))\n",
    "kappa = Constant(mesh, default_scalar_type(5.0 / 6.0))\n",
    "t = Constant(mesh, default_scalar_type(0.001))"
   ]
  },
  {
   "cell_type": "markdown",
   "metadata": {},
   "source": [
    "## Bending strain and bending energy"
   ]
  },
  {
   "cell_type": "markdown",
   "metadata": {},
   "source": [
    "Bending strain tensor k:\n",
    "$$\n",
    " k(\\theta) = \\dfrac{1}{2}(\\nabla \\theta + (\\nabla \\theta)^T)\n",
    "$$\n",
    "\n",
    "Bending energy $\\psi_b$ and bending modulus \n",
    "$$\n",
    " \\psi_b(k) = \\frac{1}{2} D \\left( (1 - \\nu) \\, \\mathrm{tr}\\,(k^2) + \\nu \\, (\\mathrm{tr}    \\,k)^2 \\right) \\qquad\n",
    " D = \\frac{Et^3}{12(1 - \\nu^2)}\n",
    "$$"
   ]
  },
  {
   "cell_type": "code",
   "execution_count": 7,
   "metadata": {},
   "outputs": [],
   "source": [
    "%%px\n",
    "\n",
    "k = sym(grad(theta_)) \n",
    "\n",
    "D = (E*t**3)/(12.0*(1.0 - nu**2))\n",
    "\n",
    "psi_b = 0.5 * D*((1.0 - nu)*tr(k*k) + nu*(tr(k))**2)"
   ]
  },
  {
   "cell_type": "markdown",
   "metadata": {},
   "source": [
    "## Shear energy"
   ]
  },
  {
   "cell_type": "code",
   "execution_count": 8,
   "metadata": {},
   "outputs": [],
   "source": [
    "%%px\n",
    "\n",
    "psi_s = ((E*kappa*t)/(4.0*(1.0 + nu)))*inner(R_gamma_, R_gamma_)"
   ]
  },
  {
   "cell_type": "markdown",
   "metadata": {},
   "source": [
    "## External energy"
   ]
  },
  {
   "cell_type": "code",
   "execution_count": 9,
   "metadata": {},
   "outputs": [],
   "source": [
    "%%px\n",
    "\n",
    "W_ext = inner(1.0*t**3, w_)*dx"
   ]
  },
  {
   "cell_type": "markdown",
   "metadata": {},
   "source": [
    "## Imposing MITC method weekly"
   ]
  },
  {
   "cell_type": "code",
   "execution_count": 10,
   "metadata": {},
   "outputs": [],
   "source": [
    "%%px\n",
    "\n",
    "gamma = grad(w_) - theta_\n",
    "\n",
    "# internal Facets\n",
    "dSp = ufl.Measure('dS', metadata={'quadrature_degree': 1}) \n",
    "\n",
    "# boundary Facets\n",
    "dsp = ufl.Measure('ds', metadata={'quadrature_degree': 1})\n",
    "\n",
    "# normal of the facet\n",
    "n = ufl.FacetNormal(mesh)\n",
    "\n",
    "# tangent of the facet\n",
    "t = ufl.as_vector((-n[1], n[0]))\n",
    "\n",
    "# imposing MITC conditions weekly with lagrange multipliers\n",
    "# (+) is the DG operator\n",
    "def inner_e(x, y):\n",
    "    return (inner(x, t)*inner(y, t))('+') * \\\n",
    "        dSp + (inner(x, t)*inner(y, t))*dsp\n",
    "\n",
    "\n",
    "Pi_R = inner_e(gamma - R_gamma_, p_)"
   ]
  },
  {
   "cell_type": "markdown",
   "metadata": {},
   "source": [
    "## Jacobian and residual"
   ]
  },
  {
   "cell_type": "code",
   "execution_count": 11,
   "metadata": {},
   "outputs": [],
   "source": [
    "%%px\n",
    "\n",
    "Pi = psi_b*dx + psi_s*dx + Pi_R - W_ext\n",
    "F = ufl.derivative(Pi, u_, u_t)\n",
    "J = ufl.derivative(F, u_, u)"
   ]
  },
  {
   "cell_type": "markdown",
   "metadata": {},
   "source": [
    "## Boundary conditions : all clamped"
   ]
  },
  {
   "cell_type": "code",
   "execution_count": 12,
   "metadata": {},
   "outputs": [],
   "source": [
    "%%px\n",
    "\n",
    "# x with shape (gdim, num_points)\n",
    "def all_boundary(x):\n",
    "    return np.full(x.shape[1], True, dtype=bool)\n",
    "\n",
    "def left_or_right(x):\n",
    "    return np.logical_or(np.isclose(x[0], 0.0), np.isclose(x[0], 1.0))\n",
    "\n",
    "\n",
    "def top_or_bottom(x):\n",
    "    return np.logical_or(np.isclose(x[1], 0.0), np.isclose(x[1], 1.0))\n",
    "\n",
    "def make_bc(value, V, on_boundary):\n",
    "    boundary_entities = dolfinx.mesh.locate_entities_boundary(\n",
    "        mesh, mesh.topology.dim - 1, on_boundary)\n",
    "    boundary_dofs = dolfinx.fem.locate_dofs_topological(\n",
    "        V, mesh.topology.dim - 1, boundary_entities)\n",
    "    bc = dirichletbc(value, boundary_dofs, V)\n",
    "    return bc\n",
    "\n",
    "\n",
    "bcs = []\n",
    "# Transverse displacements fixed everywhere\n",
    "bcs.append(make_bc(np.array(0.0, dtype=np.float64), U.sub(1), all_boundary))\n",
    "\n",
    "# First component of rotation (the rotation about y axis) fixed on top and bottom\n",
    "bcs.append(make_bc(np.array(0.0, dtype=np.float64), U.sub(0).sub(0), top_or_bottom)) \n",
    "\n",
    "# Second component of rotation (the rotation about x axis) fixed on left and right\n",
    "bcs.append(make_bc(np.array(0.0, dtype=np.float64), U.sub(0).sub(1), left_or_right))\n"
   ]
  },
  {
   "cell_type": "markdown",
   "metadata": {},
   "source": [
    "## Solving with Petsc "
   ]
  },
  {
   "cell_type": "code",
   "execution_count": 13,
   "metadata": {},
   "outputs": [],
   "source": [
    "%%px\n",
    "\n",
    "problem = LinearProblem(J, -F, bcs=bcs, petsc_options={\n",
    "                        \"ksp_type\": \"preonly\", \"pc_type\": \"lu\", \"pc_factor_mat_solver_type\": \"mumps\"})\n",
    "u_ = problem.solve()\n",
    "\n",
    "theta, w, R_gamma, p = u_.split()"
   ]
  },
  {
   "cell_type": "markdown",
   "metadata": {},
   "source": [
    "## Testing the results"
   ]
  },
  {
   "cell_type": "code",
   "execution_count": 14,
   "metadata": {},
   "outputs": [
    {
     "data": {
      "text/plain": [
       "[stdout:0] 4.061094603185817e-06\n"
      ]
     },
     "metadata": {},
     "output_type": "display_data"
    },
    {
     "data": {
      "text/plain": [
       "[stdout:1] 4.061094603185817e-06\n"
      ]
     },
     "metadata": {},
     "output_type": "display_data"
    }
   ],
   "source": [
    "%%px\n",
    "\n",
    "# bb_tree is a kind of data structure to quickly find the cells \n",
    "# that are close to a given point\n",
    "bb_tree = dolfinx.geometry.bb_tree(mesh, 2)\n",
    "\n",
    "# target point\n",
    "point = np.array([[0.5, 0.5, 0.0]], dtype=np.float64)\n",
    "\n",
    "# Find the leaf that the target point is in\n",
    "cell_candidates = dolfinx.geometry.compute_collisions_points(bb_tree, point)\n",
    "\n",
    "# Find the cell from the leaf that contains the target point\n",
    "cells = dolfinx.geometry.compute_colliding_cells(\n",
    "    mesh, cell_candidates, point)\n",
    "\n",
    "if len(cells) > 0:\n",
    "    value = w.eval(point, cells.array[0])\n",
    "    print(value[0])"
   ]
  },
  {
   "cell_type": "markdown",
   "metadata": {},
   "source": [
    "## Write results to files"
   ]
  },
  {
   "cell_type": "code",
   "execution_count": 15,
   "metadata": {},
   "outputs": [],
   "source": [
    "%%px\n",
    "\n",
    "from dolfinx import io\n",
    "from pathlib import Path\n",
    "\n",
    "results_folder = Path(\"results/RM_simply_supported\")\n",
    "results_folder.mkdir(exist_ok=True, parents=True)\n",
    "filename = results_folder / \"RM_simply_supported\"\n",
    "\n",
    "with io.VTXWriter(mesh.comm, filename.with_suffix(\".bp\"), [w]) as vtx:\n",
    "    vtx.write(0.0)\n",
    "\n",
    "with io.XDMFFile(mesh.comm, filename.with_suffix(\".xdmf\"), \"w\") as f:\n",
    "    f.write_mesh(mesh)\n",
    "    f.write_function(w)"
   ]
  },
  {
   "cell_type": "markdown",
   "metadata": {},
   "source": [
    "## Plotting with pyvista"
   ]
  },
  {
   "cell_type": "code",
   "execution_count": 16,
   "metadata": {},
   "outputs": [
    {
     "data": {
      "application/vnd.jupyter.widget-view+json": {
       "model_id": "2486f91cc5c744d1b6d273c81d4989ff",
       "version_major": 2,
       "version_minor": 0
      },
      "text/plain": [
       "%px:   0%|          | 0/2 [00:00<?, ?tasks/s]"
      ]
     },
     "metadata": {},
     "output_type": "display_data"
    },
    {
     "data": {
      "text/plain": [
       "[output:0]"
      ]
     },
     "metadata": {},
     "output_type": "display_data"
    },
    {
     "data": {
      "application/vnd.jupyter.widget-view+json": {
       "model_id": "5e3665125e334dc9a12d7ed79bd766bb",
       "version_major": 2,
       "version_minor": 0
      },
      "text/plain": [
       "Widget(value='<iframe src=\"http://localhost:45829/index.html?ui=P_0x7f71b981de50_0&reconnect=auto\" class=\"pyvi…"
      ]
     },
     "metadata": {
      "engine": 0
     },
     "output_type": "display_data"
    },
    {
     "data": {
      "text/plain": [
       "[output:1]"
      ]
     },
     "metadata": {},
     "output_type": "display_data"
    },
    {
     "data": {
      "application/vnd.jupyter.widget-view+json": {
       "model_id": "319819d8649647f188c47d7d609d0079",
       "version_major": 2,
       "version_minor": 0
      },
      "text/plain": [
       "Widget(value='<iframe src=\"http://localhost:40511/index.html?ui=P_0x7f841d8f9970_0&reconnect=auto\" class=\"pyvi…"
      ]
     },
     "metadata": {
      "engine": 1
     },
     "output_type": "display_data"
    }
   ],
   "source": [
    "%%px\n",
    "\n",
    "import pyvista\n",
    "from dolfinx import plot\n",
    "\n",
    "#pyvista.start_xvfb()\n",
    "W,_ = U.sub(1).collapse()\n",
    "\n",
    "topology, cell_types, geometry = plot.vtk_mesh(W)\n",
    "grid = pyvista.UnstructuredGrid(topology, cell_types, geometry)\n",
    "w_collapsed = w.collapse()\n",
    "grid.point_data[\"w\"] = w_collapsed.x.array\n",
    "grid.set_active_scalars(\"w\")\n",
    "\n",
    "plotter = pyvista.Plotter()\n",
    "plotter.add_mesh(grid, show_edges=True)\n",
    "plotter.view_xy()\n",
    "\n",
    "plotter.show()\n"
   ]
  },
  {
   "cell_type": "code",
   "execution_count": 17,
   "metadata": {},
   "outputs": [
    {
     "data": {
      "text/plain": [
       "[output:1]"
      ]
     },
     "metadata": {},
     "output_type": "display_data"
    },
    {
     "data": {
      "application/vnd.jupyter.widget-view+json": {
       "model_id": "b88d03deb62741c6a9749cf134ac77ef",
       "version_major": 2,
       "version_minor": 0
      },
      "text/plain": [
       "Widget(value='<iframe src=\"http://localhost:40625/index.html?ui=P_0x7fced72e6cc0_1&reconnect=auto\" class=\"pyvi…"
      ]
     },
     "metadata": {
      "engine": 1
     },
     "output_type": "display_data"
    },
    {
     "data": {
      "text/plain": [
       "[output:0]"
      ]
     },
     "metadata": {},
     "output_type": "display_data"
    },
    {
     "data": {
      "application/vnd.jupyter.widget-view+json": {
       "model_id": "6ece62d6d4a045d3ab9a3fb3ec751db2",
       "version_major": 2,
       "version_minor": 0
      },
      "text/plain": [
       "Widget(value='<iframe src=\"http://localhost:35289/index.html?ui=P_0x7f7cf5e05d60_1&reconnect=auto\" class=\"pyvi…"
      ]
     },
     "metadata": {
      "engine": 0
     },
     "output_type": "display_data"
    }
   ],
   "source": [
    "%%px\n",
    "\n",
    "warped = grid.warp_by_scalar(\"w\", factor=100000)\n",
    "plotter2 = pyvista.Plotter()\n",
    "plotter2.add_mesh(warped, show_edges=True, show_scalar_bar=True)\n",
    "\n",
    "plotter2.show()\n"
   ]
  },
  {
   "cell_type": "code",
   "execution_count": 17,
   "metadata": {},
   "outputs": [
    {
     "name": "stdout",
     "output_type": "stream",
     "text": [
      "Stopping controller\n",
      "Stopping engine(s): 1714137118\n"
     ]
    },
    {
     "name": "stdout",
     "output_type": "stream",
     "text": [
      "Controller stopped: {'exit_code': 0, 'pid': 1890882, 'identifier': 'ipcontroller-1714137117-00j5-1890704'}\n",
      "engine set stopped 1714137118: {'exit_code': 1, 'pid': 1890938, 'identifier': 'ipengine-1714137117-00j5-1714137118-1890704'}\n"
     ]
    }
   ],
   "source": [
    "cluster.stop_cluster_sync()"
   ]
  }
 ],
 "metadata": {
  "kernelspec": {
   "display_name": "fenicsx-env",
   "language": "python",
   "name": "python3"
  },
  "language_info": {
   "codemirror_mode": {
    "name": "ipython",
    "version": 3
   },
   "file_extension": ".py",
   "mimetype": "text/x-python",
   "name": "python",
   "nbconvert_exporter": "python",
   "pygments_lexer": "ipython3",
   "version": "3.12.0"
  }
 },
 "nbformat": 4,
 "nbformat_minor": 2
}
