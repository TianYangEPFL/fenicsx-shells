{
 "cells": [
  {
   "cell_type": "markdown",
   "metadata": {},
   "source": [
    "# Try the RM demo with some modifications:\n",
    "1. add pyvista for plotting"
   ]
  },
  {
   "cell_type": "code",
   "execution_count": 1,
   "metadata": {},
   "outputs": [],
   "source": [
    "import numpy as np\n",
    "\n",
    "import dolfinx\n",
    "import ufl\n",
    "from dolfinx.fem import Function, FunctionSpace, dirichletbc, Constant\n",
    "from dolfinx.fem.petsc import LinearProblem\n",
    "from dolfinx.mesh import CellType, create_unit_square\n",
    "from ufl import (FiniteElement, MixedElement, VectorElement, dx, grad, inner,\n",
    "                 split, sym, tr)\n",
    "\n",
    "from mpi4py import MPI"
   ]
  },
  {
   "cell_type": "markdown",
   "metadata": {},
   "source": [
    "## Create mesh"
   ]
  },
  {
   "cell_type": "code",
   "execution_count": 2,
   "metadata": {},
   "outputs": [],
   "source": [
    "mesh = create_unit_square(MPI.COMM_WORLD, 32, 32, CellType.triangle)"
   ]
  },
  {
   "cell_type": "markdown",
   "metadata": {},
   "source": [
    "## Define Elements, FunctionSpace, Functions "
   ]
  },
  {
   "cell_type": "code",
   "execution_count": 3,
   "metadata": {},
   "outputs": [],
   "source": [
    "U_el = MixedElement([VectorElement(\"Lagrange\", ufl.triangle, 2), FiniteElement(\"Lagrange\", ufl.triangle, 1),\n",
    "                     FiniteElement(\"N1curl\", ufl.triangle, 1), FiniteElement(\"N1curl\", ufl.triangle, 1)])\n",
    "U = FunctionSpace(mesh, U_el)\n",
    "\n",
    "u_ = Function(U)\n",
    "u = ufl.TrialFunction(U)\n",
    "u_t = ufl.TestFunction(U)\n",
    "\n",
    "theta_, w_, R_gamma_, p_ = split(u_)"
   ]
  },
  {
   "cell_type": "markdown",
   "metadata": {},
   "source": [
    "## Material parameters"
   ]
  },
  {
   "cell_type": "code",
   "execution_count": 4,
   "metadata": {},
   "outputs": [],
   "source": [
    "from dolfinx import default_scalar_type\n",
    "\n",
    "E = Constant(mesh, default_scalar_type(10920.0))\n",
    "nu = Constant(mesh, default_scalar_type(0.3))\n",
    "kappa = Constant(mesh, default_scalar_type(5.0 / 6.0))\n",
    "t = Constant(mesh, default_scalar_type(0.001))"
   ]
  },
  {
   "cell_type": "markdown",
   "metadata": {},
   "source": [
    "## Bending strain and bending energy"
   ]
  },
  {
   "cell_type": "markdown",
   "metadata": {},
   "source": [
    "Bending strain tensor k:\n",
    "$$\n",
    " k(\\theta) = \\dfrac{1}{2}(\\nabla \\theta + (\\nabla \\theta)^T)\n",
    "$$\n",
    "\n",
    "Bending energy $\\psi_b$ and bending modulus \n",
    "$$\n",
    " \\psi_b(k) = \\frac{1}{2} D \\left( (1 - \\nu) \\, \\mathrm{tr}\\,(k^2) + \\nu \\, (\\mathrm{tr}    \\,k)^2 \\right) \\qquad\n",
    " D = \\frac{Et^3}{12(1 - \\nu^2)}\n",
    "$$"
   ]
  },
  {
   "cell_type": "code",
   "execution_count": 5,
   "metadata": {},
   "outputs": [],
   "source": [
    "k = sym(grad(theta_)) \n",
    "\n",
    "D = (E*t**3)/(12.0*(1.0 - nu**2))\n",
    "\n",
    "psi_b = 0.5 * D*((1.0 - nu)*tr(k*k) + nu*(tr(k))**2)"
   ]
  },
  {
   "cell_type": "markdown",
   "metadata": {},
   "source": [
    "## Shear energy"
   ]
  },
  {
   "cell_type": "code",
   "execution_count": 6,
   "metadata": {},
   "outputs": [],
   "source": [
    "psi_s = ((E*kappa*t)/(4.0*(1.0 + nu)))*inner(R_gamma_, R_gamma_)"
   ]
  },
  {
   "cell_type": "markdown",
   "metadata": {},
   "source": [
    "## External energy"
   ]
  },
  {
   "cell_type": "code",
   "execution_count": 7,
   "metadata": {},
   "outputs": [],
   "source": [
    "W_ext = inner(1.0*t**3, w_)*dx"
   ]
  },
  {
   "cell_type": "markdown",
   "metadata": {},
   "source": [
    "## Imposing MITC method weekly"
   ]
  },
  {
   "cell_type": "code",
   "execution_count": 8,
   "metadata": {},
   "outputs": [],
   "source": [
    "gamma = grad(w_) - theta_\n",
    "\n",
    "# internal Facets\n",
    "dSp = ufl.Measure('dS', metadata={'quadrature_degree': 1}) \n",
    "\n",
    "# boundary Facets\n",
    "dsp = ufl.Measure('ds', metadata={'quadrature_degree': 1})\n",
    "\n",
    "# normal of the facet\n",
    "n = ufl.FacetNormal(mesh)\n",
    "\n",
    "# tangent of the facet\n",
    "t = ufl.as_vector((-n[1], n[0]))\n",
    "\n",
    "# imposing MITC conditions weekly with lagrange multipliers\n",
    "# (+) is the DG operator\n",
    "def inner_e(x, y):\n",
    "    return (inner(x, t)*inner(y, t))('+') * \\\n",
    "        dSp + (inner(x, t)*inner(y, t))*dsp\n",
    "\n",
    "\n",
    "Pi_R = inner_e(gamma - R_gamma_, p_)"
   ]
  },
  {
   "cell_type": "markdown",
   "metadata": {},
   "source": [
    "## Jacobian and residual"
   ]
  },
  {
   "cell_type": "code",
   "execution_count": 9,
   "metadata": {},
   "outputs": [],
   "source": [
    "Pi = psi_b*dx + psi_s*dx + Pi_R - W_ext\n",
    "F = ufl.derivative(Pi, u_, u_t)\n",
    "J = ufl.derivative(F, u_, u)"
   ]
  },
  {
   "cell_type": "markdown",
   "metadata": {},
   "source": [
    "## Boundary conditions : all clamped"
   ]
  },
  {
   "cell_type": "code",
   "execution_count": 10,
   "metadata": {},
   "outputs": [],
   "source": [
    "# x with shape (gdim, num_points)\n",
    "def all_boundary(x):\n",
    "    return np.full(x.shape[1], True, dtype=bool)\n",
    "\n",
    "# In defaute, the function value is zero\n",
    "u_boundary = Function(U)\n",
    "\n",
    "boundary_entities = dolfinx.mesh.locate_entities_boundary(\n",
    "    mesh, mesh.topology.dim - 1, all_boundary)\n",
    "\n",
    "boundary_dofs = dolfinx.fem.locate_dofs_topological(\n",
    "    U, mesh.topology.dim - 1, boundary_entities)\n",
    "\n",
    "bcs = [dirichletbc(u_boundary, boundary_dofs)]"
   ]
  },
  {
   "cell_type": "markdown",
   "metadata": {},
   "source": [
    "## Solving with Petsc "
   ]
  },
  {
   "cell_type": "code",
   "execution_count": 11,
   "metadata": {},
   "outputs": [],
   "source": [
    "problem = LinearProblem(J, -F, bcs=bcs, petsc_options={\n",
    "                        \"ksp_type\": \"preonly\", \"pc_type\": \"lu\", \"pc_factor_mat_solver_type\": \"mumps\"})\n",
    "u_ = problem.solve()\n",
    "\n",
    "theta, w, R_gamma, p = u_.split()"
   ]
  },
  {
   "cell_type": "markdown",
   "metadata": {},
   "source": [
    "## Testing the results"
   ]
  },
  {
   "cell_type": "code",
   "execution_count": 12,
   "metadata": {},
   "outputs": [
    {
     "name": "stdout",
     "output_type": "stream",
     "text": [
      "1.2850646949512924e-06\n"
     ]
    }
   ],
   "source": [
    "# bb_tree is a kind of data structure to quickly find the cells \n",
    "# that are close to a given point\n",
    "bb_tree = dolfinx.geometry.bb_tree(mesh, 2)\n",
    "\n",
    "# target point\n",
    "point = np.array([[0.5, 0.5, 0.0]], dtype=np.float64)\n",
    "\n",
    "# Find the leaf that the target point is in\n",
    "cell_candidates = dolfinx.geometry.compute_collisions_points(bb_tree, point)\n",
    "\n",
    "# Find the cell from the leaf that contains the target point\n",
    "cells = dolfinx.geometry.compute_colliding_cells(\n",
    "    mesh, cell_candidates, point)\n",
    "\n",
    "if len(cells) > 0:\n",
    "    value = w.eval(point, cells.array[0])\n",
    "    print(value[0])\n",
    "    # NOTE: FEniCS-Shells (old dolfin) `demo/documented/reissner-mindlin-clamped`\n",
    "    # gives 1.28506469462e-06 on a 32 x 32 mesh and 1.2703580973e-06 on a 64 x 64\n",
    "    # mesh.\n",
    "\n",
    "    def test_center_displacement():\n",
    "        assert np.isclose(value[0], 1.285E-6, atol=1E-3, rtol=1E-3)\n",
    "    test_center_displacement()"
   ]
  },
  {
   "cell_type": "markdown",
   "metadata": {},
   "source": [
    "## Write results to files"
   ]
  },
  {
   "cell_type": "code",
   "execution_count": 13,
   "metadata": {},
   "outputs": [],
   "source": [
    "from dolfinx import io\n",
    "from pathlib import Path\n",
    "results_folder = Path(\"results/RM_clamped\")\n",
    "results_folder.mkdir(exist_ok=True, parents=True)\n",
    "filename = results_folder / \"RM_clamped\"\n",
    "\n",
    "with io.VTXWriter(mesh.comm, filename.with_suffix(\".bp\"), [w]) as vtx:\n",
    "    vtx.write(0.0)\n",
    "\n",
    "with io.XDMFFile(mesh.comm, filename.with_suffix(\".xdmf\"), \"w\") as f:\n",
    "    f.write_mesh(mesh)\n",
    "    f.write_function(w)"
   ]
  },
  {
   "cell_type": "markdown",
   "metadata": {},
   "source": [
    "## Plotting with pyvista"
   ]
  },
  {
   "cell_type": "code",
   "execution_count": 16,
   "metadata": {},
   "outputs": [
    {
     "data": {
      "application/vnd.jupyter.widget-view+json": {
       "model_id": "95e7f9c1721d43bfbdc466c541a36b0c",
       "version_major": 2,
       "version_minor": 0
      },
      "text/plain": [
       "Widget(value='<iframe src=\"http://localhost:34967/index.html?ui=P_0x7f7a05f8be30_2&reconnect=auto\" class=\"pyvi…"
      ]
     },
     "metadata": {},
     "output_type": "display_data"
    }
   ],
   "source": [
    "import pyvista\n",
    "from dolfinx import plot\n",
    "\n",
    "W = FunctionSpace(mesh, FiniteElement(\"Lagrange\", ufl.triangle, 1))\n",
    "pyvista.start_xvfb()\n",
    "topology, cell_types, geometry = plot.vtk_mesh(W)\n",
    "grid = pyvista.UnstructuredGrid(topology, cell_types, geometry)\n",
    "w_collapsed = w.collapse()\n",
    "grid.point_data[\"w\"] = w_collapsed.x.array\n",
    "grid.set_active_scalars(\"w\")\n",
    "\n",
    "plotter = pyvista.Plotter()\n",
    "plotter.add_mesh(grid, show_edges=True)\n",
    "plotter.view_xy()\n",
    "\n",
    "plotter.show()\n"
   ]
  },
  {
   "cell_type": "code",
   "execution_count": 17,
   "metadata": {},
   "outputs": [
    {
     "data": {
      "application/vnd.jupyter.widget-view+json": {
       "model_id": "054efbac6d8e4458878b01b84671f93c",
       "version_major": 2,
       "version_minor": 0
      },
      "text/plain": [
       "Widget(value='<iframe src=\"http://localhost:34967/index.html?ui=P_0x7f7ab7de3590_3&reconnect=auto\" class=\"pyvi…"
      ]
     },
     "metadata": {},
     "output_type": "display_data"
    }
   ],
   "source": [
    "warped = grid.warp_by_scalar(\"w\", factor=250000)\n",
    "plotter2 = pyvista.Plotter()\n",
    "plotter2.add_mesh(warped, show_edges=True, show_scalar_bar=True)\n",
    "\n",
    "plotter2.show()\n"
   ]
  }
 ],
 "metadata": {
  "kernelspec": {
   "display_name": "fenicsx-env",
   "language": "python",
   "name": "fenicsx-env"
  },
  "language_info": {
   "codemirror_mode": {
    "name": "ipython",
    "version": 3
   },
   "file_extension": ".py",
   "mimetype": "text/x-python",
   "name": "python",
   "nbconvert_exporter": "python",
   "pygments_lexer": "ipython3",
   "version": "3.12.0"
  }
 },
 "nbformat": 4,
 "nbformat_minor": 2
}
