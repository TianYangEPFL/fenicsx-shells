{
 "cells": [
  {
   "cell_type": "code",
   "execution_count": 1,
   "metadata": {},
   "outputs": [],
   "source": [
    "import numpy as np\n",
    "\n",
    "import dolfinx\n",
    "import ufl\n",
    "from dolfinx.fem import Function, FunctionSpace, dirichletbc, Constant, Expression, locate_dofs_topological\n",
    "from dolfinx.fem.petsc import NonlinearProblem\n",
    "from dolfinx.mesh import CellType, create_rectangle, locate_entities_boundary\n",
    "from ufl import (FiniteElement, MixedElement, VectorElement, grad, inner,\n",
    "                 split)\n",
    "import pyvista\n",
    "from dolfinx import plot, log\n",
    "from dolfinx.nls.petsc import NewtonSolver\n",
    "\n",
    "from mpi4py import MPI\n",
    "from petsc4py import PETSc\n"
   ]
  },
  {
   "cell_type": "markdown",
   "metadata": {},
   "source": [
    "## Parameters of the geometry and the material"
   ]
  },
  {
   "cell_type": "code",
   "execution_count": 2,
   "metadata": {},
   "outputs": [],
   "source": [
    "# the radius of the cylinder\n",
    "r = 1.016 \n",
    "\n",
    "# the length of the cylinder\n",
    "L = 3.048 \n",
    "\n",
    "# the Young's modulus and Poisson's ratio\n",
    "E, nu = 2.0685E7, 0.3 \n",
    "\n",
    "# the shear modulus\n",
    "mu = E/(2.0*(1.0 + nu)) \n",
    "\n",
    "# the lame parameter\n",
    "lmbda = 2.0*mu*nu/(1.0 - 2.0*nu) \n",
    "\n",
    "# the thickness of the cylinder\n",
    "t = 0.03 "
   ]
  },
  {
   "cell_type": "markdown",
   "metadata": {},
   "source": [
    "# Generate the mesh in the parameter space \n",
    "$x_1 \\in [- \\pi / 2, \\pi /2], x_2 \\in [0, L]$"
   ]
  },
  {
   "cell_type": "code",
   "execution_count": 3,
   "metadata": {},
   "outputs": [],
   "source": [
    "mesh = create_rectangle(MPI.COMM_WORLD, np.array([[-np.pi / 2, 0], [np.pi / 2, L]]), [20, 20], CellType.triangle)\n",
    "tdim = mesh.topology.dim"
   ]
  },
  {
   "cell_type": "markdown",
   "metadata": {},
   "source": [
    "## Plot the parameter space"
   ]
  },
  {
   "cell_type": "code",
   "execution_count": 5,
   "metadata": {},
   "outputs": [
    {
     "data": {
      "application/vnd.jupyter.widget-view+json": {
       "model_id": "98932459e621455886c035a096b35152",
       "version_major": 2,
       "version_minor": 0
      },
      "text/plain": [
       "Widget(value='<iframe src=\"http://localhost:37265/index.html?ui=P_0x7f39653eaa20_1&reconnect=auto\" class=\"pyvi…"
      ]
     },
     "metadata": {},
     "output_type": "display_data"
    }
   ],
   "source": [
    "pyvista.start_xvfb()\n",
    "\n",
    "topology, cell_types, geometry = plot.vtk_mesh(mesh, tdim)\n",
    "grid = pyvista.UnstructuredGrid(topology, cell_types, geometry)\n",
    "\n",
    "plotter = pyvista.Plotter()\n",
    "plotter.add_mesh(grid, show_edges=True)\n",
    "plotter.view_xy()\n",
    "\n",
    "plotter.show()"
   ]
  },
  {
   "cell_type": "markdown",
   "metadata": {},
   "source": [
    "# Define the initial shape"
   ]
  },
  {
   "cell_type": "code",
   "execution_count": 4,
   "metadata": {},
   "outputs": [],
   "source": [
    "x = ufl.SpatialCoordinate(mesh)\n",
    "phi0_ufl = ufl.as_vector([r * ufl.sin(x[0]), x[1], r * ufl.cos(x[0])])"
   ]
  },
  {
   "cell_type": "markdown",
   "metadata": {},
   "source": [
    "## Plot the initial shape"
   ]
  },
  {
   "cell_type": "code",
   "execution_count": 6,
   "metadata": {},
   "outputs": [],
   "source": [
    "# interpolate phi_ufl into CG2 Space\n",
    "\n",
    "phi_FS = FunctionSpace(mesh, VectorElement(\"Lagrange\", ufl.triangle, degree = 2, dim = 3))\n",
    "phi0_expr = Expression(phi0_ufl, phi_FS.element.interpolation_points())\n",
    "\n",
    "phi0_func = Function(phi_FS)\n",
    "phi0_func.interpolate(phi0_expr)\n"
   ]
  },
  {
   "cell_type": "code",
   "execution_count": 7,
   "metadata": {},
   "outputs": [
    {
     "data": {
      "application/vnd.jupyter.widget-view+json": {
       "model_id": "ffe23e1cb1bd48fcab3fa32c3ab932b0",
       "version_major": 2,
       "version_minor": 0
      },
      "text/plain": [
       "Widget(value='<iframe src=\"http://localhost:43253/index.html?ui=P_0x7fd89c251e50_2&reconnect=auto\" class=\"pyvi…"
      ]
     },
     "metadata": {},
     "output_type": "display_data"
    }
   ],
   "source": [
    "topology, cell_types, x_para_space = plot.vtk_mesh(phi_FS)\n",
    "\n",
    "x_init_shape = phi0_func.x.array.reshape((x_para_space.shape[0], len(phi0_func)))\n",
    "\n",
    "grid_ps = pyvista.UnstructuredGrid(topology, cell_types, x_para_space)\n",
    "grid_is = pyvista.UnstructuredGrid(topology, cell_types, x_init_shape)\n",
    "\n",
    "plotter = pyvista.Plotter()\n",
    "plotter.add_mesh(grid_ps, style=\"wireframe\", color=\"k\")\n",
    "plotter.add_mesh(grid_is, show_edges=True)\n",
    "\n",
    "plotter.show()\n",
    "\n"
   ]
  },
  {
   "cell_type": "markdown",
   "metadata": {},
   "source": [
    "# Define the initial local orthonormal basis\n"
   ]
  },
  {
   "cell_type": "markdown",
   "metadata": {},
   "source": [
    "## Unit normal basis \n",
    "$$\n",
    " \\vec{n}  = \\frac{\\partial_1 \\phi_0 \\times \\partial_2 \\phi_0}{\\| \\partial_1 \\phi_0 \\times \\partial_2 \\phi_0 \\|}\n",
    "$$"
   ]
  },
  {
   "cell_type": "code",
   "execution_count": 5,
   "metadata": {},
   "outputs": [],
   "source": [
    "def unit_normal(phi):\n",
    "    n = ufl.cross(phi.dx(0), phi.dx(1))\n",
    "    return n/ufl.sqrt(inner(n, n))\n",
    "\n",
    "# the analytical expression of n0\n",
    "n0_ufl = unit_normal(phi0_ufl)\n"
   ]
  },
  {
   "cell_type": "markdown",
   "metadata": {},
   "source": [
    "### Plot the normal vectors on the initial shape"
   ]
  },
  {
   "cell_type": "code",
   "execution_count": 9,
   "metadata": {},
   "outputs": [],
   "source": [
    "\n",
    "# create a FEM interpolation of n0 \n",
    "n_FS = FunctionSpace(mesh, VectorElement(\"Lagrange\", ufl.triangle, degree = 1, dim = 3))\n",
    "\n",
    "n0_expr = Expression(n0_ufl, n_FS.element.interpolation_points())\n",
    "n0_func = Function(n_FS)\n",
    "n0_func.interpolate(n0_expr)"
   ]
  },
  {
   "cell_type": "code",
   "execution_count": 10,
   "metadata": {},
   "outputs": [
    {
     "data": {
      "application/vnd.jupyter.widget-view+json": {
       "model_id": "de9bb98bbfee4841b1c475f0cafcb857",
       "version_major": 2,
       "version_minor": 0
      },
      "text/plain": [
       "Widget(value='<iframe src=\"http://localhost:43253/index.html?ui=P_0x7fda041b1ac0_3&reconnect=auto\" class=\"pyvi…"
      ]
     },
     "metadata": {},
     "output_type": "display_data"
    }
   ],
   "source": [
    "phi0_P1_expr = Expression(phi0_ufl, n_FS.element.interpolation_points())\n",
    "\n",
    "phi0_P1 = Function(n_FS)\n",
    "phi0_P1.interpolate(phi0_P1_expr)\n",
    "\n",
    "\n",
    "#pyvista.start_xvfb()\n",
    "topology, cell_types, geometry = plot.vtk_mesh(n_FS)\n",
    "\n",
    "\n",
    "geometry_phi0_P1 = phi0_P1.x.array.reshape((geometry.shape[0], len(phi0_P1)))\n",
    "geometry_n0 = n0_func.x.array.reshape((geometry.shape[0], len(n0_func)))\n",
    "\n",
    "grid_phi0_P1 = pyvista.UnstructuredGrid(topology, cell_types, geometry_phi0_P1)\n",
    "grid_phi0_P1[\"n0\"] = geometry_n0\n",
    "glyphs = grid_phi0_P1.glyph(orient=\"n0\", factor=0.2)\n",
    "\n",
    "\n",
    "plotter = pyvista.Plotter()\n",
    "plotter.add_mesh(grid_phi0_P1, style=\"wireframe\", color=\"k\")\n",
    "plotter.add_mesh(glyphs,  show_scalar_bar=True)\n",
    "\n",
    "plotter.show()"
   ]
  },
  {
   "cell_type": "markdown",
   "metadata": {},
   "source": [
    "## two tangent basis\n",
    "$$\n",
    "\\vec{t}_{0i} = \\mathbf{R}_0 \\vec{e}_i \\\\\n",
    "\\vec{n} = \\vec{t}_{03} \\\\\n",
    "$$\n",
    "\n",
    "Define $\\vec{t}_{01}$ and $\\vec{t}_{02}$ with $\\vec{e}_1$ and $\\vec{e}_2$ \n",
    "$$\n",
    "\\vec{t}_{01} = \\frac{\\vec{e}_2 \\times \\vec{n}}{\\| \\vec{e}_2 \\times \\vec{n}\\|} \\\\\n",
    "\\vec{t}_{02} =   \\vec{n} \\times \\vec{t}_{01}\n",
    "$$\n",
    "\n",
    "The corresponding rotation matrix $\\mathbf{R}_0$:\n",
    "$$\n",
    "\\mathbf{R}_0 = [\\vec{t}_{01}; \\vec{t}_{02}; \\vec{n}]\n",
    "$$\n",
    "\n"
   ]
  },
  {
   "cell_type": "code",
   "execution_count": 6,
   "metadata": {},
   "outputs": [],
   "source": [
    "def tangent_1(n):\n",
    "    e2 = ufl.as_vector([0, 1, 0])\n",
    "    t1 = ufl.cross(e2, n)\n",
    "    t1 = t1/ufl.sqrt(inner(t1, t1))\n",
    "    return t1\n",
    "\n",
    "def tangent_2(n, t1):\n",
    "    t2 = ufl.cross(n, t1)\n",
    "    t2 = t2/ufl.sqrt(inner(t2, t2))\n",
    "    return t2\n",
    "\n",
    "# the analytical expression of t1 and t2\n",
    "t1_ufl = tangent_1(n0_ufl)\n",
    "t2_ufl = tangent_2(n0_ufl, t1_ufl)\n",
    "\n",
    "# the analytical expression of R0\n",
    "def rotation_matrix(t1, t2, n):\n",
    "    R = ufl.as_matrix([[t1[0], t2[0], n[0]], \n",
    "                       [t1[1], t2[1], n[1]], \n",
    "                       [t1[2], t2[2], n[2]]])\n",
    "    return R\n",
    "\n",
    "R0_ufl = rotation_matrix(t1_ufl, t2_ufl, n0_ufl)"
   ]
  },
  {
   "cell_type": "markdown",
   "metadata": {},
   "source": [
    "### plot the tangent basis"
   ]
  },
  {
   "cell_type": "code",
   "execution_count": 12,
   "metadata": {},
   "outputs": [],
   "source": [
    "# create a FEM interpolation of t1, t2, n0 and phi0\n",
    "t_FS = FunctionSpace(mesh, VectorElement(\"Lagrange\", ufl.triangle, degree = 1, dim = 3))\n",
    "\n",
    "t1_expr = Expression(t1_ufl, t_FS.element.interpolation_points())\n",
    "t1_func = Function(t_FS)\n",
    "t1_func.interpolate(t1_expr)\n",
    "\n",
    "t2_expr = Expression(t2_ufl, t_FS.element.interpolation_points())\n",
    "t2_func = Function(t_FS)\n",
    "t2_func.interpolate(t2_expr)\n",
    "\n",
    "n0_expr = Expression(n0_ufl, t_FS.element.interpolation_points())\n",
    "n0_func = Function(t_FS)\n",
    "n0_func.interpolate(n0_expr)\n",
    "\n",
    "phi0_P1_expr = Expression(phi0_ufl, t_FS.element.interpolation_points())\n",
    "phi0_P1 = Function(t_FS)\n",
    "phi0_P1.interpolate(phi0_P1_expr)"
   ]
  },
  {
   "cell_type": "code",
   "execution_count": 13,
   "metadata": {},
   "outputs": [
    {
     "data": {
      "application/vnd.jupyter.widget-view+json": {
       "model_id": "9ca88a3491aa4a26b9791140ab605f40",
       "version_major": 2,
       "version_minor": 0
      },
      "text/plain": [
       "Widget(value='<iframe src=\"http://localhost:43253/index.html?ui=P_0x7fd89c16dcd0_4&reconnect=auto\" class=\"pyvi…"
      ]
     },
     "metadata": {},
     "output_type": "display_data"
    }
   ],
   "source": [
    "topology, cell_types, geometry = plot.vtk_mesh(t_FS)\n",
    "\n",
    "geometry_phi0_P1 = phi0_P1.x.array.reshape((geometry.shape[0], len(phi0_P1)))\n",
    "geometry_t1 = t1_func.x.array.reshape((geometry.shape[0], len(t1_func)))\n",
    "geometry_t2 = t2_func.x.array.reshape((geometry.shape[0], len(t2_func)))\n",
    "geometry_n0 = n0_func.x.array.reshape((geometry.shape[0], len(n0_func)))\n",
    "\n",
    "grid_phi0_P1 = pyvista.UnstructuredGrid(topology, cell_types, geometry_phi0_P1)\n",
    "\n",
    "grid_phi0_P1[\"n0\"] = geometry_n0\n",
    "grid_phi0_P1[\"t1\"] = geometry_t1\n",
    "grid_phi0_P1[\"t2\"] = geometry_t2\n",
    "\n",
    "glyphs_n0 = grid_phi0_P1.glyph(orient=\"n0\", factor=0.1)\n",
    "glyphs_t1 = grid_phi0_P1.glyph(orient=\"t1\", factor=0.1)\n",
    "glyphs_t2 = grid_phi0_P1.glyph(orient=\"t2\", factor=0.1)\n",
    "\n",
    "plotter = pyvista.Plotter()\n",
    "plotter.add_mesh(grid_phi0_P1, style=\"wireframe\", color=\"k\", line_width= 0.5)\n",
    "plotter.add_mesh(glyphs_n0, color = 'b', show_scalar_bar=True)\n",
    "plotter.add_mesh(glyphs_t1, color = 'r', show_scalar_bar=True)\n",
    "plotter.add_mesh(glyphs_t2, color = 'g', show_scalar_bar=True)\n",
    "plotter.camera_position = 'xz'\n",
    "plotter.camera.azimuth = -45\n",
    "plotter.camera.elevation = 15\n",
    "plotter.show_axes_all()\n",
    "\n",
    "plotter.show()"
   ]
  },
  {
   "cell_type": "markdown",
   "metadata": {},
   "source": [
    "## Test the rotation matrix"
   ]
  },
  {
   "cell_type": "code",
   "execution_count": 14,
   "metadata": {},
   "outputs": [],
   "source": [
    "e1 = ufl.as_vector([1, 0, 0])\n",
    "e2 = ufl.as_vector([0, 1, 0])\n",
    "e3 = ufl.as_vector([0, 0, 1])\n",
    "\n",
    "t1_test_ufl = ufl.dot(R0_ufl, e1)\n",
    "t2_test_ufl = ufl.dot(R0_ufl, e2)\n",
    "n0_test_ufl = ufl.dot(R0_ufl, e3)"
   ]
  },
  {
   "cell_type": "markdown",
   "metadata": {},
   "source": [
    "### Plot the test vectors"
   ]
  },
  {
   "cell_type": "code",
   "execution_count": 15,
   "metadata": {},
   "outputs": [],
   "source": [
    "# create a FEM interpolation of t1, t2, n0 and phi0\n",
    "t_FS = FunctionSpace(mesh, VectorElement(\"Lagrange\", ufl.triangle, degree = 1, dim = 3))\n",
    "\n",
    "t1_test_expr = Expression(t1_test_ufl, t_FS.element.interpolation_points())\n",
    "t1_test_func = Function(t_FS)\n",
    "t1_test_func.interpolate(t1_test_expr)\n",
    "\n",
    "t2_test_expr = Expression(t2_test_ufl, t_FS.element.interpolation_points())\n",
    "t2_test_func = Function(t_FS)\n",
    "t2_test_func.interpolate(t2_test_expr)\n",
    "\n",
    "n0_test_expr = Expression(n0_test_ufl, t_FS.element.interpolation_points())\n",
    "n0_test_func = Function(t_FS)\n",
    "n0_test_func.interpolate(n0_test_expr)\n",
    "\n",
    "phi0_P1_expr = Expression(phi0_ufl, t_FS.element.interpolation_points())\n",
    "phi0_P1 = Function(t_FS)\n",
    "phi0_P1.interpolate(phi0_P1_expr)"
   ]
  },
  {
   "cell_type": "code",
   "execution_count": 16,
   "metadata": {},
   "outputs": [
    {
     "data": {
      "application/vnd.jupyter.widget-view+json": {
       "model_id": "f74c88350c554b56a201041ddaaec67a",
       "version_major": 2,
       "version_minor": 0
      },
      "text/plain": [
       "Widget(value='<iframe src=\"http://localhost:43253/index.html?ui=P_0x7fd89c160e30_5&reconnect=auto\" class=\"pyvi…"
      ]
     },
     "metadata": {},
     "output_type": "display_data"
    }
   ],
   "source": [
    "topology, cell_types, geometry = plot.vtk_mesh(t_FS)\n",
    "\n",
    "geometry_phi0_P1 = phi0_P1.x.array.reshape((geometry.shape[0], len(phi0_P1)))\n",
    "\n",
    "geometry_t1_test = t1_test_func.x.array.reshape((geometry.shape[0], len(t1_test_func)))\n",
    "geometry_t2_test = t2_test_func.x.array.reshape((geometry.shape[0], len(t2_test_func)))\n",
    "geometry_n0_test = n0_test_func.x.array.reshape((geometry.shape[0], len(n0_test_func)))\n",
    "\n",
    "grid_phi0_P1 = pyvista.UnstructuredGrid(topology, cell_types, geometry_phi0_P1)\n",
    "\n",
    "grid_phi0_P1[\"n0\"] = geometry_n0_test\n",
    "grid_phi0_P1[\"t1\"] = geometry_t1_test\n",
    "grid_phi0_P1[\"t2\"] = geometry_t2_test\n",
    "\n",
    "glyphs_n0 = grid_phi0_P1.glyph(orient=\"n0\", factor=0.1)\n",
    "glyphs_t1 = grid_phi0_P1.glyph(orient=\"t1\", factor=0.1)\n",
    "glyphs_t2 = grid_phi0_P1.glyph(orient=\"t2\", factor=0.1)\n",
    "\n",
    "plotter = pyvista.Plotter()\n",
    "plotter.add_mesh(grid_phi0_P1, style=\"wireframe\", color=\"k\", line_width= 0.5)\n",
    "plotter.add_mesh(glyphs_n0, color = 'b', show_scalar_bar=True)\n",
    "plotter.add_mesh(glyphs_t1, color = 'r', show_scalar_bar=True)\n",
    "plotter.add_mesh(glyphs_t2, color = 'g', show_scalar_bar=True)\n",
    "plotter.camera_position = 'xz'\n",
    "plotter.camera.azimuth = -45\n",
    "plotter.camera.elevation = 15\n",
    "plotter.show_axes_all()\n",
    "\n",
    "plotter.show()"
   ]
  },
  {
   "cell_type": "markdown",
   "metadata": {},
   "source": [
    "# The parameterization of director \n",
    "Update the director with two successive elementary rotations\n",
    "$$\n",
    "    \\vec{t}_3 = \\mathbf{R}_0 \\cdot \\vec{\\Lambda_3}\n",
    "$$\n",
    "\n",
    "$$\n",
    "\\vec{\\Lambda_3} = [\\sin(\\theta_2)\\cos(\\theta_1), -\\sin(\\theta_1), \\cos(\\theta_2)\\cos(\\theta_1)]^\\text{T}\n",
    "$$\n",
    "\n",
    "Derivation: \n",
    "\n",
    "\n",
    "$\\theta_1$, $\\theta_2$ are the rotation angles about the fixed axis $\\vec{e}_1$ and $\\vec{e}_2$ or follower axes $\\mathbf{t}_1$ and $\\mathbf{t}_2$\n",
    "\n",
    "$$\n",
    "\\vec{t}_i = \\mathbf{R} \\vec{e}_i \\\\\n",
    "\n",
    "\\mathbf{R}  = \\text{exp}[\\theta_1 \\hat{\\mathbf{t}}_1] \\text{exp}[\\theta_2 \\hat{\\mathbf{t}}_{02}] \\mathbf{R}_0 \n",
    "$$\n",
    "\n",
    "where $\\mathbf{t}_{02} = \\mathbf{R}_0 \\cdot \\vec{e}_2 $, $\\mathbf{t}_1 = \\text{exp}[\\theta_2 \\hat{\\mathbf{t}}_{02}] \\cdot \\mathbf{t}_{01} $\n",
    "\n",
    "$$\n",
    "\\mathbf{R} = \\mathbf{R}_0 \\text{exp}[\\theta_2 \\hat{\\mathbf{e}}_{2}] \\text{exp}[\\theta_1 \\hat{\\mathbf{e}}_1]\n",
    "\n",
    "$$"
   ]
  },
  {
   "cell_type": "code",
   "execution_count": 7,
   "metadata": {},
   "outputs": [],
   "source": [
    "# Update the director with two successive elementary rotations\n",
    "\n",
    "def director(R0, theta):\n",
    "    Lm3 = ufl.as_vector([ufl.sin(theta[1])*ufl.cos(theta[0]), -ufl.sin(theta[0]), ufl.cos(theta[1])*ufl.cos(theta[0])])\n",
    "    d = ufl.dot(R0, Lm3)\n",
    "    return d"
   ]
  },
  {
   "cell_type": "markdown",
   "metadata": {},
   "source": [
    "## Test the director "
   ]
  },
  {
   "cell_type": "code",
   "execution_count": 28,
   "metadata": {},
   "outputs": [],
   "source": [
    "theta_ufl = ufl.as_vector([np.pi/4, np.pi/2])\n",
    "\n",
    "theta_const = Constant(mesh, [np.pi/4, np.pi/2])\n",
    "\n",
    "theta_test_FS = FunctionSpace(mesh, VectorElement(\"Lagrange\", ufl.triangle, degree=2, dim=2))\n",
    "theta_test_expr = Expression(theta_ufl, theta_test_FS.element.interpolation_points(), comm=mesh.comm)\n",
    "theta_test_func = Function(theta_test_FS)\n",
    "theta_test_func.interpolate(theta_test_expr)\n",
    "\n",
    "# d0_ufl = director(R0_ufl, theta_ufl)\n",
    "# d0_ufl = director(R0_ufl, theta_const)\n",
    "d0_ufl = director(R0_ufl, theta_test_func)\n",
    "\n",
    "d_FS = FunctionSpace(mesh, VectorElement(\"Lagrange\", ufl.triangle, degree = 1, dim = 3))\n",
    "\n",
    "d0_expr = Expression(d0_ufl, d_FS.element.interpolation_points())\n",
    "d0_func = Function(d_FS)\n",
    "d0_func.interpolate(d0_expr)\n",
    "\n",
    "phi0_P1_expr = Expression(phi0_ufl, d_FS.element.interpolation_points())\n",
    "phi0_P1 = Function(d_FS)\n",
    "phi0_P1.interpolate(phi0_P1_expr)\n"
   ]
  },
  {
   "cell_type": "code",
   "execution_count": 29,
   "metadata": {},
   "outputs": [
    {
     "data": {
      "application/vnd.jupyter.widget-view+json": {
       "model_id": "4902bfa33ffa4dbb91f489c07f046758",
       "version_major": 2,
       "version_minor": 0
      },
      "text/plain": [
       "Widget(value='<iframe src=\"http://localhost:43253/index.html?ui=P_0x7fd87c114e30_8&reconnect=auto\" class=\"pyvi…"
      ]
     },
     "metadata": {},
     "output_type": "display_data"
    }
   ],
   "source": [
    "topology, cell_types, geometry = plot.vtk_mesh(d_FS)\n",
    "\n",
    "geometry_phi0_P1 = phi0_P1.x.array.reshape((geometry.shape[0], len(phi0_P1)))\n",
    "\n",
    "geometry_d0 = d0_func.x.array.reshape((geometry.shape[0], len(d0_func)))\n",
    "\n",
    "grid_phi0_P1 = pyvista.UnstructuredGrid(topology, cell_types, geometry_phi0_P1)\n",
    "\n",
    "grid_phi0_P1[\"d0\"] = geometry_d0\n",
    "\n",
    "\n",
    "glyphs_d0 = grid_phi0_P1.glyph(orient=\"d0\", factor=0.1)\n",
    "\n",
    "plotter = pyvista.Plotter()\n",
    "plotter.add_mesh(grid_phi0_P1, style=\"wireframe\", color=\"k\", line_width= 0.5)\n",
    "plotter.add_mesh(glyphs_d0)\n",
    "\n",
    "# plotter.camera_position = 'xz'\n",
    "# plotter.camera.azimuth = -45\n",
    "# plotter.camera.elevation = 15\n",
    "\n",
    "plotter.enable_parallel_projection()\n",
    "plotter.view_xz()\n",
    "plotter.show_axes_all()\n",
    "\n",
    "plotter.show()"
   ]
  },
  {
   "cell_type": "markdown",
   "metadata": {},
   "source": [
    "# Nonlinear Naghdi Shell elements"
   ]
  },
  {
   "cell_type": "markdown",
   "metadata": {},
   "source": [
    "## Define element\n",
    "\n",
    "For 3 translations $u_x$, $u_y$, and $u_z$, we use 2nd order Langrange elements enriched with 3rd order Bubble elements\n",
    "\n",
    "For 2 rotations $\\theta_1$ and $\\theta_2$, we use 2nd order Langrange elements."
   ]
  },
  {
   "cell_type": "code",
   "execution_count": 8,
   "metadata": {},
   "outputs": [],
   "source": [
    "# for the 3 translation DOFs, we use the P2 + B3 enriched element\n",
    "P2 = FiniteElement(\"Lagrange\", ufl.triangle, degree = 2)\n",
    "B3 = FiniteElement(\"Bubble\", ufl.triangle, degree = 3)\n",
    "\n",
    "# Enriched\n",
    "P2B3 = P2 + B3\n",
    "\n",
    "# for 2 rotation DOFs, we use P2 element\n",
    "\n",
    "# mixed element for the nonlinear Naghdi shell\n",
    "naghdi_shell_element = MixedElement([VectorElement(P2B3, dim = 3), VectorElement(P2, dim=2)])\n",
    "naghdi_shell_FS = FunctionSpace(mesh, naghdi_shell_element)"
   ]
  },
  {
   "cell_type": "markdown",
   "metadata": {},
   "source": [
    "## Define `Function`"
   ]
  },
  {
   "cell_type": "code",
   "execution_count": 9,
   "metadata": {},
   "outputs": [],
   "source": [
    "q_func = Function(naghdi_shell_FS)\n",
    "q_trial = ufl.TrialFunction(naghdi_shell_FS)\n",
    "q_test = ufl.TestFunction(naghdi_shell_FS)\n",
    "\n",
    "u_func, theta_func = split(q_func)"
   ]
  },
  {
   "cell_type": "markdown",
   "metadata": {},
   "source": [
    "## Define metric and curvature tensor\n",
    "\n",
    "Deformation gradient\n",
    "$$\n",
    "\\mathbf{F} = \\nabla \\vec{\\phi} \\quad  (F_{ij} = \\frac{\\partial \\phi_i}{\\partial \\xi_j}); \\quad \\vec{\\phi} = \\vec{\\phi}_0 + \n",
    "\\vec{u}\n",
    "$$\n",
    "\n",
    "Metric tensor $\\mathbf{a} \\in \\mathbb{S}^2_+$ and curvature tensor $\\mathbf{b} \\in \\mathbb{S}^2$ (First and second fundamental form)\n",
    "$$\n",
    "\\mathbf{a} = {\\nabla \\vec{\\phi}} ^{T} \\nabla \\vec{\\phi} \\\\\n",
    "\\mathbf{b} = -\\frac{1}{2}({\\nabla \\vec{\\phi}} ^{T} \\nabla \\vec{d} + {\\nabla \\vec{d}} ^{T} \\nabla \\vec{\\phi})\n",
    "\n",
    "$$\n",
    "\n",
    "Initial configuration, $\\vec{d} = \\vec{n}_0$, $\\vec{\\phi} = \\vec{\\phi}_0$, conresponding initial tensors $\\mathbf{a}_0$, $\\mathbf{b}_0$"
   ]
  },
  {
   "cell_type": "code",
   "execution_count": 10,
   "metadata": {},
   "outputs": [],
   "source": [
    "# current deformation gradient \n",
    "F = grad(u_func) + grad(phi0_ufl) \n",
    "\n",
    "# current director\n",
    "d = director(R0_ufl, theta_func)\n",
    "\n",
    "# initial metric and curvature tensor a0 and b0\n",
    "a0_ufl = grad(phi0_ufl).T * grad(phi0_ufl)\n",
    "b0_ufl = -0.5*( grad(phi0_ufl).T * grad(n0_ufl) + grad(n0_ufl).T * grad(phi0_ufl) )"
   ]
  },
  {
   "cell_type": "markdown",
   "metadata": {},
   "source": [
    "## Define strain measures\n",
    "\n",
    "- Membrane strain tensor $\\boldsymbol{\\varepsilon}(\\vec{u})$\n",
    "\n",
    "$$\n",
    "\\boldsymbol{\\varepsilon} (\\vec{u})= \\frac{1}{2} \\left ( \\mathbf{a}(\\vec{u}) - \\mathbf{a}_0 \\right)\n",
    "$$\n",
    "\n",
    "- Bending strain tensor $\\boldsymbol{\\kappa}(\\vec{u}, \\vec{\\theta})$ \n",
    "\n",
    "$$\n",
    "\\boldsymbol{\\kappa}(\\vec{u}, \\vec{\\theta}) = \\mathbf{b}(\\vec{u}, \\vec{\\theta}) - \\mathbf{b}_0\n",
    "$$\n",
    "\n",
    "- transverse shear strain vector $\\vec{\\gamma}(\\vec{u}, \\vec{\\theta})$ \n",
    "\n",
    "$$\n",
    "\\begin{aligned}\n",
    "\\vec{\\gamma}(\\vec{u}, \\vec{\\theta}) & = {\\nabla \\vec{\\phi}(\\vec{u})}^T \\vec{d}(\\vec{\\theta}) - {\\nabla\\vec{\\phi}_0}^T \\vec{n}_0 \\\\\n",
    "& = {\\nabla \\vec{\\phi}(\\vec{u})}^T \\vec{d}(\\vec{\\theta}) \\quad \\text{if zero initial shears}\n",
    "\\end{aligned}\n",
    "$$\n",
    "\n"
   ]
  },
  {
   "cell_type": "code",
   "execution_count": 11,
   "metadata": {},
   "outputs": [],
   "source": [
    "# membrane strain\n",
    "epsilon = lambda F: 0.5*(F.T * F - a0_ufl)\n",
    "\n",
    "# bending strain\n",
    "kappa = lambda F, d: -0.5 * (F.T * grad(d) + grad(d).T * F) - b0_ufl\n",
    "\n",
    "# transverse shear strain (zero initial shear strain)\n",
    "gamma = lambda F, d: F.T * d"
   ]
  },
  {
   "cell_type": "markdown",
   "metadata": {},
   "source": [
    "## Define isotropic linear material model\n",
    "\n",
    "- Membrane stiffness modulus $A^{\\alpha\\beta\\sigma\\tau}$, $D^{\\alpha\\beta\\sigma\\tau}$ (__contravariant__ components)\n",
    "\n",
    "$$\n",
    "\\frac{A^{\\alpha\\beta\\sigma\\tau}}t=12\\frac{D^{\\alpha\\beta\\sigma\\tau}}{t^3}=\\frac{2\\lambda\\mu}{\\lambda+2\\mu}a_0^{\\alpha\\beta}a_0^{\\sigma\\tau}+\\mu(a_0^{\\alpha\\sigma}a_0^{\\beta\\tau}+a_0^{\\alpha\\tau}a_0^{\\beta\\sigma})\n",
    "$$\n",
    "\n",
    "- Shear stiffness modulus $S^{\\alpha\\beta}$\n",
    "\n",
    "$$\n",
    "\\frac{S^{\\alpha\\beta}}t = \\mu a_0^{\\alpha\\beta}\n",
    "$$\n"
   ]
  },
  {
   "cell_type": "code",
   "execution_count": 12,
   "metadata": {},
   "outputs": [],
   "source": [
    "a0_contra_ufl = ufl.inv(a0_ufl)\n",
    "j0_ufl = ufl.det(a0_ufl)\n",
    "\n",
    "i,j,l,m = ufl.indices(4)\n",
    "A_contra_ufl = ufl.as_tensor( ( ((2.0*lmbda*mu) / (lmbda + 2.0*mu)) * a0_contra_ufl[i,j]*a0_contra_ufl[l,m]\n",
    "                + 1.0*mu* (a0_contra_ufl[i,l]*a0_contra_ufl[j,m] + a0_contra_ufl[i,m]*a0_contra_ufl[j,l]) )\n",
    "                ,[i,j,l,m])\n"
   ]
  },
  {
   "cell_type": "markdown",
   "metadata": {},
   "source": [
    "## Define stress measures\n",
    "\n",
    "- Membrane stress tensor $\\mathbf{N}$\n",
    "\n",
    "$$\n",
    "\\mathbf{N} = \\mathbf{A} : \\boldsymbol{\\varepsilon}\n",
    "$$\n",
    "\n",
    "- Bending stress tensor $\\mathbf{M}$\n",
    "\n",
    "$$\n",
    "\\mathbf{M} = \\mathbf{D} : \\boldsymbol{\\kappa}\n",
    "$$\n",
    "\n",
    "- Shear stress vector $\\vec{T}$\n",
    "\n",
    "$$\n",
    "\\vec{T} = \\mathbf{S} \\cdot \\vec{\\gamma}\n",
    "$$\n"
   ]
  },
  {
   "cell_type": "code",
   "execution_count": 13,
   "metadata": {},
   "outputs": [],
   "source": [
    "N = ufl.as_tensor(t * A_contra_ufl[i,j,l,m] * epsilon(F)[l,m], [i,j])\n",
    "\n",
    "M = ufl.as_tensor( (t**3 / 12.0) * A_contra_ufl[i,j,l,m]*kappa(F, d)[l,m], [i,j])\n",
    "\n",
    "T = ufl.as_tensor( (t * mu) * a0_contra_ufl[i, j] * gamma(F, d)[j], [i])"
   ]
  },
  {
   "cell_type": "markdown",
   "metadata": {},
   "source": [
    "## Define elastic strain energy density\n",
    "$\\psi_{m}$, $\\psi_{b}$, $\\psi_{s}$ for membrane, bending and shear, respectively.\n",
    "\n",
    "$$\n",
    "\\psi_m = \\frac{1}{2} \\mathbf{N} : \\boldsymbol{\\varepsilon}; \\quad\n",
    "\\psi_b = \\frac{1}{2} \\mathbf{M} : \\boldsymbol{\\kappa}; \\quad\n",
    "\\psi_s = \\frac{1}{2} \\vec{T} \\cdot \\vec{\\gamma}\n",
    "$$"
   ]
  },
  {
   "cell_type": "code",
   "execution_count": 14,
   "metadata": {},
   "outputs": [],
   "source": [
    "psi_m = 0.5*inner(N, epsilon(F))\n",
    "\n",
    "psi_b = 0.5*inner(M, kappa(F, d))\n",
    "\n",
    "psi_s = 0.5*inner(T, gamma(F, d))"
   ]
  },
  {
   "cell_type": "markdown",
   "metadata": {},
   "source": [
    "## Partial selective reduced integration (PSRI)\n",
    "\n",
    "We introduce a parameter $\\alpha \\in \\mathbb{R}$ that splits the membrane and shear energy in the energy functional into a weighted sum of two parts:\n",
    "\n",
    "$$\n",
    "\\begin{aligned}\\Pi_{N}(u,\\theta)&=\\Pi^b(u_h,\\theta_h)+\\alpha\\Pi^m(u_h)+(1-\\alpha)\\Pi^m(u_h)\\\\&+\\alpha\\Pi^s(u_h,\\theta_h)+(1-\\alpha)\\Pi^s(u_h,\\theta_h)-W_{\\mathrm{ext}},\\end{aligned}\n",
    "$$\n",
    "\n",
    "We apply reduced integration to the parts weighted by the factor $(1-\\alpha)$\n",
    "\n",
    "- Optimal choice $\\alpha = \\frac{t^2}{h^2}$, $h$ is the diameter of the cell\n",
    "- Full integration : Gauss quadrature of degree 4 (6 integral points for triangle)\n",
    "- Reduced integration : Gauss quadrature of degree 2 (3 integral points for triangle)\n",
    "\n",
    "__More on lockings__:\n",
    "\n",
    "As we can see in the definition of bending, membrane and shear stiffness modulus:\n",
    "$$\n",
    "\\Pi ^ b \\propto t^3, \\quad \\Pi^m \\propto t, \\quad \\Pi^s \\propto t\n",
    "$$\n",
    "\n",
    "when thickness $t$ is very small, $\\Pi^b$ is much smaller than $\\Pi^m$ and $\\Pi^s$. In order to find the minimum of total energy functional, it is almost equivalent to require  $\\Pi^m = \\Pi^s = 0$. \n",
    "\n",
    "However, with common FEM discretizations, this requirement is too strong, the resulting solution of $\\vec{u}_h, \\vec{\\theta}_h$ is very close to zero even at strong external forces, unless the mesh size is small compared with the thickness.\n",
    "\n",
    "For example, we consider shear strain $\\gamma = \\nabla w - \\theta$, with 1st order piecewise polynomal approximations $w_h$ and $\\theta_h$. The only solution for $\\gamma_h = \\nabla w_h - \\theta_h = 0$ is $w_h = 0, \\theta_h = 0$\n",
    "\n",
    "__More on reduced integration__:\n",
    "\n",
    "With reduced integration, the new constraint is far less restrictive. It is now possible to have nonzero solutions $u_h, \\theta_h $ for $\\Pi^{m,r} = \\Pi^{s,r} = 0$.\n",
    "\n",
    "How reduced integration may threaten the stability of FEM, because of the existence of spurious zero-stiffness modes. In other words, there may exist nonzero solutions $\\vec{q}_{nz}$ for all the three kinds of energy equal to zero: $\\Pi^{b,r}(\\vec{q}_{nz}) = \\Pi^{m,r}(\\vec{q}_{nz}) = \\Pi^{s,r}(\\vec{q}_{nz}) = 0$"
   ]
  },
  {
   "cell_type": "code",
   "execution_count": 15,
   "metadata": {},
   "outputs": [],
   "source": [
    "dx_f = ufl.Measure('dx', domain=mesh, metadata={\"quadrature_degree\": 4})\n",
    "dx_r = ufl.Measure('dx', domain=mesh, metadata={\"quadrature_degree\": 2})\n",
    "\n",
    "h = ufl.CellDiameter(mesh)\n",
    "\n",
    "alpha_FS = FunctionSpace(mesh, FiniteElement(\"DG\", ufl.triangle, 0))\n",
    "alpha_expr = Expression(t**2 / h**2, alpha_FS.element.interpolation_points())\n",
    "\n",
    "alpha = Function(alpha_FS)\n",
    "alpha.interpolate(alpha_expr)\n",
    "\n",
    "# Full integration part\n",
    "Pi_PSRI = psi_b * ufl.sqrt(j0_ufl) * dx_f \n",
    "Pi_PSRI += alpha * psi_m * ufl.sqrt(j0_ufl) * dx_f\n",
    "Pi_PSRI += alpha * psi_s * ufl.sqrt(j0_ufl) * dx_f\n",
    "\n",
    "# Reduced integration part\n",
    "Pi_PSRI += (1.0 - alpha) * psi_m * ufl.sqrt(j0_ufl) * dx_r\n",
    "Pi_PSRI += (1.0 - alpha) * psi_s * ufl.sqrt(j0_ufl) * dx_r"
   ]
  },
  {
   "cell_type": "markdown",
   "metadata": {},
   "source": [
    "## Internal Force vector and Jacobian matrix"
   ]
  },
  {
   "cell_type": "code",
   "execution_count": 16,
   "metadata": {},
   "outputs": [],
   "source": [
    "Residual = ufl.derivative(Pi_PSRI, q_func, q_test)\n",
    "Jacobian = ufl.derivative(Residual, q_func, q_trial)"
   ]
  },
  {
   "cell_type": "markdown",
   "metadata": {},
   "source": [
    "# Boundary conditions"
   ]
  },
  {
   "cell_type": "markdown",
   "metadata": {},
   "source": [
    "## Dirichlet BC\n"
   ]
  },
  {
   "cell_type": "markdown",
   "metadata": {},
   "source": [
    "\n",
    "- Clamped boundary conditions at $X_1 = 0$"
   ]
  },
  {
   "cell_type": "code",
   "execution_count": 17,
   "metadata": {},
   "outputs": [],
   "source": [
    "def clamped_boundary(x):\n",
    "    return np.isclose(x[1], 0.0)\n",
    "\n",
    "fdim = tdim - 1\n",
    "\n",
    "clamped_facets = locate_entities_boundary(mesh, fdim, clamped_boundary)\n",
    "\n",
    "\n",
    "u_FS, _ = naghdi_shell_FS.sub(0).collapse()\n",
    "theta_FS, _ = naghdi_shell_FS.sub(1).collapse()\n",
    "\n",
    "# u1, u2, u3 = 0 on the clamped boundary\n",
    "u_clamped = Function(u_FS)\n",
    "clamped_dofs_u = locate_dofs_topological((naghdi_shell_FS.sub(0), u_FS), fdim, clamped_facets)\n",
    "bc_clamped_u = dirichletbc(u_clamped, clamped_dofs_u, naghdi_shell_FS.sub(0))\n",
    "\n",
    "# theta1, theta2 = 0 on the clamped boundary\n",
    "theta_clamped = Function(theta_FS)\n",
    "clamped_dofs_theta = locate_dofs_topological((naghdi_shell_FS.sub(1), theta_FS), fdim, clamped_facets)\n",
    "bc_clamped_theta = dirichletbc(theta_clamped, clamped_dofs_theta, naghdi_shell_FS.sub(1))\n"
   ]
  },
  {
   "cell_type": "markdown",
   "metadata": {},
   "source": [
    "- Symmetric boundary conditions on left and right side ($u_3 = 0, \\theta_2 = 0$)"
   ]
  },
  {
   "cell_type": "code",
   "execution_count": 18,
   "metadata": {},
   "outputs": [],
   "source": [
    "def symm_boundary(x):\n",
    "    return np.isclose(abs(x[0]), np.pi/2)\n",
    "\n",
    "symm_facets = locate_entities_boundary(mesh, fdim, symm_boundary)\n",
    "\n",
    "symm_dofs_u = locate_dofs_topological((naghdi_shell_FS.sub(0).sub(2), u_FS.sub(2)), fdim, symm_facets)\n",
    "bc_symm_u = dirichletbc(u_clamped, symm_dofs_u, naghdi_shell_FS.sub(0).sub(2))\n",
    "\n",
    "symm_dofs_theta = locate_dofs_topological((naghdi_shell_FS.sub(1).sub(1), theta_FS.sub(1)), fdim, symm_facets)\n",
    "bc_symm_theta = dirichletbc(theta_clamped, symm_dofs_theta, naghdi_shell_FS.sub(1).sub(1))\n"
   ]
  },
  {
   "cell_type": "code",
   "execution_count": 19,
   "metadata": {},
   "outputs": [],
   "source": [
    "bcs = [bc_clamped_u, bc_clamped_theta, bc_symm_u, bc_symm_theta]"
   ]
  },
  {
   "cell_type": "markdown",
   "metadata": {},
   "source": [
    "# Point Force "
   ]
  },
  {
   "cell_type": "code",
   "execution_count": 20,
   "metadata": {},
   "outputs": [],
   "source": [
    "def compute_cell_contributions(V, points):\n",
    "    # Determine what process owns a point and what cells it lies within\n",
    "    mesh = V.mesh\n",
    "    _, _, owning_points, cells = dolfinx.cpp.geometry.determine_point_ownership(\n",
    "        mesh._cpp_object, points, 1e-6)\n",
    "    owning_points = np.asarray(owning_points).reshape(-1, 3)\n",
    "\n",
    "    # Pull owning points back to reference cell\n",
    "    mesh_nodes = mesh.geometry.x\n",
    "    cmap = mesh.geometry.cmaps[0]\n",
    "    ref_x = np.zeros((len(cells), mesh.geometry.dim),\n",
    "                     dtype=mesh.geometry.x.dtype)\n",
    "    for i, (point, cell) in enumerate(zip(owning_points, cells)):\n",
    "        geom_dofs = mesh.geometry.dofmap[cell]\n",
    "        ref_x[i] = cmap.pull_back(point.reshape(-1, 3), mesh_nodes[geom_dofs])\n",
    "\n",
    "    # Create expression evaluating a trial function (i.e. just the basis function)\n",
    "    u = ufl.TrialFunction(V.sub(0).sub(2))\n",
    "    num_dofs = V.sub(0).sub(2).dofmap.dof_layout.num_dofs * V.sub(0).sub(2).dofmap.bs\n",
    "    if len(cells) > 0:\n",
    "        # NOTE: Expression lives on only this communicator rank\n",
    "        expr = dolfinx.fem.Expression(u, ref_x, comm=MPI.COMM_SELF)\n",
    "        values = expr.eval(mesh, np.asarray(cells, dtype=np.int32))\n",
    "\n",
    "        # Strip out basis function values per cell\n",
    "        basis_values = values[:num_dofs:num_dofs*len(cells)]\n",
    "    else:\n",
    "        basis_values = np.zeros(\n",
    "            (0, num_dofs), dtype=dolfinx.default_scalar_type)\n",
    "    return cells, basis_values"
   ]
  },
  {
   "cell_type": "code",
   "execution_count": 21,
   "metadata": {},
   "outputs": [],
   "source": [
    "# Point source\n",
    "if mesh.comm.rank == 0:\n",
    "    points = np.array([[0.0, L, 0.0]], dtype=mesh.geometry.x.dtype)\n",
    "else:\n",
    "    points = np.zeros((0, 3), dtype=mesh.geometry.x.dtype)\n",
    "\n",
    "cells, basis_values = compute_cell_contributions(naghdi_shell_FS, points)"
   ]
  },
  {
   "cell_type": "markdown",
   "metadata": {},
   "source": [
    "## Test BC and point force\n"
   ]
  },
  {
   "cell_type": "code",
   "execution_count": 15,
   "metadata": {},
   "outputs": [],
   "source": [
    "q_test_bc = Function(naghdi_shell_FS)\n",
    "q_test_bc.x.array[:] = 2.0\n",
    "\n",
    "cells, basis_values = compute_cell_contributions(naghdi_shell_FS, points)\n",
    "\n",
    "for cell, basis_value in zip(cells, basis_values):\n",
    "    dofs = naghdi_shell_FS.sub(0).sub(2).dofmap.cell_dofs(cell)\n",
    "    q_test_bc.x.array[dofs] += basis_value * -10.0\n",
    "\n",
    "dolfinx.fem.petsc.set_bc(q_test_bc.vector, bcs)\n",
    "q_test_bc.x.scatter_forward()"
   ]
  },
  {
   "cell_type": "code",
   "execution_count": 13,
   "metadata": {},
   "outputs": [],
   "source": [
    "U_FS = FunctionSpace(mesh, VectorElement(P2, dim = 3))\n",
    "U = Function(U_FS)\n",
    "U.interpolate(q_test_bc.sub(0).collapse())\n",
    "\n",
    "with dolfinx.io.VTXWriter(mesh.comm, \"u.bp\", [U]) as vtx:\n",
    "     vtx.write(0)\n",
    "    \n",
    "with dolfinx.io.VTXWriter(mesh.comm, \"theta.bp\", [q_test_bc.sub(1).collapse()]) as vtx:\n",
    "    vtx.write(0)"
   ]
  },
  {
   "cell_type": "code",
   "execution_count": 16,
   "metadata": {},
   "outputs": [
    {
     "data": {
      "application/vnd.jupyter.widget-view+json": {
       "model_id": "94e32099eae74deb8daceaa0fc837943",
       "version_major": 2,
       "version_minor": 0
      },
      "text/plain": [
       "Widget(value='<iframe src=\"http://localhost:36613/index.html?ui=P_0x7febb8d4e4b0_3&reconnect=auto\" class=\"pyvi…"
      ]
     },
     "metadata": {},
     "output_type": "display_data"
    }
   ],
   "source": [
    "u_id = 2\n",
    "\n",
    "# interpolate ui from P2B3 space to P2\n",
    "Ui_FS = FunctionSpace(mesh, P2)\n",
    "ui_p2 = Function(Ui_FS)\n",
    "ui = q_test_bc.sub(0).sub(u_id).collapse()\n",
    "ui_p2.interpolate(ui)\n",
    "\n",
    "topology, cell_types, geometry = plot.vtk_mesh(Ui_FS)\n",
    "grid = pyvista.UnstructuredGrid(topology, cell_types, geometry)\n",
    "\n",
    "\n",
    "grid.point_data[f\"u{u_id + 1}\"] = ui_p2.x.array\n",
    "grid.set_active_scalars(f\"u{u_id + 1}\")\n",
    "\n",
    "plotter = pyvista.Plotter()\n",
    "plotter.add_mesh(grid, show_edges=True)\n",
    "plotter.view_xy()\n",
    "\n",
    "plotter.show()"
   ]
  },
  {
   "cell_type": "code",
   "execution_count": 18,
   "metadata": {},
   "outputs": [
    {
     "data": {
      "application/vnd.jupyter.widget-view+json": {
       "model_id": "3e2b24e1511a4639ba5b2ce6a08ef70d",
       "version_major": 2,
       "version_minor": 0
      },
      "text/plain": [
       "Widget(value='<iframe src=\"http://localhost:46769/index.html?ui=P_0x7faec9c9e3c0_2&reconnect=auto\" class=\"pyvi…"
      ]
     },
     "metadata": {},
     "output_type": "display_data"
    }
   ],
   "source": [
    "theta_id = 0 \n",
    "\n",
    "Theta_FS, _ = naghdi_shell_FS.sub(1).sub(theta_id).collapse()\n",
    "\n",
    "topology, cell_types, geometry = plot.vtk_mesh(Theta_FS)\n",
    "grid = pyvista.UnstructuredGrid(topology, cell_types, geometry)\n",
    "\n",
    "theta = q_test_bc.sub(1).sub(theta_id).collapse()\n",
    "grid.point_data[f\"theta{theta_id + 1}\"] = theta.x.array\n",
    "grid.set_active_scalars(f\"theta{theta_id + 1}\")\n",
    "\n",
    "plotter = pyvista.Plotter()\n",
    "plotter.add_mesh(grid, show_edges=True)\n",
    "plotter.view_xy()\n",
    "\n",
    "plotter.show()"
   ]
  },
  {
   "cell_type": "markdown",
   "metadata": {},
   "source": [
    "# Nonlinear problem plus point source"
   ]
  },
  {
   "cell_type": "code",
   "execution_count": 22,
   "metadata": {},
   "outputs": [],
   "source": [
    "import typing\n",
    "from dolfinx.fem.bcs import DirichletBC\n",
    "from dolfinx.fem.function import Function as _Function\n",
    "from dolfinx.fem.petsc import assemble_vector, apply_lifting, set_bc\n",
    "\n",
    "class NonlinearProblemPointSource(NonlinearProblem):\n",
    "    def __init__(self, F: ufl.form.Form, u: _Function, bcs: typing.List[DirichletBC] = [],\n",
    "                 J: ufl.form.Form = None, cells = [], basis_values = [], PS: float = 0.0):\n",
    "        \n",
    "        super().__init__(F, u, bcs, J)\n",
    "        \n",
    "        self.PS = PS\n",
    "        self.cells = cells\n",
    "        self.basis_values = basis_values\n",
    "        self.function_space = u.function_space\n",
    "        \n",
    "    def F(self, x: PETSc.Vec, b: PETSc.Vec) -> None:\n",
    "        # Reset the residual vector\n",
    "        with b.localForm() as b_local:\n",
    "            b_local.set(0.0)\n",
    "        assemble_vector(b, self._L)\n",
    "    \n",
    "        # Add point source\n",
    "        if len(self.cells) > 0:\n",
    "            for cell, basis_value in zip(self.cells, self.basis_values):\n",
    "                dofs = self.function_space.sub(0).sub(2).dofmap.cell_dofs(cell)\n",
    "                b.setValues(dofs, basis_value * self.PS, addv=PETSc.InsertMode.ADD_VALUES)\n",
    "        b.assemblyBegin()\n",
    "        b.assemblyEnd()\n",
    "        \n",
    "        # Apply boundary condition\n",
    "        apply_lifting(b, [self._a], bcs=[self.bcs], x0=[x], scale=-1.0)\n",
    "        b.ghostUpdate(addv=PETSc.InsertMode.ADD, mode=PETSc.ScatterMode.REVERSE)\n",
    "        set_bc(b, self.bcs, x, -1.0)"
   ]
  },
  {
   "cell_type": "code",
   "execution_count": 23,
   "metadata": {},
   "outputs": [],
   "source": [
    "problem = NonlinearProblemPointSource(Residual, q_func, bcs, Jacobian, cells, basis_values)\n",
    "\n",
    "solver = NewtonSolver(mesh.comm, problem)\n",
    "\n",
    "# Set Newton solver options\n",
    "solver.rtol = 1e-6\n",
    "solver.atol = 1e-6\n",
    "solver.max_it = 30\n",
    "solver.convergence_criterion = \"incremental\"\n",
    "solver.report = True\n",
    "\n",
    "# Modify the linear solver in each Newton iteration\n",
    "ksp = solver.krylov_solver\n",
    "opts = PETSc.Options()\n",
    "option_prefix = ksp.getOptionsPrefix()\n",
    "opts[f\"{option_prefix}ksp_type\"] = \"cg\"\n",
    "#opts[f\"{option_prefix}pc_type\"] = \"gamg\"\n",
    "opts[f\"{option_prefix}pc_factor_mat_solver_type\"] = \"mumps\"\n",
    "ksp.setFromOptions()"
   ]
  },
  {
   "cell_type": "code",
   "execution_count": 24,
   "metadata": {},
   "outputs": [],
   "source": [
    "\n",
    "\n",
    "# target point\n",
    "if mesh.comm.rank == 0:\n",
    "    bb_tree = dolfinx.geometry.bb_tree(mesh, 2)\n",
    "    bb_point = np.array([[0.0, L, 0.0]], dtype=np.float64)\n",
    "\n",
    "    # Find the leaf that the target point is in\n",
    "    bb_cell_candidates = dolfinx.geometry.compute_collisions_points(bb_tree, bb_point)\n",
    "\n",
    "    # Find the cell from the leaf that contains the target point\n",
    "    bb_cells = dolfinx.geometry.compute_colliding_cells(\n",
    "        mesh, bb_cell_candidates, bb_point)\n"
   ]
  },
  {
   "cell_type": "code",
   "execution_count": 31,
   "metadata": {},
   "outputs": [
    {
     "name": "stdout",
     "output_type": "stream",
     "text": [
      "Load step 1, Number of iterations: 5, Load: 40.00\n",
      "Load step 2, Number of iterations: 5, Load: 80.00\n",
      "Load step 3, Number of iterations: 6, Load: 120.00\n",
      "Load step 4, Number of iterations: 6, Load: 160.00\n",
      "Load step 5, Number of iterations: 6, Load: 200.00\n",
      "Load step 6, Number of iterations: 6, Load: 240.00\n",
      "Load step 7, Number of iterations: 6, Load: 280.00\n",
      "Load step 8, Number of iterations: 5, Load: 320.00\n",
      "Load step 9, Number of iterations: 5, Load: 360.00\n",
      "Load step 10, Number of iterations: 5, Load: 400.00\n",
      "Load step 11, Number of iterations: 6, Load: 440.00\n",
      "Load step 12, Number of iterations: 6, Load: 480.00\n",
      "Load step 13, Number of iterations: 7, Load: 520.00\n",
      "Load step 14, Number of iterations: 8, Load: 560.00\n",
      "Load step 15, Number of iterations: 8, Load: 600.00\n",
      "Load step 16, Number of iterations: 10, Load: 640.00\n",
      "Load step 17, Number of iterations: 10, Load: 680.00\n",
      "Load step 18, Number of iterations: 9, Load: 720.00\n",
      "Load step 19, Number of iterations: 9, Load: 760.00\n",
      "Load step 20, Number of iterations: 8, Load: 800.00\n",
      "Load step 21, Number of iterations: 7, Load: 840.00\n",
      "Load step 22, Number of iterations: 7, Load: 880.00\n",
      "Load step 23, Number of iterations: 7, Load: 920.00\n",
      "Load step 24, Number of iterations: 6, Load: 960.00\n",
      "Load step 25, Number of iterations: 6, Load: 1000.00\n",
      "Load step 26, Number of iterations: 6, Load: 1040.00\n",
      "Load step 27, Number of iterations: 6, Load: 1080.00\n",
      "Load step 28, Number of iterations: 5, Load: 1120.00\n",
      "Load step 29, Number of iterations: 6, Load: 1160.00\n",
      "Load step 30, Number of iterations: 6, Load: 1200.00\n",
      "Load step 31, Number of iterations: 5, Load: 1240.00\n",
      "Load step 32, Number of iterations: 5, Load: 1280.00\n",
      "Load step 33, Number of iterations: 5, Load: 1320.00\n",
      "Load step 34, Number of iterations: 6, Load: 1360.00\n",
      "Load step 35, Number of iterations: 5, Load: 1400.00\n",
      "Load step 36, Number of iterations: 5, Load: 1440.00\n",
      "Load step 37, Number of iterations: 5, Load: 1480.00\n",
      "Load step 38, Number of iterations: 5, Load: 1520.00\n",
      "Load step 39, Number of iterations: 5, Load: 1560.00\n",
      "Load step 40, Number of iterations: 5, Load: 1600.00\n",
      "Load step 41, Number of iterations: 5, Load: 1640.00\n",
      "Load step 42, Number of iterations: 5, Load: 1680.00\n",
      "Load step 43, Number of iterations: 5, Load: 1720.00\n",
      "Load step 44, Number of iterations: 5, Load: 1760.00\n",
      "Load step 45, Number of iterations: 5, Load: 1800.00\n",
      "Load step 46, Number of iterations: 5, Load: 1840.00\n",
      "Load step 47, Number of iterations: 5, Load: 1880.00\n",
      "Load step 48, Number of iterations: 5, Load: 1920.00\n",
      "Load step 49, Number of iterations: 5, Load: 1960.00\n",
      "Load step 50, Number of iterations: 5, Load: 2000.00\n"
     ]
    }
   ],
   "source": [
    "#log.set_log_level(log.LogLevel.INFO)\n",
    "\n",
    "PS_diff = 40.0\n",
    "n_step = 50\n",
    "u3_list = np.zeros(n_step + 1)\n",
    "PS_list = np.arange(0, PS_diff * (n_step + 1), PS_diff)\n",
    "\n",
    "q_func.x.array[:] = 0.0\n",
    "for i in range(1, n_step + 1):\n",
    "    problem.PS = PS_diff * i\n",
    "    n, converged = solver.solve(q_func)\n",
    "    assert (converged)\n",
    "    q_func.x.scatter_forward()\n",
    "    print(f\"Load step {i:d}, Number of iterations: {n:d}, Load: {problem.PS:.2f}\")\n",
    "    if mesh.comm.rank == 0:\n",
    "        if len(bb_cells) > 0:\n",
    "            u3_func = q_func.sub(0).sub(2).collapse()\n",
    "            u3_bb = u3_func.eval(bb_point, bb_cells.array[0])\n",
    "            u3_list[i] = u3_bb[0]"
   ]
  },
  {
   "cell_type": "markdown",
   "metadata": {},
   "source": [
    "## Plot the deformed shape"
   ]
  },
  {
   "cell_type": "code",
   "execution_count": 32,
   "metadata": {},
   "outputs": [],
   "source": [
    "# interpolate phi_ufl into CG2 Space\n",
    "log.set_log_level(log.LogLevel.OFF)\n",
    "\n",
    "u = q_func.sub(0).collapse()\n",
    "\n",
    "phi_FS = FunctionSpace(mesh, VectorElement(\"Lagrange\", ufl.triangle, degree = 2, dim = 3))\n",
    "phi_expr = Expression(phi0_ufl + u, phi_FS.element.interpolation_points())\n",
    "\n",
    "phi_func = Function(phi_FS)\n",
    "phi_func.interpolate(phi_expr)\n"
   ]
  },
  {
   "cell_type": "code",
   "execution_count": 33,
   "metadata": {},
   "outputs": [
    {
     "data": {
      "image/png": "[encoded data removed]",
      "text/plain": [
       "<Figure size 640x480 with 1 Axes>"
      ]
     },
     "metadata": {},
     "output_type": "display_data"
    }
   ],
   "source": [
    "import matplotlib.pyplot as plt\n",
    "\n",
    "plt.figure()\n",
    "reference_Sze = np.array([\n",
    "    1.e-2*np.array([0., 5.421, 16.1, 22.195, 27.657, 32.7, 37.582, 42.633,\n",
    "    48.537, 56.355, 66.410, 79.810, 94.669, 113.704, 124.751, 132.653,\n",
    "    138.920, 144.185, 148.770, 152.863, 156.584, 160.015, 163.211,\n",
    "    166.200, 168.973, 171.505]),\n",
    "    2000.*np.array([0., .05, .1, .125, .15, .175, .2, .225, .25, .275, .3,\n",
    "    .325, .35, .4, .45, .5, .55, .6, .65, .7, .75, .8, .85, .9, .95, 1.])\n",
    "    ])\n",
    "plt.plot(-u3_list, PS_list, label='FEniCS')\n",
    "plt.plot(*reference_Sze, \"or\", label='Sze (Abaqus S4R)')\n",
    "plt.xlabel(\"Displacement (mm)\")\n",
    "plt.ylabel(\"Load (N)\")\n",
    "plt.legend()\n",
    "plt.grid()\n",
    "plt.show()"
   ]
  },
  {
   "cell_type": "code",
   "execution_count": 34,
   "metadata": {},
   "outputs": [
    {
     "data": {
      "application/vnd.jupyter.widget-view+json": {
       "model_id": "26c0c803d64e49a089a7300f3d4d7ca3",
       "version_major": 2,
       "version_minor": 0
      },
      "text/plain": [
       "Widget(value='<iframe src=\"http://localhost:34559/index.html?ui=P_0x7f82cbb90f50_0&reconnect=auto\" class=\"pyvi…"
      ]
     },
     "metadata": {},
     "output_type": "display_data"
    }
   ],
   "source": [
    "topology, cell_types, geometry = plot.vtk_mesh(phi_FS)\n",
    "\n",
    "geometry_phi = phi_func.x.array.reshape((geometry.shape[0], len(phi_func)))\n",
    "\n",
    "grid_phi = pyvista.UnstructuredGrid(topology, cell_types, geometry_phi)\n",
    "\n",
    "plotter = pyvista.Plotter()\n",
    "plotter.add_mesh(grid_phi, show_edges=True)\n",
    "\n",
    "plotter.show()\n"
   ]
  }
 ],
 "metadata": {
  "kernelspec": {
   "display_name": "fenicsx-env",
   "language": "python",
   "name": "fenicsx-env"
  },
  "language_info": {
   "codemirror_mode": {
    "name": "ipython",
    "version": 3
   },
   "file_extension": ".py",
   "mimetype": "text/x-python",
   "name": "python",
   "nbconvert_exporter": "python",
   "pygments_lexer": "ipython3",
   "version": "3.12.0"
  }
 },
 "nbformat": 4,
 "nbformat_minor": 2
}
