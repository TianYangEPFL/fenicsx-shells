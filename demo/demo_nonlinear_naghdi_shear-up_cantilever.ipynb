{
 "cells": [
  {
   "cell_type": "code",
   "execution_count": 24,
   "metadata": {},
   "outputs": [],
   "source": [
    "import numpy as np\n",
    "\n",
    "from mpi4py import MPI\n",
    "from petsc4py import PETSc\n",
    "\n",
    "import dolfinx\n",
    "import ufl\n",
    "from basix.ufl import blocked_element, element, enriched_element, mixed_element\n",
    "from dolfinx.fem import Function, functionspace, dirichletbc, Expression, locate_dofs_topological, Constant\n",
    "from dolfinx.fem.petsc import NonlinearProblem\n",
    "from dolfinx.mesh import CellType, create_rectangle, locate_entities_boundary, meshtags\n",
    "from ufl import grad, inner, split\n",
    "from dolfinx import plot, default_scalar_type\n",
    "from dolfinx.nls.petsc import NewtonSolver\n",
    "from tqdm import tqdm\n",
    "import pyvista"
   ]
  },
  {
   "cell_type": "markdown",
   "metadata": {},
   "source": [
    "# Simulation setup"
   ]
  },
  {
   "cell_type": "code",
   "execution_count": 25,
   "metadata": {},
   "outputs": [],
   "source": [
    "nex = int(8)\n",
    "ney = int(1)\n",
    "\n",
    "PSRI_control = False\n",
    "plot_control = False\n",
    "\n",
    "ele_dict = {0 : \"tri_P1\",\n",
    "            1 : \"tri_P2\",\n",
    "            2 : \"tri_P2B3\",\n",
    "            3 : \"qua_P1\",\n",
    "            4 : \"qua_P2\"}\n",
    "\n",
    "ele_index = 0\n",
    "ele_type = ele_dict[ele_index]\n",
    "\n",
    "\n",
    "if ele_type == \"tri_P2B3\":\n",
    "    cell_type = CellType.triangle\n",
    "    \n",
    "elif ele_type == \"tri_P2\":\n",
    "    cell_type = CellType.triangle\n",
    "\n",
    "elif ele_type == \"tri_P1\":\n",
    "    cell_type = CellType.triangle\n",
    "    \n",
    "elif ele_type == \"qua_P2\":\n",
    "    cell_type = CellType.quadrilateral\n",
    "    \n",
    "elif ele_type == \"qua_P1\":\n",
    "    cell_type = CellType.quadrilateral"
   ]
  },
  {
   "cell_type": "code",
   "execution_count": 26,
   "metadata": {},
   "outputs": [],
   "source": [
    "from pathlib import Path\n",
    "\n",
    "if not PSRI_control:\n",
    "    results_folder = Path(f\"results/nonlinear_Naghdi/non_PSRI/shear-up_cantilever/{nex}_{ney}_{ele_type}\")\n",
    "else:\n",
    "    results_folder = Path(f\"results/nonlinear_Naghdi/shear-up_cantilever/{nex}_{ney}_{ele_type}\")\n",
    "    \n",
    "results_folder.mkdir(exist_ok=True, parents=True)\n",
    "\n",
    "if plot_control:\n",
    "    pyvista.start_xvfb()"
   ]
  },
  {
   "cell_type": "markdown",
   "metadata": {},
   "source": [
    "# Mesh"
   ]
  },
  {
   "cell_type": "code",
   "execution_count": 27,
   "metadata": {},
   "outputs": [],
   "source": [
    "length = 10.0\n",
    "width = 1.0\n",
    "\n",
    "mesh = create_rectangle(MPI.COMM_WORLD, np.array([[0.0, -width/2.0], [length, width/2.0]]), [nex, ney], cell_type)\n",
    "tdim = mesh.topology.dim\n",
    "fdim = tdim - 1\n",
    "\n",
    "cell = mesh.basix_cell()\n",
    "P1 = element(\"Lagrange\", cell, degree=1)\n",
    "P2 = element(\"Lagrange\", cell, degree=2)\n",
    "B3 = element(\"Bubble\", cell, degree=3)"
   ]
  },
  {
   "cell_type": "markdown",
   "metadata": {},
   "source": [
    "## plot mesh"
   ]
  },
  {
   "cell_type": "code",
   "execution_count": 5,
   "metadata": {},
   "outputs": [
    {
     "data": {
      "application/vnd.jupyter.widget-view+json": {
       "model_id": "e99dce83e19c44cfa2efea83756c0701",
       "version_major": 2,
       "version_minor": 0
      },
      "text/plain": [
       "Widget(value='<iframe src=\"http://localhost:35243/index.html?ui=P_0x7f44bae1b800_0&reconnect=auto\" class=\"pyvi…"
      ]
     },
     "metadata": {},
     "output_type": "display_data"
    }
   ],
   "source": [
    "topology, cell_types, geometry = plot.vtk_mesh(mesh, tdim)\n",
    "grid = pyvista.UnstructuredGrid(topology, cell_types, geometry)\n",
    "\n",
    "plotter = pyvista.Plotter(off_screen = True)\n",
    "plotter.add_mesh(grid, show_edges=True)\n",
    "#plotter.show_grid()\n",
    "plotter.view_xy()\n",
    "if not pyvista.OFF_SCREEN:\n",
    "    plotter.show()\n",
    "else:\n",
    "    plotter.screenshot(results_folder/f\"mesh_rank{mesh.comm.rank}.png\")\n",
    "\n",
    "plotter.close()"
   ]
  },
  {
   "cell_type": "markdown",
   "metadata": {},
   "source": [
    "# Material"
   ]
  },
  {
   "cell_type": "code",
   "execution_count": 28,
   "metadata": {},
   "outputs": [],
   "source": [
    "E, nu = Constant(mesh, default_scalar_type(1.2E6)), Constant(mesh, default_scalar_type(0.0))\n",
    "mu = E/(2.0*(1.0 + nu))\n",
    "lmbda = 2.0*mu*nu/(1.0 - 2.0*nu)\n",
    "t = Constant(mesh, default_scalar_type(1E-1))"
   ]
  },
  {
   "cell_type": "markdown",
   "metadata": {},
   "source": [
    "# initial shape"
   ]
  },
  {
   "cell_type": "code",
   "execution_count": 29,
   "metadata": {},
   "outputs": [],
   "source": [
    "x = ufl.SpatialCoordinate(mesh)\n",
    "phi0_ufl = ufl.as_vector([x[0], x[1], 0])\n",
    "\n",
    "def unit_normal(phi):\n",
    "    n = ufl.cross(phi.dx(0), phi.dx(1))\n",
    "    return n/ufl.sqrt(inner(n, n))\n",
    "\n",
    "n0_ufl = unit_normal(phi0_ufl)\n",
    "\n",
    "def tangent_1(n):\n",
    "    e2 = ufl.as_vector([0, 1, 0])\n",
    "    t1 = ufl.cross(e2, n)\n",
    "    t1 = t1/ufl.sqrt(inner(t1, t1))\n",
    "    return t1\n",
    "\n",
    "def tangent_2(n, t1):\n",
    "    t2 = ufl.cross(n, t1)\n",
    "    t2 = t2/ufl.sqrt(inner(t2, t2))\n",
    "    return t2\n",
    "\n",
    "# the analytical expression of t1 and t2\n",
    "t1_ufl = tangent_1(n0_ufl)\n",
    "t2_ufl = tangent_2(n0_ufl, t1_ufl)\n",
    "\n",
    "# the analytical expression of R0\n",
    "def rotation_matrix(t1, t2, n):\n",
    "    R = ufl.as_matrix([[t1[0], t2[0], n[0]], \n",
    "                       [t1[1], t2[1], n[1]], \n",
    "                       [t1[2], t2[2], n[2]]])\n",
    "    return R\n",
    "\n",
    "R0_ufl = rotation_matrix(t1_ufl, t2_ufl, n0_ufl)\n",
    "\n",
    "def director(R0, theta):\n",
    "    Lm3 = ufl.as_vector([ufl.sin(theta[1])*ufl.cos(theta[0]), -ufl.sin(theta[0]), ufl.cos(theta[1])*ufl.cos(theta[0])])\n",
    "    d = ufl.dot(R0, Lm3)\n",
    "    return d"
   ]
  },
  {
   "cell_type": "markdown",
   "metadata": {},
   "source": [
    "# shell element"
   ]
  },
  {
   "cell_type": "code",
   "execution_count": 30,
   "metadata": {},
   "outputs": [],
   "source": [
    "if ele_type == \"tri_P2B3\":\n",
    "    P2B3 = enriched_element([P2, B3])\n",
    "    naghdi_shell_element = mixed_element(\n",
    "        [blocked_element(P2B3, shape=(3,)), blocked_element(P2, shape=(2,))]\n",
    "    )\n",
    "elif ele_type == \"tri_P2\":\n",
    "    naghdi_shell_element = mixed_element(\n",
    "        [blocked_element(P2, shape=(3,)), blocked_element(P2, shape=(2,))]\n",
    "        )\n",
    "\n",
    "elif ele_type == \"tri_P1\":\n",
    "    naghdi_shell_element = mixed_element(\n",
    "        [blocked_element(P1, shape=(3,)), blocked_element(P1, shape=(2,))]\n",
    "    )\n",
    "    \n",
    "elif ele_type == \"qua_P2\":\n",
    "    naghdi_shell_element = mixed_element(\n",
    "        [blocked_element(P2, shape=(3,)), blocked_element(P2, shape=(2,))]\n",
    "    )\n",
    "elif ele_type == \"qua_P1\":\n",
    "    naghdi_shell_element = mixed_element(\n",
    "        [blocked_element(P1, shape=(3,)), blocked_element(P1, shape=(2,))]\n",
    "    )\n",
    "    \n",
    "naghdi_shell_FS = functionspace(mesh, naghdi_shell_element)\n",
    "\n",
    "q_func = Function(naghdi_shell_FS) # current configuration\n",
    "q_trial = ufl.TrialFunction(naghdi_shell_FS)\n",
    "q_test = ufl.TestFunction(naghdi_shell_FS)\n",
    "\n",
    "u_func, theta_func = split(q_func) # current displacement and rotation"
   ]
  },
  {
   "cell_type": "markdown",
   "metadata": {},
   "source": [
    "# shell model"
   ]
  },
  {
   "cell_type": "code",
   "execution_count": 31,
   "metadata": {},
   "outputs": [],
   "source": [
    "# current deformation gradient \n",
    "F = grad(u_func) + grad(phi0_ufl) \n",
    "\n",
    "# current director\n",
    "d = director(R0_ufl, theta_func)\n",
    "\n",
    "# initial metric and curvature tensor a0 and b0\n",
    "a0_ufl = grad(phi0_ufl).T * grad(phi0_ufl)\n",
    "b0_ufl = -0.5*( grad(phi0_ufl).T * grad(n0_ufl) + grad(n0_ufl).T * grad(phi0_ufl))\n",
    "\n",
    "def epsilon(F):\n",
    "    \"\"\"Membrane strain\"\"\"\n",
    "    return 0.5 * (F.T * F - a0_ufl)\n",
    "\n",
    "\n",
    "def kappa(F, d):\n",
    "    \"\"\"Bending strain\"\"\"\n",
    "    return -0.5 * (F.T * grad(d) + grad(d).T * F) - b0_ufl\n",
    "\n",
    "\n",
    "def gamma(F, d):\n",
    "    \"\"\"Transverse shear strain\"\"\"\n",
    "    return F.T * d\n",
    "\n",
    "a0_contra_ufl = ufl.inv(a0_ufl)\n",
    "j0_ufl = ufl.det(a0_ufl)\n",
    "\n",
    "i,j,l,m = ufl.indices(4)  # noqa: E741\n",
    "A_contra_ufl = ufl.as_tensor( ( ((2.0*lmbda*mu) / (lmbda + 2.0*mu)) * a0_contra_ufl[i,j]*a0_contra_ufl[l,m]\n",
    "                + 1.0*mu* (a0_contra_ufl[i,l]*a0_contra_ufl[j,m] + a0_contra_ufl[i,m]*a0_contra_ufl[j,l]) )\n",
    "                ,[i,j,l,m])\n",
    "\n",
    "N = ufl.as_tensor(t * A_contra_ufl[i,j,l,m] * epsilon(F)[l,m], [i,j])\n",
    "\n",
    "M = ufl.as_tensor( (t**3 / 12.0) * A_contra_ufl[i,j,l,m]*kappa(F, d)[l,m], [i,j])\n",
    "\n",
    "T = ufl.as_tensor( (t * mu *5.0 / 6.0) * a0_contra_ufl[i, j] * gamma(F, d)[j], [i])\n",
    "\n",
    "psi_m = 0.5*inner(N, epsilon(F))\n",
    "\n",
    "psi_b = 0.5*inner(M, kappa(F, d))\n",
    "\n",
    "psi_s = 0.5*inner(T, gamma(F, d))"
   ]
  },
  {
   "cell_type": "markdown",
   "metadata": {},
   "source": [
    "# External work"
   ]
  },
  {
   "cell_type": "code",
   "execution_count": 32,
   "metadata": {},
   "outputs": [],
   "source": [
    "def left(x):\n",
    "    return np.isclose(x[0], 0)\n",
    "\n",
    "\n",
    "def right(x):\n",
    "    return np.isclose(x[0], length)\n",
    "\n",
    "left_facets = locate_entities_boundary(mesh, fdim, left)\n",
    "right_facets = locate_entities_boundary(mesh, fdim, right)\n",
    "\n",
    "# left facets are marked with tag 1, right facets are marked with tag 2\n",
    "marked_facets = np.hstack([left_facets, right_facets])\n",
    "marked_values = np.hstack([np.full_like(left_facets, 1), np.full_like(right_facets, 2)])\n",
    "sorted_facets = np.argsort(marked_facets)\n",
    "facet_tag = meshtags(mesh, fdim, marked_facets[sorted_facets], marked_values[sorted_facets])\n",
    "\n",
    "P_right = Constant(mesh, default_scalar_type(0.0))\n",
    "\n",
    "ds = ufl.Measure(\"ds\", domain=mesh, subdomain_data=facet_tag, metadata={\"quadrature_degree\": 2})\n",
    "\n",
    "W_ext = P_right * u_func[2] * ds(2)"
   ]
  },
  {
   "cell_type": "markdown",
   "metadata": {},
   "source": [
    "# Potential energy with PSRI"
   ]
  },
  {
   "cell_type": "code",
   "execution_count": 33,
   "metadata": {},
   "outputs": [],
   "source": [
    "if ele_type == \"qua_P1\":\n",
    "    dx_f = ufl.Measure('dx', domain=mesh, metadata={\"quadrature_degree\": 3})\n",
    "    if PSRI_control:\n",
    "        dx_r = ufl.Measure('dx', domain=mesh, metadata={\"quadrature_degree\": 1})\n",
    "    else:\n",
    "        dx_r = ufl.Measure('dx', domain=mesh, metadata={\"quadrature_degree\": 3})\n",
    "        \n",
    "elif ele_type == \"tri_P1\":\n",
    "    dx_f = ufl.Measure('dx', domain=mesh, metadata={\"quadrature_degree\": 2})\n",
    "    dx_r = ufl.Measure('dx', domain=mesh, metadata={\"quadrature_degree\": 1})\n",
    "    \n",
    "else:\n",
    "    dx_f = ufl.Measure('dx', domain=mesh, metadata={\"quadrature_degree\": 4})\n",
    "    if PSRI_control:\n",
    "        dx_r = ufl.Measure('dx', domain=mesh, metadata={\"quadrature_degree\": 2})\n",
    "    else:\n",
    "        dx_r = ufl.Measure('dx', domain=mesh, metadata={\"quadrature_degree\": 4})\n",
    "\n",
    "# Calculate the factor alpha as a function of the mesh size h\n",
    "h = ufl.CellDiameter(mesh)\n",
    "alpha_FS = functionspace(mesh, element(\"DG\", cell, 0))\n",
    "alpha_expr = Expression(t**2 / h**2, alpha_FS.element.interpolation_points())\n",
    "alpha = Function(alpha_FS)\n",
    "alpha.interpolate(alpha_expr)\n",
    "\n",
    "# Full integration part of the total elastic energy\n",
    "Pi_PSRI = psi_b * ufl.sqrt(j0_ufl) * dx_f \n",
    "Pi_PSRI += alpha * psi_m * ufl.sqrt(j0_ufl) * dx_f\n",
    "Pi_PSRI += alpha * psi_s * ufl.sqrt(j0_ufl) * dx_f\n",
    "\n",
    "# Reduced integration part of the total elastic energy\n",
    "Pi_PSRI += (1.0 - alpha) * psi_m * ufl.sqrt(j0_ufl) * dx_r\n",
    "Pi_PSRI += (1.0 - alpha) * psi_s * ufl.sqrt(j0_ufl) * dx_r\n",
    "\n",
    "# external work part\n",
    "Pi_PSRI -= W_ext\n",
    "\n",
    "Residual = ufl.derivative(Pi_PSRI, q_func, q_test)\n",
    "Jacobian = ufl.derivative(Residual, q_func, q_trial)"
   ]
  },
  {
   "cell_type": "markdown",
   "metadata": {},
   "source": [
    "# clamped left boundary condtions"
   ]
  },
  {
   "cell_type": "code",
   "execution_count": 34,
   "metadata": {},
   "outputs": [],
   "source": [
    "u_FS, _ = naghdi_shell_FS.sub(0).collapse()\n",
    "theta_FS, _ = naghdi_shell_FS.sub(1).collapse()\n",
    "\n",
    "# u1, u2, u3 = 0 on the clamped boundary\n",
    "u_clamped = Function(u_FS) # default value is 0\n",
    "clamped_dofs_u = locate_dofs_topological((naghdi_shell_FS.sub(0), u_FS), fdim, facet_tag.find(1))\n",
    "bc_clamped_u = dirichletbc(u_clamped, clamped_dofs_u, naghdi_shell_FS.sub(0))\n",
    "\n",
    "# theta1, theta2 = 0 on the clamped boundary\n",
    "theta_clamped = Function(theta_FS) # default value is 0\n",
    "clamped_dofs_theta = locate_dofs_topological((naghdi_shell_FS.sub(1), theta_FS), fdim, facet_tag.find(1))\n",
    "bc_clamped_theta = dirichletbc(theta_clamped, clamped_dofs_theta, naghdi_shell_FS.sub(1))\n",
    "\n",
    "bcs = [bc_clamped_u, bc_clamped_theta]"
   ]
  },
  {
   "cell_type": "markdown",
   "metadata": {},
   "source": [
    "# bb tree"
   ]
  },
  {
   "cell_type": "code",
   "execution_count": 35,
   "metadata": {},
   "outputs": [],
   "source": [
    "bb_tree = dolfinx.geometry.bb_tree(mesh, 2)\n",
    "bb_point = np.array([[length, 0.0, 0.0]], dtype=np.float64)\n",
    "\n",
    "# Find the leaf that the target point is in\n",
    "bb_cell_candidates = dolfinx.geometry.compute_collisions_points(bb_tree, bb_point)\n",
    "\n",
    "# Find the cell from the leaf that contains the target point\n",
    "bb_cells = dolfinx.geometry.compute_colliding_cells(\n",
    "    mesh, bb_cell_candidates, bb_point)"
   ]
  },
  {
   "cell_type": "markdown",
   "metadata": {},
   "source": [
    "# newton solver"
   ]
  },
  {
   "cell_type": "code",
   "execution_count": 36,
   "metadata": {},
   "outputs": [],
   "source": [
    "problem = NonlinearProblem(Residual, q_func, bcs, Jacobian)\n",
    "solver = NewtonSolver(mesh.comm, problem)\n",
    "\n",
    "# Set Newton solver options\n",
    "solver.rtol = 1e-6\n",
    "solver.atol = 1e-6\n",
    "solver.max_it = 200\n",
    "solver.convergence_criterion = \"incremental\"\n",
    "solver.report = True\n",
    "\n",
    "# Modify the linear solver in each Newton iteration\n",
    "ksp = solver.krylov_solver\n",
    "opts = PETSc.Options()\n",
    "option_prefix = ksp.getOptionsPrefix()\n",
    "opts[f\"{option_prefix}ksp_type\"] = \"preonly\"\n",
    "opts[f\"{option_prefix}pc_type\"] = \"lu\"\n",
    "opts[f\"{option_prefix}pc_factor_mat_solver_type\"] = \"mumps\"\n",
    "ksp.setFromOptions()"
   ]
  },
  {
   "cell_type": "code",
   "execution_count": 37,
   "metadata": {},
   "outputs": [
    {
     "name": "stderr",
     "output_type": "stream",
     "text": [
      "  0%|          | 0/20 [00:00<?, ?it/s]"
     ]
    },
    {
     "name": "stdout",
     "output_type": "stream",
     "text": [
      "Load step 0, Number of iterations: 2, Load: 0.00 (4.00)\n",
      "Load step 1, Number of iterations: 12, Load: 0.21 (4.00)\n"
     ]
    },
    {
     "name": "stdout",
     "output_type": "stream",
     "text": [
      "Load step 2, Number of iterations: 12, Load: 0.42 (4.00)\n",
      "Load step 3, Number of iterations: 12, Load: 0.63 (4.00)\n"
     ]
    },
    {
     "name": "stderr",
     "output_type": "stream",
     "text": [
      " 20%|██        | 4/20 [00:00<00:00, 28.89it/s]"
     ]
    },
    {
     "name": "stdout",
     "output_type": "stream",
     "text": [
      "Load step 4, Number of iterations: 12, Load: 0.84 (4.00)\n",
      "Load step 5, Number of iterations: 11, Load: 1.05 (4.00)\n",
      "Load step 6, Number of iterations: 11, Load: 1.26 (4.00)\n"
     ]
    },
    {
     "name": "stderr",
     "output_type": "stream",
     "text": [
      " 35%|███▌      | 7/20 [00:00<00:00, 27.90it/s]"
     ]
    },
    {
     "name": "stdout",
     "output_type": "stream",
     "text": [
      "Load step 7, Number of iterations: 11, Load: 1.47 (4.00)\n",
      "Load step 8, Number of iterations: 11, Load: 1.68 (4.00)\n",
      "Load step 9, Number of iterations: 10, Load: 1.89 (4.00)\n"
     ]
    },
    {
     "name": "stderr",
     "output_type": "stream",
     "text": [
      " 50%|█████     | 10/20 [00:00<00:00, 27.75it/s]"
     ]
    },
    {
     "name": "stdout",
     "output_type": "stream",
     "text": [
      "Load step 10, Number of iterations: 10, Load: 2.11 (4.00)\n",
      "Load step 11, Number of iterations: 10, Load: 2.32 (4.00)\n",
      "Load step 12, Number of iterations: 10, Load: 2.53 (4.00)\n",
      "Load step 13, Number of iterations: 10, Load: 2.74 (4.00)\n"
     ]
    },
    {
     "name": "stderr",
     "output_type": "stream",
     "text": [
      " 70%|███████   | 14/20 [00:00<00:00, 29.33it/s]"
     ]
    },
    {
     "name": "stdout",
     "output_type": "stream",
     "text": [
      "Load step 14, Number of iterations: 9, Load: 2.95 (4.00)\n",
      "Load step 15, Number of iterations: 9, Load: 3.16 (4.00)\n",
      "Load step 16, Number of iterations: 9, Load: 3.37 (4.00)\n",
      "Load step 17, Number of iterations: 9, Load: 3.58 (4.00)\n"
     ]
    },
    {
     "name": "stderr",
     "output_type": "stream",
     "text": [
      " 90%|█████████ | 18/20 [00:00<00:00, 30.90it/s]"
     ]
    },
    {
     "name": "stdout",
     "output_type": "stream",
     "text": [
      "Load step 18, Number of iterations: 9, Load: 3.79 (4.00)\n",
      "Load step 19, Number of iterations: 9, Load: 4.00 (4.00)\n"
     ]
    },
    {
     "name": "stderr",
     "output_type": "stream",
     "text": [
      "100%|██████████| 20/20 [00:00<00:00, 29.99it/s]\n"
     ]
    }
   ],
   "source": [
    "P_max = 4.0*E.value*t.value**3/(12.0*length**2)\n",
    "nstep = 20\n",
    "Ps = np.linspace(0.0, P_max, nstep)\n",
    "\n",
    "if mesh.comm.rank == 0:\n",
    "    u1_list = np.zeros(nstep)\n",
    "    u3_list = np.zeros(nstep)\n",
    "    \n",
    "file_u = dolfinx.io.VTKFile(mesh.comm, results_folder/\"u.pvd\", \"w\")\n",
    "file_theta = dolfinx.io.VTKFile(mesh.comm, results_folder/\"theta.pvd\", \"w\")\n",
    "file_phi = dolfinx.io.VTKFile(mesh.comm, results_folder/\"phi.pvd\", \"w\")\n",
    " \n",
    "q_func.x.array[:] = 0.0\n",
    "#log.set_log_level(log.LogLevel.INFO)\n",
    "#log.set_log_level(log.LogLevel.OFF)\n",
    "\n",
    "for i, P_curr in enumerate(tqdm(Ps)):\n",
    "    P_right.value = P_curr\n",
    "    n, converged = solver.solve(q_func)\n",
    "    assert (converged)\n",
    "    q_func.x.scatter_forward()\n",
    "    if mesh.comm.rank == 0:\n",
    "        print(f\"Load step {i:d}, Number of iterations: {n:d}, Load: {P_curr:.2f} ({P_max:.2f})\", flush=True)\n",
    "    \n",
    "    # write output\n",
    "    if ele_type == \"qua_P1\" or ele_type == \"tri_P1\":\n",
    "        phi_FS = functionspace(mesh, blocked_element(P1, shape=(3,)))\n",
    "    else:\n",
    "        phi_FS = functionspace(mesh, blocked_element(P2, shape=(3,)))\n",
    "        \n",
    "    if ele_type == \"tri_P2B3\":\n",
    "        u_P2B3 = q_func.sub(0).collapse()\n",
    "        u_sol = Function(phi_FS)\n",
    "        u_sol.interpolate(u_P2B3)\n",
    "    else:\n",
    "        u_sol = q_func.sub(0).collapse()\n",
    "    \n",
    "    phi_expr = Expression(phi0_ufl + u_sol, phi_FS.element.interpolation_points())\n",
    "    phi_sol = Function(phi_FS)\n",
    "    phi_sol.interpolate(phi_expr)\n",
    "    theta_sol = q_func.sub(1).collapse()\n",
    "\n",
    "    file_u.write_function(u_sol, i)\n",
    "    file_theta.write_function(theta_sol, i)\n",
    "    file_phi.write_function(phi_sol, i)\n",
    "    \n",
    "    # calculate u1, u3 at the point load\n",
    "    u1_bb = None\n",
    "    u3_bb = None\n",
    "    u1_func = q_func.sub(0).sub(0).collapse()\n",
    "    u3_func = q_func.sub(0).sub(2).collapse()\n",
    "    if len(bb_cells.array) > 0:\n",
    "        u1_bb = u1_func.eval(bb_point, bb_cells.array[0])[0]\n",
    "        u3_bb = u3_func.eval(bb_point, bb_cells.array[0])[0]\n",
    "    u1_bb = mesh.comm.gather(u1_bb, root=0)\n",
    "    u3_bb = mesh.comm.gather(u3_bb, root=0)\n",
    "    if mesh.comm.rank == 0:\n",
    "        for u1 in u1_bb:\n",
    "            if u1 is not None:\n",
    "                u1_list[i] = u1\n",
    "                break\n",
    "            \n",
    "        for u3 in u3_bb:\n",
    "            if u3 is not None:\n",
    "                u3_list[i] = u3\n",
    "                break\n",
    "\n",
    "# close the output files\n",
    "file_u.close()\n",
    "file_theta.close()\n",
    "file_phi.close()"
   ]
  },
  {
   "cell_type": "code",
   "execution_count": 38,
   "metadata": {},
   "outputs": [
    {
     "data": {
      "application/vnd.jupyter.widget-view+json": {
       "model_id": "34498c20eeac43e59a30752efc1e1f60",
       "version_major": 2,
       "version_minor": 0
      },
      "text/plain": [
       "Widget(value='<iframe src=\"http://localhost:38681/index.html?ui=P_0x7fc2b0a48080_0&reconnect=auto\" class=\"pyvi…"
      ]
     },
     "metadata": {},
     "output_type": "display_data"
    }
   ],
   "source": [
    "u_sol = q_func.sub(0).collapse()\n",
    "\n",
    "phi_expr = Expression(phi0_ufl + u_sol, phi_FS.element.interpolation_points())\n",
    "phi_func = Function(phi_FS)\n",
    "phi_func.interpolate(phi_expr)\n",
    "\n",
    "topology, cell_types, geometry = plot.vtk_mesh(phi_FS)\n",
    "geometry_phi = phi_func.x.array.reshape((geometry.shape[0], len(phi_func)))\n",
    "grid_phi = pyvista.UnstructuredGrid(topology, cell_types, geometry_phi)\n",
    "\n",
    "plotter = pyvista.Plotter()\n",
    "plotter.add_mesh(grid_phi, show_edges=True)\n",
    "plotter.show_grid()\n",
    "plotter.enable_parallel_projection()\n",
    "plotter.show_axes_all()\n",
    "if not pyvista.OFF_SCREEN:\n",
    "    plotter.show()\n",
    "else:\n",
    "    plotter.screenshot(results_folder/\"phi.png\")\n",
    "plotter.close()"
   ]
  },
  {
   "cell_type": "markdown",
   "metadata": {},
   "source": [
    "# plot displacement versus load"
   ]
  },
  {
   "cell_type": "code",
   "execution_count": 39,
   "metadata": {},
   "outputs": [
    {
     "data": {
      "image/png": "[encoded data removed]",
      "text/plain": [
       "<Figure size 800x600 with 1 Axes>"
      ]
     },
     "metadata": {},
     "output_type": "display_data"
    }
   ],
   "source": [
    "import matplotlib.pyplot as plt\n",
    "\n",
    "if mesh.comm.rank == 0:\n",
    "    P_S4R = np.array([0.0, 0.05, 0.10, 0.15, 0.20, 0.25, 0.30, 0.35, 0.40, 0.45,\n",
    "                      0.50, 0.55, 0.60, 0.65, 0.70, 0.75, 0.80, 0.85, 0.90, 0.95, 1.0])\n",
    "    \n",
    "    U_S4R = np.array([0.0, 0.026, 0.103, 0.224, 0.381, 0.563, 0.763, 0.971, 1.184, 1.396, 1.604,\n",
    "                      1.807, 2.002, 2.190, 2.370, 2.541, 2.705, 2.861, 3.010, 3.151, 3.286])\n",
    "    \n",
    "    W_S4R = np.array([0.0, 0.663, 1.309, 1.922, 2.493, 3.015, 3.488, 3.912, 4.292, 4.631, 4.933,\n",
    "                      5.202, 5.444, 5.660, 5.855, 6.031, 6.190, 6.335, 6.467, 6.588, 6.698])\n",
    "    np.savetxt(results_folder/\"u1.txt\", u1_list)\n",
    "    np.savetxt(results_folder/\"u3.txt\", u3_list)\n",
    "    np.savetxt(results_folder/\"Ps_Pmax.txt\", Ps/P_max)\n",
    "    fig = plt.figure(figsize=(8.0, 6.0))\n",
    "    plt.plot(U_S4R, P_S4R, \"-\", label=\"$V(S4R)$\")\n",
    "    plt.plot(-u1_list, Ps/P_max, \"o\", markersize=5, markerfacecolor='none', label=f\"$V({nex}\\\\times{ney},${ele_type})\")\n",
    "    plt.plot(W_S4R, P_S4R, \"-\", label=\"$W(S4R)$\")\n",
    "    plt.plot(u3_list, Ps/P_max, \"o\", markersize=5, markerfacecolor='none', label=f\"$W({nex}\\\\times{ney},${ele_type})\")\n",
    "    plt.ylabel(r\"$P/P_{\\mathrm{max}}$\")\n",
    "    plt.xlabel(\"Tip deflections\")\n",
    "    plt.legend()\n",
    "    plt.tight_layout()\n",
    "    plt.savefig(results_folder/\"comparisons.png\", dpi=300)"
   ]
  }
 ],
 "metadata": {
  "kernelspec": {
   "display_name": "fenicsx-env",
   "language": "python",
   "name": "python3"
  },
  "language_info": {
   "codemirror_mode": {
    "name": "ipython",
    "version": 3
   },
   "file_extension": ".py",
   "mimetype": "text/x-python",
   "name": "python",
   "nbconvert_exporter": "python",
   "pygments_lexer": "ipython3",
   "version": "3.12.0"
  }
 },
 "nbformat": 4,
 "nbformat_minor": 2
}
