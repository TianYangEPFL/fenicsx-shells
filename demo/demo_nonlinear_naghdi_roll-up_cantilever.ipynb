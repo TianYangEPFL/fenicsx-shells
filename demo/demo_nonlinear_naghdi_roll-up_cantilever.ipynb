{
 "cells": [
  {
   "cell_type": "markdown",
   "metadata": {},
   "source": [
    "# A non-linear Naghdi roll-up cantilever"
   ]
  },
  {
   "cell_type": "code",
   "execution_count": 1,
   "metadata": {},
   "outputs": [],
   "source": [
    "import numpy as np\n",
    "from mpi4py import MPI\n",
    "from petsc4py import PETSc\n",
    "import dolfinx\n",
    "import ufl\n",
    "from basix.ufl import blocked_element, element, enriched_element, mixed_element\n",
    "from dolfinx.fem import Function, functionspace, dirichletbc, Expression, locate_dofs_topological, Constant\n",
    "from dolfinx.fem.petsc import NonlinearProblem\n",
    "from dolfinx.mesh import CellType, create_rectangle, locate_entities_boundary, meshtags\n",
    "from ufl import grad, inner, split\n",
    "from dolfinx import plot, default_scalar_type\n",
    "from dolfinx.nls.petsc import NewtonSolver\n",
    "from tqdm import tqdm\n",
    "import pyvista"
   ]
  },
  {
   "cell_type": "markdown",
   "metadata": {},
   "source": [
    "# Simulation setup"
   ]
  },
  {
   "cell_type": "code",
   "execution_count": 2,
   "metadata": {},
   "outputs": [],
   "source": [
    "nex = int(8)\n",
    "ney = int(1)\n",
    "\n",
    "PSRI_control = False\n",
    "plot_control = False\n",
    "\n",
    "ele_dict = {0 : \"tri_P1\",\n",
    "            1 : \"tri_P2\",\n",
    "            2 : \"tri_P2B3\",\n",
    "            3 : \"qua_P1\",\n",
    "            4 : \"qua_P2\"}\n",
    "\n",
    "ele_index = 4\n",
    "ele_type = ele_dict[ele_index]\n",
    "\n",
    "\n",
    "if ele_type == \"tri_P2B3\":\n",
    "    cell_type = CellType.triangle\n",
    "    \n",
    "elif ele_type == \"tri_P2\":\n",
    "    cell_type = CellType.triangle\n",
    "\n",
    "elif ele_type == \"tri_P1\":\n",
    "    cell_type = CellType.triangle\n",
    "    \n",
    "elif ele_type == \"qua_P2\":\n",
    "    cell_type = CellType.quadrilateral\n",
    "    \n",
    "elif ele_type == \"qua_P1\":\n",
    "    cell_type = CellType.quadrilateral"
   ]
  },
  {
   "cell_type": "code",
   "execution_count": 3,
   "metadata": {},
   "outputs": [],
   "source": [
    "from pathlib import Path\n",
    "\n",
    "if not PSRI_control:\n",
    "    results_folder = Path(f\"results/nonlinear_Naghdi/non_PSRI/roll-up_cantilever/{nex}_{ney}_{ele_type}\")\n",
    "else:\n",
    "    results_folder = Path(f\"results/nonlinear_Naghdi/roll-up_cantilever/{nex}_{ney}_{ele_type}\")\n",
    "\n",
    "results_folder.mkdir(exist_ok=True, parents=True)\n",
    "\n",
    "if plot_control:\n",
    "    pyvista.start_xvfb()"
   ]
  },
  {
   "cell_type": "markdown",
   "metadata": {},
   "source": [
    "# Mesh"
   ]
  },
  {
   "cell_type": "code",
   "execution_count": 4,
   "metadata": {},
   "outputs": [],
   "source": [
    "length = 12.0\n",
    "width = 1.0\n",
    "\n",
    "mesh = create_rectangle(MPI.COMM_WORLD, np.array([[0.0, -width/2.0], [length, width/2.0]]), \n",
    "                        [nex, ney], cell_type)\n",
    "tdim = mesh.topology.dim\n",
    "fdim = tdim - 1\n",
    "\n",
    "cell = mesh.basix_cell()\n",
    "P1 = element(\"Lagrange\", cell, degree=1)\n",
    "P2 = element(\"Lagrange\", cell, degree=2)\n",
    "B3 = element(\"Bubble\", cell, degree=3)"
   ]
  },
  {
   "cell_type": "markdown",
   "metadata": {},
   "source": [
    "## Plot mesh"
   ]
  },
  {
   "cell_type": "code",
   "execution_count": 5,
   "metadata": {},
   "outputs": [
    {
     "data": {
      "application/vnd.jupyter.widget-view+json": {
       "model_id": "7e6fffeccb0142dbb1808cc2787b5ec7",
       "version_major": 2,
       "version_minor": 0
      },
      "text/plain": [
       "Widget(value='<iframe src=\"http://localhost:34247/index.html?ui=P_0x7fb5961d5520_0&reconnect=auto\" class=\"pyvi…"
      ]
     },
     "metadata": {},
     "output_type": "display_data"
    }
   ],
   "source": [
    "topology, cell_types, geometry = plot.vtk_mesh(mesh, tdim)\n",
    "grid = pyvista.UnstructuredGrid(topology, cell_types, geometry)\n",
    "\n",
    "plotter = pyvista.Plotter(off_screen = True)\n",
    "plotter.add_mesh(grid, show_edges=True)\n",
    "#plotter.show_grid()\n",
    "plotter.view_xy()\n",
    "if not pyvista.OFF_SCREEN:\n",
    "    plotter.show()\n",
    "else:\n",
    "    plotter.screenshot(results_folder/f\"mesh_rank{mesh.comm.rank}.png\")\n",
    "\n",
    "plotter.close()"
   ]
  },
  {
   "cell_type": "markdown",
   "metadata": {},
   "source": [
    "# Material"
   ]
  },
  {
   "cell_type": "code",
   "execution_count": 6,
   "metadata": {},
   "outputs": [],
   "source": [
    "E, nu = Constant(mesh, default_scalar_type(1.2E6)), Constant(mesh, default_scalar_type(0.0))\n",
    "mu = E/(2.0*(1.0 + nu))\n",
    "lmbda = 2.0*mu*nu/(1.0 - 2.0*nu)\n",
    "t = Constant(mesh, default_scalar_type(1E-1))"
   ]
  },
  {
   "cell_type": "markdown",
   "metadata": {},
   "source": [
    "# Initial shape"
   ]
  },
  {
   "cell_type": "code",
   "execution_count": 7,
   "metadata": {},
   "outputs": [],
   "source": [
    "x = ufl.SpatialCoordinate(mesh)\n",
    "phi0_ufl = ufl.as_vector([x[0], x[1], 0])\n",
    "\n",
    "def unit_normal(phi):\n",
    "    n = ufl.cross(phi.dx(0), phi.dx(1))\n",
    "    return n/ufl.sqrt(inner(n, n))\n",
    "\n",
    "n0_ufl = unit_normal(phi0_ufl)\n",
    "\n",
    "def tangent_1(n):\n",
    "    e2 = ufl.as_vector([0, 1, 0])\n",
    "    t1 = ufl.cross(e2, n)\n",
    "    t1 = t1/ufl.sqrt(inner(t1, t1))\n",
    "    return t1\n",
    "\n",
    "def tangent_2(n, t1):\n",
    "    t2 = ufl.cross(n, t1)\n",
    "    t2 = t2/ufl.sqrt(inner(t2, t2))\n",
    "    return t2\n",
    "\n",
    "# the analytical expression of t1 and t2\n",
    "t1_ufl = tangent_1(n0_ufl)\n",
    "t2_ufl = tangent_2(n0_ufl, t1_ufl)\n",
    "\n",
    "# the analytical expression of R0\n",
    "def rotation_matrix(t1, t2, n):\n",
    "    R = ufl.as_matrix([[t1[0], t2[0], n[0]], \n",
    "                       [t1[1], t2[1], n[1]], \n",
    "                       [t1[2], t2[2], n[2]]])\n",
    "    return R\n",
    "\n",
    "R0_ufl = rotation_matrix(t1_ufl, t2_ufl, n0_ufl)\n",
    "# Update the director with two successive elementary rotations\n",
    "\n",
    "def director(R0, theta):\n",
    "    Lm3 = ufl.as_vector([ufl.sin(theta[1])*ufl.cos(theta[0]), -ufl.sin(theta[0]), ufl.cos(theta[1])*ufl.cos(theta[0])])\n",
    "    d = ufl.dot(R0, Lm3)\n",
    "    return d"
   ]
  },
  {
   "cell_type": "markdown",
   "metadata": {},
   "source": [
    "## plot initial shape"
   ]
  },
  {
   "cell_type": "code",
   "execution_count": 9,
   "metadata": {},
   "outputs": [],
   "source": [
    "# create a FEM interpolation of n0 and phi0\n",
    "P1_d3_FS = functionspace(mesh, element(\"Lagrange\", cell, degree = 1, shape = (3,)))\n",
    "\n",
    "n0_P1_expr = Expression(n0_ufl, P1_d3_FS.element.interpolation_points())\n",
    "n0_P1_func = Function(P1_d3_FS)\n",
    "n0_P1_func.interpolate(n0_P1_expr)\n",
    "\n",
    "phi0_P1_expr = Expression(phi0_ufl, P1_d3_FS.element.interpolation_points())\n",
    "phi0_P1_func = Function(P1_d3_FS)\n",
    "phi0_P1_func.interpolate(phi0_P1_expr)"
   ]
  },
  {
   "cell_type": "code",
   "execution_count": 10,
   "metadata": {},
   "outputs": [
    {
     "data": {
      "application/vnd.jupyter.widget-view+json": {
       "model_id": "82e1562601ae4f538a9a23145139caf0",
       "version_major": 2,
       "version_minor": 0
      },
      "text/plain": [
       "Widget(value='<iframe src=\"http://localhost:41787/index.html?ui=P_0x7ff144c74590_0&reconnect=auto\" class=\"pyvi…"
      ]
     },
     "metadata": {},
     "output_type": "display_data"
    }
   ],
   "source": [
    "topology, cell_types, geometry = plot.vtk_mesh(P1_d3_FS)\n",
    "\n",
    "geometry_phi0_P1 = phi0_P1_func.x.array.reshape((geometry.shape[0], len(phi0_P1_func)))\n",
    "geometry_n0_P1 = n0_P1_func.x.array.reshape((geometry.shape[0], len(n0_P1_func)))\n",
    "\n",
    "grid_phi0_P1 = pyvista.UnstructuredGrid(topology, cell_types, geometry_phi0_P1)\n",
    "grid_phi0_P1[\"n0\"] = geometry_n0_P1\n",
    "glyphs = grid_phi0_P1.glyph(orient=\"n0\", factor=0.2)\n",
    "\n",
    "\n",
    "plotter = pyvista.Plotter(off_screen = True)\n",
    "plotter.add_mesh(grid_phi0_P1, style=\"wireframe\", color=\"k\")\n",
    "plotter.add_mesh(glyphs,  show_scalar_bar=True, scalar_bar_args={\"vertical\": True})\n",
    "plotter.show_grid()\n",
    "plotter.enable_parallel_projection()\n",
    "if not pyvista.OFF_SCREEN:\n",
    "    plotter.show()\n",
    "else:\n",
    "    plotter.screenshot(results_folder/f\"initial_shape_rank{mesh.comm.rank}.png\")\n",
    "    \n",
    "plotter.close()"
   ]
  },
  {
   "cell_type": "markdown",
   "metadata": {},
   "source": [
    "# Shell element"
   ]
  },
  {
   "cell_type": "code",
   "execution_count": 8,
   "metadata": {},
   "outputs": [],
   "source": [
    "if ele_type == \"tri_P2B3\":\n",
    "    P2B3 = enriched_element([P2, B3])\n",
    "    naghdi_shell_element = mixed_element(\n",
    "        [blocked_element(P2B3, shape=(3,)), blocked_element(P2, shape=(2,))]\n",
    "    )\n",
    "elif ele_type == \"tri_P2\":\n",
    "    naghdi_shell_element = mixed_element(\n",
    "        [blocked_element(P2, shape=(3,)), blocked_element(P2, shape=(2,))]\n",
    "        )\n",
    "\n",
    "elif ele_type == \"tri_P1\":\n",
    "    naghdi_shell_element = mixed_element(\n",
    "        [blocked_element(P1, shape=(3,)), blocked_element(P1, shape=(2,))]\n",
    "    )\n",
    "    \n",
    "elif ele_type == \"qua_P2\":\n",
    "    naghdi_shell_element = mixed_element(\n",
    "        [blocked_element(P2, shape=(3,)), blocked_element(P2, shape=(2,))]\n",
    "    )\n",
    "elif ele_type == \"qua_P1\":\n",
    "    naghdi_shell_element = mixed_element(\n",
    "        [blocked_element(P1, shape=(3,)), blocked_element(P1, shape=(2,))]\n",
    "    )\n",
    "    \n",
    "naghdi_shell_FS = functionspace(mesh, naghdi_shell_element)\n",
    "\n",
    "q_func = Function(naghdi_shell_FS) # current configuration\n",
    "q_trial = ufl.TrialFunction(naghdi_shell_FS)\n",
    "q_test = ufl.TestFunction(naghdi_shell_FS)\n",
    "\n",
    "u_func, theta_func = split(q_func) # current displacement and rotation"
   ]
  },
  {
   "cell_type": "markdown",
   "metadata": {},
   "source": [
    "# Shell model"
   ]
  },
  {
   "cell_type": "code",
   "execution_count": 9,
   "metadata": {},
   "outputs": [],
   "source": [
    "# current deformation gradient \n",
    "F = grad(u_func) + grad(phi0_ufl) \n",
    "\n",
    "# current director\n",
    "d = director(R0_ufl, theta_func)\n",
    "\n",
    "# initial metric and curvature tensor a0 and b0\n",
    "a0_ufl = grad(phi0_ufl).T * grad(phi0_ufl)\n",
    "b0_ufl = -0.5*( grad(phi0_ufl).T * grad(n0_ufl) + grad(n0_ufl).T * grad(phi0_ufl))\n",
    "\n",
    "def epsilon(F):\n",
    "    \"\"\"Membrane strain\"\"\"\n",
    "    return 0.5 * (F.T * F - a0_ufl)\n",
    "\n",
    "\n",
    "def kappa(F, d):\n",
    "    \"\"\"Bending strain\"\"\"\n",
    "    return -0.5 * (F.T * grad(d) + grad(d).T * F) - b0_ufl\n",
    "\n",
    "\n",
    "def gamma(F, d):\n",
    "    \"\"\"Transverse shear strain\"\"\"\n",
    "    return F.T * d\n",
    "\n",
    "a0_contra_ufl = ufl.inv(a0_ufl)\n",
    "j0_ufl = ufl.det(a0_ufl)\n",
    "\n",
    "i,j,l,m = ufl.indices(4)  # noqa: E741\n",
    "A_contra_ufl = ufl.as_tensor( ( ((2.0*lmbda*mu) / (lmbda + 2.0*mu)) * a0_contra_ufl[i,j]*a0_contra_ufl[l,m]\n",
    "                + 1.0*mu* (a0_contra_ufl[i,l]*a0_contra_ufl[j,m] + a0_contra_ufl[i,m]*a0_contra_ufl[j,l]) )\n",
    "                ,[i,j,l,m])\n",
    "\n",
    "N = ufl.as_tensor(t * A_contra_ufl[i,j,l,m] * epsilon(F)[l,m], [i,j])\n",
    "\n",
    "M = ufl.as_tensor( (t**3 / 12.0) * A_contra_ufl[i,j,l,m]*kappa(F, d)[l,m], [i,j])\n",
    "\n",
    "T = ufl.as_tensor( (t * mu *5.0 / 6.0) * a0_contra_ufl[i, j] * gamma(F, d)[j], [i])\n",
    "\n",
    "psi_m = 0.5*inner(N, epsilon(F))\n",
    "\n",
    "psi_b = 0.5*inner(M, kappa(F, d))\n",
    "\n",
    "psi_s = 0.5*inner(T, gamma(F, d))"
   ]
  },
  {
   "cell_type": "markdown",
   "metadata": {},
   "source": [
    "# External work"
   ]
  },
  {
   "cell_type": "code",
   "execution_count": 10,
   "metadata": {},
   "outputs": [],
   "source": [
    "def left(x):\n",
    "    return np.isclose(x[0], 0)\n",
    "\n",
    "\n",
    "def right(x):\n",
    "    return np.isclose(x[0], length)\n",
    "\n",
    "left_facets = locate_entities_boundary(mesh, fdim, left)\n",
    "right_facets = locate_entities_boundary(mesh, fdim, right)\n",
    "\n",
    "# left facets are marked with tag 1, right facets are marked with tag 2\n",
    "marked_facets = np.hstack([left_facets, right_facets])\n",
    "marked_values = np.hstack([np.full_like(left_facets, 1), np.full_like(right_facets, 2)])\n",
    "sorted_facets = np.argsort(marked_facets)\n",
    "facet_tag = meshtags(mesh, fdim, marked_facets[sorted_facets], marked_values[sorted_facets])\n",
    "\n",
    "M_right = Constant(mesh, default_scalar_type(0.0))\n",
    "\n",
    "ds = ufl.Measure(\"ds\", domain=mesh, subdomain_data=facet_tag, metadata={\"quadrature_degree\": 2})\n",
    "\n",
    "W_ext = M_right * theta_func[1] * ds(2)"
   ]
  },
  {
   "cell_type": "markdown",
   "metadata": {},
   "source": [
    "# Potential energy with PSRI"
   ]
  },
  {
   "cell_type": "code",
   "execution_count": 11,
   "metadata": {},
   "outputs": [],
   "source": [
    "if ele_type == \"qua_P1\":\n",
    "    dx_f = ufl.Measure('dx', domain=mesh, metadata={\"quadrature_degree\": 3})\n",
    "    if PSRI_control:\n",
    "        dx_r = ufl.Measure('dx', domain=mesh, metadata={\"quadrature_degree\": 1})\n",
    "    else:\n",
    "        dx_r = ufl.Measure('dx', domain=mesh, metadata={\"quadrature_degree\": 3})\n",
    "        \n",
    "elif ele_type == \"tri_P1\":\n",
    "    dx_f = ufl.Measure('dx', domain=mesh, metadata={\"quadrature_degree\": 2})\n",
    "    dx_r = ufl.Measure('dx', domain=mesh, metadata={\"quadrature_degree\": 1})\n",
    "    \n",
    "else:\n",
    "    dx_f = ufl.Measure('dx', domain=mesh, metadata={\"quadrature_degree\": 4})\n",
    "    if PSRI_control:\n",
    "        dx_r = ufl.Measure('dx', domain=mesh, metadata={\"quadrature_degree\": 2})\n",
    "    else:\n",
    "        dx_r = ufl.Measure('dx', domain=mesh, metadata={\"quadrature_degree\": 4})\n",
    "\n",
    "# Calculate the factor alpha as a function of the mesh size h\n",
    "h = ufl.CellDiameter(mesh)\n",
    "alpha_FS = functionspace(mesh, element(\"DG\", cell, 0))\n",
    "alpha_expr = Expression(t**2 / h**2, alpha_FS.element.interpolation_points())\n",
    "alpha = Function(alpha_FS)\n",
    "alpha.interpolate(alpha_expr)\n",
    "\n",
    "# Full integration part of the total elastic energy\n",
    "Pi_PSRI = psi_b * ufl.sqrt(j0_ufl) * dx_f \n",
    "Pi_PSRI += alpha * psi_m * ufl.sqrt(j0_ufl) * dx_f\n",
    "Pi_PSRI += alpha * psi_s * ufl.sqrt(j0_ufl) * dx_f\n",
    "\n",
    "# Reduced integration part of the total elastic energy\n",
    "Pi_PSRI += (1.0 - alpha) * psi_m * ufl.sqrt(j0_ufl) * dx_r\n",
    "Pi_PSRI += (1.0 - alpha) * psi_s * ufl.sqrt(j0_ufl) * dx_r\n",
    "\n",
    "# external work part\n",
    "Pi_PSRI -= W_ext\n",
    "\n",
    "Residual = ufl.derivative(Pi_PSRI, q_func, q_test)\n",
    "Jacobian = ufl.derivative(Residual, q_func, q_trial)"
   ]
  },
  {
   "cell_type": "markdown",
   "metadata": {},
   "source": [
    "# clamped left boundary condtions"
   ]
  },
  {
   "cell_type": "code",
   "execution_count": 12,
   "metadata": {},
   "outputs": [],
   "source": [
    "u_FS, _ = naghdi_shell_FS.sub(0).collapse()\n",
    "theta_FS, _ = naghdi_shell_FS.sub(1).collapse()\n",
    "\n",
    "# u1, u2, u3 = 0 on the clamped boundary\n",
    "u_clamped = Function(u_FS) # default value is 0\n",
    "clamped_dofs_u = locate_dofs_topological((naghdi_shell_FS.sub(0), u_FS), fdim, facet_tag.find(1))\n",
    "bc_clamped_u = dirichletbc(u_clamped, clamped_dofs_u, naghdi_shell_FS.sub(0))\n",
    "\n",
    "# theta1, theta2 = 0 on the clamped boundary\n",
    "theta_clamped = Function(theta_FS) # default value is 0\n",
    "clamped_dofs_theta = locate_dofs_topological((naghdi_shell_FS.sub(1), theta_FS), fdim, facet_tag.find(1))\n",
    "bc_clamped_theta = dirichletbc(theta_clamped, clamped_dofs_theta, naghdi_shell_FS.sub(1))\n",
    "\n",
    "bcs = [bc_clamped_u, bc_clamped_theta]"
   ]
  },
  {
   "cell_type": "markdown",
   "metadata": {},
   "source": [
    "# BB tree"
   ]
  },
  {
   "cell_type": "code",
   "execution_count": 13,
   "metadata": {},
   "outputs": [],
   "source": [
    "\n",
    "bb_tree = dolfinx.geometry.bb_tree(mesh, 2)\n",
    "bb_point = np.array([[length, 0.0, 0.0]], dtype=np.float64)\n",
    "\n",
    "# Find the leaf that the target point is in\n",
    "bb_cell_candidates = dolfinx.geometry.compute_collisions_points(bb_tree, bb_point)\n",
    "\n",
    "# Find the cell from the leaf that contains the target point\n",
    "bb_cells = dolfinx.geometry.compute_colliding_cells(\n",
    "    mesh, bb_cell_candidates, bb_point)"
   ]
  },
  {
   "cell_type": "markdown",
   "metadata": {},
   "source": [
    "# Newton solver"
   ]
  },
  {
   "cell_type": "code",
   "execution_count": 14,
   "metadata": {},
   "outputs": [],
   "source": [
    "problem = NonlinearProblem(Residual, q_func, bcs, Jacobian)\n",
    "solver = NewtonSolver(mesh.comm, problem)\n",
    "\n",
    "# Set Newton solver options\n",
    "solver.rtol = 1e-6\n",
    "solver.atol = 1e-6\n",
    "solver.max_it = 100\n",
    "solver.convergence_criterion = \"incremental\"\n",
    "solver.report = True\n",
    "\n",
    "# Modify the linear solver in each Newton iteration\n",
    "ksp = solver.krylov_solver\n",
    "opts = PETSc.Options()\n",
    "option_prefix = ksp.getOptionsPrefix()\n",
    "opts[f\"{option_prefix}ksp_type\"] = \"preonly\"\n",
    "#opts[f\"{option_prefix}ksp_type\"] = \"cg\"\n",
    "opts[f\"{option_prefix}pc_type\"] = \"lu\"\n",
    "opts[f\"{option_prefix}pc_factor_mat_solver_type\"] = \"mumps\"\n",
    "ksp.setFromOptions()"
   ]
  },
  {
   "cell_type": "code",
   "execution_count": 15,
   "metadata": {},
   "outputs": [
    {
     "name": "stderr",
     "output_type": "stream",
     "text": [
      "  0%|          | 0/200 [00:00<?, ?it/s]"
     ]
    },
    {
     "name": "stdout",
     "output_type": "stream",
     "text": [
      "Load step 0, Number of iterations: 2, Load: 0.00 (52.36)\n",
      "Load step 1, Number of iterations: 4, Load: 0.26 (52.36)\n"
     ]
    },
    {
     "name": "stderr",
     "output_type": "stream",
     "text": [
      "  1%|          | 2/200 [00:00<00:10, 19.13it/s]"
     ]
    },
    {
     "name": "stdout",
     "output_type": "stream",
     "text": [
      "Load step 2, Number of iterations: 5, Load: 0.53 (52.36)\n",
      "Load step 3, Number of iterations: 5, Load: 0.79 (52.36)\n"
     ]
    },
    {
     "name": "stdout",
     "output_type": "stream",
     "text": [
      "Load step 4, Number of iterations: 5, Load: 1.05 (52.36)\n"
     ]
    },
    {
     "name": "stderr",
     "output_type": "stream",
     "text": [
      "  2%|▎         | 5/200 [00:00<00:09, 21.50it/s]"
     ]
    },
    {
     "name": "stdout",
     "output_type": "stream",
     "text": [
      "Load step 5, Number of iterations: 5, Load: 1.32 (52.36)\n",
      "Load step 6, Number of iterations: 5, Load: 1.58 (52.36)\n",
      "Load step 7, Number of iterations: 5, Load: 1.84 (52.36)\n"
     ]
    },
    {
     "name": "stderr",
     "output_type": "stream",
     "text": [
      "  4%|▍         | 8/200 [00:00<00:09, 20.40it/s]"
     ]
    },
    {
     "name": "stdout",
     "output_type": "stream",
     "text": [
      "Load step 8, Number of iterations: 5, Load: 2.10 (52.36)\n",
      "Load step 9, Number of iterations: 5, Load: 2.37 (52.36)\n",
      "Load step 10, Number of iterations: 5, Load: 2.63 (52.36)\n"
     ]
    },
    {
     "name": "stderr",
     "output_type": "stream",
     "text": [
      "  6%|▌         | 11/200 [00:00<00:09, 20.93it/s]"
     ]
    },
    {
     "name": "stdout",
     "output_type": "stream",
     "text": [
      "Load step 11, Number of iterations: 5, Load: 2.89 (52.36)\n",
      "Load step 12, Number of iterations: 5, Load: 3.16 (52.36)\n",
      "Load step 13, Number of iterations: 5, Load: 3.42 (52.36)\n"
     ]
    },
    {
     "name": "stderr",
     "output_type": "stream",
     "text": [
      "  7%|▋         | 14/200 [00:00<00:09, 20.05it/s]"
     ]
    },
    {
     "name": "stdout",
     "output_type": "stream",
     "text": [
      "Load step 14, Number of iterations: 5, Load: 3.68 (52.36)\n",
      "Load step 15, Number of iterations: 5, Load: 3.95 (52.36)\n",
      "Load step 16, Number of iterations: 5, Load: 4.21 (52.36)\n"
     ]
    },
    {
     "name": "stderr",
     "output_type": "stream",
     "text": [
      "  8%|▊         | 17/200 [00:00<00:09, 20.27it/s]"
     ]
    },
    {
     "name": "stdout",
     "output_type": "stream",
     "text": [
      "Load step 17, Number of iterations: 5, Load: 4.47 (52.36)\n",
      "Load step 18, Number of iterations: 5, Load: 4.74 (52.36)\n",
      "Load step 19, Number of iterations: 5, Load: 5.00 (52.36)\n"
     ]
    },
    {
     "name": "stderr",
     "output_type": "stream",
     "text": [
      " 10%|█         | 20/200 [00:00<00:08, 21.02it/s]"
     ]
    },
    {
     "name": "stdout",
     "output_type": "stream",
     "text": [
      "Load step 20, Number of iterations: 5, Load: 5.26 (52.36)\n",
      "Load step 21, Number of iterations: 5, Load: 5.53 (52.36)\n",
      "Load step 22, Number of iterations: 5, Load: 5.79 (52.36)\n"
     ]
    },
    {
     "name": "stderr",
     "output_type": "stream",
     "text": [
      " 12%|█▏        | 23/200 [00:01<00:08, 21.45it/s]"
     ]
    },
    {
     "name": "stdout",
     "output_type": "stream",
     "text": [
      "Load step 23, Number of iterations: 5, Load: 6.05 (52.36)\n",
      "Load step 24, Number of iterations: 5, Load: 6.31 (52.36)\n",
      "Load step 25, Number of iterations: 5, Load: 6.58 (52.36)\n"
     ]
    },
    {
     "name": "stderr",
     "output_type": "stream",
     "text": [
      " 13%|█▎        | 26/200 [00:01<00:08, 21.40it/s]"
     ]
    },
    {
     "name": "stdout",
     "output_type": "stream",
     "text": [
      "Load step 26, Number of iterations: 5, Load: 6.84 (52.36)\n",
      "Load step 27, Number of iterations: 5, Load: 7.10 (52.36)\n",
      "Load step 28, Number of iterations: 5, Load: 7.37 (52.36)\n"
     ]
    },
    {
     "name": "stderr",
     "output_type": "stream",
     "text": [
      " 14%|█▍        | 29/200 [00:01<00:07, 21.76it/s]"
     ]
    },
    {
     "name": "stdout",
     "output_type": "stream",
     "text": [
      "Load step 29, Number of iterations: 5, Load: 7.63 (52.36)\n",
      "Load step 30, Number of iterations: 5, Load: 7.89 (52.36)\n",
      "Load step 31, Number of iterations: 5, Load: 8.16 (52.36)\n"
     ]
    },
    {
     "name": "stderr",
     "output_type": "stream",
     "text": [
      " 16%|█▌        | 32/200 [00:01<00:08, 19.78it/s]"
     ]
    },
    {
     "name": "stdout",
     "output_type": "stream",
     "text": [
      "Load step 32, Number of iterations: 5, Load: 8.42 (52.36)\n",
      "Load step 33, Number of iterations: 5, Load: 8.68 (52.36)\n",
      "Load step 34, Number of iterations: 5, Load: 8.95 (52.36)\n"
     ]
    },
    {
     "name": "stderr",
     "output_type": "stream",
     "text": [
      " 18%|█▊        | 35/200 [00:01<00:08, 20.40it/s]"
     ]
    },
    {
     "name": "stdout",
     "output_type": "stream",
     "text": [
      "Load step 35, Number of iterations: 5, Load: 9.21 (52.36)\n",
      "Load step 36, Number of iterations: 5, Load: 9.47 (52.36)\n",
      "Load step 37, Number of iterations: 5, Load: 9.74 (52.36)\n"
     ]
    },
    {
     "name": "stderr",
     "output_type": "stream",
     "text": [
      " 19%|█▉        | 38/200 [00:01<00:07, 21.05it/s]"
     ]
    },
    {
     "name": "stdout",
     "output_type": "stream",
     "text": [
      "Load step 38, Number of iterations: 5, Load: 10.00 (52.36)\n",
      "Load step 39, Number of iterations: 5, Load: 10.26 (52.36)\n",
      "Load step 40, Number of iterations: 5, Load: 10.52 (52.36)\n"
     ]
    },
    {
     "name": "stderr",
     "output_type": "stream",
     "text": [
      " 20%|██        | 41/200 [00:01<00:07, 21.55it/s]"
     ]
    },
    {
     "name": "stdout",
     "output_type": "stream",
     "text": [
      "Load step 41, Number of iterations: 5, Load: 10.79 (52.36)\n",
      "Load step 42, Number of iterations: 5, Load: 11.05 (52.36)\n",
      "Load step 43, Number of iterations: 5, Load: 11.31 (52.36)\n"
     ]
    },
    {
     "name": "stderr",
     "output_type": "stream",
     "text": [
      " 22%|██▏       | 44/200 [00:02<00:07, 21.30it/s]"
     ]
    },
    {
     "name": "stdout",
     "output_type": "stream",
     "text": [
      "Load step 44, Number of iterations: 5, Load: 11.58 (52.36)\n",
      "Load step 45, Number of iterations: 5, Load: 11.84 (52.36)\n",
      "Load step 46, Number of iterations: 5, Load: 12.10 (52.36)\n"
     ]
    },
    {
     "name": "stderr",
     "output_type": "stream",
     "text": [
      " 24%|██▎       | 47/200 [00:02<00:07, 19.24it/s]"
     ]
    },
    {
     "name": "stdout",
     "output_type": "stream",
     "text": [
      "Load step 47, Number of iterations: 5, Load: 12.37 (52.36)\n",
      "Load step 48, Number of iterations: 5, Load: 12.63 (52.36)\n",
      "Load step 49, Number of iterations: 5, Load: 12.89 (52.36)\n"
     ]
    },
    {
     "name": "stderr",
     "output_type": "stream",
     "text": [
      " 25%|██▌       | 50/200 [00:02<00:07, 20.17it/s]"
     ]
    },
    {
     "name": "stdout",
     "output_type": "stream",
     "text": [
      "Load step 50, Number of iterations: 5, Load: 13.16 (52.36)\n",
      "Load step 51, Number of iterations: 5, Load: 13.42 (52.36)\n",
      "Load step 52, Number of iterations: 5, Load: 13.68 (52.36)\n"
     ]
    },
    {
     "name": "stderr",
     "output_type": "stream",
     "text": [
      " 26%|██▋       | 53/200 [00:02<00:07, 20.76it/s]"
     ]
    },
    {
     "name": "stdout",
     "output_type": "stream",
     "text": [
      "Load step 53, Number of iterations: 5, Load: 13.95 (52.36)\n",
      "Load step 54, Number of iterations: 5, Load: 14.21 (52.36)\n",
      "Load step 55, Number of iterations: 5, Load: 14.47 (52.36)\n"
     ]
    },
    {
     "name": "stderr",
     "output_type": "stream",
     "text": [
      " 28%|██▊       | 56/200 [00:02<00:06, 21.23it/s]"
     ]
    },
    {
     "name": "stdout",
     "output_type": "stream",
     "text": [
      "Load step 56, Number of iterations: 5, Load: 14.73 (52.36)\n",
      "Load step 57, Number of iterations: 5, Load: 15.00 (52.36)\n",
      "Load step 58, Number of iterations: 5, Load: 15.26 (52.36)\n"
     ]
    },
    {
     "name": "stderr",
     "output_type": "stream",
     "text": [
      " 30%|██▉       | 59/200 [00:02<00:06, 21.69it/s]"
     ]
    },
    {
     "name": "stdout",
     "output_type": "stream",
     "text": [
      "Load step 59, Number of iterations: 4, Load: 15.52 (52.36)\n",
      "Load step 60, Number of iterations: 4, Load: 15.79 (52.36)\n",
      "Load step 61, Number of iterations: 4, Load: 16.05 (52.36)\n"
     ]
    },
    {
     "name": "stderr",
     "output_type": "stream",
     "text": [
      " 31%|███       | 62/200 [00:02<00:06, 20.58it/s]"
     ]
    },
    {
     "name": "stdout",
     "output_type": "stream",
     "text": [
      "Load step 62, Number of iterations: 4, Load: 16.31 (52.36)\n",
      "Load step 63, Number of iterations: 4, Load: 16.58 (52.36)\n",
      "Load step 64, Number of iterations: 4, Load: 16.84 (52.36)\n"
     ]
    },
    {
     "name": "stderr",
     "output_type": "stream",
     "text": [
      " 32%|███▎      | 65/200 [00:03<00:06, 21.45it/s]"
     ]
    },
    {
     "name": "stdout",
     "output_type": "stream",
     "text": [
      "Load step 65, Number of iterations: 4, Load: 17.10 (52.36)\n",
      "Load step 66, Number of iterations: 4, Load: 17.37 (52.36)\n",
      "Load step 67, Number of iterations: 4, Load: 17.63 (52.36)\n"
     ]
    },
    {
     "name": "stderr",
     "output_type": "stream",
     "text": [
      " 34%|███▍      | 68/200 [00:03<00:06, 21.94it/s]"
     ]
    },
    {
     "name": "stdout",
     "output_type": "stream",
     "text": [
      "Load step 68, Number of iterations: 4, Load: 17.89 (52.36)\n",
      "Load step 69, Number of iterations: 4, Load: 18.15 (52.36)\n",
      "Load step 70, Number of iterations: 4, Load: 18.42 (52.36)\n"
     ]
    },
    {
     "name": "stderr",
     "output_type": "stream",
     "text": [
      " 36%|███▌      | 71/200 [00:03<00:05, 22.41it/s]"
     ]
    },
    {
     "name": "stdout",
     "output_type": "stream",
     "text": [
      "Load step 71, Number of iterations: 4, Load: 18.68 (52.36)\n",
      "Load step 72, Number of iterations: 4, Load: 18.94 (52.36)\n",
      "Load step 73, Number of iterations: 4, Load: 19.21 (52.36)\n"
     ]
    },
    {
     "name": "stderr",
     "output_type": "stream",
     "text": [
      " 37%|███▋      | 74/200 [00:03<00:05, 22.73it/s]"
     ]
    },
    {
     "name": "stdout",
     "output_type": "stream",
     "text": [
      "Load step 74, Number of iterations: 4, Load: 19.47 (52.36)\n",
      "Load step 75, Number of iterations: 4, Load: 19.73 (52.36)\n",
      "Load step 76, Number of iterations: 4, Load: 20.00 (52.36)\n"
     ]
    },
    {
     "name": "stderr",
     "output_type": "stream",
     "text": [
      " 38%|███▊      | 77/200 [00:03<00:05, 20.93it/s]"
     ]
    },
    {
     "name": "stdout",
     "output_type": "stream",
     "text": [
      "Load step 77, Number of iterations: 4, Load: 20.26 (52.36)\n",
      "Load step 78, Number of iterations: 4, Load: 20.52 (52.36)\n",
      "Load step 79, Number of iterations: 4, Load: 20.79 (52.36)\n"
     ]
    },
    {
     "name": "stderr",
     "output_type": "stream",
     "text": [
      " 40%|████      | 80/200 [00:03<00:05, 20.97it/s]"
     ]
    },
    {
     "name": "stdout",
     "output_type": "stream",
     "text": [
      "Load step 80, Number of iterations: 4, Load: 21.05 (52.36)\n",
      "Load step 81, Number of iterations: 4, Load: 21.31 (52.36)\n",
      "Load step 82, Number of iterations: 4, Load: 21.58 (52.36)\n"
     ]
    },
    {
     "name": "stderr",
     "output_type": "stream",
     "text": [
      " 42%|████▏     | 83/200 [00:03<00:05, 21.43it/s]"
     ]
    },
    {
     "name": "stdout",
     "output_type": "stream",
     "text": [
      "Load step 83, Number of iterations: 4, Load: 21.84 (52.36)\n",
      "Load step 84, Number of iterations: 4, Load: 22.10 (52.36)\n",
      "Load step 85, Number of iterations: 4, Load: 22.36 (52.36)\n"
     ]
    },
    {
     "name": "stderr",
     "output_type": "stream",
     "text": [
      " 43%|████▎     | 86/200 [00:04<00:05, 21.85it/s]"
     ]
    },
    {
     "name": "stdout",
     "output_type": "stream",
     "text": [
      "Load step 86, Number of iterations: 4, Load: 22.63 (52.36)\n",
      "Load step 87, Number of iterations: 4, Load: 22.89 (52.36)\n",
      "Load step 88, Number of iterations: 4, Load: 23.15 (52.36)\n"
     ]
    },
    {
     "name": "stderr",
     "output_type": "stream",
     "text": [
      " 44%|████▍     | 89/200 [00:04<00:05, 21.53it/s]"
     ]
    },
    {
     "name": "stdout",
     "output_type": "stream",
     "text": [
      "Load step 89, Number of iterations: 4, Load: 23.42 (52.36)\n",
      "Load step 90, Number of iterations: 4, Load: 23.68 (52.36)\n",
      "Load step 91, Number of iterations: 4, Load: 23.94 (52.36)\n"
     ]
    },
    {
     "name": "stderr",
     "output_type": "stream",
     "text": [
      " 46%|████▌     | 92/200 [00:04<00:05, 20.58it/s]"
     ]
    },
    {
     "name": "stdout",
     "output_type": "stream",
     "text": [
      "Load step 92, Number of iterations: 4, Load: 24.21 (52.36)\n",
      "Load step 93, Number of iterations: 4, Load: 24.47 (52.36)\n",
      "Load step 94, Number of iterations: 4, Load: 24.73 (52.36)\n"
     ]
    },
    {
     "name": "stderr",
     "output_type": "stream",
     "text": [
      " 48%|████▊     | 95/200 [00:04<00:05, 20.63it/s]"
     ]
    },
    {
     "name": "stdout",
     "output_type": "stream",
     "text": [
      "Load step 95, Number of iterations: 4, Load: 25.00 (52.36)\n",
      "Load step 96, Number of iterations: 4, Load: 25.26 (52.36)\n",
      "Load step 97, Number of iterations: 4, Load: 25.52 (52.36)\n"
     ]
    },
    {
     "name": "stderr",
     "output_type": "stream",
     "text": [
      " 49%|████▉     | 98/200 [00:04<00:04, 21.59it/s]"
     ]
    },
    {
     "name": "stdout",
     "output_type": "stream",
     "text": [
      "Load step 98, Number of iterations: 4, Load: 25.79 (52.36)\n",
      "Load step 99, Number of iterations: 4, Load: 26.05 (52.36)\n",
      "Load step 100, Number of iterations: 4, Load: 26.31 (52.36)\n"
     ]
    },
    {
     "name": "stderr",
     "output_type": "stream",
     "text": [
      " 50%|█████     | 101/200 [00:04<00:04, 22.17it/s]"
     ]
    },
    {
     "name": "stdout",
     "output_type": "stream",
     "text": [
      "Load step 101, Number of iterations: 4, Load: 26.57 (52.36)\n",
      "Load step 102, Number of iterations: 4, Load: 26.84 (52.36)\n",
      "Load step 103, Number of iterations: 4, Load: 27.10 (52.36)\n"
     ]
    },
    {
     "name": "stderr",
     "output_type": "stream",
     "text": [
      " 52%|█████▏    | 104/200 [00:04<00:04, 22.19it/s]"
     ]
    },
    {
     "name": "stdout",
     "output_type": "stream",
     "text": [
      "Load step 104, Number of iterations: 4, Load: 27.36 (52.36)\n",
      "Load step 105, Number of iterations: 4, Load: 27.63 (52.36)\n",
      "Load step 106, Number of iterations: 4, Load: 27.89 (52.36)\n"
     ]
    },
    {
     "name": "stderr",
     "output_type": "stream",
     "text": [
      " 54%|█████▎    | 107/200 [00:05<00:04, 22.54it/s]"
     ]
    },
    {
     "name": "stdout",
     "output_type": "stream",
     "text": [
      "Load step 107, Number of iterations: 4, Load: 28.15 (52.36)\n",
      "Load step 108, Number of iterations: 4, Load: 28.42 (52.36)\n",
      "Load step 109, Number of iterations: 4, Load: 28.68 (52.36)\n"
     ]
    },
    {
     "name": "stderr",
     "output_type": "stream",
     "text": [
      " 55%|█████▌    | 110/200 [00:05<00:03, 23.21it/s]"
     ]
    },
    {
     "name": "stdout",
     "output_type": "stream",
     "text": [
      "Load step 110, Number of iterations: 4, Load: 28.94 (52.36)\n",
      "Load step 111, Number of iterations: 4, Load: 29.21 (52.36)\n",
      "Load step 112, Number of iterations: 4, Load: 29.47 (52.36)\n"
     ]
    },
    {
     "name": "stderr",
     "output_type": "stream",
     "text": [
      " 56%|█████▋    | 113/200 [00:05<00:03, 23.43it/s]"
     ]
    },
    {
     "name": "stdout",
     "output_type": "stream",
     "text": [
      "Load step 113, Number of iterations: 4, Load: 29.73 (52.36)\n",
      "Load step 114, Number of iterations: 4, Load: 30.00 (52.36)\n",
      "Load step 115, Number of iterations: 4, Load: 30.26 (52.36)\n"
     ]
    },
    {
     "name": "stderr",
     "output_type": "stream",
     "text": [
      " 58%|█████▊    | 116/200 [00:05<00:03, 23.58it/s]"
     ]
    },
    {
     "name": "stdout",
     "output_type": "stream",
     "text": [
      "Load step 116, Number of iterations: 4, Load: 30.52 (52.36)\n",
      "Load step 117, Number of iterations: 4, Load: 30.78 (52.36)\n",
      "Load step 118, Number of iterations: 4, Load: 31.05 (52.36)\n"
     ]
    },
    {
     "name": "stderr",
     "output_type": "stream",
     "text": [
      " 60%|█████▉    | 119/200 [00:05<00:03, 20.81it/s]"
     ]
    },
    {
     "name": "stdout",
     "output_type": "stream",
     "text": [
      "Load step 119, Number of iterations: 4, Load: 31.31 (52.36)\n",
      "Load step 120, Number of iterations: 4, Load: 31.57 (52.36)\n",
      "Load step 121, Number of iterations: 4, Load: 31.84 (52.36)\n"
     ]
    },
    {
     "name": "stderr",
     "output_type": "stream",
     "text": [
      " 61%|██████    | 122/200 [00:05<00:03, 21.57it/s]"
     ]
    },
    {
     "name": "stdout",
     "output_type": "stream",
     "text": [
      "Load step 122, Number of iterations: 4, Load: 32.10 (52.36)\n",
      "Load step 123, Number of iterations: 4, Load: 32.36 (52.36)\n",
      "Load step 124, Number of iterations: 4, Load: 32.63 (52.36)\n"
     ]
    },
    {
     "name": "stderr",
     "output_type": "stream",
     "text": [
      " 62%|██████▎   | 125/200 [00:05<00:03, 22.17it/s]"
     ]
    },
    {
     "name": "stdout",
     "output_type": "stream",
     "text": [
      "Load step 125, Number of iterations: 4, Load: 32.89 (52.36)\n",
      "Load step 126, Number of iterations: 4, Load: 33.15 (52.36)\n",
      "Load step 127, Number of iterations: 4, Load: 33.42 (52.36)\n"
     ]
    },
    {
     "name": "stderr",
     "output_type": "stream",
     "text": [
      " 64%|██████▍   | 128/200 [00:05<00:03, 22.32it/s]"
     ]
    },
    {
     "name": "stdout",
     "output_type": "stream",
     "text": [
      "Load step 128, Number of iterations: 4, Load: 33.68 (52.36)\n",
      "Load step 129, Number of iterations: 4, Load: 33.94 (52.36)\n",
      "Load step 130, Number of iterations: 4, Load: 34.20 (52.36)\n"
     ]
    },
    {
     "name": "stderr",
     "output_type": "stream",
     "text": [
      " 66%|██████▌   | 131/200 [00:06<00:02, 23.06it/s]"
     ]
    },
    {
     "name": "stdout",
     "output_type": "stream",
     "text": [
      "Load step 131, Number of iterations: 4, Load: 34.47 (52.36)\n",
      "Load step 132, Number of iterations: 4, Load: 34.73 (52.36)\n",
      "Load step 133, Number of iterations: 4, Load: 34.99 (52.36)\n"
     ]
    },
    {
     "name": "stderr",
     "output_type": "stream",
     "text": [
      " 67%|██████▋   | 134/200 [00:06<00:02, 22.95it/s]"
     ]
    },
    {
     "name": "stdout",
     "output_type": "stream",
     "text": [
      "Load step 134, Number of iterations: 4, Load: 35.26 (52.36)\n",
      "Load step 135, Number of iterations: 4, Load: 35.52 (52.36)\n",
      "Load step 136, Number of iterations: 4, Load: 35.78 (52.36)\n"
     ]
    },
    {
     "name": "stderr",
     "output_type": "stream",
     "text": [
      " 68%|██████▊   | 137/200 [00:06<00:02, 23.19it/s]"
     ]
    },
    {
     "name": "stdout",
     "output_type": "stream",
     "text": [
      "Load step 137, Number of iterations: 4, Load: 36.05 (52.36)\n",
      "Load step 138, Number of iterations: 4, Load: 36.31 (52.36)\n",
      "Load step 139, Number of iterations: 4, Load: 36.57 (52.36)\n"
     ]
    },
    {
     "name": "stderr",
     "output_type": "stream",
     "text": [
      " 70%|███████   | 140/200 [00:06<00:02, 21.56it/s]"
     ]
    },
    {
     "name": "stdout",
     "output_type": "stream",
     "text": [
      "Load step 140, Number of iterations: 4, Load: 36.84 (52.36)\n",
      "Load step 141, Number of iterations: 4, Load: 37.10 (52.36)\n",
      "Load step 142, Number of iterations: 4, Load: 37.36 (52.36)\n"
     ]
    },
    {
     "name": "stderr",
     "output_type": "stream",
     "text": [
      " 72%|███████▏  | 143/200 [00:06<00:02, 22.11it/s]"
     ]
    },
    {
     "name": "stdout",
     "output_type": "stream",
     "text": [
      "Load step 143, Number of iterations: 4, Load: 37.63 (52.36)\n",
      "Load step 144, Number of iterations: 4, Load: 37.89 (52.36)\n",
      "Load step 145, Number of iterations: 4, Load: 38.15 (52.36)\n"
     ]
    },
    {
     "name": "stderr",
     "output_type": "stream",
     "text": [
      " 73%|███████▎  | 146/200 [00:06<00:02, 22.72it/s]"
     ]
    },
    {
     "name": "stdout",
     "output_type": "stream",
     "text": [
      "Load step 146, Number of iterations: 4, Load: 38.41 (52.36)\n",
      "Load step 147, Number of iterations: 4, Load: 38.68 (52.36)\n",
      "Load step 148, Number of iterations: 4, Load: 38.94 (52.36)\n"
     ]
    },
    {
     "name": "stderr",
     "output_type": "stream",
     "text": [
      " 74%|███████▍  | 149/200 [00:06<00:02, 22.89it/s]"
     ]
    },
    {
     "name": "stdout",
     "output_type": "stream",
     "text": [
      "Load step 149, Number of iterations: 4, Load: 39.20 (52.36)\n",
      "Load step 150, Number of iterations: 4, Load: 39.47 (52.36)\n",
      "Load step 151, Number of iterations: 4, Load: 39.73 (52.36)\n"
     ]
    },
    {
     "name": "stderr",
     "output_type": "stream",
     "text": [
      " 76%|███████▌  | 152/200 [00:07<00:02, 23.01it/s]"
     ]
    },
    {
     "name": "stdout",
     "output_type": "stream",
     "text": [
      "Load step 152, Number of iterations: 4, Load: 39.99 (52.36)\n",
      "Load step 153, Number of iterations: 4, Load: 40.26 (52.36)\n",
      "Load step 154, Number of iterations: 4, Load: 40.52 (52.36)\n"
     ]
    },
    {
     "name": "stderr",
     "output_type": "stream",
     "text": [
      " 78%|███████▊  | 155/200 [00:07<00:02, 20.62it/s]"
     ]
    },
    {
     "name": "stdout",
     "output_type": "stream",
     "text": [
      "Load step 155, Number of iterations: 4, Load: 40.78 (52.36)\n",
      "Load step 156, Number of iterations: 4, Load: 41.05 (52.36)\n",
      "Load step 157, Number of iterations: 4, Load: 41.31 (52.36)\n"
     ]
    },
    {
     "name": "stderr",
     "output_type": "stream",
     "text": [
      " 79%|███████▉  | 158/200 [00:07<00:01, 21.41it/s]"
     ]
    },
    {
     "name": "stdout",
     "output_type": "stream",
     "text": [
      "Load step 158, Number of iterations: 4, Load: 41.57 (52.36)\n",
      "Load step 159, Number of iterations: 4, Load: 41.84 (52.36)\n",
      "Load step 160, Number of iterations: 4, Load: 42.10 (52.36)\n"
     ]
    },
    {
     "name": "stderr",
     "output_type": "stream",
     "text": [
      " 80%|████████  | 161/200 [00:07<00:01, 22.25it/s]"
     ]
    },
    {
     "name": "stdout",
     "output_type": "stream",
     "text": [
      "Load step 161, Number of iterations: 4, Load: 42.36 (52.36)\n",
      "Load step 162, Number of iterations: 4, Load: 42.62 (52.36)\n",
      "Load step 163, Number of iterations: 4, Load: 42.89 (52.36)\n"
     ]
    },
    {
     "name": "stderr",
     "output_type": "stream",
     "text": [
      " 82%|████████▏ | 164/200 [00:07<00:01, 22.43it/s]"
     ]
    },
    {
     "name": "stdout",
     "output_type": "stream",
     "text": [
      "Load step 164, Number of iterations: 4, Load: 43.15 (52.36)\n",
      "Load step 165, Number of iterations: 4, Load: 43.41 (52.36)\n",
      "Load step 166, Number of iterations: 4, Load: 43.68 (52.36)\n"
     ]
    },
    {
     "name": "stderr",
     "output_type": "stream",
     "text": [
      " 84%|████████▎ | 167/200 [00:07<00:01, 22.55it/s]"
     ]
    },
    {
     "name": "stdout",
     "output_type": "stream",
     "text": [
      "Load step 167, Number of iterations: 4, Load: 43.94 (52.36)\n",
      "Load step 168, Number of iterations: 4, Load: 44.20 (52.36)\n",
      "Load step 169, Number of iterations: 4, Load: 44.47 (52.36)\n"
     ]
    },
    {
     "name": "stderr",
     "output_type": "stream",
     "text": [
      " 85%|████████▌ | 170/200 [00:07<00:01, 20.50it/s]"
     ]
    },
    {
     "name": "stdout",
     "output_type": "stream",
     "text": [
      "Load step 170, Number of iterations: 4, Load: 44.73 (52.36)\n",
      "Load step 171, Number of iterations: 4, Load: 44.99 (52.36)\n",
      "Load step 172, Number of iterations: 4, Load: 45.26 (52.36)\n"
     ]
    },
    {
     "name": "stderr",
     "output_type": "stream",
     "text": [
      " 86%|████████▋ | 173/200 [00:08<00:01, 21.26it/s]"
     ]
    },
    {
     "name": "stdout",
     "output_type": "stream",
     "text": [
      "Load step 173, Number of iterations: 4, Load: 45.52 (52.36)\n",
      "Load step 174, Number of iterations: 4, Load: 45.78 (52.36)\n",
      "Load step 175, Number of iterations: 4, Load: 46.05 (52.36)\n"
     ]
    },
    {
     "name": "stderr",
     "output_type": "stream",
     "text": [
      " 88%|████████▊ | 176/200 [00:08<00:01, 21.54it/s]"
     ]
    },
    {
     "name": "stdout",
     "output_type": "stream",
     "text": [
      "Load step 176, Number of iterations: 4, Load: 46.31 (52.36)\n",
      "Load step 177, Number of iterations: 4, Load: 46.57 (52.36)\n",
      "Load step 178, Number of iterations: 4, Load: 46.83 (52.36)\n"
     ]
    },
    {
     "name": "stderr",
     "output_type": "stream",
     "text": [
      " 90%|████████▉ | 179/200 [00:08<00:00, 21.64it/s]"
     ]
    },
    {
     "name": "stdout",
     "output_type": "stream",
     "text": [
      "Load step 179, Number of iterations: 4, Load: 47.10 (52.36)\n",
      "Load step 180, Number of iterations: 4, Load: 47.36 (52.36)\n",
      "Load step 181, Number of iterations: 4, Load: 47.62 (52.36)\n"
     ]
    },
    {
     "name": "stderr",
     "output_type": "stream",
     "text": [
      " 91%|█████████ | 182/200 [00:08<00:00, 22.03it/s]"
     ]
    },
    {
     "name": "stdout",
     "output_type": "stream",
     "text": [
      "Load step 182, Number of iterations: 4, Load: 47.89 (52.36)\n",
      "Load step 183, Number of iterations: 4, Load: 48.15 (52.36)\n",
      "Load step 184, Number of iterations: 4, Load: 48.41 (52.36)\n"
     ]
    },
    {
     "name": "stderr",
     "output_type": "stream",
     "text": [
      " 92%|█████████▎| 185/200 [00:08<00:00, 19.92it/s]"
     ]
    },
    {
     "name": "stdout",
     "output_type": "stream",
     "text": [
      "Load step 185, Number of iterations: 4, Load: 48.68 (52.36)\n",
      "Load step 186, Number of iterations: 4, Load: 48.94 (52.36)\n",
      "Load step 187, Number of iterations: 4, Load: 49.20 (52.36)\n"
     ]
    },
    {
     "name": "stderr",
     "output_type": "stream",
     "text": [
      " 94%|█████████▍| 188/200 [00:08<00:00, 20.94it/s]"
     ]
    },
    {
     "name": "stdout",
     "output_type": "stream",
     "text": [
      "Load step 188, Number of iterations: 4, Load: 49.47 (52.36)\n",
      "Load step 189, Number of iterations: 4, Load: 49.73 (52.36)\n",
      "Load step 190, Number of iterations: 4, Load: 49.99 (52.36)\n"
     ]
    },
    {
     "name": "stderr",
     "output_type": "stream",
     "text": [
      " 96%|█████████▌| 191/200 [00:08<00:00, 21.74it/s]"
     ]
    },
    {
     "name": "stdout",
     "output_type": "stream",
     "text": [
      "Load step 191, Number of iterations: 4, Load: 50.25 (52.36)\n",
      "Load step 192, Number of iterations: 4, Load: 50.52 (52.36)\n",
      "Load step 193, Number of iterations: 4, Load: 50.78 (52.36)\n"
     ]
    },
    {
     "name": "stderr",
     "output_type": "stream",
     "text": [
      " 97%|█████████▋| 194/200 [00:08<00:00, 22.20it/s]"
     ]
    },
    {
     "name": "stdout",
     "output_type": "stream",
     "text": [
      "Load step 194, Number of iterations: 4, Load: 51.04 (52.36)\n",
      "Load step 195, Number of iterations: 4, Load: 51.31 (52.36)\n",
      "Load step 196, Number of iterations: 4, Load: 51.57 (52.36)\n"
     ]
    },
    {
     "name": "stderr",
     "output_type": "stream",
     "text": [
      " 98%|█████████▊| 197/200 [00:09<00:00, 22.43it/s]"
     ]
    },
    {
     "name": "stdout",
     "output_type": "stream",
     "text": [
      "Load step 197, Number of iterations: 4, Load: 51.83 (52.36)\n",
      "Load step 198, Number of iterations: 4, Load: 52.10 (52.36)\n",
      "Load step 199, Number of iterations: 4, Load: 52.36 (52.36)\n"
     ]
    },
    {
     "name": "stderr",
     "output_type": "stream",
     "text": [
      "100%|██████████| 200/200 [00:09<00:00, 21.49it/s]\n"
     ]
    }
   ],
   "source": [
    "M_max = 2.0*np.pi*E.value*t.value**3/(12.0*length)\n",
    "nstep = 200\n",
    "Ms = np.linspace(0.0, M_max, nstep)\n",
    "\n",
    "if mesh.comm.rank == 0:\n",
    "    u1_list = np.zeros(nstep)\n",
    "    u3_list = np.zeros(nstep)\n",
    "    \n",
    "file_u = dolfinx.io.VTKFile(mesh.comm, results_folder/\"u.pvd\", \"w\")\n",
    "file_theta = dolfinx.io.VTKFile(mesh.comm, results_folder/\"theta.pvd\", \"w\")\n",
    "file_phi = dolfinx.io.VTKFile(mesh.comm, results_folder/\"phi.pvd\", \"w\")\n",
    " \n",
    "q_func.x.array[:] = 0.0\n",
    "\n",
    "for i, M_curr in enumerate(tqdm(Ms)):\n",
    "    M_right.value = M_curr\n",
    "    n, converged = solver.solve(q_func)\n",
    "    assert (converged)\n",
    "    q_func.x.scatter_forward()\n",
    "    if mesh.comm.rank == 0:\n",
    "        print(f\"Load step {i:d}, Number of iterations: {n:d}, Load: {M_curr:.2f} ({M_max:.2f})\", flush=True)\n",
    "    \n",
    "    # write output\n",
    "    if ele_type == \"qua_P1\" or ele_type == \"tri_P1\":\n",
    "        phi_FS = functionspace(mesh, blocked_element(P1, shape=(3,)))\n",
    "    else:\n",
    "        phi_FS = functionspace(mesh, blocked_element(P2, shape=(3,)))\n",
    "        \n",
    "    if ele_type == \"tri_P2B3\":\n",
    "        u_P2B3 = q_func.sub(0).collapse()\n",
    "        u_sol = Function(phi_FS)\n",
    "        u_sol.interpolate(u_P2B3)\n",
    "    else:\n",
    "        u_sol = q_func.sub(0).collapse()\n",
    "    \n",
    "    phi_expr = Expression(phi0_ufl + u_sol, phi_FS.element.interpolation_points())\n",
    "    phi_sol = Function(phi_FS)\n",
    "    phi_sol.interpolate(phi_expr)\n",
    "    theta_sol = q_func.sub(1).collapse()\n",
    "\n",
    "    file_u.write_function(u_sol, i)\n",
    "    file_theta.write_function(theta_sol, i)\n",
    "    file_phi.write_function(phi_sol, i)\n",
    "    \n",
    "    # calculate u3 at the point load\n",
    "    u1_bb = None\n",
    "    u3_bb = None\n",
    "    u1_func = q_func.sub(0).sub(0).collapse()\n",
    "    u3_func = q_func.sub(0).sub(2).collapse()\n",
    "    if len(bb_cells.array) > 0:\n",
    "        u1_bb = u1_func.eval(bb_point, bb_cells.array[0])[0]\n",
    "        u3_bb = u3_func.eval(bb_point, bb_cells.array[0])[0]\n",
    "    u1_bb = mesh.comm.gather(u1_bb, root=0)\n",
    "    u3_bb = mesh.comm.gather(u3_bb, root=0)\n",
    "    if mesh.comm.rank == 0:\n",
    "        for u1 in u1_bb:\n",
    "            if u1 is not None:\n",
    "                u1_list[i] = u1\n",
    "                break\n",
    "            \n",
    "        for u3 in u3_bb:\n",
    "            if u3 is not None:\n",
    "                u3_list[i] = u3\n",
    "                break\n",
    "file_u.close()\n",
    "file_theta.close()\n",
    "file_phi.close()"
   ]
  },
  {
   "cell_type": "markdown",
   "metadata": {},
   "source": [
    "## plot deformed shape"
   ]
  },
  {
   "cell_type": "code",
   "execution_count": 16,
   "metadata": {},
   "outputs": [
    {
     "data": {
      "application/vnd.jupyter.widget-view+json": {
       "model_id": "f54b575c580b406086c96109d5a7f5c0",
       "version_major": 2,
       "version_minor": 0
      },
      "text/plain": [
       "Widget(value='<iframe src=\"http://localhost:34247/index.html?ui=P_0x7fb62d4d5160_0&reconnect=auto\" class=\"pyvi…"
      ]
     },
     "metadata": {},
     "output_type": "display_data"
    }
   ],
   "source": [
    "u_sol = q_func.sub(0).collapse()\n",
    "\n",
    "phi_FS = functionspace(mesh, element(\"Lagrange\", cell, degree = 2, shape = (3,)))\n",
    "phi_expr = Expression(phi0_ufl + u_sol, phi_FS.element.interpolation_points())\n",
    "phi_func = Function(phi_FS)\n",
    "phi_func.interpolate(phi_expr)\n",
    "\n",
    "topology, cell_types, geometry = plot.vtk_mesh(phi_FS)\n",
    "\n",
    "geometry_phi = phi_func.x.array.reshape((geometry.shape[0], len(phi_func)))\n",
    "\n",
    "grid_phi = pyvista.UnstructuredGrid(topology, cell_types, geometry_phi)\n",
    "\n",
    "plotter = pyvista.Plotter()\n",
    "plotter.add_mesh(grid_phi, show_edges=True)\n",
    "plotter.show_grid()\n",
    "plotter.enable_parallel_projection()\n",
    "plotter.show_axes_all()\n",
    "if not pyvista.OFF_SCREEN:\n",
    "    plotter.show()\n",
    "else:\n",
    "    plotter.screenshot(results_folder/\"phi.png\")\n",
    "plotter.close()"
   ]
  },
  {
   "cell_type": "markdown",
   "metadata": {},
   "source": [
    "## plot displacement versus moment"
   ]
  },
  {
   "cell_type": "code",
   "execution_count": 17,
   "metadata": {},
   "outputs": [
    {
     "data": {
      "image/png": "[encoded data removed]",
      "text/plain": [
       "<Figure size 800x600 with 1 Axes>"
      ]
     },
     "metadata": {},
     "output_type": "display_data"
    }
   ],
   "source": [
    "import matplotlib.pyplot as plt\n",
    "\n",
    "if mesh.comm.rank == 0:\n",
    "    Ms_analytical = np.linspace(1E-3, 1.0, 100)\n",
    "    us = 12.0*(np.sin(2.0*np.pi*Ms_analytical)/(2.0*np.pi*Ms_analytical) - 1.0)\n",
    "    ws = -12.0*(1.0 - np.cos(2.0*np.pi*Ms_analytical))/(2.0*np.pi*Ms_analytical)\n",
    "    np.savetxt(results_folder/\"u1.txt\", u1_list)\n",
    "    np.savetxt(results_folder/\"u3.txt\", u3_list)\n",
    "    np.savetxt(results_folder/\"Ms_Mmax.txt\", Ms/M_max)\n",
    "    fig = plt.figure(figsize=(8.0, 6.0))\n",
    "    plt.plot( -us, Ms_analytical, \"-\", label=\"$-U (exact)$\")\n",
    "    plt.plot( -u1_list, Ms/M_max, \"o\", markersize=5, markerfacecolor='none', markevery = 5, label=f\"$-U ({nex}\\\\times{ney},${ele_type})\")\n",
    "    plt.plot( -ws, Ms_analytical, \"-\", label=\"$W (exact)$\")\n",
    "    plt.plot( -u3_list, Ms/M_max, \"o\", markersize=5, markerfacecolor='none', markevery = 5, label=f\"$W ({nex}\\\\times{ney},${ele_type})\")\n",
    "    plt.ylabel(r\"$M/M_{\\mathrm{max}}$\")\n",
    "    plt.xlabel(\"Tip Deflection\")\n",
    "    plt.legend()\n",
    "    plt.tight_layout()\n",
    "    plt.savefig(results_folder/\"comparisons.png\", dpi=300)"
   ]
  }
 ],
 "metadata": {
  "kernelspec": {
   "display_name": "fenicsx-env",
   "language": "python",
   "name": "python3"
  },
  "language_info": {
   "codemirror_mode": {
    "name": "ipython",
    "version": 3
   },
   "file_extension": ".py",
   "mimetype": "text/x-python",
   "name": "python",
   "nbconvert_exporter": "python",
   "pygments_lexer": "ipython3",
   "version": "3.12.0"
  }
 },
 "nbformat": 4,
 "nbformat_minor": 2
}
