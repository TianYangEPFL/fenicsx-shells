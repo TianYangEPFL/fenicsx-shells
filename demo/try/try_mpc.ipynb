{
 "cells": [
  {
   "cell_type": "code",
   "execution_count": 3,
   "metadata": {},
   "outputs": [],
   "source": [
    "from __future__ import annotations\n",
    "\n",
    "from mpi4py import MPI\n",
    "from petsc4py import PETSc\n",
    "\n",
    "import dolfinx\n",
    "import ufl\n",
    "from dolfinx.fem import Function, functionspace, dirichletbc, Expression, locate_dofs_topological\n",
    "import dolfinx_mpc\n",
    "from ufl import grad, inner, split\n",
    "from dolfinx_mpc import MultiPointConstraint\n",
    "from dolfinx.mesh import create_unit_square\n",
    "import numpy as np\n",
    "\n",
    "from dolfinx import plot\n",
    "import pyvista"
   ]
  },
  {
   "cell_type": "code",
   "execution_count": 7,
   "metadata": {},
   "outputs": [],
   "source": [
    "mesh = create_unit_square(MPI.COMM_WORLD, 100, 100, dolfinx.cpp.mesh.CellType.quadrilateral)\n",
    "V = functionspace(mesh, (\"Lagrange\", 1))\n",
    "u = Function(V)\n",
    "\n",
    "u.interpolate(lambda x: x[0] ** 2 * x[1] ** 2)"
   ]
  },
  {
   "cell_type": "code",
   "execution_count": 8,
   "metadata": {},
   "outputs": [
    {
     "data": {
      "application/vnd.jupyter.widget-view+json": {
       "model_id": "fac2813855734b82a3f615d746263d21",
       "version_major": 2,
       "version_minor": 0
      },
      "text/plain": [
       "Widget(value='<iframe src=\"http://localhost:38981/index.html?ui=P_0x7f0d99c70bf0_1&reconnect=auto\" class=\"pyvi…"
      ]
     },
     "metadata": {},
     "output_type": "display_data"
    }
   ],
   "source": [
    "u_topology, u_cell_types, u_geometry = plot.vtk_mesh(V)\n",
    "u_grid = pyvista.UnstructuredGrid(u_topology, u_cell_types, u_geometry)\n",
    "u_grid.point_data[\"u\"] = u.x.array.real\n",
    "u_grid.set_active_scalars(\"u\")\n",
    "u_plotter = pyvista.Plotter()\n",
    "u_plotter.add_mesh(u_grid, show_edges=True)\n",
    "u_plotter.view_xy()\n",
    "if not pyvista.OFF_SCREEN:\n",
    "    u_plotter.show()\n"
   ]
  }
 ],
 "metadata": {
  "kernelspec": {
   "display_name": "fenicsx-env",
   "language": "python",
   "name": "python3"
  },
  "language_info": {
   "codemirror_mode": {
    "name": "ipython",
    "version": 3
   },
   "file_extension": ".py",
   "mimetype": "text/x-python",
   "name": "python",
   "nbconvert_exporter": "python",
   "pygments_lexer": "ipython3",
   "version": "3.12.0"
  }
 },
 "nbformat": 4,
 "nbformat_minor": 2
}
