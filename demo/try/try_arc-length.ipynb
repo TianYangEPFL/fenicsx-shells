{
 "cells": [
  {
   "cell_type": "code",
   "execution_count": 20,
   "metadata": {},
   "outputs": [
    {
     "name": "stdout",
     "output_type": "stream",
     "text": [
      "Starting 2 engines with <class 'ipyparallel.cluster.launcher.MPIEngineSetLauncher'>\n"
     ]
    },
    {
     "name": "stderr",
     "output_type": "stream",
     "text": [
      "INFO:ipyparallel.cluster.cluster.1715096103-p96y:Starting 2 engines with <class 'ipyparallel.cluster.launcher.MPIEngineSetLauncher'>\n"
     ]
    },
    {
     "data": {
      "application/vnd.jupyter.widget-view+json": {
       "model_id": "ee0b2ca11f6e4a91989bc7e1e9777ac4",
       "version_major": 2,
       "version_minor": 0
      },
      "text/plain": [
       "  0%|          | 0/2 [00:00<?, ?engine/s]"
      ]
     },
     "metadata": {},
     "output_type": "display_data"
    }
   ],
   "source": [
    "# import ipyparallel as ipp\n",
    "\n",
    "# # create a cluster\n",
    "# cluster = ipp.Cluster(engines=\"mpi\", n=2)\n",
    "# # start that cluster and connect to it\n",
    "# rc = cluster.start_and_connect_sync(activate=True)"
   ]
  },
  {
   "cell_type": "markdown",
   "metadata": {},
   "source": [
    "# Built-in Newton Solver"
   ]
  },
  {
   "cell_type": "code",
   "execution_count": 1,
   "metadata": {},
   "outputs": [],
   "source": [
    "# %%px\n",
    "\n",
    "from mpi4py import MPI\n",
    "from petsc4py import PETSc\n",
    "\n",
    "import dolfinx\n",
    "import dolfinx.fem.petsc\n",
    "from dolfinx.fem.petsc import NonlinearProblem\n",
    "from dolfinx.nls.petsc import NewtonSolver\n",
    "import numpy as np\n",
    "import pyvista\n",
    "import ufl"
   ]
  },
  {
   "cell_type": "code",
   "execution_count": 2,
   "metadata": {},
   "outputs": [],
   "source": [
    "# %%px\n",
    "\n",
    "def q(u):\n",
    "    return 1 + u**2\n",
    "\n",
    "domain = dolfinx.mesh.create_unit_square(MPI.COMM_WORLD, 10, 10)\n",
    "lmbda = dolfinx.fem.Constant(domain, dolfinx.default_scalar_type(0.0))\n",
    "\n",
    "x = ufl.SpatialCoordinate(domain)\n",
    "u_ufl = (ufl.sin(lmbda) + 0.1* lmbda)*(1 + x[0]* x[0] + 2 * x[1]* x[1]) \n",
    "\n",
    "f = - ufl.div(q(u_ufl) * ufl.grad(u_ufl))\n",
    "\n",
    "V = dolfinx.fem.functionspace(domain, (\"Lagrange\", 1))\n",
    "u_D = dolfinx.fem.Function(V)\n",
    "fdim = domain.topology.dim - 1\n",
    "domain.topology.create_connectivity(fdim, fdim + 1)\n",
    "boundary_facets = dolfinx.mesh.exterior_facet_indices(domain.topology)\n",
    "bc = dolfinx.fem.dirichletbc(u_D, dolfinx.fem.locate_dofs_topological(V, fdim, boundary_facets))\n",
    "\n",
    "uh = dolfinx.fem.Function(V)\n",
    "v = ufl.TestFunction(V)\n",
    "F = q(uh) * ufl.dot(ufl.grad(uh), ufl.grad(v)) * ufl.dx - f * v * ufl.dx\n",
    "# J = ufl.derivative(F, uh)\n",
    "# residual = dolfinx.fem.form(F)\n",
    "# jacobian = dolfinx.fem.form(J)"
   ]
  },
  {
   "cell_type": "code",
   "execution_count": 3,
   "metadata": {},
   "outputs": [],
   "source": [
    "bb_tree = dolfinx.geometry.bb_tree(domain, 2)\n",
    "bb_point = np.array([[1.0, 1.0, 0.0]], dtype=np.float64)\n",
    "cell_candidates = dolfinx.geometry.compute_collisions_points(bb_tree, bb_point)\n",
    "bb_cells = dolfinx.geometry.compute_colliding_cells(\n",
    "    domain, cell_candidates, bb_point)"
   ]
  },
  {
   "cell_type": "code",
   "execution_count": 4,
   "metadata": {},
   "outputs": [],
   "source": [
    "# %%px\n",
    "\n",
    "problem = NonlinearProblem(F, uh, [bc])\n",
    "\n",
    "solver = NewtonSolver(MPI.COMM_WORLD, problem)\n",
    "solver.convergence_criterion = \"incremental\"\n",
    "solver.atol = 1e-10\n",
    "solver.rtol = 1e-10\n",
    "solver.report = True\n",
    "\n",
    "ksp = solver.krylov_solver\n",
    "opts = PETSc.Options()\n",
    "option_prefix = ksp.getOptionsPrefix()\n",
    "opts[f\"{option_prefix}ksp_type\"] = \"preonly\"\n",
    "opts[f\"{option_prefix}pc_type\"] = \"lu\"\n",
    "ksp.setFromOptions()"
   ]
  },
  {
   "cell_type": "code",
   "execution_count": null,
   "metadata": {},
   "outputs": [],
   "source": [
    "# %%px\n",
    "\n",
    "uh.vector.set(0.0)\n",
    "nstep = 51\n",
    "Dlmbda = 2*np.pi / (nstep - 1)\n",
    "u_bb_list = np.zeros(nstep)\n",
    "lmbda_list = np.arange(0, nstep*Dlmbda, Dlmbda)\n",
    "\n",
    "for i, lm_value in enumerate(lmbda_list):\n",
    "    lmbda.value = lm_value\n",
    "    u_D.interpolate(dolfinx.fem.Expression(u_ufl, V.element.interpolation_points()))\n",
    "    n, converged = solver.solve(uh)\n",
    "    assert (converged)\n",
    "\n",
    "    u_bb = 0.0\n",
    "    if len(bb_cells.array) > 0:\n",
    "        u_bb = uh.eval(bb_point, bb_cells.array[0])[0]\n",
    "    u_bb = domain.comm.allreduce(u_bb, op=MPI.SUM)\n",
    "    u_bb_list[i] = u_bb\n",
    "    error_max = domain.comm.allreduce(np.max(np.abs(uh.x.array - u_D.x.array)), op=MPI.MAX)\n",
    "    error_L2 = np.sqrt(domain.comm.allreduce(dolfinx.fem.assemble_scalar(dolfinx.fem.form(ufl.inner(uh - u_ufl, uh - u_ufl) * ufl.dx)), op=MPI.SUM))\n",
    "\n",
    "    if domain.comm.rank == 0:\n",
    "        print(f\"num_its: {n:d}; lambda: {lm_value:.2f}; error_max: {error_max:.2}; error_L2: {error_L2:.2}\")"
   ]
  },
  {
   "cell_type": "code",
   "execution_count": 7,
   "metadata": {},
   "outputs": [
    {
     "data": {
      "application/vnd.jupyter.widget-view+json": {
       "model_id": "3611b1ab2e524907a4d467d2b6bcdd7c",
       "version_major": 2,
       "version_minor": 0
      },
      "text/plain": [
       "Widget(value='<iframe src=\"http://localhost:42377/index.html?ui=P_0x7f73634c8c50_0&reconnect=auto\" class=\"pyvi…"
      ]
     },
     "metadata": {},
     "output_type": "display_data"
    }
   ],
   "source": [
    "# %%px\n",
    "\n",
    "u_topology, u_cell_types, u_geometry = dolfinx.plot.vtk_mesh(V)\n",
    "u_grid = pyvista.UnstructuredGrid(u_topology, u_cell_types, u_geometry)\n",
    "u_grid.point_data[\"u\"] = uh.x.array.real\n",
    "u_grid.set_active_scalars(\"u\")\n",
    "u_plotter = pyvista.Plotter()\n",
    "u_plotter.add_mesh(u_grid, show_edges=True)\n",
    "u_plotter.view_xy()\n",
    "if not pyvista.OFF_SCREEN:\n",
    "    u_plotter.show()"
   ]
  },
  {
   "cell_type": "code",
   "execution_count": 8,
   "metadata": {},
   "outputs": [
    {
     "data": {
      "image/png": "[encoded data removed]",
      "text/plain": [
       "<Figure size 640x480 with 1 Axes>"
      ]
     },
     "metadata": {},
     "output_type": "display_data"
    }
   ],
   "source": [
    "import matplotlib.pyplot as plt\n",
    "\n",
    "if domain.comm.rank == 0:\n",
    "    plt.plot(lmbda_list, u_bb_list, \"o--\", markersize=4)\n",
    "    plt.xlabel(r\"$\\lambda$\")\n",
    "    plt.ylabel(\"u at (1, 1)\")\n",
    "    plt.tight_layout()\n",
    "    plt.show()"
   ]
  },
  {
   "cell_type": "markdown",
   "metadata": {},
   "source": [
    "# Custom Newton solver"
   ]
  },
  {
   "cell_type": "code",
   "execution_count": 9,
   "metadata": {},
   "outputs": [],
   "source": [
    "from mpi4py import MPI\n",
    "from petsc4py import PETSc\n",
    "\n",
    "import dolfinx\n",
    "import dolfinx.fem.petsc\n",
    "import numpy as np\n",
    "import ufl\n",
    "from tqdm import tqdm\n",
    "import matplotlib.pyplot as plt"
   ]
  },
  {
   "cell_type": "code",
   "execution_count": 10,
   "metadata": {},
   "outputs": [],
   "source": [
    "def q(u):\n",
    "    return 1 + u**2\n",
    "\n",
    "domain = dolfinx.mesh.create_unit_square(MPI.COMM_WORLD, 10, 10)\n",
    "lmbda = dolfinx.fem.Constant(domain, dolfinx.default_scalar_type(0.0))\n",
    "\n",
    "x = ufl.SpatialCoordinate(domain)\n",
    "u_ufl = (ufl.sin(lmbda) + 0.1* lmbda)*(1 + x[0]* x[0] + 2 * x[1]* x[1]) \n",
    "\n",
    "f = - ufl.div(q(u_ufl) * ufl.grad(u_ufl))\n",
    "\n",
    "V = dolfinx.fem.functionspace(domain, (\"Lagrange\", 1))\n",
    "u_D = dolfinx.fem.Function(V)\n",
    "fdim = domain.topology.dim - 1\n",
    "domain.topology.create_connectivity(fdim, fdim + 1)\n",
    "boundary_facets = dolfinx.mesh.exterior_facet_indices(domain.topology)\n",
    "bc = dolfinx.fem.dirichletbc(u_D, dolfinx.fem.locate_dofs_topological(V, fdim, boundary_facets))\n",
    "\n",
    "uh = dolfinx.fem.Function(V)\n",
    "v = ufl.TestFunction(V)\n",
    "F = q(uh) * ufl.dot(ufl.grad(uh), ufl.grad(v)) * ufl.dx - f * v * ufl.dx\n",
    "J = ufl.derivative(F, uh)\n",
    "residual = dolfinx.fem.form(F)\n",
    "jacobian = dolfinx.fem.form(J)"
   ]
  },
  {
   "cell_type": "code",
   "execution_count": 11,
   "metadata": {},
   "outputs": [],
   "source": [
    "\n",
    "bb_tree = dolfinx.geometry.bb_tree(domain, 2)\n",
    "bb_point = np.array([[1.0, 1.0, 0.0]], dtype=np.float64)\n",
    "cell_candidates = dolfinx.geometry.compute_collisions_points(bb_tree, bb_point)\n",
    "bb_cells = dolfinx.geometry.compute_colliding_cells(\n",
    "    domain, cell_candidates, bb_point)"
   ]
  },
  {
   "cell_type": "code",
   "execution_count": 12,
   "metadata": {},
   "outputs": [],
   "source": [
    "du = dolfinx.fem.Function(V)\n",
    "A = dolfinx.fem.petsc.create_matrix(jacobian)\n",
    "L = dolfinx.fem.petsc.create_vector(residual)\n",
    "solver = PETSc.KSP().create(domain.comm)\n",
    "solver.setOperators(A)\n",
    "solver.setType(PETSc.KSP.Type.PREONLY)\n",
    "solver.getPC().setType(PETSc.PC.Type.LU)"
   ]
  },
  {
   "cell_type": "code",
   "execution_count": null,
   "metadata": {},
   "outputs": [],
   "source": [
    "uh.x.array[:] = 0.0\n",
    "\n",
    "nstep = 51\n",
    "Dlmbda = 2*np.pi / (nstep - 1)\n",
    "u_bb_list = np.zeros(nstep)\n",
    "lmbda_list = np.arange(0.0, nstep*Dlmbda, Dlmbda)\n",
    "max_iterations = 25\n",
    "\n",
    "\n",
    "for i, lm_value in enumerate(tqdm(lmbda_list)):\n",
    "    lmbda.value = lm_value\n",
    "    u_D.interpolate(dolfinx.fem.Expression(u_ufl, V.element.interpolation_points()))\n",
    "    j = 0\n",
    "    \n",
    "    print(f\"Step {i} starts, lambda = {lm_value:.2}\")\n",
    "    while j < max_iterations:\n",
    "        # Assemble Jacobian and residual\n",
    "        with L.localForm() as loc_L:\n",
    "            loc_L.set(0)\n",
    "        A.zeroEntries()\n",
    "        dolfinx.fem.petsc.assemble_matrix(A, jacobian, bcs=[bc])\n",
    "        A.assemble()\n",
    "        dolfinx.fem.petsc.assemble_vector(L, residual)\n",
    "        L.ghostUpdate(addv=PETSc.InsertMode.ADD, mode=PETSc.ScatterMode.REVERSE)\n",
    "        L.scale(-1)\n",
    "        \n",
    "        # Compute b - J(u_D-u_(i-1))\n",
    "        dolfinx.fem.petsc.apply_lifting(L, [jacobian], [[bc]], x0=[uh.vector], scale=1)\n",
    "        # Set du|_bc = u_{i-1}-u_D\n",
    "        dolfinx.fem.petsc.set_bc(L, [bc], uh.vector, 1.0)\n",
    "        L.ghostUpdate(addv=PETSc.InsertMode.INSERT_VALUES, mode=PETSc.ScatterMode.FORWARD)\n",
    "        \n",
    "        # Solve linear problem\n",
    "        solver.solve(L, du.vector)\n",
    "        du.x.scatter_forward()\n",
    "        \n",
    "        # Update u_{i+1} = u_i + delta u_i\n",
    "        uh.x.array[:] += du.x.array\n",
    "        j += 1\n",
    "        \n",
    "        # Compute norm of update\n",
    "        correction_norm_0 = du.vector.norm(0)\n",
    "        correction_norm_1 = du.vector.norm(1)\n",
    "        \n",
    "        print(f\"    Iteration {j}; norm 0: {correction_norm_0:.2E}; norm 1: {correction_norm_1:.2E}\")\n",
    "        if correction_norm_0 < 1e-10 and correction_norm_1 < 1e-10:\n",
    "            break\n",
    "    if j == max_iterations:\n",
    "        raise ValueError(\"    Warning: max iterations reached\")\n",
    "    \n",
    "    u_bb = 0.0\n",
    "    if len(bb_cells.array) > 0:\n",
    "        u_bb = uh.eval(bb_point, bb_cells.array[0])[0]\n",
    "    u_bb = domain.comm.allreduce(u_bb, op=MPI.SUM)\n",
    "    u_bb_list[i] = u_bb\n",
    "    error_max = domain.comm.allreduce(np.max(np.abs(uh.x.array - u_D.x.array)), op=MPI.MAX)\n",
    "    error_L2 = np.sqrt(domain.comm.allreduce(dolfinx.fem.assemble_scalar(dolfinx.fem.form(ufl.inner(uh - u_ufl, uh - u_ufl) * ufl.dx)), op=MPI.SUM))\n",
    "    \n",
    "    print(f\"Total iteration = {j}, Error_max: {error_max:.2E}; Error_L2: {error_L2:.2E} \\n\")"
   ]
  },
  {
   "cell_type": "code",
   "execution_count": 14,
   "metadata": {},
   "outputs": [
    {
     "data": {
      "image/png": "[encoded data removed]",
      "text/plain": [
       "<Figure size 640x480 with 1 Axes>"
      ]
     },
     "metadata": {},
     "output_type": "display_data"
    }
   ],
   "source": [
    "if domain.comm.rank == 0:\n",
    "    plt.plot(lmbda_list, u_bb_list, \"o--\", markersize=4)\n",
    "    plt.xlabel(r\"$\\lambda$\")\n",
    "    plt.ylabel(\"u at (1, 1)\")\n",
    "    plt.tight_layout()\n",
    "    plt.show()"
   ]
  },
  {
   "cell_type": "markdown",
   "metadata": {},
   "source": [
    "# Custom Arc length solver"
   ]
  },
  {
   "cell_type": "code",
   "execution_count": 1,
   "metadata": {},
   "outputs": [],
   "source": [
    "from mpi4py import MPI\n",
    "from petsc4py import PETSc\n",
    "\n",
    "import dolfinx\n",
    "import dolfinx.fem.petsc\n",
    "import numpy as np\n",
    "import ufl\n",
    "from ArclengthProblem import ArclengthProblem\n",
    "\n",
    "from tqdm import tqdm\n",
    "import matplotlib.pyplot as plt\n"
   ]
  },
  {
   "cell_type": "code",
   "execution_count": 2,
   "metadata": {},
   "outputs": [],
   "source": [
    "def q(u):\n",
    "    return 1 + u**2\n",
    "\n",
    "domain = dolfinx.mesh.create_unit_square(MPI.COMM_WORLD, 10, 10)\n",
    "\n",
    "x = ufl.SpatialCoordinate(domain)\n",
    "u_ufl = 1 + x[0] + 2 * x[1]\n",
    "\n",
    "f = - ufl.div(q(u_ufl) * ufl.grad(u_ufl))\n",
    "\n",
    "V = dolfinx.fem.functionspace(domain, (\"Lagrange\", 1))\n",
    "u_D = dolfinx.fem.Function(V)\n",
    "fdim = domain.topology.dim - 1\n",
    "domain.topology.create_connectivity(fdim, fdim + 1)\n",
    "boundary_facets = dolfinx.mesh.exterior_facet_indices(domain.topology)\n",
    "bc = dolfinx.fem.dirichletbc(u_D, dolfinx.fem.locate_dofs_topological(V, fdim, boundary_facets))\n",
    "\n",
    "uh = dolfinx.fem.Function(V)\n",
    "v = ufl.TestFunction(V)\n",
    "u_trial = ufl.TrialFunction(V)"
   ]
  },
  {
   "cell_type": "code",
   "execution_count": 3,
   "metadata": {},
   "outputs": [],
   "source": [
    "Fint = q(uh) * ufl.dot(ufl.grad(uh), ufl.grad(v)) * ufl.dx \n",
    "Fext = f * v * ufl.dx\n",
    "\n",
    "J = ufl.derivative(Fint, uh, u_trial)\n",
    "\n",
    "problem = ArclengthProblem(Fint, Fext, uh, lmbda0=0.0, bcs=[bc], J=J)"
   ]
  },
  {
   "cell_type": "code",
   "execution_count": 4,
   "metadata": {},
   "outputs": [],
   "source": [
    "bb_tree = dolfinx.geometry.bb_tree(domain, 2)\n",
    "bb_point = np.array([[1.0, 1.0, 0.0]], dtype=np.float64)\n",
    "cell_candidates = dolfinx.geometry.compute_collisions_points(bb_tree, bb_point)\n",
    "bb_cells = dolfinx.geometry.compute_colliding_cells(\n",
    "    domain, cell_candidates, bb_point)"
   ]
  }
 ],
 "metadata": {
  "kernelspec": {
   "display_name": "fenicsx-env",
   "language": "python",
   "name": "python3"
  },
  "language_info": {
   "codemirror_mode": {
    "name": "ipython",
    "version": 3
   },
   "file_extension": ".py",
   "mimetype": "text/x-python",
   "name": "python",
   "nbconvert_exporter": "python",
   "pygments_lexer": "ipython3",
   "version": "3.11.8"
  }
 },
 "nbformat": 4,
 "nbformat_minor": 2
}
