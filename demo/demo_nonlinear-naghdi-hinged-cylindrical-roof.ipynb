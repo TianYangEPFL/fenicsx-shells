{
 "cells": [
  {
   "cell_type": "markdown",
   "metadata": {},
   "source": [
    "# Hinged cylindrical isotropic roof"
   ]
  },
  {
   "cell_type": "code",
   "execution_count": 1,
   "metadata": {},
   "outputs": [],
   "source": [
    "from mpi4py import MPI\n",
    "from petsc4py import PETSc\n",
    "\n",
    "import numpy as np\n",
    "\n",
    "import dolfinx\n",
    "import ufl\n",
    "from basix.ufl import blocked_element, element, enriched_element, mixed_element\n",
    "from dolfinx.fem import Function, functionspace, dirichletbc, Expression, locate_dofs_topological, Constant\n",
    "from dolfinx.mesh import CellType, create_rectangle, locate_entities_boundary\n",
    "from dolfinx import plot, default_scalar_type\n",
    "\n",
    "from tqdm import tqdm\n",
    "import pyvista"
   ]
  },
  {
   "cell_type": "markdown",
   "metadata": {},
   "source": [
    "# Simulation setup"
   ]
  },
  {
   "cell_type": "code",
   "execution_count": 2,
   "metadata": {},
   "outputs": [],
   "source": [
    "pyvista.start_xvfb()"
   ]
  },
  {
   "cell_type": "code",
   "execution_count": 3,
   "metadata": {},
   "outputs": [],
   "source": [
    "nex = int(16)\n",
    "ney = int(16)\n",
    "\n",
    "PSRI_control = True\n",
    "\n",
    "ele_dict = {0 : \"tri_P1\",\n",
    "            1 : \"tri_P2\",\n",
    "            2 : \"tri_P2B3\",\n",
    "            3 : \"qua_P1\",\n",
    "            4 : \"qua_P2\",\n",
    "            5 : \"qua_S2\",}\n",
    "\n",
    "ele_index = 4\n",
    "ele_type = ele_dict[ele_index]\n",
    "\n",
    "\n",
    "if ele_type == \"tri_P2B3\":\n",
    "    cell_type = CellType.triangle\n",
    "    \n",
    "elif ele_type == \"tri_P2\":\n",
    "    cell_type = CellType.triangle\n",
    "\n",
    "elif ele_type == \"tri_P1\":\n",
    "    cell_type = CellType.triangle\n",
    "    \n",
    "elif ele_type == \"qua_P2\":\n",
    "    cell_type = CellType.quadrilateral\n",
    "    \n",
    "elif ele_type == \"qua_P1\":\n",
    "    cell_type = CellType.quadrilateral\n",
    "\n",
    "elif ele_type == \"qua_S2\":\n",
    "    cell_type = CellType.quadrilateral"
   ]
  },
  {
   "cell_type": "code",
   "execution_count": 4,
   "metadata": {},
   "outputs": [],
   "source": [
    "from pathlib import Path\n",
    "thickness = 12.7\n",
    "if PSRI_control:\n",
    "    results_folder = Path(f\"results/nonlinear-naghdi/PSRI/hinged-roof/thickness-{thickness}/{nex}_{ney}_{ele_type}\")\n",
    "else:\n",
    "    results_folder = Path(f\"results/nonlinear-naghdi/FI/hinged-roof/thickness-{thickness}/{nex}_{ney}_{ele_type}\")\n",
    "\n",
    "results_folder.mkdir(exist_ok=True, parents=True)"
   ]
  },
  {
   "cell_type": "markdown",
   "metadata": {},
   "source": [
    "# Mesh"
   ]
  },
  {
   "cell_type": "code",
   "execution_count": 5,
   "metadata": {},
   "outputs": [],
   "source": [
    "r = 2540.0\n",
    "L = 254.0\n",
    "rad = 0.1\n",
    "\n",
    "mesh = create_rectangle(MPI.COMM_WORLD, np.array([[0.0, 0.0], [r*rad, L]]), \n",
    "                        [nex, ney], cell_type)\n",
    "\n",
    "tdim = mesh.topology.dim\n",
    "fdim = tdim - 1\n",
    "\n",
    "cell = mesh.basix_cell()\n",
    "P1 = element(\"Lagrange\", cell, degree=1)\n",
    "P2 = element(\"Lagrange\", cell, degree=2)\n",
    "if ele_index == 5:\n",
    "    S2 = element(\"Serendipity\", cell, degree=2)\n",
    "elif ele_index == 2:\n",
    "    B3 = element(\"Bubble\", cell, degree=3)"
   ]
  },
  {
   "cell_type": "markdown",
   "metadata": {},
   "source": [
    "## Plot mesh"
   ]
  },
  {
   "cell_type": "code",
   "execution_count": 8,
   "metadata": {},
   "outputs": [
    {
     "data": {
      "application/vnd.jupyter.widget-view+json": {
       "model_id": "cb2c1bb01cac4d3183523c28596b8652",
       "version_major": 2,
       "version_minor": 0
      },
      "text/plain": [
       "Widget(value='<iframe src=\"http://localhost:40409/index.html?ui=P_0x7f49ea473350_0&reconnect=auto\" class=\"pyvi…"
      ]
     },
     "metadata": {},
     "output_type": "display_data"
    }
   ],
   "source": [
    "topology, cell_types, geometry = plot.vtk_mesh(mesh, tdim)\n",
    "grid = pyvista.UnstructuredGrid(topology, cell_types, geometry)\n",
    "\n",
    "plotter = pyvista.Plotter(off_screen = True)\n",
    "plotter.add_mesh(grid, show_edges=True)\n",
    "plotter.show_grid()\n",
    "plotter.view_xy()\n",
    "plotter.show()\n",
    "plotter.close()"
   ]
  },
  {
   "cell_type": "markdown",
   "metadata": {},
   "source": [
    "# Material"
   ]
  },
  {
   "cell_type": "code",
   "execution_count": 6,
   "metadata": {},
   "outputs": [],
   "source": [
    "E, nu = 3102.75, 0.3 \n",
    "mu = E/(2.0*(1.0 + nu)) \n",
    "lmbda = 2.0*mu*nu/(1.0 - 2.0*nu) \n",
    "t = Constant(mesh, default_scalar_type(thickness))"
   ]
  },
  {
   "cell_type": "markdown",
   "metadata": {},
   "source": [
    "# Initial Shape"
   ]
  },
  {
   "cell_type": "code",
   "execution_count": 7,
   "metadata": {},
   "outputs": [],
   "source": [
    "x = ufl.SpatialCoordinate(mesh)\n",
    "phi0_ufl = ufl.as_vector([r * ufl.sin(x[0] / r), x[1], r * ufl.cos(x[0] / r)])\n",
    "\n",
    "def unit_normal(phi):\n",
    "    n = ufl.cross(phi.dx(0), phi.dx(1))\n",
    "    return n/ufl.sqrt(ufl.inner(n, n))\n",
    "\n",
    "n0_ufl = unit_normal(phi0_ufl)\n",
    "\n",
    "\n",
    "def tangent_1(n):\n",
    "    e2 = ufl.as_vector([0, 1, 0])\n",
    "    t1 = ufl.cross(e2, n)\n",
    "    t1 = t1/ufl.sqrt(ufl.inner(t1, t1))\n",
    "    return t1\n",
    "\n",
    "def tangent_2(n, t1):\n",
    "    t2 = ufl.cross(n, t1)\n",
    "    t2 = t2/ufl.sqrt(ufl.inner(t2, t2))\n",
    "    return t2\n",
    "\n",
    "# the analytical expression of t1 and t2\n",
    "t1_ufl = tangent_1(n0_ufl)\n",
    "t2_ufl = tangent_2(n0_ufl, t1_ufl)\n",
    "\n",
    "# the analytical expression of R0\n",
    "def rotation_matrix(t1, t2, n):\n",
    "    R = ufl.as_matrix([[t1[0], t2[0], n[0]], \n",
    "                       [t1[1], t2[1], n[1]], \n",
    "                       [t1[2], t2[2], n[2]]])\n",
    "    return R\n",
    "\n",
    "R0_ufl = rotation_matrix(t1_ufl, t2_ufl, n0_ufl)\n",
    "\n",
    "# Update the director with two successive elementary rotations\n",
    "def director(R0, theta):\n",
    "    Lm3 = ufl.as_vector([ufl.sin(theta[1])*ufl.cos(theta[0]), -ufl.sin(theta[0]), ufl.cos(theta[1])*ufl.cos(theta[0])])\n",
    "    d = ufl.dot(R0, Lm3)\n",
    "    return d"
   ]
  },
  {
   "cell_type": "markdown",
   "metadata": {},
   "source": [
    "## Plot initial shape"
   ]
  },
  {
   "cell_type": "code",
   "execution_count": 20,
   "metadata": {},
   "outputs": [
    {
     "data": {
      "application/vnd.jupyter.widget-view+json": {
       "model_id": "49473378c6234e7fbf5a37d097358d90",
       "version_major": 2,
       "version_minor": 0
      },
      "text/plain": [
       "Widget(value='<iframe src=\"http://localhost:40409/index.html?ui=P_0x7f49d853f110_0&reconnect=auto\" class=\"pyvi…"
      ]
     },
     "metadata": {},
     "output_type": "display_data"
    }
   ],
   "source": [
    "# create a FEM interpolation of n0 and phi0\n",
    "P1_d3_FS = functionspace(mesh, blocked_element(P1, shape = (3,)))\n",
    "\n",
    "n0_P1_expr = Expression(n0_ufl, P1_d3_FS.element.interpolation_points())\n",
    "n0_P1_func = Function(P1_d3_FS)\n",
    "n0_P1_func.interpolate(n0_P1_expr)\n",
    "\n",
    "phi0_P1_expr = Expression(phi0_ufl, P1_d3_FS.element.interpolation_points())\n",
    "phi0_P1_func = Function(P1_d3_FS)\n",
    "phi0_P1_func.interpolate(phi0_P1_expr)\n",
    "\n",
    "topology, cell_types, geometry = plot.vtk_mesh(P1_d3_FS)\n",
    "\n",
    "geometry_phi0_P1 = phi0_P1_func.x.array.reshape((geometry.shape[0], len(phi0_P1_func)))\n",
    "geometry_n0_P1 = n0_P1_func.x.array.reshape((geometry.shape[0], len(n0_P1_func)))\n",
    "\n",
    "grid_phi0_P1 = pyvista.UnstructuredGrid(topology, cell_types, geometry_phi0_P1)\n",
    "grid_phi0_P1[\"n0\"] = geometry_n0_P1\n",
    "glyphs = grid_phi0_P1.glyph(orient=\"n0\", factor=20)\n",
    "\n",
    "\n",
    "plotter = pyvista.Plotter(off_screen = True)\n",
    "plotter.add_mesh(grid_phi0_P1, style=\"wireframe\", color=\"k\")\n",
    "plotter.add_mesh(glyphs,  show_scalar_bar=True, scalar_bar_args={\"vertical\": True})\n",
    "plotter.show_grid()\n",
    "plotter.enable_parallel_projection()\n",
    "plotter.show()\n",
    "plotter.close()"
   ]
  },
  {
   "cell_type": "markdown",
   "metadata": {},
   "source": [
    "# Shell element"
   ]
  },
  {
   "cell_type": "code",
   "execution_count": 8,
   "metadata": {},
   "outputs": [],
   "source": [
    "if ele_type == \"tri_P2B3\":\n",
    "    P2B3 = enriched_element([P2, B3])\n",
    "    naghdi_shell_element = mixed_element(\n",
    "        [blocked_element(P2B3, shape=(3,)), blocked_element(P2, shape=(2,))]\n",
    "    )\n",
    "elif ele_type == \"tri_P2\":\n",
    "    naghdi_shell_element = mixed_element(\n",
    "        [blocked_element(P2, shape=(3,)), blocked_element(P2, shape=(2,))]\n",
    "        )\n",
    "\n",
    "elif ele_type == \"tri_P1\":\n",
    "    naghdi_shell_element = mixed_element(\n",
    "        [blocked_element(P1, shape=(3,)), blocked_element(P1, shape=(2,))]\n",
    "    )\n",
    "    \n",
    "elif ele_type == \"qua_P2\":\n",
    "    naghdi_shell_element = mixed_element(\n",
    "        [blocked_element(P2, shape=(3,)), blocked_element(P2, shape=(2,))]\n",
    "    )\n",
    "elif ele_type == \"qua_P1\":\n",
    "    naghdi_shell_element = mixed_element(\n",
    "        [blocked_element(P1, shape=(3,)), blocked_element(P1, shape=(2,))]\n",
    "    )\n",
    "elif ele_type == \"qua_S2\":\n",
    "    naghdi_shell_element = mixed_element(\n",
    "        [blocked_element(S2, shape=(3,)), blocked_element(S2, shape=(2,))]\n",
    "    )\n",
    "    \n",
    "naghdi_shell_FS = functionspace(mesh, naghdi_shell_element)\n",
    "\n",
    "q_func = Function(naghdi_shell_FS) # current configuration\n",
    "q_trial = ufl.TrialFunction(naghdi_shell_FS)\n",
    "q_test = ufl.TestFunction(naghdi_shell_FS)\n",
    "\n",
    "u_func, theta_func = ufl.split(q_func) # current displacement and rotation"
   ]
  },
  {
   "cell_type": "markdown",
   "metadata": {},
   "source": [
    "# Shell model"
   ]
  },
  {
   "cell_type": "code",
   "execution_count": 9,
   "metadata": {},
   "outputs": [],
   "source": [
    "# current deformation gradient \n",
    "F = ufl.grad(u_func) + ufl.grad(phi0_ufl) \n",
    "\n",
    "# current director\n",
    "d = director(R0_ufl, theta_func)\n",
    "\n",
    "# initial metric and curvature tensor a0 and b0\n",
    "a0_ufl = ufl.grad(phi0_ufl).T * ufl.grad(phi0_ufl)\n",
    "b0_ufl = 0.5*( ufl.grad(phi0_ufl).T * ufl.grad(n0_ufl) + ufl.grad(n0_ufl).T * ufl.grad(phi0_ufl))\n",
    "\n",
    "def epsilon(F):\n",
    "    \"\"\"Membrane strain\"\"\"\n",
    "    return 0.5 * (F.T * F - a0_ufl)\n",
    "\n",
    "\n",
    "def kappa(F, d):\n",
    "    \"\"\"Bending strain\"\"\"\n",
    "    return 0.5 * (F.T * ufl.grad(d) + ufl.grad(d).T * F) - b0_ufl\n",
    "\n",
    "\n",
    "def gamma(F, d):\n",
    "    \"\"\"Transverse shear strain\"\"\"\n",
    "    return F.T * d\n",
    "\n",
    "a0_contra_ufl = ufl.inv(a0_ufl)\n",
    "j0_ufl = ufl.det(a0_ufl)\n",
    "\n",
    "i,j,l,m = ufl.indices(4)  # noqa: E741\n",
    "A_contra_ufl = ufl.as_tensor( ( ((2.0*lmbda*mu) / (lmbda + 2.0*mu)) * a0_contra_ufl[i,j]*a0_contra_ufl[l,m]\n",
    "                + 1.0*mu* (a0_contra_ufl[i,l]*a0_contra_ufl[j,m] + a0_contra_ufl[i,m]*a0_contra_ufl[j,l]) )\n",
    "                ,[i,j,l,m])\n",
    "\n",
    "N = ufl.as_tensor(t * A_contra_ufl[i,j,l,m] * epsilon(F)[l,m], [i,j])\n",
    "\n",
    "M = ufl.as_tensor( (t**3 / 12.0) * A_contra_ufl[i,j,l,m]*kappa(F, d)[l,m], [i,j])\n",
    "\n",
    "T = ufl.as_tensor( (t * mu *5.0 / 6.0) * a0_contra_ufl[i, j] * gamma(F, d)[j], [i])\n",
    "\n",
    "psi_m = 0.5*ufl.inner(N, epsilon(F))\n",
    "\n",
    "psi_b = 0.5*ufl.inner(M, kappa(F, d))\n",
    "\n",
    "psi_s = 0.5*ufl.inner(T, gamma(F, d))"
   ]
  },
  {
   "cell_type": "markdown",
   "metadata": {},
   "source": [
    "# Weak form Equation with PSRI"
   ]
  },
  {
   "cell_type": "code",
   "execution_count": 10,
   "metadata": {},
   "outputs": [],
   "source": [
    "if ele_type == \"qua_P1\":\n",
    "    dx_f = ufl.Measure('dx', domain=mesh, metadata={\"quadrature_degree\": 2})\n",
    "    if PSRI_control:\n",
    "        dx_r = ufl.Measure('dx', domain=mesh, metadata={\"quadrature_degree\": 1})\n",
    "    else:\n",
    "        dx_r = ufl.Measure('dx', domain=mesh, metadata={\"quadrature_degree\": 2})\n",
    "        \n",
    "elif ele_type == \"tri_P1\":\n",
    "    dx_f = ufl.Measure('dx', domain=mesh, metadata={\"quadrature_degree\": 2})\n",
    "    if PSRI_control:\n",
    "        dx_r = ufl.Measure('dx', domain=mesh, metadata={\"quadrature_degree\": 1})\n",
    "    else:\n",
    "        dx_r = ufl.Measure('dx', domain=mesh, metadata={\"quadrature_degree\": 2})\n",
    "    \n",
    "else:\n",
    "    dx_f = ufl.Measure('dx', domain=mesh, metadata={\"quadrature_degree\": 4})\n",
    "    if PSRI_control:\n",
    "        dx_r = ufl.Measure('dx', domain=mesh, metadata={\"quadrature_degree\": 2})\n",
    "    else:\n",
    "        dx_r = ufl.Measure('dx', domain=mesh, metadata={\"quadrature_degree\": 4})\n",
    "\n",
    "# Calculate the factor alpha as a function of the mesh size h\n",
    "h = ufl.CellDiameter(mesh)\n",
    "alpha_FS = functionspace(mesh, element(\"DG\", cell, 0))\n",
    "alpha_expr = Expression(t**2 / h**2, alpha_FS.element.interpolation_points())\n",
    "alpha = Function(alpha_FS)\n",
    "alpha.interpolate(alpha_expr)\n",
    "\n",
    "# Full integration part of the total elastic energy\n",
    "Pi_PSRI = psi_b * ufl.sqrt(j0_ufl) * dx_f \n",
    "Pi_PSRI += alpha * psi_m * ufl.sqrt(j0_ufl) * dx_f\n",
    "Pi_PSRI += alpha * psi_s * ufl.sqrt(j0_ufl) * dx_f\n",
    "\n",
    "# Reduced integration part of the total elastic energy\n",
    "Pi_PSRI += (1.0 - alpha) * psi_m * ufl.sqrt(j0_ufl) * dx_r\n",
    "Pi_PSRI += (1.0 - alpha) * psi_s * ufl.sqrt(j0_ufl) * dx_r\n",
    "\n",
    "# external work part (zero in this case)\n",
    "f = Constant(mesh, default_scalar_type((0.0, 0.0, 0.0, 0.0, 0.0)))\n",
    "Wext = ufl.inner(f, q_func)*dx_f\n",
    "\n",
    "Fint = ufl.derivative(Pi_PSRI, q_func, q_test)\n",
    "Fext = ufl.derivative(Wext, q_func, q_test)\n",
    "\n",
    "Residual = Fint - Fext\n",
    "Jacobian = ufl.derivative(Residual, q_func, q_trial)"
   ]
  },
  {
   "cell_type": "markdown",
   "metadata": {},
   "source": [
    "# Boundary conditions"
   ]
  },
  {
   "cell_type": "code",
   "execution_count": 11,
   "metadata": {},
   "outputs": [],
   "source": [
    "u_FS, _ = naghdi_shell_FS.sub(0).collapse()\n",
    "theta_FS, _ = naghdi_shell_FS.sub(1).collapse()\n",
    "\n",
    "Q0 = naghdi_shell_FS.sub(0)\n",
    "Q1 = naghdi_shell_FS.sub(1)\n",
    "\n",
    "u_clamped = Function(u_FS) # default value is 0\n",
    "theta_clamped = Function(theta_FS) # default value is 0"
   ]
  },
  {
   "cell_type": "markdown",
   "metadata": {},
   "source": [
    "## Top: Symmetric $u_2 = \\theta_1 = 0$"
   ]
  },
  {
   "cell_type": "code",
   "execution_count": 12,
   "metadata": {},
   "outputs": [],
   "source": [
    "def top_boundary(x):\n",
    "    return np.isclose(x[1], L)\n",
    "\n",
    "top_facets = locate_entities_boundary(mesh, fdim, top_boundary)\n",
    "\n",
    "# u2 = 0 on the top boundary\n",
    "u_id = int(1)\n",
    "symm_dofs_u_top = locate_dofs_topological((Q0.sub(u_id), u_FS.sub(u_id)), fdim, top_facets)\n",
    "bc_u_top = dirichletbc(u_clamped, symm_dofs_u_top, Q0.sub(u_id))\n",
    "\n",
    "# theta1 = 0 on the top boundary\n",
    "theta_id = int(0)\n",
    "symm_dofs_theta_top = locate_dofs_topological((Q1.sub(theta_id), theta_FS.sub(theta_id)), fdim, top_facets)\n",
    "bc_theta_top = dirichletbc(theta_clamped, symm_dofs_theta_top, Q1.sub(theta_id))"
   ]
  },
  {
   "cell_type": "markdown",
   "metadata": {},
   "source": [
    "## Left: Symmetric $u_1 = \\theta_2 = 0$"
   ]
  },
  {
   "cell_type": "code",
   "execution_count": 13,
   "metadata": {},
   "outputs": [],
   "source": [
    "def left_boundary(x):\n",
    "    return np.isclose(x[0], 0.0)\n",
    "\n",
    "left_facets = locate_entities_boundary(mesh, fdim, left_boundary)\n",
    "\n",
    "# u1 = 0 on the left boundary\n",
    "u_id = int(0)\n",
    "symm_dofs_u_left = locate_dofs_topological((Q0.sub(u_id), u_FS.sub(u_id)), fdim, left_facets)\n",
    "bc_u_left = dirichletbc(u_clamped, symm_dofs_u_left, Q0.sub(u_id))\n",
    "\n",
    "# theta2 = 0 on the left boundary\n",
    "theta_id = int(1)\n",
    "symm_dofs_theta_left = locate_dofs_topological((Q1.sub(theta_id), theta_FS.sub(theta_id)), fdim, left_facets)\n",
    "bc_theta_left = dirichletbc(theta_clamped, symm_dofs_theta_left, Q1.sub(theta_id))"
   ]
  },
  {
   "cell_type": "markdown",
   "metadata": {},
   "source": [
    "## Right: Hinged $u_1 = u_2 = u_3 = 0$"
   ]
  },
  {
   "cell_type": "code",
   "execution_count": 14,
   "metadata": {},
   "outputs": [],
   "source": [
    "def right_boundary(x):\n",
    "    return np.isclose(x[0], r*rad)\n",
    "\n",
    "right_facets = locate_entities_boundary(mesh, fdim, right_boundary)\n",
    "\n",
    "# u1, u2, u3 = 0 on the clamped boundary\n",
    "hinged_dofs_u_right = locate_dofs_topological((Q0, u_FS), fdim, right_facets)\n",
    "bc_u_right = dirichletbc(u_clamped, hinged_dofs_u_right, Q0)"
   ]
  },
  {
   "cell_type": "code",
   "execution_count": 15,
   "metadata": {},
   "outputs": [],
   "source": [
    "bcs = [bc_u_top, bc_theta_top, bc_u_left, bc_theta_left, bc_u_right]"
   ]
  },
  {
   "cell_type": "markdown",
   "metadata": {},
   "source": [
    "# Point Source"
   ]
  },
  {
   "cell_type": "code",
   "execution_count": 16,
   "metadata": {},
   "outputs": [],
   "source": [
    "def compute_cell_contributions(V, points):\n",
    "    # Determine what process owns a point and what cells it lies within\n",
    "    mesh = V.mesh\n",
    "    _, _, owning_points, cells = dolfinx.cpp.geometry.determine_point_ownership(\n",
    "        mesh._cpp_object, points, 1e-6)\n",
    "    owning_points = np.asarray(owning_points).reshape(-1, 3)\n",
    "\n",
    "    # Pull owning points back to reference cell\n",
    "    mesh_nodes = mesh.geometry.x\n",
    "    cmap = mesh.geometry.cmap\n",
    "    ref_x = np.zeros((len(cells), mesh.geometry.dim),\n",
    "                     dtype=mesh.geometry.x.dtype)\n",
    "    for i, (point, cell) in enumerate(zip(owning_points, cells)):\n",
    "        geom_dofs = mesh.geometry.dofmap[cell]\n",
    "        ref_x[i] = cmap.pull_back(point.reshape(-1, 3), mesh_nodes[geom_dofs])\n",
    "\n",
    "    # Create expression evaluating a trial function (i.e. just the basis function)\n",
    "    u = ufl.TrialFunction(V.sub(0).sub(2))\n",
    "    num_dofs = V.sub(0).sub(2).dofmap.dof_layout.num_dofs * V.sub(0).sub(2).dofmap.bs\n",
    "    if len(cells) > 0:\n",
    "        # NOTE: Expression lives on only this communicator rank\n",
    "        expr = dolfinx.fem.Expression(u, ref_x, comm=MPI.COMM_SELF)\n",
    "        values = expr.eval(mesh, np.asarray(cells, dtype=np.int32))\n",
    "        # Strip out basis function values per cell\n",
    "        basis_values = values[:num_dofs:num_dofs*len(cells)]\n",
    "    else:\n",
    "        basis_values = np.zeros(\n",
    "            (0, num_dofs), dtype=dolfinx.default_scalar_type)\n",
    "    return cells, basis_values"
   ]
  },
  {
   "cell_type": "code",
   "execution_count": 17,
   "metadata": {},
   "outputs": [],
   "source": [
    "# Point source\n",
    "if mesh.comm.rank == 0:\n",
    "    ps_points = np.array([[0.0, L, 0.0]], dtype=mesh.geometry.x.dtype)\n",
    "else:\n",
    "    ps_points = np.zeros((0, 3), dtype=mesh.geometry.x.dtype)\n",
    "\n",
    "ps_cells, basis_values = compute_cell_contributions(naghdi_shell_FS, ps_points)"
   ]
  },
  {
   "cell_type": "markdown",
   "metadata": {},
   "source": [
    "# Arc length solver"
   ]
  },
  {
   "cell_type": "code",
   "execution_count": 18,
   "metadata": {},
   "outputs": [],
   "source": [
    "from ArclengthProblem import ArclengthProblem\n",
    "\n",
    "aproblem = ArclengthProblem(Fint, Fext, q_func, lmbda0= 0.0, bcs=bcs,\n",
    "                              J=Jacobian, \n",
    "                              petsc_options={\"ksp_type\": \"preonly\", \"pc_type\": \"lu\"},\n",
    "                              ps_cells=ps_cells, ps_basis_values=basis_values, ps_direction=2)\n",
    "aproblem.max_it = 20"
   ]
  },
  {
   "cell_type": "code",
   "execution_count": 19,
   "metadata": {},
   "outputs": [],
   "source": [
    "file_u = dolfinx.io.VTKFile(mesh.comm, results_folder/\"u.pvd\", \"w\")\n",
    "file_theta = dolfinx.io.VTKFile(mesh.comm, results_folder/\"theta.pvd\", \"w\")\n",
    "file_phi = dolfinx.io.VTKFile(mesh.comm, results_folder/\"phi.pvd\", \"w\")"
   ]
  },
  {
   "cell_type": "markdown",
   "metadata": {},
   "source": [
    "## Newton steps with 2nd order predictions"
   ]
  },
  {
   "cell_type": "code",
   "execution_count": null,
   "metadata": {},
   "outputs": [],
   "source": [
    "nstep = 400\n",
    "\n",
    "Fc_list = np.zeros(nstep)\n",
    "\n",
    "q_func.x.array[:] = 0.0\n",
    "\n",
    "bb_point = np.array([[0.0, L, 0.0]], dtype=np.float64)\n",
    "\n",
    "aproblem.reset()\n",
    "if mesh.comm.rank == 0:\n",
    "    u3_list = np.zeros(nstep)\n",
    "\n",
    "i = 0\n",
    "ds_max = 0.0\n",
    "pbar = tqdm(total=nstep)\n",
    "\n",
    "while i < nstep:\n",
    "    if i < 3:\n",
    "        Pred = False\n",
    "        Fc = -10 * i\n",
    "    else:\n",
    "        Pred = True\n",
    "        Fc = 0.0\n",
    "    \n",
    "    n, converged = aproblem.NewtonStep(Fc, Pred)\n",
    "        \n",
    "    if converged:\n",
    "        q_func.x.scatter_forward()\n",
    "        Fc = aproblem.lmbda\n",
    "        Fc_list[i] = Fc\n",
    "        \n",
    "        if not Pred:\n",
    "            ds_max = max(aproblem.ds, ds_max)\n",
    "        # write output\n",
    "        if ele_type == \"qua_P1\" or ele_type == \"tri_P1\":\n",
    "            phi_FS = functionspace(mesh, blocked_element(P1, shape=(3,)))\n",
    "        else:\n",
    "            phi_FS = functionspace(mesh, blocked_element(P2, shape=(3,)))\n",
    "            \n",
    "        if ele_type == \"tri_P2B3\":\n",
    "            u_P2B3 = q_func.sub(0).collapse()\n",
    "            u_sol = Function(phi_FS)\n",
    "            u_sol.interpolate(u_P2B3)\n",
    "            theta_sol = q_func.sub(1).collapse()\n",
    "        elif ele_type == \"qua_S2\":\n",
    "            u_S2 = q_func.sub(0).collapse()\n",
    "            u_sol = Function(phi_FS)\n",
    "            u_sol.interpolate(u_S2)\n",
    "            \n",
    "            theta_S2 = q_func.sub(1).collapse()\n",
    "            theta_FS = functionspace(mesh, blocked_element(P2, shape=(2,)))\n",
    "            theta_sol = Function(theta_FS)\n",
    "            theta_sol.interpolate(theta_S2)\n",
    "            \n",
    "        else:\n",
    "            u_sol = q_func.sub(0).collapse()\n",
    "            theta_sol = q_func.sub(1).collapse()\n",
    "        \n",
    "        phi_expr = Expression(phi0_ufl + u_sol, phi_FS.element.interpolation_points())\n",
    "        phi_sol = Function(phi_FS)\n",
    "        phi_sol.interpolate(phi_expr)\n",
    "        \n",
    "        file_u.write_function(u_sol, i)\n",
    "        file_theta.write_function(theta_sol, i)\n",
    "        file_phi.write_function(phi_sol, i)\n",
    "        \n",
    "        # calculate u3 at the point load\n",
    "        u3_bb = 0.0\n",
    "        u3_func = q_func.sub(0).sub(2).collapse()\n",
    "        if len(ps_cells) > 0:\n",
    "            u3_bb = u3_func.eval(bb_point, ps_cells[0])[0]\n",
    "        u3_bb = mesh.comm.allreduce(u3_bb, op=MPI.SUM)\n",
    "        if mesh.comm.rank == 0:\n",
    "            u3_list[i] = u3_bb\n",
    "            print(f\"Load step {i:d}, Number of iterations: {n:d}, \" \n",
    "                f\"Load: {Fc:.2f}, Disp: {u3_bb:.2f}, \"\n",
    "                f\"ds: {aproblem.ds:.2f}, s: {aproblem.s:.2f}\", flush=True)\n",
    "            \n",
    "        # adaptive step size control\n",
    "        if n < 4:\n",
    "            aproblem.ds = min(1.2*aproblem.ds, ds_max)\n",
    "        if n > 6:\n",
    "            aproblem.ds *= 0.8\n",
    "            \n",
    "        if Fc_list[i] < - 750.0:\n",
    "            break\n",
    "        \n",
    "        i += 1\n",
    "        pbar.update(1)\n",
    "    else:\n",
    "        aproblem.ds *= 0.5\n",
    "\n",
    "   \n",
    "file_u.close()\n",
    "file_theta.close()\n",
    "file_phi.close()\n",
    "pbar.close()\n"
   ]
  },
  {
   "cell_type": "markdown",
   "metadata": {},
   "source": [
    "## Arc length steps with 2nd order predictions"
   ]
  },
  {
   "cell_type": "code",
   "execution_count": null,
   "metadata": {},
   "outputs": [],
   "source": [
    "nstep = 400\n",
    "\n",
    "Fc_list = np.zeros(nstep)\n",
    "\n",
    "q_func.x.array[:] = 0.0\n",
    "\n",
    "bb_point = np.array([[0.0, L, 0.0]], dtype=np.float64)\n",
    "\n",
    "aproblem.reset()\n",
    "if mesh.comm.rank == 0:\n",
    "    u3_list = np.zeros(nstep)\n",
    "\n",
    "i = 0\n",
    "ds_max = 0.0\n",
    "pbar = tqdm(total=nstep)\n",
    "while i < nstep:\n",
    "    if i < 3:\n",
    "        Pred = False\n",
    "        Fc = -10 * i\n",
    "        n, converged = aproblem.NewtonStep(Fc, Pred)\n",
    "    else:\n",
    "        n, converged = aproblem.ArclengthStep()\n",
    "        \n",
    "    if converged:\n",
    "        q_func.x.scatter_forward()\n",
    "        Fc = aproblem.lmbda\n",
    "        Fc_list[i] = Fc\n",
    "        \n",
    "        if not Pred:\n",
    "            ds_max = max(aproblem.ds, ds_max)\n",
    "        # write output\n",
    "        if ele_type == \"qua_P1\" or ele_type == \"tri_P1\":\n",
    "            phi_FS = functionspace(mesh, blocked_element(P1, shape=(3,)))\n",
    "        else:\n",
    "            phi_FS = functionspace(mesh, blocked_element(P2, shape=(3,)))\n",
    "            \n",
    "        if ele_type == \"tri_P2B3\":\n",
    "            u_P2B3 = q_func.sub(0).collapse()\n",
    "            u_sol = Function(phi_FS)\n",
    "            u_sol.interpolate(u_P2B3)\n",
    "            theta_sol = q_func.sub(1).collapse()\n",
    "        elif ele_type == \"qua_S2\":\n",
    "            u_S2 = q_func.sub(0).collapse()\n",
    "            u_sol = Function(phi_FS)\n",
    "            u_sol.interpolate(u_S2)\n",
    "            \n",
    "            theta_S2 = q_func.sub(1).collapse()\n",
    "            theta_FS = functionspace(mesh, blocked_element(P2, shape=(2,)))\n",
    "            theta_sol = Function(theta_FS)\n",
    "            theta_sol.interpolate(theta_S2)\n",
    "            \n",
    "        else:\n",
    "            u_sol = q_func.sub(0).collapse()\n",
    "            theta_sol = q_func.sub(1).collapse()\n",
    "        \n",
    "        phi_expr = Expression(phi0_ufl + u_sol, phi_FS.element.interpolation_points())\n",
    "        phi_sol = Function(phi_FS)\n",
    "        phi_sol.interpolate(phi_expr)\n",
    "        \n",
    "        file_u.write_function(u_sol, i)\n",
    "        file_theta.write_function(theta_sol, i)\n",
    "        file_phi.write_function(phi_sol, i)\n",
    "        \n",
    "        # calculate u3 at the point load\n",
    "        u3_bb = 0.0\n",
    "        u3_func = q_func.sub(0).sub(2).collapse()\n",
    "        if len(ps_cells) > 0:\n",
    "            u3_bb = u3_func.eval(bb_point, ps_cells[0])[0]\n",
    "        u3_bb = mesh.comm.allreduce(u3_bb, op=MPI.SUM)\n",
    "        if mesh.comm.rank == 0:\n",
    "            u3_list[i] = u3_bb\n",
    "            print(f\"Load step {i:d}, Number of iterations: {n:d}, \" \n",
    "                f\"Load: {Fc:.2f}, Disp: {u3_bb:.2f}, \"\n",
    "                f\"ds: {aproblem.ds:.2f}, s: {aproblem.s:.2f}\", flush=True)\n",
    "            \n",
    "        # adaptive step size control\n",
    "        if n < 4:\n",
    "            aproblem.ds = min(1.2*aproblem.ds, ds_max)\n",
    "        if n > 6:\n",
    "            aproblem.ds *= 0.8\n",
    "        if Fc_list[i] < - 750.0:\n",
    "            break\n",
    "        \n",
    "        i += 1\n",
    "        pbar.update(1)\n",
    "    else:\n",
    "        aproblem.ds *= 0.5\n",
    "\n",
    "   \n",
    "file_u.close()\n",
    "file_theta.close()\n",
    "file_phi.close()\n",
    "pbar.close()\n"
   ]
  },
  {
   "cell_type": "markdown",
   "metadata": {},
   "source": [
    "# Post-processing"
   ]
  },
  {
   "cell_type": "code",
   "execution_count": 23,
   "metadata": {},
   "outputs": [
    {
     "data": {
      "image/png": "[encoded data removed]",
      "text/plain": [
       "<Figure size 800x600 with 1 Axes>"
      ]
     },
     "metadata": {},
     "output_type": "display_data"
    }
   ],
   "source": [
    "import matplotlib.pyplot as plt\n",
    "\n",
    "if mesh.comm.rank == 0:\n",
    "    u3_list = u3_list[:i+1]\n",
    "    Fc_list = Fc_list[:i+1]\n",
    "    Fc_max = 750.0\n",
    "    np.savetxt(results_folder/\"u3_list.txt\", u3_list)\n",
    "    np.savetxt(results_folder/\"Fc_list.txt\", Fc_list)\n",
    "    if thickness == 12.7:\n",
    "        P_S4R = np.array([0.0000, 0.0877, 0.1980, 0.3473, 0.4686, 0.5647, 0.6381, 0.6908,\n",
    "                        0.7246, 0.7412, 0.7421, 0.7286, 0.7023, 0.6649, 0.6182,\n",
    "                        0.5643, 0.5055, 0.4442, 0.3830, 0.3245, 0.2717, 0.2272,\n",
    "                        0.1940, 0.1750, 0.1729, 0.1905, 0.2303, 0.2950, 0.3871,\n",
    "                        0.4443, 0.5093, 0.5826, 0.6644, 0.7551, 0.8549, 0.9643, 1.0835])\n",
    "        \n",
    "        Wc_S4R = np.array([0.0000, 0.6930, 1.6380, 3.0870, 4.4770, 5.8020, 7.0570, 8.2370, \n",
    "                        9.3390, 10.358, 11.293, 12.141, 12.903, 13.583, 14.188,\n",
    "                        14.728, 15.217, 15.676, 16.125, 16.590, 17.094, 17.657,\n",
    "                        18.299, 19.028, 19.852, 20.771, 21.780, 22.875, 24.049,\n",
    "                        24.663, 25.293, 25.940, 26.601, 27.276, 27.964, 28.663, 29.374])\n",
    "    elif thickness == 6.35:\n",
    "        P_S4R = np.array([0.0000, 0.0517, 0.1182, 0.1583, 0.1837, 0.1914, 0.1953, 0.1950,\n",
    "                        0.1901, 0.1806, 0.1671, 0.1323, 0.0923, 0.0504, 0.0083,\n",
    "                        -0.0312, -0.0622, -0.0739, -0.0861, -0.1001, -0.1142, -0.1247,\n",
    "                        -0.1288, -0.1271, -0.1196, -0.1055, -0.0825, -0.0484, -0.0006,\n",
    "                        0.0626, 0.1427, 0.2403, 0.3559, 0.4898, 0.6417, 0.8114, 1.0313])\n",
    "        \n",
    "        Wc_S4R = np.array([0.0000, 1.8460, 5.2710, 8.2570, 10.799, 11.904, 12.892, 13.752, \n",
    "                        14.472, 15.050, 15.501, 16.145, 16.602, 16.915, 17.008,\n",
    "                        16.697, 15.780, 15.206, 14.767, 14.520, 14.451, 14.862,\n",
    "                        15.778, 16.961, 18.320, 19.817, 21.420, 23.100, 24.824,\n",
    "                        26.565, 28.302, 30.023, 31.720, 33.388, 35.024, 36.626, 38.450])\n",
    "\n",
    "    plt.figure(figsize=(8.0, 6.0))\n",
    "    plt.plot(Wc_S4R, P_S4R, \"-\", label=\"$-W_c(S4R)$\")\n",
    "    plt.plot(-u3_list, -Fc_list / Fc_max, \"o\", markersize=5, markerfacecolor='none',\n",
    "             markevery = 1, label=f\"$-W_c({nex}\\\\times{ney},${ele_type})\")\n",
    "    plt.xlabel(\"Deflections\")\n",
    "    plt.ylabel(r\"$P/P_{\\mathrm{max}}$\")\n",
    "    plt.legend()\n",
    "    plt.grid()\n",
    "    plt.tight_layout()\n",
    "    plt.savefig(results_folder/\"comparisons.png\")"
   ]
  }
 ],
 "metadata": {
  "kernelspec": {
   "display_name": "fenicsx0.8",
   "language": "python",
   "name": "python3"
  },
  "language_info": {
   "codemirror_mode": {
    "name": "ipython",
    "version": 3
   },
   "file_extension": ".py",
   "mimetype": "text/x-python",
   "name": "python",
   "nbconvert_exporter": "python",
   "pygments_lexer": "ipython3",
   "version": "3.11.8"
  }
 },
 "nbformat": 4,
 "nbformat_minor": 2
}
