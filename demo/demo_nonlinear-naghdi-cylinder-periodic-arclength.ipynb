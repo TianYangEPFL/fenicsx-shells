{
 "cells": [
  {
   "cell_type": "code",
   "execution_count": 1,
   "metadata": {},
   "outputs": [],
   "source": [
    "from mpi4py import MPI\n",
    "from petsc4py import PETSc\n",
    "import numpy as np\n",
    "from pathlib import Path\n",
    "\n",
    "#import dolfinx\n",
    "import ufl\n",
    "import dolfinx.cpp\n",
    "import dolfinx.io\n",
    "from dolfinx import default_scalar_type, plot\n",
    "from tqdm import tqdm\n",
    "from dolfinx.mesh import CellType, create_rectangle, locate_entities_boundary\n",
    "from ufl import grad, inner, split\n",
    "from basix.ufl import blocked_element, element, enriched_element, mixed_element\n",
    "from dolfinx.fem import Function, functionspace, dirichletbc, Expression, locate_dofs_topological, Constant\n",
    "from dolfinx_mpc import MultiPointConstraint\n",
    "\n",
    "\n",
    "import pyvista"
   ]
  },
  {
   "cell_type": "code",
   "execution_count": 2,
   "metadata": {},
   "outputs": [],
   "source": [
    "nex = int(64)\n",
    "ney = int(32)\n",
    "\n",
    "PSRI_control = True\n",
    "plot_control = True\n",
    "\n",
    "ele_dict = {0 : \"tri_P1\",\n",
    "            1 : \"tri_P2\",\n",
    "            2 : \"tri_P2B3\",\n",
    "            3 : \"qua_P1\",\n",
    "            4 : \"qua_P2\",\n",
    "            5 : \"qua_S2\",}\n",
    "\n",
    "ele_index = 4\n",
    "ele_type = ele_dict[ele_index]\n",
    "tol = 250 * np.finfo(default_scalar_type).resolution\n",
    "\n",
    "if ele_type == \"tri_P2B3\":\n",
    "    cell_type = CellType.triangle\n",
    "    \n",
    "elif ele_type == \"tri_P2\":\n",
    "    cell_type = CellType.triangle\n",
    "\n",
    "elif ele_type == \"tri_P1\":\n",
    "    cell_type = CellType.triangle\n",
    "    \n",
    "elif ele_type == \"qua_P2\":\n",
    "    cell_type = CellType.quadrilateral\n",
    "    \n",
    "elif ele_type == \"qua_P1\":\n",
    "    cell_type = CellType.quadrilateral\n",
    "\n",
    "elif ele_type == \"qua_S2\":\n",
    "    cell_type = CellType.quadrilateral\n",
    "    \n",
    "\n",
    "if PSRI_control:\n",
    "    results_folder = Path(f\"results/nonlinear-naghdi/PSRI/cylinder-periodic-arclength/{nex}_{ney}_{ele_type}\")\n",
    "else:\n",
    "    results_folder = Path(f\"results/nonlinear-naghdi/FI/cylinder-periodic-arclength/{nex}_{ney}_{ele_type}\")\n",
    "\n",
    "results_folder.mkdir(exist_ok=True, parents=True)"
   ]
  },
  {
   "cell_type": "markdown",
   "metadata": {},
   "source": [
    "# Initial shape"
   ]
  },
  {
   "cell_type": "code",
   "execution_count": 3,
   "metadata": {},
   "outputs": [
    {
     "data": {
      "application/vnd.jupyter.widget-view+json": {
       "model_id": "d660cf08768b4034b188ef2c86556a2f",
       "version_major": 2,
       "version_minor": 0
      },
      "text/plain": [
       "Widget(value='<iframe src=\"http://localhost:39223/index.html?ui=P_0x7f408b1a8610_0&reconnect=auto\" class=\"pyvi…"
      ]
     },
     "metadata": {},
     "output_type": "display_data"
    }
   ],
   "source": [
    "r = 1.016 \n",
    "L = 3.048 \n",
    "E, nu = 2.0685E7, 0.3 \n",
    "mu = E/(2.0*(1.0 + nu)) \n",
    "lmbda = 2.0*mu*nu/(1.0 - 2.0*nu) \n",
    "t = 0.03 \n",
    "\n",
    "mesh = create_rectangle(MPI.COMM_WORLD, np.array([[-np.pi/2, 0], [3*np.pi/2, L]]), \n",
    "                        [nex, ney], cell_type)\n",
    "\n",
    "tdim = mesh.topology.dim\n",
    "fdim = tdim - 1\n",
    "\n",
    "cell = mesh.basix_cell()\n",
    "P1 = element(\"Lagrange\", cell, degree=1)\n",
    "P2 = element(\"Lagrange\", cell, degree=2)\n",
    "if ele_index == 5:\n",
    "    S2 = element(\"Serendipity\", cell, degree=2)\n",
    "elif ele_index == 2:\n",
    "    B3 = element(\"Bubble\", cell, degree=3)\n",
    "    \n",
    "x = ufl.SpatialCoordinate(mesh)\n",
    "phi0_ufl = ufl.as_vector([r * ufl.sin(x[0]), x[1], r * ufl.cos(x[0])])\n",
    "\n",
    "def unit_normal(phi):\n",
    "    n = ufl.cross(phi.dx(0), phi.dx(1))\n",
    "    return n/ufl.sqrt(inner(n, n))\n",
    "\n",
    "n0_ufl = unit_normal(phi0_ufl)\n",
    "\n",
    "def tangent_1(phi):\n",
    "    t1 = phi.dx(0)\n",
    "    t1 = t1/ufl.sqrt(inner(t1, t1))\n",
    "    return t1\n",
    "\n",
    "def tangent_2(n, t1):\n",
    "    t2 = ufl.cross(n, t1)\n",
    "    t2 = t2/ufl.sqrt(inner(t2, t2))\n",
    "    return t2\n",
    "\n",
    "t1_ufl = tangent_1(phi0_ufl)\n",
    "t2_ufl = tangent_2(n0_ufl, t1_ufl)\n",
    "\n",
    "# the analytical expression of R0\n",
    "def rotation_matrix(t1, t2, n):\n",
    "    R = ufl.as_matrix([[t1[0], t2[0], n[0]], \n",
    "                       [t1[1], t2[1], n[1]], \n",
    "                       [t1[2], t2[2], n[2]]])\n",
    "    return R\n",
    "\n",
    "R0_ufl = rotation_matrix(t1_ufl, t2_ufl, n0_ufl)\n",
    "\n",
    "# Update the director with two successive elementary rotations\n",
    "def director(R0, theta):\n",
    "    Lm3 = ufl.as_vector([ufl.sin(theta[1])*ufl.cos(theta[0]), -ufl.sin(theta[0]), ufl.cos(theta[1])*ufl.cos(theta[0])])\n",
    "    d = ufl.dot(R0, Lm3)\n",
    "    return d\n",
    "\n",
    "if plot_control:\n",
    "    P1_d3_FS = functionspace(mesh, blocked_element(P1, shape = (3,)))\n",
    "\n",
    "    n0_P1_expr = Expression(n0_ufl, P1_d3_FS.element.interpolation_points())\n",
    "    n0_P1_func = Function(P1_d3_FS)\n",
    "    n0_P1_func.interpolate(n0_P1_expr)\n",
    "\n",
    "    phi0_P1_expr = Expression(phi0_ufl, P1_d3_FS.element.interpolation_points())\n",
    "    phi0_P1_func = Function(P1_d3_FS)\n",
    "    phi0_P1_func.interpolate(phi0_P1_expr)\n",
    "\n",
    "    topology, cell_types, geometry = plot.vtk_mesh(P1_d3_FS)\n",
    "\n",
    "    geometry_phi0_P1 = phi0_P1_func.x.array.reshape((geometry.shape[0], len(phi0_P1_func)))\n",
    "    geometry_n0_P1 = n0_P1_func.x.array.reshape((geometry.shape[0], len(n0_P1_func)))\n",
    "\n",
    "    grid_phi0_P1 = pyvista.UnstructuredGrid(topology, cell_types, geometry_phi0_P1)\n",
    "    grid_phi0_P1[\"n0\"] = geometry_n0_P1\n",
    "    glyphs = grid_phi0_P1.glyph(orient=\"n0\", factor=0.1)\n",
    "\n",
    "\n",
    "    plotter = pyvista.Plotter(off_screen = True)\n",
    "    plotter.add_mesh(grid_phi0_P1, style=\"wireframe\", color=\"k\")\n",
    "    plotter.add_mesh(glyphs,  show_scalar_bar=True, scalar_bar_args={\"vertical\": True})\n",
    "    plotter.show_grid()\n",
    "    plotter.show_axes_all()\n",
    "    plotter.enable_parallel_projection()\n",
    "    plotter.show()\n",
    "    plotter.close()"
   ]
  },
  {
   "cell_type": "markdown",
   "metadata": {},
   "source": [
    "# Shell model"
   ]
  },
  {
   "cell_type": "code",
   "execution_count": 4,
   "metadata": {},
   "outputs": [],
   "source": [
    "if ele_type == \"tri_P2B3\":\n",
    "    P2B3 = enriched_element([P2, B3])\n",
    "    naghdi_shell_element = mixed_element(\n",
    "        [blocked_element(P2B3, shape=(3,)), blocked_element(P2, shape=(2,))]\n",
    "    )\n",
    "elif ele_type == \"tri_P2\":\n",
    "    naghdi_shell_element = mixed_element(\n",
    "        [blocked_element(P2, shape=(3,)), blocked_element(P2, shape=(2,))]\n",
    "        )\n",
    "\n",
    "elif ele_type == \"tri_P1\":\n",
    "    naghdi_shell_element = mixed_element(\n",
    "        [blocked_element(P1, shape=(3,)), blocked_element(P1, shape=(2,))]\n",
    "    )\n",
    "    \n",
    "elif ele_type == \"qua_P2\":\n",
    "    naghdi_shell_element = mixed_element(\n",
    "        [blocked_element(P2, shape=(3,)), blocked_element(P2, shape=(2,))]\n",
    "    )\n",
    "elif ele_type == \"qua_P1\":\n",
    "    naghdi_shell_element = mixed_element(\n",
    "        [blocked_element(P1, shape=(3,)), blocked_element(P1, shape=(2,))]\n",
    "    )\n",
    "\n",
    "elif ele_type == \"qua_S2\":\n",
    "    naghdi_shell_element = mixed_element(\n",
    "        [blocked_element(S2, shape=(3,)), blocked_element(S2, shape=(2,))]\n",
    "    )\n",
    "    \n",
    "naghdi_shell_FS = functionspace(mesh, naghdi_shell_element)\n",
    "\n",
    "q_func = Function(naghdi_shell_FS) # current configuration\n",
    "q_trial = ufl.TrialFunction(naghdi_shell_FS)\n",
    "q_test = ufl.TestFunction(naghdi_shell_FS)\n",
    "\n",
    "u_func, theta_func = split(q_func) # current displacement and rotation\n",
    "\n",
    "# current deformation gradient \n",
    "F = grad(u_func) + grad(phi0_ufl) \n",
    "\n",
    "# current director\n",
    "d = director(R0_ufl, theta_func)\n",
    "\n",
    "# initial metric and curvature tensor a0 and b0\n",
    "a0_ufl = grad(phi0_ufl).T * grad(phi0_ufl)\n",
    "b0_ufl = 0.5*( grad(phi0_ufl).T * grad(n0_ufl) + grad(n0_ufl).T * grad(phi0_ufl))\n",
    "\n",
    "def epsilon(F):\n",
    "    \"\"\"Membrane strain\"\"\"\n",
    "    return 0.5 * (F.T * F - a0_ufl)\n",
    "\n",
    "\n",
    "def kappa(F, d):\n",
    "    \"\"\"Bending strain\"\"\"\n",
    "    return 0.5 * (F.T * grad(d) + grad(d).T * F) - b0_ufl\n",
    "\n",
    "\n",
    "def gamma(F, d):\n",
    "    \"\"\"Transverse shear strain\"\"\"\n",
    "    return F.T * d\n",
    "\n",
    "a0_contra_ufl = ufl.inv(a0_ufl)\n",
    "j0_ufl = ufl.det(a0_ufl)\n",
    "\n",
    "i,j,l,m = ufl.indices(4)  # noqa: E741\n",
    "A_contra_ufl = ufl.as_tensor( ( ((2.0*lmbda*mu) / (lmbda + 2.0*mu)) * a0_contra_ufl[i,j]*a0_contra_ufl[l,m]\n",
    "                + 1.0*mu* (a0_contra_ufl[i,l]*a0_contra_ufl[j,m] + a0_contra_ufl[i,m]*a0_contra_ufl[j,l]) )\n",
    "                ,[i,j,l,m])\n",
    "\n",
    "N = ufl.as_tensor(t * A_contra_ufl[i,j,l,m] * epsilon(F)[l,m], [i,j])\n",
    "\n",
    "M = ufl.as_tensor( (t**3 / 12.0) * A_contra_ufl[i,j,l,m]*kappa(F, d)[l,m], [i,j])\n",
    "\n",
    "T = ufl.as_tensor( (t * mu *5.0 / 6.0) * a0_contra_ufl[i, j] * gamma(F, d)[j], [i])\n",
    "\n",
    "psi_m = 0.5*inner(N, epsilon(F))\n",
    "\n",
    "psi_b = 0.5*inner(M, kappa(F, d))\n",
    "\n",
    "psi_s = 0.5*inner(T, gamma(F, d))\n",
    "\n",
    "if ele_type == \"qua_P1\" or ele_type == \"tri_P1\":\n",
    "    dx_f = ufl.Measure('dx', domain=mesh, metadata={\"quadrature_degree\": 2})\n",
    "    if PSRI_control:\n",
    "        dx_r = ufl.Measure('dx', domain=mesh, metadata={\"quadrature_degree\": 1})\n",
    "    else:\n",
    "        dx_r = ufl.Measure('dx', domain=mesh, metadata={\"quadrature_degree\": 2})\n",
    "    \n",
    "else:\n",
    "    dx_f = ufl.Measure('dx', domain=mesh, metadata={\"quadrature_degree\": 4})\n",
    "    if PSRI_control:\n",
    "        dx_r = ufl.Measure('dx', domain=mesh, metadata={\"quadrature_degree\": 2})\n",
    "    else:\n",
    "        dx_r = ufl.Measure('dx', domain=mesh, metadata={\"quadrature_degree\": 4})\n",
    "\n",
    "\n",
    "# Calculate the factor alpha as a function of the mesh size h\n",
    "h = ufl.CellDiameter(mesh)\n",
    "alpha_FS = functionspace(mesh, element(\"DG\", cell, 0))\n",
    "alpha_expr = Expression(t**2 / h**2, alpha_FS.element.interpolation_points())\n",
    "alpha = Function(alpha_FS)\n",
    "alpha.interpolate(alpha_expr)\n",
    "\n",
    "# Full integration part of the total elastic energy\n",
    "Pi_PSRI = psi_b * ufl.sqrt(j0_ufl) * dx_f \n",
    "Pi_PSRI += alpha * psi_m * ufl.sqrt(j0_ufl) * dx_f\n",
    "Pi_PSRI += alpha * psi_s * ufl.sqrt(j0_ufl) * dx_f\n",
    "\n",
    "# Reduced integration part of the total elastic energy\n",
    "Pi_PSRI += (1.0 - alpha) * psi_m * ufl.sqrt(j0_ufl) * dx_r\n",
    "Pi_PSRI += (1.0 - alpha) * psi_s * ufl.sqrt(j0_ufl) * dx_r\n",
    "\n",
    "# external work part (zero in this case)\n",
    "f = Constant(mesh, default_scalar_type((0.0, 0.0, 0.0, 0.0, 0.0)))\n",
    "Wext = ufl.inner(f, q_func)*dx_f\n",
    "\n",
    "Fint = ufl.derivative(Pi_PSRI, q_func, q_test)\n",
    "Fext = ufl.derivative(Wext, q_func, q_test)\n",
    "\n",
    "Residual = Fint - Fext\n",
    "Jacobian = ufl.derivative(Residual, q_func, q_trial)"
   ]
  },
  {
   "cell_type": "markdown",
   "metadata": {},
   "source": [
    "# Boundary Conditions"
   ]
  },
  {
   "cell_type": "code",
   "execution_count": 5,
   "metadata": {},
   "outputs": [
    {
     "name": "stdout",
     "output_type": "stream",
     "text": [
      "number of total master dofs: 320\n",
      "number of total slave dofs: 320\n"
     ]
    }
   ],
   "source": [
    "# Dirichlet boundary conditions\n",
    "def clamped_boundary(x):\n",
    "    return np.isclose(x[1], 0.0, atol = tol)\n",
    "\n",
    "clamped_facets = locate_entities_boundary(mesh, fdim, clamped_boundary)\n",
    "\n",
    "u_FS, _ = naghdi_shell_FS.sub(0).collapse()\n",
    "theta_FS, _ = naghdi_shell_FS.sub(1).collapse()\n",
    "\n",
    "# u1, u2, u3 = 0 on the clamped boundary\n",
    "u_clamped = Function(u_FS) # default value is 0\n",
    "clamped_dofs_u = locate_dofs_topological((naghdi_shell_FS.sub(0), u_FS), fdim, clamped_facets)\n",
    "bc_clamped_u = dirichletbc(u_clamped, clamped_dofs_u, naghdi_shell_FS.sub(0))\n",
    "\n",
    "# theta1, theta2 = 0 on the clamped boundary\n",
    "theta_clamped = Function(theta_FS) # default value is 0\n",
    "clamped_dofs_theta = locate_dofs_topological((naghdi_shell_FS.sub(1), theta_FS), fdim, clamped_facets)\n",
    "bc_clamped_theta = dirichletbc(theta_clamped, clamped_dofs_theta, naghdi_shell_FS.sub(1))\n",
    "\n",
    "bcs = [bc_clamped_u, bc_clamped_theta]\n",
    "\n",
    "# Create MPC\n",
    "def periodic_boundary(x):\n",
    "    return np.isclose(x[0], 3*np.pi/2, atol=tol)\n",
    "\n",
    "def periodic_relation(x):\n",
    "    out_x = np.zeros_like(x)\n",
    "    out_x[0] = x[0] - 2*np.pi\n",
    "    out_x[1] = x[1]\n",
    "    out_x[2] = x[2]\n",
    "    return out_x\n",
    "\n",
    "mpc = MultiPointConstraint(naghdi_shell_FS)\n",
    "mpc.create_periodic_constraint_geometrical(naghdi_shell_FS.sub(0).sub(0), periodic_boundary, periodic_relation, bcs)\n",
    "mpc.create_periodic_constraint_geometrical(naghdi_shell_FS.sub(0).sub(1), periodic_boundary, periodic_relation, bcs)\n",
    "mpc.create_periodic_constraint_geometrical(naghdi_shell_FS.sub(0).sub(2), periodic_boundary, periodic_relation, bcs)\n",
    "mpc.create_periodic_constraint_geometrical(naghdi_shell_FS.sub(1).sub(0), periodic_boundary, periodic_relation, bcs)\n",
    "mpc.create_periodic_constraint_geometrical(naghdi_shell_FS.sub(1).sub(1), periodic_boundary, periodic_relation, bcs)\n",
    "mpc.finalize()\n",
    "\n",
    "# Check the MPC\n",
    "num_slaves_global = mesh.comm.allreduce(len(mpc.slaves), op=MPI.SUM)\n",
    "num_masters_global = mesh.comm.allreduce(len(mpc.masters.array), op=MPI.SUM)\n",
    "\n",
    "assert num_slaves_global > 0\n",
    "assert num_masters_global == num_slaves_global\n",
    "\n",
    "print(f\"number of total master dofs: {num_masters_global}\")\n",
    "print(f\"number of total slave dofs: {num_slaves_global}\")"
   ]
  },
  {
   "cell_type": "markdown",
   "metadata": {},
   "source": [
    "# Point source"
   ]
  },
  {
   "cell_type": "code",
   "execution_count": 6,
   "metadata": {},
   "outputs": [
    {
     "name": "stdout",
     "output_type": "stream",
     "text": [
      "total cells: [[976], [1895]]\n",
      "total basis_values: [array([0., 0., 0., 1., 0., 0., 0., 0., 0.]), array([0., 0., 0., 1., 0., 0., 0., 0., 0.])]\n"
     ]
    }
   ],
   "source": [
    "def compute_cell_contributions(V, points):\n",
    "    # Determine what process owns a point and what cells it lies within\n",
    "    mesh = V.mesh\n",
    "    _, _, owning_points, cells = dolfinx.cpp.geometry.determine_point_ownership(\n",
    "        mesh._cpp_object, points, 1e-6)\n",
    "    owning_points = np.asarray(owning_points).reshape(-1, 3)\n",
    "    # Pull owning points back to reference cell\n",
    "    mesh_nodes = mesh.geometry.x\n",
    "    cmap = mesh.geometry.cmap\n",
    "    ref_x = np.zeros((len(cells), mesh.geometry.dim),\n",
    "                     dtype=mesh.geometry.x.dtype)\n",
    "    for i, (point, cell) in enumerate(zip(owning_points, cells)):\n",
    "        geom_dofs = mesh.geometry.dofmap[cell]\n",
    "        ref_x[i] = cmap.pull_back(point.reshape(-1, 3), mesh_nodes[geom_dofs])\n",
    "\n",
    "    # Create expression evaluating a trial function (i.e. just the basis function)\n",
    "    u = ufl.TrialFunction(V.sub(0).sub(2))\n",
    "    num_dofs = V.sub(0).sub(2).dofmap.dof_layout.num_dofs * V.sub(0).sub(2).dofmap.bs\n",
    "    if len(cells) > 0:\n",
    "        # NOTE: Expression lives on only this communicator rank\n",
    "        expr = Expression(u, ref_x, comm=MPI.COMM_SELF)\n",
    "        values = expr.eval(mesh, np.asarray(cells, dtype=np.int32))\n",
    "        # Strip out basis function values per cell\n",
    "        basis_values = values[0]\n",
    "    else:\n",
    "        basis_values = np.zeros(\n",
    "            (0, num_dofs), dtype=default_scalar_type)\n",
    "    return cells, basis_values\n",
    "\n",
    "if mesh.comm.rank == 0:\n",
    "    point_A = np.array([[0.0, L, 0.0]], dtype=mesh.geometry.x.dtype)\n",
    "    point_B = np.array([[np.pi, L, 0.0]], dtype=mesh.geometry.x.dtype)\n",
    "else:\n",
    "    point_A = np.zeros((0, 3), dtype=mesh.geometry.x.dtype)\n",
    "    point_B = np.zeros((0, 3), dtype=mesh.geometry.x.dtype)\n",
    "\n",
    "ps_cell_A, basis_values_A = compute_cell_contributions(mpc.function_space, point_A)\n",
    "ps_cell_B, basis_values_B = compute_cell_contributions(mpc.function_space, point_B)\n",
    "\n",
    "ps_cells = [ps_cell_A, ps_cell_B]\n",
    "ps_basis_values = [basis_values_A, basis_values_B]\n",
    "ps_dirs = [2, 2]\n",
    "ps_scales = [1.0, -1.0]\n",
    "\n",
    "print(f\"total cells: {ps_cells}\")\n",
    "print(f\"total basis_values: {ps_basis_values}\")\n"
   ]
  },
  {
   "cell_type": "code",
   "execution_count": 7,
   "metadata": {},
   "outputs": [],
   "source": [
    "from ArclengthMPCProblem import ArclengthMPCProblem\n",
    "almpc_problem = ArclengthMPCProblem(\n",
    "    Fint, Fext, q_func, mpc=mpc, lmbda0= 0.0, bcs=bcs,\n",
    "    J=Jacobian, petsc_options={\"ksp_type\": \"preonly\", \"pc_type\": \"lu\"},\n",
    "    ps_cells=ps_cells, ps_basis_values=ps_basis_values,\n",
    "    ps_dirs=ps_dirs, ps_scales=ps_scales\n",
    "    )\n",
    "\n",
    "almpc_problem.max_it = 50\n",
    "file_u = dolfinx.io.VTKFile(mesh.comm, results_folder/\"u.pvd\", \"w\")\n",
    "file_theta = dolfinx.io.VTKFile(mesh.comm, results_folder/\"theta.pvd\", \"w\")\n",
    "file_phi = dolfinx.io.VTKFile(mesh.comm, results_folder/\"phi.pvd\", \"w\")"
   ]
  },
  {
   "cell_type": "markdown",
   "metadata": {},
   "source": [
    "## Newton steps with 2nd order predictions"
   ]
  },
  {
   "cell_type": "code",
   "execution_count": 12,
   "metadata": {},
   "outputs": [
    {
     "name": "stderr",
     "output_type": "stream",
     "text": [
      "  0%|          | 0/40 [00:00<?, ?it/s]"
     ]
    },
    {
     "name": "stdout",
     "output_type": "stream",
     "text": [
      "0 5.691537848726824e-16\n",
      "Load step 0, Number of iterations: 1, Load: 0.00, Disp: 0.00, ds: 0.00, s: 0.00\n"
     ]
    },
    {
     "name": "stderr",
     "output_type": "stream",
     "text": [
      "  2%|▎         | 1/40 [00:02<01:40,  2.58s/it]"
     ]
    },
    {
     "name": "stdout",
     "output_type": "stream",
     "text": [
      "0 0.8226550588764137\n",
      "1 0.07476844565981107\n",
      "2 0.02017771532349798\n",
      "3 0.00013578704465967681\n",
      "4 3.8248881924362826e-08\n",
      "5 8.110479796009997e-15\n",
      "Load step 1, Number of iterations: 6, Load: -50.00, Disp: -0.02, ds: 70.72, s: 70.72\n"
     ]
    },
    {
     "name": "stderr",
     "output_type": "stream",
     "text": [
      "  5%|▌         | 2/40 [00:16<05:55,  9.35s/it]"
     ]
    },
    {
     "name": "stdout",
     "output_type": "stream",
     "text": [
      "0 1.0093796580347805\n",
      "1 0.11226353406057188\n",
      "2 0.06822490692796108\n",
      "3 0.0016029985807426317\n",
      "4 7.450116014595697e-06\n",
      "5 2.95197774248874e-11\n",
      "Load step 2, Number of iterations: 6, Load: -100.00, Disp: -0.06, ds: 70.72, s: 141.44\n"
     ]
    },
    {
     "name": "stderr",
     "output_type": "stream",
     "text": [
      "  8%|▊         | 3/40 [00:30<07:02, 11.42s/it]"
     ]
    },
    {
     "name": "stdout",
     "output_type": "stream",
     "text": [
      "0 0.12937442741781216\n",
      "1 0.17516782857814628\n",
      "2 0.008389302096159089\n",
      "3 0.00034631331106987933\n",
      "4 4.589561158382628e-08\n",
      "5 1.3061480079877293e-14\n",
      "Load step 3, Number of iterations: 6, Load: -150.00, Disp: -0.10, ds: 70.72, s: 212.16\n"
     ]
    },
    {
     "name": "stderr",
     "output_type": "stream",
     "text": [
      " 10%|█         | 4/40 [00:44<07:27, 12.42s/it]"
     ]
    },
    {
     "name": "stdout",
     "output_type": "stream",
     "text": [
      "0 0.24251655079734633\n",
      "1 0.1120392415554994\n",
      "2 0.0035029336857927214\n",
      "3 1.3140669113424067e-05\n",
      "4 2.7392989045875807e-10\n",
      "Load step 4, Number of iterations: 5, Load: -199.98, Disp: -0.16, ds: 70.72, s: 282.89\n"
     ]
    },
    {
     "name": "stderr",
     "output_type": "stream",
     "text": [
      " 12%|█▎        | 5/40 [00:56<07:07, 12.22s/it]"
     ]
    },
    {
     "name": "stdout",
     "output_type": "stream",
     "text": [
      "0 0.2830483843932358\n",
      "1 0.3866322373391091\n",
      "2 0.11539324467929105\n",
      "3 0.026383270504210677\n",
      "4 0.0004930890315959071\n",
      "5 4.647736528814522e-07\n",
      "6 1.5241395874312422e-13\n",
      "Load step 5, Number of iterations: 7, Load: -249.95, Disp: -0.22, ds: 70.72, s: 353.60\n"
     ]
    },
    {
     "name": "stderr",
     "output_type": "stream",
     "text": [
      " 15%|█▌        | 6/40 [01:12<07:40, 13.54s/it]"
     ]
    },
    {
     "name": "stdout",
     "output_type": "stream",
     "text": [
      "0 0.11006268200492635\n",
      "1 0.17148578802478906\n",
      "2 0.006871629765340697\n",
      "3 0.0002474507185676762\n",
      "4 1.4398364184883922e-08\n",
      "5 1.2629993854632149e-14\n",
      "Load step 6, Number of iterations: 6, Load: -289.93, Disp: -0.27, ds: 56.58, s: 410.17\n"
     ]
    },
    {
     "name": "stderr",
     "output_type": "stream",
     "text": [
      " 18%|█▊        | 7/40 [01:26<07:31, 13.68s/it]"
     ]
    },
    {
     "name": "stdout",
     "output_type": "stream",
     "text": [
      "0 0.7024971155113523\n",
      "1 0.43005520404643366\n",
      "2 0.2271371866651845\n",
      "3 0.047146556798820356\n",
      "4 0.0028663196876212655\n",
      "5 7.132464323720414e-06\n",
      "6 6.442114683480136e-11\n",
      "Load step 7, Number of iterations: 7, Load: -329.91, Disp: -0.31, ds: 56.58, s: 466.75\n"
     ]
    },
    {
     "name": "stderr",
     "output_type": "stream",
     "text": [
      " 20%|██        | 8/40 [01:42<07:43, 14.47s/it]"
     ]
    },
    {
     "name": "stdout",
     "output_type": "stream",
     "text": [
      "0 0.059399381105471154\n",
      "1 0.03356279183462161\n",
      "2 0.00023962169309713047\n",
      "3 2.797995756634335e-07\n",
      "4 3.111031450847061e-14\n",
      "Load step 8, Number of iterations: 5, Load: -361.90, Disp: -0.34, ds: 45.26, s: 512.01\n"
     ]
    },
    {
     "name": "stderr",
     "output_type": "stream",
     "text": [
      " 22%|██▎       | 9/40 [01:54<07:00, 13.57s/it]"
     ]
    },
    {
     "name": "stdout",
     "output_type": "stream",
     "text": [
      "0 0.040872976781242305\n",
      "1 0.005887044332669867\n",
      "2 5.481844697107344e-06\n",
      "3 1.6838769449773854e-10\n",
      "Load step 9, Number of iterations: 4, Load: -393.89, Disp: -0.37, ds: 45.26, s: 557.27\n"
     ]
    },
    {
     "name": "stderr",
     "output_type": "stream",
     "text": [
      " 25%|██▌       | 10/40 [02:03<06:08, 12.28s/it]"
     ]
    },
    {
     "name": "stdout",
     "output_type": "stream",
     "text": [
      "0 0.047790534193232544\n",
      "1 0.016763783540461243\n",
      "2 8.107579537343058e-05\n",
      "3 2.265817241919347e-08\n",
      "4 3.3372170450403934e-14\n",
      "Load step 10, Number of iterations: 5, Load: -425.87, Disp: -0.40, ds: 45.26, s: 602.53\n"
     ]
    },
    {
     "name": "stderr",
     "output_type": "stream",
     "text": [
      " 28%|██▊       | 11/40 [02:15<05:49, 12.07s/it]"
     ]
    },
    {
     "name": "stdout",
     "output_type": "stream",
     "text": [
      "0 0.06873754931378588\n",
      "1 0.05020131899489437\n",
      "2 0.0006779765929358097\n",
      "3 2.04037564889188e-06\n",
      "4 1.4566574666455991e-12\n",
      "Load step 11, Number of iterations: 5, Load: -457.85, Disp: -0.44, ds: 45.26, s: 647.80\n"
     ]
    },
    {
     "name": "stderr",
     "output_type": "stream",
     "text": [
      " 30%|███       | 12/40 [02:26<05:32, 11.87s/it]"
     ]
    },
    {
     "name": "stdout",
     "output_type": "stream",
     "text": [
      "0 0.10663365676554862\n",
      "1 0.1108775468911125\n",
      "2 0.0047093114701101035\n",
      "3 8.882548517773178e-05\n",
      "4 3.593826080669928e-09\n",
      "Load step 12, Number of iterations: 5, Load: -489.82, Disp: -0.48, ds: 45.26, s: 693.07\n"
     ]
    },
    {
     "name": "stderr",
     "output_type": "stream",
     "text": [
      " 32%|███▎      | 13/40 [02:37<05:15, 11.70s/it]"
     ]
    },
    {
     "name": "stdout",
     "output_type": "stream",
     "text": [
      "0 0.18265274520257904\n",
      "1 0.14424228665505281\n",
      "2 0.02045408476914284\n",
      "3 0.0008085118925180582\n",
      "4 6.903660541209712e-07\n",
      "5 8.67995123082336e-13\n",
      "Load step 13, Number of iterations: 6, Load: -521.78, Disp: -0.53, ds: 45.26, s: 738.34\n"
     ]
    },
    {
     "name": "stderr",
     "output_type": "stream",
     "text": [
      " 35%|███▌      | 14/40 [02:51<05:20, 12.32s/it]"
     ]
    },
    {
     "name": "stdout",
     "output_type": "stream",
     "text": [
      "0 0.29466284485685806\n",
      "1 0.19059734450126462\n",
      "2 0.023018067611644696\n",
      "3 0.0013669159375037396\n",
      "4 1.83561271748053e-06\n",
      "5 8.004017694111184e-12\n",
      "Load step 14, Number of iterations: 6, Load: -553.70, Disp: -0.58, ds: 45.26, s: 783.62\n"
     ]
    },
    {
     "name": "stderr",
     "output_type": "stream",
     "text": [
      " 38%|███▊      | 15/40 [03:05<05:20, 12.83s/it]"
     ]
    },
    {
     "name": "stdout",
     "output_type": "stream",
     "text": [
      "0 0.4151607647799555\n",
      "1 0.3222113719901944\n",
      "2 0.036598365036008995\n",
      "3 0.005246281933154096\n",
      "4 2.265369883002303e-05\n",
      "5 1.8208605022337659e-09\n",
      "Load step 15, Number of iterations: 6, Load: -585.59, Disp: -0.64, ds: 45.26, s: 828.90\n"
     ]
    },
    {
     "name": "stderr",
     "output_type": "stream",
     "text": [
      " 40%|████      | 16/40 [03:19<05:15, 13.16s/it]"
     ]
    },
    {
     "name": "stdout",
     "output_type": "stream",
     "text": [
      "0 0.6264618093543217\n",
      "1 0.5473022972016879\n",
      "2 0.11599131359774446\n",
      "3 0.06337618062103581\n",
      "4 0.003211125707059556\n",
      "5 4.662479146581788e-05\n",
      "6 1.6874970990925497e-09\n",
      "Load step 16, Number of iterations: 7, Load: -617.41, Disp: -0.72, ds: 45.26, s: 874.22\n"
     ]
    },
    {
     "name": "stderr",
     "output_type": "stream",
     "text": [
      " 42%|████▎     | 17/40 [03:35<05:22, 14.03s/it]"
     ]
    },
    {
     "name": "stdout",
     "output_type": "stream",
     "text": [
      "0 0.7156702938165045\n",
      "1 0.6092992555828795\n",
      "2 0.14408611276132732\n",
      "3 0.03460140822584622\n",
      "4 0.0019950531351230275\n",
      "5 1.1180854481868085e-05\n",
      "6 1.8010703803130806e-10\n",
      "Load step 17, Number of iterations: 7, Load: -642.77, Disp: -0.79, ds: 36.21, s: 910.49\n"
     ]
    },
    {
     "name": "stderr",
     "output_type": "stream",
     "text": [
      " 45%|████▌     | 18/40 [03:51<05:21, 14.62s/it]"
     ]
    },
    {
     "name": "stdout",
     "output_type": "stream",
     "text": [
      "0 0.6819879691580207\n",
      "1 0.5371073567144569\n",
      "2 0.21682479932645768\n",
      "3 0.1295333013387746\n",
      "4 0.015968645698840246\n",
      "5 0.0010015223649483499\n",
      "6 9.71292806864974e-07\n",
      "7 3.90063978022967e-12\n",
      "Load step 18, Number of iterations: 8, Load: -662.96, Disp: -0.86, ds: 28.97, s: 939.44\n"
     ]
    },
    {
     "name": "stderr",
     "output_type": "stream",
     "text": [
      " 48%|████▊     | 19/40 [04:10<05:30, 15.75s/it]"
     ]
    },
    {
     "name": "stdout",
     "output_type": "stream",
     "text": [
      "0 0.520048614546826\n",
      "1 0.38429003280730517\n",
      "2 0.28207067920202933\n",
      "3 0.07921788118112735\n",
      "4 0.022384364788562445\n",
      "5 0.0005253964933169259\n",
      "6 1.0055515893938703e-06\n",
      "7 1.0397751267967777e-12\n",
      "Load step 19, Number of iterations: 8, Load: -679.09, Disp: -0.90, ds: 23.17, s: 962.57\n"
     ]
    },
    {
     "name": "stderr",
     "output_type": "stream",
     "text": [
      " 50%|█████     | 20/40 [04:28<05:28, 16.43s/it]"
     ]
    },
    {
     "name": "stdout",
     "output_type": "stream",
     "text": [
      "0 1.270824261407295\n",
      "1 0.7073900947085049\n",
      "2 0.47651675613377253\n",
      "3 0.25597122935791006\n",
      "4 0.09402207658208162\n",
      "5 0.019535330855548177\n",
      "6 0.0005598373062727712\n",
      "7 7.631938590683977e-07\n",
      "8 9.161190448724938e-13\n",
      "Load step 20, Number of iterations: 9, Load: -692.01, Disp: -0.94, ds: 18.54, s: 981.08\n"
     ]
    },
    {
     "name": "stderr",
     "output_type": "stream",
     "text": [
      " 52%|█████▎    | 21/40 [04:48<05:35, 17.64s/it]"
     ]
    },
    {
     "name": "stdout",
     "output_type": "stream",
     "text": [
      "0 0.20921349467931957\n",
      "1 0.13228919419230611\n",
      "2 0.007911727583670265\n",
      "3 0.00024160684489345045\n",
      "4 4.090230025338029e-08\n",
      "5 7.494717735182678e-14\n",
      "Load step 21, Number of iterations: 6, Load: -702.37, Disp: -0.97, ds: 14.83, s: 995.91\n"
     ]
    },
    {
     "name": "stderr",
     "output_type": "stream",
     "text": [
      " 55%|█████▌    | 22/40 [05:02<04:59, 16.65s/it]"
     ]
    },
    {
     "name": "stdout",
     "output_type": "stream",
     "text": [
      "0 0.12393434637565189\n",
      "1 0.07266285781401068\n",
      "2 0.0021528657218953815\n",
      "3 1.8570596744038075e-05\n",
      "4 2.431253843800423e-10\n",
      "Load step 22, Number of iterations: 5, Load: -712.75, Disp: -0.99, ds: 14.83, s: 1010.74\n"
     ]
    },
    {
     "name": "stderr",
     "output_type": "stream",
     "text": [
      " 57%|█████▊    | 23/40 [05:14<04:18, 15.23s/it]"
     ]
    },
    {
     "name": "stdout",
     "output_type": "stream",
     "text": [
      "0 0.09522425436955619\n",
      "1 0.05851918668393939\n",
      "2 0.001229104206354941\n",
      "3 8.210081148315053e-06\n",
      "4 3.567211702572291e-11\n",
      "Load step 23, Number of iterations: 5, Load: -723.14, Disp: -1.02, ds: 14.83, s: 1025.57\n"
     ]
    },
    {
     "name": "stderr",
     "output_type": "stream",
     "text": [
      " 60%|██████    | 24/40 [05:26<03:45, 14.12s/it]"
     ]
    },
    {
     "name": "stdout",
     "output_type": "stream",
     "text": [
      "0 0.08224556954039186\n",
      "1 0.055556273303109124\n",
      "2 0.0009311564354974308\n",
      "3 6.269438167023116e-06\n",
      "4 1.5521280145010236e-11\n",
      "Load step 24, Number of iterations: 5, Load: -733.55, Disp: -1.04, ds: 14.83, s: 1040.40\n"
     ]
    },
    {
     "name": "stderr",
     "output_type": "stream",
     "text": [
      " 62%|██████▎   | 25/40 [05:38<03:21, 13.41s/it]"
     ]
    },
    {
     "name": "stdout",
     "output_type": "stream",
     "text": [
      "0 0.07385228403146218\n",
      "1 0.05551046068202767\n",
      "2 0.0007415985816044497\n",
      "3 5.276983183035741e-06\n",
      "4 8.138580399061528e-12\n",
      "Load step 25, Number of iterations: 5, Load: -743.97, Disp: -1.06, ds: 14.83, s: 1055.24\n"
     ]
    },
    {
     "name": "stderr",
     "output_type": "stream",
     "text": [
      " 65%|██████▌   | 26/40 [05:49<03:01, 12.95s/it]"
     ]
    },
    {
     "name": "stdout",
     "output_type": "stream",
     "text": [
      "0 0.07205659675646639\n",
      "1 0.060452541713839424\n",
      "2 0.000710531651423652\n",
      "3 6.0843295877349936e-06\n",
      "4 8.537528769037422e-12\n",
      "Load step 26, Number of iterations: 5, Load: -754.39, Disp: -1.08, ds: 14.83, s: 1070.07\n"
     ]
    },
    {
     "name": "stderr",
     "output_type": "stream",
     "text": [
      " 68%|██████▊   | 27/40 [06:00<02:39, 12.27s/it]"
     ]
    },
    {
     "name": "stdout",
     "output_type": "stream",
     "text": [
      "0 0.08492542978779855\n",
      "1 0.07823154082837835\n",
      "2 0.00115224930702539\n",
      "3 1.646657061936506e-05\n",
      "4 6.000052782191894e-11\n",
      "Load step 27, Number of iterations: 5, Load: -764.82, Disp: -1.09, ds: 14.83, s: 1084.90\n"
     ]
    },
    {
     "name": "stderr",
     "output_type": "stream",
     "text": [
      " 70%|███████   | 28/40 [06:11<02:21, 11.82s/it]"
     ]
    },
    {
     "name": "stdout",
     "output_type": "stream",
     "text": [
      "0 0.19995148626183903\n",
      "1 0.18409007199627822\n",
      "2 0.01401138161877034\n",
      "3 0.0010946189773437995\n",
      "4 5.799615283732309e-07\n",
      "5 1.9271602016098984e-12\n",
      "Load step 28, Number of iterations: 6, Load: -775.26, Disp: -1.11, ds: 14.83, s: 1099.73\n"
     ]
    },
    {
     "name": "stderr",
     "output_type": "stream",
     "text": [
      " 72%|███████▎  | 29/40 [06:23<02:10, 11.86s/it]"
     ]
    },
    {
     "name": "stdout",
     "output_type": "stream",
     "text": [
      "0 0.12266224806563325\n",
      "1 0.11533218409523033\n",
      "2 0.0043310554118393615\n",
      "3 0.0001342274491318417\n",
      "4 7.234723657622038e-09\n",
      "Load step 29, Number of iterations: 5, Load: -785.70, Disp: -1.13, ds: 14.83, s: 1114.57\n"
     ]
    },
    {
     "name": "stderr",
     "output_type": "stream",
     "text": [
      " 75%|███████▌  | 30/40 [06:34<01:55, 11.57s/it]"
     ]
    },
    {
     "name": "stdout",
     "output_type": "stream",
     "text": [
      "0 0.038990289012459066\n",
      "1 0.03315297827535613\n",
      "2 0.000177203449575314\n",
      "3 4.4926522597228677e-07\n"
     ]
    }
   ],
   "source": [
    "nstep = 100\n",
    "\n",
    "Fc_list = np.zeros(nstep)\n",
    "\n",
    "q_func.x.array[:] = 0.0\n",
    "\n",
    "bb_point_A = np.array([[0.0, L, 0.0]], dtype=np.float64)\n",
    "bb_point_B = np.array([[np.pi, L, 0.0]], dtype=np.float64)\n",
    "\n",
    "almpc_problem.reset()\n",
    "if mesh.comm.rank == 0:\n",
    "    u3_list_A = np.zeros(nstep)\n",
    "    u3_list_B = np.zeros(nstep)\n",
    "\n",
    "i = 0\n",
    "ds_max = 0.0\n",
    "pbar = tqdm(total=nstep)\n",
    "\n",
    "while i < nstep:\n",
    "    if i < 3:\n",
    "        Pred = False\n",
    "        Fc = -50 * i\n",
    "    else:\n",
    "        Pred = True\n",
    "        Fc = -50 * i\n",
    "    \n",
    "    n, converged = almpc_problem.NewtonStep(Pred_control = Pred, lmbda2 = Fc)\n",
    "        \n",
    "    if converged:\n",
    "        q_func.x.scatter_forward()\n",
    "        Fc = almpc_problem.lmbda\n",
    "        Fc_list[i] = Fc\n",
    "        \n",
    "        if not Pred:\n",
    "            ds_max = max(almpc_problem.ds, ds_max)\n",
    "        # write output\n",
    "        if ele_type == \"qua_P1\" or ele_type == \"tri_P1\":\n",
    "            phi_FS = functionspace(mesh, blocked_element(P1, shape=(3,)))\n",
    "        else:\n",
    "            phi_FS = functionspace(mesh, blocked_element(P2, shape=(3,)))\n",
    "            \n",
    "        if ele_type == \"tri_P2B3\":\n",
    "            u_P2B3 = q_func.sub(0).collapse()\n",
    "            u_sol = Function(phi_FS)\n",
    "            u_sol.interpolate(u_P2B3)\n",
    "            theta_sol = q_func.sub(1).collapse()\n",
    "        elif ele_type == \"qua_S2\":\n",
    "            u_S2 = q_func.sub(0).collapse()\n",
    "            u_sol = Function(phi_FS)\n",
    "            u_sol.interpolate(u_S2)\n",
    "            \n",
    "            theta_S2 = q_func.sub(1).collapse()\n",
    "            theta_FS = functionspace(mesh, blocked_element(P2, shape=(2,)))\n",
    "            theta_sol = Function(theta_FS)\n",
    "            theta_sol.interpolate(theta_S2)\n",
    "            \n",
    "        else:\n",
    "            u_sol = q_func.sub(0).collapse()\n",
    "            theta_sol = q_func.sub(1).collapse()\n",
    "        \n",
    "        phi_expr = Expression(phi0_ufl + u_sol, phi_FS.element.interpolation_points())\n",
    "        phi_sol = Function(phi_FS)\n",
    "        phi_sol.interpolate(phi_expr)\n",
    "        \n",
    "        file_u.write_function(u_sol, i)\n",
    "        file_theta.write_function(theta_sol, i)\n",
    "        file_phi.write_function(phi_sol, i)\n",
    "        \n",
    "        # calculate u3 at the point load\n",
    "        u3_bb_A = 0.0\n",
    "        u3_bb_B = 0.0\n",
    "        u3_func = q_func.sub(0).sub(2).collapse()\n",
    "\n",
    "        if len(ps_cell_A) > 0:\n",
    "            u3_bb_A = u3_func.eval(bb_point_A, ps_cell_A[0])[0]\n",
    "        u3_bb_A = mesh.comm.allreduce(u3_bb_A, op=MPI.SUM)\n",
    "        \n",
    "        if len(ps_cell_B) > 0:\n",
    "            u3_bb_B = u3_func.eval(bb_point_B, ps_cell_B[0])[0]\n",
    "        u3_bb_B = mesh.comm.allreduce(u3_bb_B, op=MPI.SUM)\n",
    "        \n",
    "        if mesh.comm.rank == 0:\n",
    "            u3_list_A[i] = u3_bb_A\n",
    "            u3_list_B[i] = u3_bb_B\n",
    "            print(f\"Load step {i:d}, Number of iterations: {n:d}, \" \n",
    "                f\"Load: {Fc:.2f}, Disp: {u3_bb_A:.2f}, \"\n",
    "                f\"ds: {almpc_problem.ds:.2f}, s: {almpc_problem.s:.2f}\", flush=True)\n",
    "            \n",
    "        # adaptive step size control\n",
    "        if n < 4:\n",
    "            almpc_problem.ds = min(1.2*almpc_problem.ds, ds_max)\n",
    "        if n > 8:\n",
    "            almpc_problem.ds *= 0.8\n",
    "            \n",
    "        if Fc_list[i] < - 2000.0:\n",
    "            break\n",
    "        \n",
    "        i += 1\n",
    "        pbar.update(1)\n",
    "    else:\n",
    "        almpc_problem.ds *= 0.5\n",
    "\n",
    "   \n",
    "file_u.close()\n",
    "file_theta.close()\n",
    "file_phi.close()\n",
    "pbar.close()"
   ]
  },
  {
   "cell_type": "markdown",
   "metadata": {},
   "source": [
    "# Post-processing"
   ]
  },
  {
   "cell_type": "code",
   "execution_count": null,
   "metadata": {},
   "outputs": [],
   "source": [
    "import matplotlib.pyplot as plt\n",
    "\n",
    "if mesh.comm.rank == 0:\n",
    "    WA_S4R = 1.e-2*np.array([0., 5.421, 16.1, 22.195, 27.657, 32.7, 37.582, 42.633,\n",
    "        48.537, 56.355, 66.410, 79.810, 94.669, 113.704, 124.751, 132.653,\n",
    "        138.920, 144.185, 148.770, 152.863, 156.584, 160.015, 163.211,\n",
    "        166.200, 168.973, 171.505])\n",
    "        \n",
    "    P_S4R = np.array([0., .05, .1, .125, .15, .175, .2, .225, .25, .275, .3,\n",
    "        .325, .35, .4, .45, .5, .55, .6, .65, .7, .75, .8, .85, .9, .95, 1.])\n",
    "    \n",
    "    u3_list_A = u3_list_A[:i+1]\n",
    "    u3_list_B = u3_list_B[:i+1]\n",
    "    Fc_list = Fc_list[:i+1]\n",
    "    Fc_max = -2000.0\n",
    "    np.savetxt(results_folder/\"u3_list_A.txt\", u3_list_A)\n",
    "    np.savetxt(results_folder/\"u3_list_B.txt\", u3_list_B)\n",
    "    np.savetxt(results_folder/\"Fc_list.txt\", Fc_list)\n",
    "    \n",
    "    plt.figure(figsize=(8.0, 6.0))\n",
    "    plt.plot(WA_S4R, P_S4R, \"-\", label=\"$-WA(S4R)$\")\n",
    "    plt.plot(-u3_list_A, Fc_list / Fc_max, \"o\", markersize=5, markerfacecolor='none',\n",
    "             markevery = 2, label=f\"$u3_A({nex}\\\\times{ney},${ele_type})\")\n",
    "    plt.plot(u3_list_B, Fc_list / Fc_max, \"d\", markersize=5, markerfacecolor='none',\n",
    "             markevery = 2, label=f\"$u3_B({nex}\\\\times{ney},${ele_type})\")\n",
    "    plt.xlabel(\"Deflection(mm)\")\n",
    "    plt.ylabel(r\"$P/P_{\\mathrm{max}}$\")\n",
    "    plt.legend()\n",
    "    plt.grid()\n",
    "    plt.tight_layout()\n",
    "    plt.savefig(results_folder/\"comparisons.png\", dpi=300)"
   ]
  },
  {
   "cell_type": "code",
   "execution_count": 11,
   "metadata": {},
   "outputs": [
    {
     "data": {
      "application/vnd.jupyter.widget-view+json": {
       "model_id": "771dbb01607549c3b349dbb242c828cb",
       "version_major": 2,
       "version_minor": 0
      },
      "text/plain": [
       "Widget(value='<iframe src=\"http://localhost:39223/index.html?ui=P_0x7f408b04b750_0&reconnect=auto\" class=\"pyvi…"
      ]
     },
     "metadata": {},
     "output_type": "display_data"
    }
   ],
   "source": [
    "topology, cell_types, geometry = plot.vtk_mesh(phi_FS)\n",
    "geometry_phi = phi_sol.x.array.reshape((geometry.shape[0], len(phi_sol)))\n",
    "grid_phi = pyvista.UnstructuredGrid(topology, cell_types, geometry_phi)\n",
    "\n",
    "plotter = pyvista.Plotter()\n",
    "plotter.add_mesh(grid_phi, show_edges=True)\n",
    "plotter.show_grid()\n",
    "plotter.enable_parallel_projection()\n",
    "plotter.show_axes_all()\n",
    "plotter.show()\n",
    "plotter.close()"
   ]
  }
 ],
 "metadata": {
  "kernelspec": {
   "display_name": "fenicsx0.8",
   "language": "python",
   "name": "python3"
  },
  "language_info": {
   "codemirror_mode": {
    "name": "ipython",
    "version": 3
   },
   "file_extension": ".py",
   "mimetype": "text/x-python",
   "name": "python",
   "nbconvert_exporter": "python",
   "pygments_lexer": "ipython3",
   "version": "3.11.8"
  }
 },
 "nbformat": 4,
 "nbformat_minor": 2
}
