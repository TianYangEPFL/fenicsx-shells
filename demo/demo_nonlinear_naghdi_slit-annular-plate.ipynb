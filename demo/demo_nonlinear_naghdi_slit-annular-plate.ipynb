{
 "cells": [
  {
   "cell_type": "code",
   "execution_count": 1,
   "metadata": {},
   "outputs": [],
   "source": [
    "import numpy as np\n",
    "\n",
    "from mpi4py import MPI\n",
    "from petsc4py import PETSc\n",
    "\n",
    "import dolfinx\n",
    "import ufl\n",
    "from basix.ufl import blocked_element, element, enriched_element, mixed_element\n",
    "from dolfinx.fem import Function, functionspace, dirichletbc, Expression, locate_dofs_topological, Constant\n",
    "from dolfinx.fem.petsc import NonlinearProblem\n",
    "from dolfinx.mesh import CellType, create_rectangle, locate_entities_boundary, meshtags\n",
    "from ufl import grad, inner, split\n",
    "from dolfinx import plot, default_scalar_type\n",
    "from dolfinx.nls.petsc import NewtonSolver\n",
    "\n",
    "import pyvista"
   ]
  },
  {
   "cell_type": "code",
   "execution_count": 2,
   "metadata": {},
   "outputs": [],
   "source": [
    "from pathlib import Path\n",
    "\n",
    "results_folder = Path(\"results/nonlinear_Naghdi/slit-annular-plate\")\n",
    "results_folder.mkdir(exist_ok=True, parents=True)\n",
    "\n",
    "pyvista.start_xvfb()"
   ]
  },
  {
   "cell_type": "markdown",
   "metadata": {},
   "source": [
    "# Parameter space"
   ]
  },
  {
   "cell_type": "code",
   "execution_count": 3,
   "metadata": {},
   "outputs": [],
   "source": [
    "R0 = 6.0\n",
    "dR = 4.0\n",
    "mesh = create_rectangle(MPI.COMM_WORLD, np.array([[0.0, 0.0], [dR, 2*np.pi]]), [15, 120], CellType.triangle, \n",
    "                        diagonal=dolfinx.cpp.mesh.DiagonalType.right)\n",
    "tdim = mesh.topology.dim\n",
    "fdim = tdim - 1"
   ]
  },
  {
   "cell_type": "markdown",
   "metadata": {},
   "source": [
    "## plot"
   ]
  },
  {
   "cell_type": "code",
   "execution_count": 4,
   "metadata": {},
   "outputs": [
    {
     "data": {
      "application/vnd.jupyter.widget-view+json": {
       "model_id": "c43880af4a2948838e2d4869ccae3a1f",
       "version_major": 2,
       "version_minor": 0
      },
      "text/plain": [
       "Widget(value='<iframe src=\"http://localhost:43391/index.html?ui=P_0x7fe63594b860_0&reconnect=auto\" class=\"pyvi…"
      ]
     },
     "metadata": {},
     "output_type": "display_data"
    }
   ],
   "source": [
    "topology, cell_types, geometry = plot.vtk_mesh(mesh, tdim)\n",
    "grid = pyvista.UnstructuredGrid(topology, cell_types, geometry)\n",
    "\n",
    "plotter = pyvista.Plotter(off_screen = True)\n",
    "plotter.add_mesh(grid, show_edges=True)\n",
    "plotter.show_grid()\n",
    "plotter.view_xy()\n",
    "if not pyvista.OFF_SCREEN:\n",
    "    plotter.show()\n",
    "else:\n",
    "    plotter.screenshot(results_folder/f\"mesh_rank{mesh.comm.rank}.png\")\n",
    "\n",
    "plotter.close()"
   ]
  },
  {
   "cell_type": "markdown",
   "metadata": {},
   "source": [
    "# Initial shape"
   ]
  },
  {
   "cell_type": "code",
   "execution_count": 5,
   "metadata": {},
   "outputs": [],
   "source": [
    "E, nu = Constant(mesh, default_scalar_type(21.0E6)), Constant(mesh, default_scalar_type(0.0))\n",
    "mu = E/(2.0*(1.0 + nu))\n",
    "lmbda = 2.0*mu*nu/(1.0 - 2.0*nu)\n",
    "t = Constant(mesh, default_scalar_type(3E-2))"
   ]
  },
  {
   "cell_type": "code",
   "execution_count": 6,
   "metadata": {},
   "outputs": [],
   "source": [
    "x = ufl.SpatialCoordinate(mesh)\n",
    "phi0_ufl = ufl.as_vector([(R0 + x[0])*ufl.cos(x[1]),\n",
    "                          (R0 + x[0])*ufl.sin(x[1]),\n",
    "                          0])\n",
    "\n",
    "def unit_normal(phi):\n",
    "    n = ufl.cross(phi.dx(0), phi.dx(1))\n",
    "    return n/ufl.sqrt(inner(n, n))\n",
    "\n",
    "\n",
    "n0_ufl = unit_normal(phi0_ufl)"
   ]
  },
  {
   "cell_type": "code",
   "execution_count": 7,
   "metadata": {},
   "outputs": [],
   "source": [
    "# for the 3 translation DOFs, we use the P2 + B3 enriched element\n",
    "cell = mesh.basix_cell()\n",
    "P2 = element(\"Lagrange\", cell, degree=2)\n",
    "B3 = element(\"Bubble\", cell, degree=3)"
   ]
  },
  {
   "cell_type": "markdown",
   "metadata": {},
   "source": [
    "## plot "
   ]
  },
  {
   "cell_type": "code",
   "execution_count": 8,
   "metadata": {},
   "outputs": [
    {
     "data": {
      "application/vnd.jupyter.widget-view+json": {
       "model_id": "b79747f243c1477ca45e3dad2cdd072f",
       "version_major": 2,
       "version_minor": 0
      },
      "text/plain": [
       "Widget(value='<iframe src=\"http://localhost:43391/index.html?ui=P_0x7fe6d1388c80_0&reconnect=auto\" class=\"pyvi…"
      ]
     },
     "metadata": {},
     "output_type": "display_data"
    }
   ],
   "source": [
    "# create a FEM interpolation of n0 and phi0\n",
    "P1_d3_FS = functionspace(mesh, element(\"Lagrange\", cell, degree = 1, shape = (3,)))\n",
    "\n",
    "n0_P1_expr = Expression(n0_ufl, P1_d3_FS.element.interpolation_points())\n",
    "n0_P1_func = Function(P1_d3_FS)\n",
    "n0_P1_func.interpolate(n0_P1_expr)\n",
    "\n",
    "phi0_P1_expr = Expression(phi0_ufl, P1_d3_FS.element.interpolation_points())\n",
    "phi0_P1_func = Function(P1_d3_FS)\n",
    "phi0_P1_func.interpolate(phi0_P1_expr)\n",
    "\n",
    "topology, cell_types, geometry = plot.vtk_mesh(P1_d3_FS)\n",
    "\n",
    "geometry_phi0_P1 = phi0_P1_func.x.array.reshape((geometry.shape[0], len(phi0_P1_func)))\n",
    "geometry_n0_P1 = n0_P1_func.x.array.reshape((geometry.shape[0], len(n0_P1_func)))\n",
    "\n",
    "grid_phi0_P1 = pyvista.UnstructuredGrid(topology, cell_types, geometry_phi0_P1)\n",
    "grid_phi0_P1[\"n0\"] = geometry_n0_P1\n",
    "glyphs = grid_phi0_P1.glyph(orient=\"n0\", factor=1)\n",
    "\n",
    "\n",
    "plotter = pyvista.Plotter(off_screen = True)\n",
    "plotter.add_mesh(grid_phi0_P1, style=\"wireframe\", color=\"k\")\n",
    "plotter.add_mesh(glyphs,  show_scalar_bar=True, scalar_bar_args={\"vertical\": True})\n",
    "plotter.show_grid()\n",
    "plotter.enable_parallel_projection()\n",
    "if not pyvista.OFF_SCREEN:\n",
    "    plotter.show()\n",
    "else:\n",
    "    plotter.screenshot(results_folder/f\"initial_shape_rank{mesh.comm.rank}.png\")\n",
    "    \n",
    "plotter.close()"
   ]
  },
  {
   "cell_type": "markdown",
   "metadata": {},
   "source": [
    "## director"
   ]
  },
  {
   "cell_type": "code",
   "execution_count": 9,
   "metadata": {},
   "outputs": [],
   "source": [
    "def tangent_1(n):\n",
    "    e2 = ufl.as_vector([0, 1, 0])\n",
    "    t1 = ufl.cross(e2, n)\n",
    "    t1 = t1/ufl.sqrt(inner(t1, t1))\n",
    "    return t1\n",
    "\n",
    "def tangent_2(n, t1):\n",
    "    t2 = ufl.cross(n, t1)\n",
    "    t2 = t2/ufl.sqrt(inner(t2, t2))\n",
    "    return t2\n",
    "\n",
    "# the analytical expression of t1 and t2\n",
    "t1_ufl = tangent_1(n0_ufl)\n",
    "t2_ufl = tangent_2(n0_ufl, t1_ufl)\n",
    "\n",
    "# the analytical expression of R0\n",
    "def rotation_matrix(t1, t2, n):\n",
    "    R = ufl.as_matrix([[t1[0], t2[0], n[0]], \n",
    "                       [t1[1], t2[1], n[1]], \n",
    "                       [t1[2], t2[2], n[2]]])\n",
    "    return R\n",
    "\n",
    "R0_ufl = rotation_matrix(t1_ufl, t2_ufl, n0_ufl)\n",
    "\n",
    "# Update the director with two successive elementary rotations\n",
    "def director(R0, theta):\n",
    "    Lm3 = ufl.as_vector([ufl.sin(theta[1])*ufl.cos(theta[0]), -ufl.sin(theta[0]), ufl.cos(theta[1])*ufl.cos(theta[0])])\n",
    "    d = ufl.dot(R0, Lm3)\n",
    "    return d"
   ]
  },
  {
   "cell_type": "markdown",
   "metadata": {},
   "source": [
    "# Shell model"
   ]
  },
  {
   "cell_type": "markdown",
   "metadata": {},
   "source": [
    "element"
   ]
  },
  {
   "cell_type": "code",
   "execution_count": 10,
   "metadata": {},
   "outputs": [],
   "source": [
    "P2B3 = enriched_element([P2, B3])\n",
    "\n",
    "# for 2 rotation DOFs, we use P2 element\n",
    "# mixed element for u and theta\n",
    "naghdi_shell_element = mixed_element(\n",
    "    [blocked_element(P2B3, shape=(3,)), blocked_element(P2, shape=(2,))]\n",
    ")\n",
    "naghdi_shell_FS = functionspace(mesh, naghdi_shell_element)\n",
    "\n",
    "q_func = Function(naghdi_shell_FS) # current configuration\n",
    "q_trial = ufl.TrialFunction(naghdi_shell_FS)\n",
    "q_test = ufl.TestFunction(naghdi_shell_FS)\n",
    "\n",
    "u_func, theta_func = split(q_func) # current displacement and rotation"
   ]
  },
  {
   "cell_type": "markdown",
   "metadata": {},
   "source": [
    "model"
   ]
  },
  {
   "cell_type": "code",
   "execution_count": 11,
   "metadata": {},
   "outputs": [],
   "source": [
    "# current deformation gradient \n",
    "F = grad(u_func) + grad(phi0_ufl) \n",
    "\n",
    "# current director\n",
    "d = director(R0_ufl, theta_func)\n",
    "\n",
    "# initial metric and curvature tensor a0 and b0\n",
    "a0_ufl = grad(phi0_ufl).T * grad(phi0_ufl)\n",
    "b0_ufl = -0.5*( grad(phi0_ufl).T * grad(n0_ufl) + grad(n0_ufl).T * grad(phi0_ufl))\n",
    "\n",
    "def epsilon(F):\n",
    "    \"\"\"Membrane strain\"\"\"\n",
    "    return 0.5 * (F.T * F - a0_ufl)\n",
    "\n",
    "\n",
    "def kappa(F, d):\n",
    "    \"\"\"Bending strain\"\"\"\n",
    "    return -0.5 * (F.T * grad(d) + grad(d).T * F) - b0_ufl\n",
    "\n",
    "\n",
    "def gamma(F, d):\n",
    "    \"\"\"Transverse shear strain\"\"\"\n",
    "    return F.T * d\n",
    "\n",
    "a0_contra_ufl = ufl.inv(a0_ufl)\n",
    "j0_ufl = ufl.det(a0_ufl)\n",
    "\n",
    "i,j,l,m = ufl.indices(4)  # noqa: E741\n",
    "A_contra_ufl = ufl.as_tensor( ( ((2.0*lmbda*mu) / (lmbda + 2.0*mu)) * a0_contra_ufl[i,j]*a0_contra_ufl[l,m]\n",
    "                + 1.0*mu* (a0_contra_ufl[i,l]*a0_contra_ufl[j,m] + a0_contra_ufl[i,m]*a0_contra_ufl[j,l]) )\n",
    "                ,[i,j,l,m])\n",
    "\n",
    "N = ufl.as_tensor(t * A_contra_ufl[i,j,l,m] * epsilon(F)[l,m], [i,j])\n",
    "\n",
    "M = ufl.as_tensor( (t**3 / 12.0) * A_contra_ufl[i,j,l,m]*kappa(F, d)[l,m], [i,j])\n",
    "\n",
    "T = ufl.as_tensor( (t * mu *5.0 / 6.0) * a0_contra_ufl[i, j] * gamma(F, d)[j], [i])\n",
    "\n",
    "psi_m = 0.5*inner(N, epsilon(F))\n",
    "\n",
    "psi_b = 0.5*inner(M, kappa(F, d))\n",
    "\n",
    "psi_s = 0.5*inner(T, gamma(F, d))"
   ]
  },
  {
   "cell_type": "markdown",
   "metadata": {},
   "source": [
    "External work"
   ]
  },
  {
   "cell_type": "code",
   "execution_count": 12,
   "metadata": {},
   "outputs": [],
   "source": [
    "def free_end(x):\n",
    "    return np.isclose(x[1], 0.0)\n",
    "\n",
    "\n",
    "def fixed_end(x):\n",
    "    return np.isclose(x[1], 2*np.pi)\n",
    "\n",
    "free_facets = locate_entities_boundary(mesh, fdim, free_end)\n",
    "fixed_facets = locate_entities_boundary(mesh, fdim, fixed_end)\n",
    "\n",
    "# left facets are marked with tag 1, right facets are marked with tag 2\n",
    "marked_facets = np.hstack([free_facets, fixed_facets])\n",
    "marked_values = np.hstack([np.full_like(free_facets, 2), np.full_like(fixed_facets, 1)])\n",
    "sorted_facets = np.argsort(marked_facets)\n",
    "facet_tag = meshtags(mesh, fdim, marked_facets[sorted_facets], marked_values[sorted_facets])\n",
    "\n",
    "P_right = Constant(mesh, default_scalar_type(0.0))\n",
    "\n",
    "ds = ufl.Measure(\"ds\", domain=mesh, subdomain_data=facet_tag, metadata={\"quadrature_degree\": 2})\n",
    "\n",
    "W_ext = P_right * u_func[2] * ds(2)"
   ]
  },
  {
   "cell_type": "markdown",
   "metadata": {},
   "source": [
    "Potential energy with PSRI"
   ]
  },
  {
   "cell_type": "code",
   "execution_count": 13,
   "metadata": {},
   "outputs": [],
   "source": [
    "# Full integration of order 4\n",
    "dx_f = ufl.Measure('dx', domain=mesh, metadata={\"quadrature_degree\": 4})\n",
    "\n",
    "# Reduced integration of order 2\n",
    "dx_r = ufl.Measure('dx', domain=mesh, metadata={\"quadrature_degree\": 2})\n",
    "\n",
    "# Calculate the factor alpha as a function of the mesh size h\n",
    "h = ufl.CellDiameter(mesh)\n",
    "alpha_FS = functionspace(mesh, element(\"DG\", cell, 0))\n",
    "alpha_expr = Expression(t**2 / h**2, alpha_FS.element.interpolation_points())\n",
    "alpha = Function(alpha_FS)\n",
    "alpha.interpolate(alpha_expr)\n",
    "\n",
    "# Full integration part of the total elastic energy\n",
    "Pi_PSRI = psi_b * ufl.sqrt(j0_ufl) * dx_f \n",
    "Pi_PSRI += alpha * psi_m * ufl.sqrt(j0_ufl) * dx_f\n",
    "Pi_PSRI += alpha * psi_s * ufl.sqrt(j0_ufl) * dx_f\n",
    "\n",
    "# Reduced integration part of the total elastic energy\n",
    "Pi_PSRI += (1.0 - alpha) * psi_m * ufl.sqrt(j0_ufl) * dx_r\n",
    "Pi_PSRI += (1.0 - alpha) * psi_s * ufl.sqrt(j0_ufl) * dx_r\n",
    "\n",
    "# external work part\n",
    "Pi_PSRI -= W_ext\n",
    "\n",
    "Residual = ufl.derivative(Pi_PSRI, q_func, q_test)\n",
    "Jacobian = ufl.derivative(Residual, q_func, q_trial)"
   ]
  },
  {
   "cell_type": "markdown",
   "metadata": {},
   "source": [
    "clamped boundary condtions"
   ]
  },
  {
   "cell_type": "code",
   "execution_count": 14,
   "metadata": {},
   "outputs": [],
   "source": [
    "u_FS, _ = naghdi_shell_FS.sub(0).collapse()\n",
    "theta_FS, _ = naghdi_shell_FS.sub(1).collapse()\n",
    "\n",
    "# u1, u2, u3 = 0 on the clamped boundary\n",
    "u_clamped = Function(u_FS) # default value is 0\n",
    "clamped_dofs_u = locate_dofs_topological((naghdi_shell_FS.sub(0), u_FS), fdim, facet_tag.find(1))\n",
    "bc_clamped_u = dirichletbc(u_clamped, clamped_dofs_u, naghdi_shell_FS.sub(0))\n",
    "\n",
    "# theta1, theta2 = 0 on the clamped boundary\n",
    "theta_clamped = Function(theta_FS) # default value is 0\n",
    "clamped_dofs_theta = locate_dofs_topological((naghdi_shell_FS.sub(1), theta_FS), fdim, facet_tag.find(1))\n",
    "bc_clamped_theta = dirichletbc(theta_clamped, clamped_dofs_theta, naghdi_shell_FS.sub(1))\n",
    "\n",
    "bcs = [bc_clamped_u, bc_clamped_theta]"
   ]
  },
  {
   "cell_type": "markdown",
   "metadata": {},
   "source": [
    "bb tree"
   ]
  },
  {
   "cell_type": "code",
   "execution_count": 15,
   "metadata": {},
   "outputs": [],
   "source": [
    "bb_tree = dolfinx.geometry.bb_tree(mesh, 2)\n",
    "bb_point_A = np.array([[0.0, 0.0, 0.0]], dtype=np.float64)\n",
    "bb_point_B = np.array([[dR, 0.0, 0.0]], dtype=np.float64)\n",
    "# Find the leaf that the target point is in\n",
    "bb_cell_candidates_A = dolfinx.geometry.compute_collisions_points(bb_tree, bb_point_A)\n",
    "bb_cell_candidates_B = dolfinx.geometry.compute_collisions_points(bb_tree, bb_point_B)\n",
    "\n",
    "# Find the cell from the leaf that contains the target point\n",
    "bb_cells_A = dolfinx.geometry.compute_colliding_cells(\n",
    "    mesh, bb_cell_candidates_A, bb_point_A)\n",
    "bb_cells_B = dolfinx.geometry.compute_colliding_cells(\n",
    "    mesh, bb_cell_candidates_B, bb_point_B)"
   ]
  },
  {
   "cell_type": "markdown",
   "metadata": {},
   "source": [
    "newton solver"
   ]
  },
  {
   "cell_type": "code",
   "execution_count": 16,
   "metadata": {},
   "outputs": [],
   "source": [
    "problem = NonlinearProblem(Residual, q_func, bcs, Jacobian)\n",
    "solver = NewtonSolver(mesh.comm, problem)\n",
    "\n",
    "# Set Newton solver options\n",
    "solver.rtol = 1e-6\n",
    "solver.atol = 1e-6\n",
    "solver.max_it = 30\n",
    "solver.convergence_criterion = \"incremental\"\n",
    "solver.report = True\n",
    "\n",
    "# Modify the linear solver in each Newton iteration\n",
    "ksp = solver.krylov_solver\n",
    "opts = PETSc.Options()\n",
    "option_prefix = ksp.getOptionsPrefix()\n",
    "opts[f\"{option_prefix}ksp_type\"] = \"preonly\"\n",
    "opts[f\"{option_prefix}pc_type\"] = \"lu\"\n",
    "opts[f\"{option_prefix}pc_factor_mat_solver_type\"] = \"mumps\"\n",
    "ksp.setFromOptions()"
   ]
  },
  {
   "cell_type": "code",
   "execution_count": 17,
   "metadata": {},
   "outputs": [
    {
     "name": "stdout",
     "output_type": "stream",
     "text": [
      "Load step 0, Number of iterations: 2, Load: 0.00\n",
      "Load step 1, Number of iterations: 10, Load: 0.01\n",
      "Load step 2, Number of iterations: 9, Load: 0.02\n",
      "Load step 3, Number of iterations: 9, Load: 0.03\n",
      "Load step 4, Number of iterations: 9, Load: 0.04\n",
      "Load step 5, Number of iterations: 9, Load: 0.05\n",
      "Load step 6, Number of iterations: 9, Load: 0.06\n",
      "Load step 7, Number of iterations: 9, Load: 0.07\n",
      "Load step 8, Number of iterations: 8, Load: 0.08\n",
      "Load step 9, Number of iterations: 8, Load: 0.09\n",
      "Load step 10, Number of iterations: 8, Load: 0.10\n",
      "Load step 11, Number of iterations: 8, Load: 0.11\n",
      "Load step 12, Number of iterations: 8, Load: 0.12\n",
      "Load step 13, Number of iterations: 8, Load: 0.13\n",
      "Load step 14, Number of iterations: 8, Load: 0.14\n",
      "Load step 15, Number of iterations: 8, Load: 0.15\n",
      "Load step 16, Number of iterations: 7, Load: 0.16\n",
      "Load step 17, Number of iterations: 7, Load: 0.17\n",
      "Load step 18, Number of iterations: 7, Load: 0.18\n",
      "Load step 19, Number of iterations: 7, Load: 0.19\n",
      "Load step 20, Number of iterations: 7, Load: 0.20\n",
      "Load step 21, Number of iterations: 6, Load: 0.21\n",
      "Load step 22, Number of iterations: 6, Load: 0.22\n",
      "Load step 23, Number of iterations: 6, Load: 0.23\n",
      "Load step 24, Number of iterations: 6, Load: 0.24\n",
      "Load step 25, Number of iterations: 6, Load: 0.25\n",
      "Load step 26, Number of iterations: 6, Load: 0.26\n",
      "Load step 27, Number of iterations: 6, Load: 0.27\n",
      "Load step 28, Number of iterations: 6, Load: 0.28\n",
      "Load step 29, Number of iterations: 6, Load: 0.29\n",
      "Load step 30, Number of iterations: 6, Load: 0.30\n",
      "Load step 31, Number of iterations: 6, Load: 0.31\n",
      "Load step 32, Number of iterations: 6, Load: 0.32\n",
      "Load step 33, Number of iterations: 6, Load: 0.33\n",
      "Load step 34, Number of iterations: 6, Load: 0.34\n",
      "Load step 35, Number of iterations: 6, Load: 0.35\n",
      "Load step 36, Number of iterations: 6, Load: 0.36\n",
      "Load step 37, Number of iterations: 6, Load: 0.37\n",
      "Load step 38, Number of iterations: 6, Load: 0.38\n",
      "Load step 39, Number of iterations: 5, Load: 0.39\n",
      "Load step 40, Number of iterations: 5, Load: 0.40\n",
      "Load step 41, Number of iterations: 5, Load: 0.41\n",
      "Load step 42, Number of iterations: 5, Load: 0.42\n",
      "Load step 43, Number of iterations: 5, Load: 0.43\n",
      "Load step 44, Number of iterations: 5, Load: 0.44\n",
      "Load step 45, Number of iterations: 5, Load: 0.45\n",
      "Load step 46, Number of iterations: 5, Load: 0.46\n",
      "Load step 47, Number of iterations: 5, Load: 0.47\n",
      "Load step 48, Number of iterations: 5, Load: 0.48\n",
      "Load step 49, Number of iterations: 5, Load: 0.49\n",
      "Load step 50, Number of iterations: 5, Load: 0.51\n",
      "Load step 51, Number of iterations: 5, Load: 0.52\n",
      "Load step 52, Number of iterations: 5, Load: 0.53\n",
      "Load step 53, Number of iterations: 5, Load: 0.54\n",
      "Load step 54, Number of iterations: 5, Load: 0.55\n",
      "Load step 55, Number of iterations: 5, Load: 0.56\n",
      "Load step 56, Number of iterations: 5, Load: 0.57\n",
      "Load step 57, Number of iterations: 5, Load: 0.58\n",
      "Load step 58, Number of iterations: 5, Load: 0.59\n",
      "Load step 59, Number of iterations: 5, Load: 0.60\n",
      "Load step 60, Number of iterations: 5, Load: 0.61\n",
      "Load step 61, Number of iterations: 5, Load: 0.62\n",
      "Load step 62, Number of iterations: 5, Load: 0.63\n",
      "Load step 63, Number of iterations: 5, Load: 0.64\n",
      "Load step 64, Number of iterations: 5, Load: 0.65\n",
      "Load step 65, Number of iterations: 5, Load: 0.66\n",
      "Load step 66, Number of iterations: 5, Load: 0.67\n",
      "Load step 67, Number of iterations: 5, Load: 0.68\n",
      "Load step 68, Number of iterations: 5, Load: 0.69\n",
      "Load step 69, Number of iterations: 5, Load: 0.70\n",
      "Load step 70, Number of iterations: 5, Load: 0.71\n",
      "Load step 71, Number of iterations: 5, Load: 0.72\n",
      "Load step 72, Number of iterations: 5, Load: 0.73\n",
      "Load step 73, Number of iterations: 5, Load: 0.74\n",
      "Load step 74, Number of iterations: 4, Load: 0.75\n",
      "Load step 75, Number of iterations: 4, Load: 0.76\n",
      "Load step 76, Number of iterations: 4, Load: 0.77\n",
      "Load step 77, Number of iterations: 4, Load: 0.78\n",
      "Load step 78, Number of iterations: 4, Load: 0.79\n",
      "Load step 79, Number of iterations: 4, Load: 0.80\n",
      "Load step 80, Number of iterations: 4, Load: 0.81\n",
      "Load step 81, Number of iterations: 4, Load: 0.82\n",
      "Load step 82, Number of iterations: 4, Load: 0.83\n",
      "Load step 83, Number of iterations: 4, Load: 0.84\n",
      "Load step 84, Number of iterations: 4, Load: 0.85\n",
      "Load step 85, Number of iterations: 4, Load: 0.86\n",
      "Load step 86, Number of iterations: 4, Load: 0.87\n",
      "Load step 87, Number of iterations: 4, Load: 0.88\n",
      "Load step 88, Number of iterations: 4, Load: 0.89\n",
      "Load step 89, Number of iterations: 4, Load: 0.90\n",
      "Load step 90, Number of iterations: 4, Load: 0.91\n",
      "Load step 91, Number of iterations: 4, Load: 0.92\n",
      "Load step 92, Number of iterations: 4, Load: 0.93\n",
      "Load step 93, Number of iterations: 4, Load: 0.94\n",
      "Load step 94, Number of iterations: 4, Load: 0.95\n",
      "Load step 95, Number of iterations: 4, Load: 0.96\n",
      "Load step 96, Number of iterations: 4, Load: 0.97\n",
      "Load step 97, Number of iterations: 4, Load: 0.98\n",
      "Load step 98, Number of iterations: 4, Load: 0.99\n",
      "Load step 99, Number of iterations: 4, Load: 1.00\n"
     ]
    }
   ],
   "source": [
    "P_max = 0.8\n",
    "nstep = 100\n",
    "Ps = np.linspace(0.0, P_max, nstep)\n",
    "\n",
    "if mesh.comm.rank == 0:\n",
    "    WA_list = np.zeros(nstep)\n",
    "    WB_list = np.zeros(nstep)\n",
    "    \n",
    "file_u = dolfinx.io.VTKFile(mesh.comm, results_folder/\"u_naghdi.pvd\", \"w\")\n",
    "file_theta = dolfinx.io.VTKFile(mesh.comm, results_folder/\"theta_naghdi.pvd\", \"w\")\n",
    "file_phi = dolfinx.io.VTKFile(mesh.comm, results_folder/\"phi_naghdi.pvd\", \"w\")\n",
    " \n",
    "q_func.x.array[:] = 0.0\n",
    "\n",
    "#dolfinx.log.set_log_level(dolfinx.log.LogLevel.INFO)\n",
    "#dolfinx.log.set_log_level(dolfinx.log.LogLevel.OFF)\n",
    "\n",
    "for i, P_curr in enumerate(Ps):\n",
    "    P_right.value = P_curr\n",
    "    n, converged = solver.solve(q_func)\n",
    "    assert (converged)\n",
    "    q_func.x.scatter_forward()\n",
    "    if mesh.comm.rank == 0:\n",
    "        print(f\"Load step {i:d}, Number of iterations: {n:d}, Load: {P_curr / P_max:.2f}\", flush=True)\n",
    "    \n",
    "    # write output\n",
    "    u_P2B3 = q_func.sub(0).collapse()\n",
    "    theta_P2 = q_func.sub(1).collapse()\n",
    "\n",
    "    phi_FS = functionspace(mesh, blocked_element(P2, shape=(3,)))\n",
    "    phi_expr = Expression(phi0_ufl + u_P2B3, phi_FS.element.interpolation_points())\n",
    "    phi_func = Function(phi_FS)\n",
    "    phi_func.interpolate(phi_expr)\n",
    "\n",
    "    u_P2 = Function(phi_FS)\n",
    "    u_P2.interpolate(u_P2B3)\n",
    "\n",
    "    file_u.write_function(u_P2, i)\n",
    "    \n",
    "    file_theta.write_function(theta_P2, i)\n",
    "    \n",
    "    file_phi.write_function(phi_func, i)\n",
    "    \n",
    "    # calculate u3 at the point load\n",
    "    WA_bb = None\n",
    "    WB_bb = None\n",
    "    u3_func = q_func.sub(0).sub(2).collapse()\n",
    "    \n",
    "    if len(bb_cells_A.array) > 0:\n",
    "        WA_bb = u3_func.eval(bb_point_A, bb_cells_A.array[0])[0]\n",
    "    WA_bb = mesh.comm.gather(WA_bb, root=0)\n",
    "    \n",
    "    if len(bb_cells_B.array) > 0:\n",
    "        WB_bb = u3_func.eval(bb_point_B, bb_cells_B.array[0])[0]\n",
    "    WB_bb = mesh.comm.gather(WB_bb, root=0)\n",
    "    \n",
    "    if mesh.comm.rank == 0:\n",
    "        for WA in WA_bb:\n",
    "            if WA is not None:\n",
    "                WA_list[i] = WA\n",
    "                break\n",
    "            \n",
    "        for WB in WB_bb:\n",
    "            if WB is not None:\n",
    "                WB_list[i] = WB\n",
    "                break\n",
    "\n",
    "# close the output files\n",
    "file_u.close()\n",
    "file_theta.close()\n",
    "file_phi.close()"
   ]
  },
  {
   "cell_type": "markdown",
   "metadata": {},
   "source": [
    "## plot"
   ]
  },
  {
   "cell_type": "code",
   "execution_count": 18,
   "metadata": {},
   "outputs": [
    {
     "data": {
      "application/vnd.jupyter.widget-view+json": {
       "model_id": "92c46b6e86fb42c3b47a4ddaba276ff6",
       "version_major": 2,
       "version_minor": 0
      },
      "text/plain": [
       "Widget(value='<iframe src=\"http://localhost:43391/index.html?ui=P_0x7fe628233770_0&reconnect=auto\" class=\"pyvi…"
      ]
     },
     "metadata": {},
     "output_type": "display_data"
    }
   ],
   "source": [
    "u_P2B3 = q_func.sub(0).collapse()\n",
    "\n",
    "phi_FS = functionspace(mesh, blocked_element(P2, shape=(3,)))\n",
    "phi_expr = Expression(phi0_ufl + u_P2B3, phi_FS.element.interpolation_points())\n",
    "phi_func = Function(phi_FS)\n",
    "phi_func.interpolate(phi_expr)\n",
    "\n",
    "topology, cell_types, geometry = plot.vtk_mesh(phi_FS)\n",
    "\n",
    "geometry_phi = phi_func.x.array.reshape((geometry.shape[0], len(phi_func)))\n",
    "\n",
    "grid_phi = pyvista.UnstructuredGrid(topology, cell_types, geometry_phi)\n",
    "\n",
    "plotter = pyvista.Plotter()\n",
    "plotter.add_mesh(grid_phi, show_edges=True)\n",
    "plotter.show_grid()\n",
    "plotter.enable_parallel_projection()\n",
    "plotter.show_axes_all()\n",
    "if not pyvista.OFF_SCREEN:\n",
    "    plotter.show()\n",
    "else:\n",
    "    plotter.screenshot(results_folder/\"phi.png\")\n",
    "plotter.close()"
   ]
  },
  {
   "cell_type": "code",
   "execution_count": 20,
   "metadata": {},
   "outputs": [
    {
     "data": {
      "image/png": "[encoded data removed]",
      "text/plain": [
       "<Figure size 800x600 with 1 Axes>"
      ]
     },
     "metadata": {},
     "output_type": "display_data"
    }
   ],
   "source": [
    "import matplotlib.pyplot as plt\n",
    "\n",
    "if mesh.comm.rank == 0:\n",
    "    P_S4R = np.array([0.00, 0.025, 0.050, 0.075, 0.100, 0.125, 0.150, \n",
    "                      0.20, 0.25, 0.30, 0.35, 0.40, 0.45, 0.50,\n",
    "                      0.55, 0.60, 0.65, 0.70, 0.75, 0.80, 0.85,\n",
    "                      0.90, 0.95, 1.00])\n",
    "    \n",
    "    WA_S4R = np.array([0.00, 1.305, 2.455, 3.435, 4.277, 5.007, 5.649, 6.725, 7.602,\n",
    "                       8.340, 8.974, 9.529, 10.023, 10.468, 10.876, 11.257, 11.620,\n",
    "                       11.970, 12.310, 12.642, 12.966, 13.282, 13.590, 13.891])\n",
    "    \n",
    "    WB_S4R = np.array([0.00, 1.789, 3.370, 4.720, 5.876, 6.872, 7.736, 9.160, 10.288,\n",
    "                       11.213, 11.992, 12.661, 13.247, 13.768, 14.240, 14.674, 15.081,\n",
    "                       15.469, 15.842, 16.202, 16.550, 16.886, 17.212, 17.528])\n",
    "    \n",
    "    fig = plt.figure(figsize=(8.0, 6.0))\n",
    "    plt.plot(WA_S4R, P_S4R, \"-\", label=\"$WA-S4R$\")\n",
    "    plt.plot(WA_list, Ps/P_max, \"o\", markersize=5, markerfacecolor='none', markevery = 1, label=\"$WA-Fenicsx$\")\n",
    "    plt.plot(WB_S4R, P_S4R, \"-\", label=\"$WB-S4R$\")\n",
    "    plt.plot(WB_list, Ps/P_max, \"o\", markersize=5, markerfacecolor='none', markevery = 1, label=\"$WB-Fenicsx$\")\n",
    "    plt.ylabel(r\"$P/P_{\\mathrm{max}}$\")\n",
    "    plt.xlabel(\"Deflections\")\n",
    "    plt.legend()\n",
    "    plt.tight_layout()\n",
    "    plt.savefig(results_folder/\"comparisons.png\")"
   ]
  }
 ],
 "metadata": {
  "kernelspec": {
   "display_name": "fenicsx-env",
   "language": "python",
   "name": "python3"
  },
  "language_info": {
   "codemirror_mode": {
    "name": "ipython",
    "version": 3
   },
   "file_extension": ".py",
   "mimetype": "text/x-python",
   "name": "python",
   "nbconvert_exporter": "python",
   "pygments_lexer": "ipython3",
   "version": "3.12.0"
  }
 },
 "nbformat": 4,
 "nbformat_minor": 2
}
